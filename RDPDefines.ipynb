{
 "cells": [
  {
   "attachments": {},
   "cell_type": "markdown",
   "metadata": {},
   "source": [
    "# RDP access functions"
   ]
  },
  {
   "cell_type": "code",
   "execution_count": 1,
   "metadata": {},
   "outputs": [
    {
     "data": {
      "text/html": [
       "        <script type=\"text/javascript\">\n",
       "        window.PlotlyConfig = {MathJaxConfig: 'local'};\n",
       "        if (window.MathJax) {MathJax.Hub.Config({SVG: {font: \"STIX-Web\"}});}\n",
       "        if (typeof require !== 'undefined') {\n",
       "        require.undef(\"plotly\");\n",
       "        requirejs.config({\n",
       "            paths: {\n",
       "                'plotly': ['https://cdn.plot.ly/plotly-latest.min']\n",
       "            }\n",
       "        });\n",
       "        require(['plotly'], function(Plotly) {\n",
       "            window._Plotly = Plotly;\n",
       "        });\n",
       "        }\n",
       "        </script>\n",
       "        "
      ]
     },
     "metadata": {},
     "output_type": "display_data"
    }
   ],
   "source": [
    "import pandas as pd\n",
    "import requests, json, math, time, gzip, datetime"
   ]
  },
  {
   "cell_type": "code",
   "execution_count": 8,
   "metadata": {},
   "outputs": [],
   "source": [
    "APP_KEY                     = 'YOUR_APP_KEY'\n",
    "RDP_LOGIN                   = 'YOUR_PLATFORM_LOGIN'\n",
    "RDP_PASSWORD                = 'YOUR_PLATFORM_PASSWORD'"
   ]
  },
  {
   "attachments": {},
   "cell_type": "markdown",
   "metadata": {},
   "source": [
    "### Get Token (Internal)"
   ]
  },
  {
   "cell_type": "code",
   "execution_count": 3,
   "metadata": {},
   "outputs": [],
   "source": [
    "tknObject = {}\n",
    "\n",
    "def getToken():\n",
    "    global tknObject\n",
    "    if 'expiry_tm' in tknObject and tknObject['expiry_tm'] > time.time():\n",
    "        return tknObject[\"access_token\"]\n",
    "\n",
    "    print('Getting access token...')\n",
    "    if 'refresh_token' in tknObject:\n",
    "        tData = {\n",
    "            'refresh_token': tknObject['refresh_token'],\n",
    "            'grant_type': \"refresh_token\",\n",
    "        }\n",
    "    else:\n",
    "        tData = {\n",
    "            'username': RDP_LOGIN,\n",
    "            'password': RDP_PASSWORD,\n",
    "            'grant_type': 'password',\n",
    "            'scope': 'trapi',\n",
    "            'takeExclusiveSignOnControl': 'true'\n",
    "        }\n",
    "    \n",
    "    response = requests.post('https://api.refinitiv.com/auth/oauth2/v1/token',\n",
    "        headers = {'Accept': 'application/json'},\n",
    "        data = tData,\n",
    "        auth = (APP_KEY, ''))\n",
    "\n",
    "    if response.status_code != 200:\n",
    "        raise Exception('Failed to get access token {0} - {1}'.format(response.status_code, response.text))\n",
    "\n",
    "    print('...token received')\n",
    "    tknObject = json.loads(response.text)\n",
    "    tknObject[\"expiry_tm\"] = time.time() + int(tknObject[\"expires_in\"]) - 10\n",
    "    return tknObject['access_token']\n"
   ]
  },
  {
   "attachments": {},
   "cell_type": "markdown",
   "metadata": {},
   "source": [
    "### Get Request"
   ]
  },
  {
   "cell_type": "code",
   "execution_count": 4,
   "metadata": {},
   "outputs": [],
   "source": [
    "def getRequest(URI, requestData = {}):\n",
    "    dResp = requests.get('https://api.refinitiv.com' + URI, headers = {'Authorization': 'Bearer ' + getToken()}, params = requestData)\n",
    "\n",
    "    if dResp.status_code != 200:\n",
    "        raise Exception('Request failed {0} - {1}'.format(dResp.status_code, dResp.text))\n",
    "    else:\n",
    "        jResp = json.loads(dResp.text)\n",
    "        return jResp "
   ]
  },
  {
   "cell_type": "code",
   "execution_count": null,
   "metadata": {},
   "outputs": [],
   "source": [
    "def downloadUncompressFile(URI, requestData = {}):\n",
    "    dResp = requests.get('https://api.refinitiv.com' + URI, headers = {'Authorization': 'Bearer ' + getToken()}, params = requestData, stream = True)\n",
    "\n",
    "    if dResp.status_code != 200:\n",
    "        raise Exception('Request failed {0} - {1}'.format(dResp.status_code, dResp.text))\n",
    "    \n",
    "    dResp.raw.decode_content = True\n",
    "\n",
    "    gzip_file = gzip.GzipFile(fileobj=dResp.raw)\n",
    "    fBytes = gzip_file.read()\n",
    "    return fBytes.decode('utf8')"
   ]
  },
  {
   "attachments": {},
   "cell_type": "markdown",
   "metadata": {},
   "source": [
    "### Post Request"
   ]
  },
  {
   "cell_type": "code",
   "execution_count": 5,
   "metadata": {},
   "outputs": [],
   "source": [
    "def postRequest(URI, requestData):\n",
    "    dResp = requests.post('https://api.refinitiv.com' + URI, headers = {'Authorization': 'Bearer ' + getToken(),  'Content-Type': 'application/json'}, data = json.dumps(requestData))\n",
    "    if dResp.status_code != 200:\n",
    "        raise Exception('Request failed {0} - {1}'.format(dResp.status_code, dResp.text))\n",
    "    else:\n",
    "        jResp = json.loads(dResp.text)\n",
    "        return jResp"
   ]
  },
  {
   "cell_type": "markdown",
   "metadata": {},
   "source": [
    "### Define the file download function"
   ]
  },
  {
   "cell_type": "code",
   "execution_count": null,
   "metadata": {},
   "outputs": [],
   "source": [
    "buckets = {}\n",
    "# define the download function\n",
    "def downloadJSONBulkFile(bucketName, fileAttributes, fileNameKeywords):\n",
    "    link = f'/file-store/v1/file-sets?bucket={bucketName}&pageSize=100&attributes={fileAttributes}'\n",
    "\n",
    "    while True:\n",
    "        # get a list of all the buckets\n",
    "        hResp = getRequest(link)\n",
    "        print(hResp)\n",
    "\n",
    "        # loop through all the buckets\n",
    "        for bucket in hResp['value']:\n",
    "            bName = bucket['name']\n",
    "            # does bucket contains all the matching keywords\n",
    "            if all([x in bName for x in fileNameKeywords]):\n",
    "                fileName = bucket['files']\n",
    "                buckets[bName] = fileName\n",
    "                print('Found bucket: ', bName, ', Files: ', fileName)\n",
    "\n",
    "        # is there pagination of list\n",
    "        if '@nextLink' in hResp:\n",
    "            link = hResp['@nextLink']\n",
    "        else:\n",
    "            break\n",
    "\n",
    "    if not buckets:\n",
    "        raise Exception(f'No matching bulk file found in bucket: {bucketName}')\n",
    "\n",
    "    # select the bucket with most recent datetime\n",
    "    selBucket = max(buckets)\n",
    "    print(f'Downloading - {selBucket}')\n",
    "    selFiles = buckets[selBucket]\n",
    "    # download and uncompress the files in this bucket\n",
    "    fileStrs = []\n",
    "    for bFile in selFiles:\n",
    "        fileStr = downloadUncompressFile('/file-store/v1/files/' + bFile + '/stream')\n",
    "        print(f'File {bFile} downloaded and uncompressed, size: {len(fileStr)}')\n",
    "        fileStrs.append(fileStr)\n",
    "    return fileStrs"
   ]
  }
 ],
 "metadata": {
  "kernelspec": {
   "display_name": "Python 3",
   "language": "python",
   "name": "python3"
  },
  "language_info": {
   "codemirror_mode": {
    "name": "ipython",
    "version": 3
   },
   "file_extension": ".py",
   "mimetype": "text/x-python",
   "name": "python",
   "nbconvert_exporter": "python",
   "pygments_lexer": "ipython3",
   "version": "3.8.6"
  }
 },
 "nbformat": 4,
 "nbformat_minor": 4
}
