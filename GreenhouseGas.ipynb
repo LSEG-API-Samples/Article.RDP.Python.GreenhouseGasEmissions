{
 "cells": [
  {
   "attachments": {},
   "cell_type": "markdown",
   "metadata": {},
   "source": [
    "---\n",
    "## Assessment of greenhouse gas emissions in the portfolio\n",
    "---"
   ]
  },
  {
   "cell_type": "code",
   "execution_count": 1,
   "metadata": {},
   "outputs": [],
   "source": [
    "# load imports\n",
    "import pandas as pd\n",
    "import numpy as np\n",
    "import math\n",
    "# graphing modules\n",
    "import plotly.graph_objects as go\n",
    "from plotly.subplots import make_subplots\n",
    "# set dataframe options\n",
    "pd.set_option('display.max_columns', None)\n",
    "pd.set_option('display.float_format', lambda x: '%.3f' % x)"
   ]
  },
  {
   "cell_type": "code",
   "execution_count": 2,
   "metadata": {},
   "outputs": [],
   "source": [
    "# execute the helper functions defined for accessing RDP REST API calls \n",
    "%run RDPDefines.ipynb"
   ]
  },
  {
   "cell_type": "markdown",
   "metadata": {},
   "source": [
    "### Load the previously downloaded dataset for climate"
   ]
  },
  {
   "cell_type": "code",
   "execution_count": 3,
   "metadata": {},
   "outputs": [
    {
     "data": {
      "text/html": [
       "<div>\n",
       "<style scoped>\n",
       "    .dataframe tbody tr th:only-of-type {\n",
       "        vertical-align: middle;\n",
       "    }\n",
       "\n",
       "    .dataframe tbody tr th {\n",
       "        vertical-align: top;\n",
       "    }\n",
       "\n",
       "    .dataframe thead th {\n",
       "        text-align: right;\n",
       "    }\n",
       "</style>\n",
       "<table border=\"1\" class=\"dataframe\">\n",
       "  <thead>\n",
       "    <tr style=\"text-align: right;\">\n",
       "      <th></th>\n",
       "      <th>Scope1EstimatedTotal</th>\n",
       "      <th>Scope1EstimatedMethod</th>\n",
       "      <th>ExchangeRatetoUSD</th>\n",
       "      <th>SalesinUSD</th>\n",
       "      <th>Scope2EstimatedMethod</th>\n",
       "      <th>Scope2EstimatedTotal</th>\n",
       "      <th>OrganizationId</th>\n",
       "      <th>FinancialPeriodFiscalYear</th>\n",
       "      <th>Scope3EstimationDownstreamMethod</th>\n",
       "      <th>Scope3EstimationUpstreamMethod</th>\n",
       "      <th>Scope3EstimationUpstreamTotal</th>\n",
       "      <th>EnterpriseValueincludingCashandShortTermInvestmentsinUSD</th>\n",
       "      <th>Scope3EstimationDownstreamTotal</th>\n",
       "    </tr>\n",
       "  </thead>\n",
       "  <tbody>\n",
       "    <tr>\n",
       "      <th>0</th>\n",
       "      <td>2733.630</td>\n",
       "      <td>Aggregated_model</td>\n",
       "      <td>1.232</td>\n",
       "      <td>279759393.900</td>\n",
       "      <td>Aggregated_model</td>\n",
       "      <td>2175.873</td>\n",
       "      <td>4295859418</td>\n",
       "      <td>2018</td>\n",
       "      <td>NaN</td>\n",
       "      <td>NaN</td>\n",
       "      <td>NaN</td>\n",
       "      <td>NaN</td>\n",
       "      <td>NaN</td>\n",
       "    </tr>\n",
       "    <tr>\n",
       "      <th>1</th>\n",
       "      <td>NaN</td>\n",
       "      <td>NaN</td>\n",
       "      <td>0.011</td>\n",
       "      <td>30434609200.000</td>\n",
       "      <td>NaN</td>\n",
       "      <td>NaN</td>\n",
       "      <td>4295880726</td>\n",
       "      <td>2010</td>\n",
       "      <td>NaN</td>\n",
       "      <td>NaN</td>\n",
       "      <td>NaN</td>\n",
       "      <td>NaN</td>\n",
       "      <td>NaN</td>\n",
       "    </tr>\n",
       "    <tr>\n",
       "      <th>2</th>\n",
       "      <td>NaN</td>\n",
       "      <td>NaN</td>\n",
       "      <td>1.000</td>\n",
       "      <td>367090000.000</td>\n",
       "      <td>NaN</td>\n",
       "      <td>NaN</td>\n",
       "      <td>4295901070</td>\n",
       "      <td>2004</td>\n",
       "      <td>NaN</td>\n",
       "      <td>NaN</td>\n",
       "      <td>NaN</td>\n",
       "      <td>NaN</td>\n",
       "      <td>NaN</td>\n",
       "    </tr>\n",
       "    <tr>\n",
       "      <th>3</th>\n",
       "      <td>460.993</td>\n",
       "      <td>Aggregated_model</td>\n",
       "      <td>1.000</td>\n",
       "      <td>48416000.000</td>\n",
       "      <td>Aggregated_model</td>\n",
       "      <td>1349.206</td>\n",
       "      <td>5043466967</td>\n",
       "      <td>2021</td>\n",
       "      <td>Aggregated_model</td>\n",
       "      <td>Aggregated_model</td>\n",
       "      <td>2663.730</td>\n",
       "      <td>1198832044.860</td>\n",
       "      <td>1727.140</td>\n",
       "    </tr>\n",
       "    <tr>\n",
       "      <th>4</th>\n",
       "      <td>39307.000</td>\n",
       "      <td>Reported_value</td>\n",
       "      <td>0.000</td>\n",
       "      <td>9719520000.000</td>\n",
       "      <td>Reported_value</td>\n",
       "      <td>298000.000</td>\n",
       "      <td>4295874502</td>\n",
       "      <td>2020</td>\n",
       "      <td>Aggregated_model</td>\n",
       "      <td>Aggregated_model</td>\n",
       "      <td>230977.030</td>\n",
       "      <td>29324781833.731</td>\n",
       "      <td>170081.970</td>\n",
       "    </tr>\n",
       "    <tr>\n",
       "      <th>...</th>\n",
       "      <td>...</td>\n",
       "      <td>...</td>\n",
       "      <td>...</td>\n",
       "      <td>...</td>\n",
       "      <td>...</td>\n",
       "      <td>...</td>\n",
       "      <td>...</td>\n",
       "      <td>...</td>\n",
       "      <td>...</td>\n",
       "      <td>...</td>\n",
       "      <td>...</td>\n",
       "      <td>...</td>\n",
       "      <td>...</td>\n",
       "    </tr>\n",
       "    <tr>\n",
       "      <th>114846</th>\n",
       "      <td>NaN</td>\n",
       "      <td>NaN</td>\n",
       "      <td>1.038</td>\n",
       "      <td>1128240000.000</td>\n",
       "      <td>NaN</td>\n",
       "      <td>NaN</td>\n",
       "      <td>5000757240</td>\n",
       "      <td>2012</td>\n",
       "      <td>NaN</td>\n",
       "      <td>NaN</td>\n",
       "      <td>NaN</td>\n",
       "      <td>NaN</td>\n",
       "      <td>NaN</td>\n",
       "    </tr>\n",
       "    <tr>\n",
       "      <th>114847</th>\n",
       "      <td>26.120</td>\n",
       "      <td>Reported_value</td>\n",
       "      <td>0.158</td>\n",
       "      <td>302201000.000</td>\n",
       "      <td>Reported_value</td>\n",
       "      <td>1282.510</td>\n",
       "      <td>4295865252</td>\n",
       "      <td>2022</td>\n",
       "      <td>Aggregated_model</td>\n",
       "      <td>Aggregated_model</td>\n",
       "      <td>24011.800</td>\n",
       "      <td>412585820.646</td>\n",
       "      <td>18545.790</td>\n",
       "    </tr>\n",
       "    <tr>\n",
       "      <th>114848</th>\n",
       "      <td>NaN</td>\n",
       "      <td>NaN</td>\n",
       "      <td>1.000</td>\n",
       "      <td>0.000</td>\n",
       "      <td>NaN</td>\n",
       "      <td>NaN</td>\n",
       "      <td>4295903677</td>\n",
       "      <td>2021</td>\n",
       "      <td>NaN</td>\n",
       "      <td>NaN</td>\n",
       "      <td>NaN</td>\n",
       "      <td>486731732.500</td>\n",
       "      <td>NaN</td>\n",
       "    </tr>\n",
       "    <tr>\n",
       "      <th>114849</th>\n",
       "      <td>732.260</td>\n",
       "      <td>Aggregated_model</td>\n",
       "      <td>1.000</td>\n",
       "      <td>119686000.000</td>\n",
       "      <td>Aggregated_model</td>\n",
       "      <td>1848.219</td>\n",
       "      <td>4295907267</td>\n",
       "      <td>2018</td>\n",
       "      <td>Aggregated_model</td>\n",
       "      <td>Aggregated_model</td>\n",
       "      <td>358.730</td>\n",
       "      <td>984657359.440</td>\n",
       "      <td>1386.730</td>\n",
       "    </tr>\n",
       "    <tr>\n",
       "      <th>114850</th>\n",
       "      <td>411.690</td>\n",
       "      <td>Aggregated_model</td>\n",
       "      <td>1.000</td>\n",
       "      <td>22499000.000</td>\n",
       "      <td>Aggregated_model</td>\n",
       "      <td>674.083</td>\n",
       "      <td>5043324118</td>\n",
       "      <td>2019</td>\n",
       "      <td>Aggregated_model</td>\n",
       "      <td>Aggregated_model</td>\n",
       "      <td>461.090</td>\n",
       "      <td>22083531.491</td>\n",
       "      <td>211.620</td>\n",
       "    </tr>\n",
       "  </tbody>\n",
       "</table>\n",
       "<p>114851 rows × 13 columns</p>\n",
       "</div>"
      ],
      "text/plain": [
       "        Scope1EstimatedTotal Scope1EstimatedMethod  ExchangeRatetoUSD   \n",
       "0                   2733.630      Aggregated_model              1.232  \\\n",
       "1                        NaN                   NaN              0.011   \n",
       "2                        NaN                   NaN              1.000   \n",
       "3                    460.993      Aggregated_model              1.000   \n",
       "4                  39307.000        Reported_value              0.000   \n",
       "...                      ...                   ...                ...   \n",
       "114846                   NaN                   NaN              1.038   \n",
       "114847                26.120        Reported_value              0.158   \n",
       "114848                   NaN                   NaN              1.000   \n",
       "114849               732.260      Aggregated_model              1.000   \n",
       "114850               411.690      Aggregated_model              1.000   \n",
       "\n",
       "            SalesinUSD Scope2EstimatedMethod  Scope2EstimatedTotal   \n",
       "0        279759393.900      Aggregated_model              2175.873  \\\n",
       "1      30434609200.000                   NaN                   NaN   \n",
       "2        367090000.000                   NaN                   NaN   \n",
       "3         48416000.000      Aggregated_model              1349.206   \n",
       "4       9719520000.000        Reported_value            298000.000   \n",
       "...                ...                   ...                   ...   \n",
       "114846  1128240000.000                   NaN                   NaN   \n",
       "114847   302201000.000        Reported_value              1282.510   \n",
       "114848           0.000                   NaN                   NaN   \n",
       "114849   119686000.000      Aggregated_model              1848.219   \n",
       "114850    22499000.000      Aggregated_model               674.083   \n",
       "\n",
       "        OrganizationId  FinancialPeriodFiscalYear   \n",
       "0           4295859418                       2018  \\\n",
       "1           4295880726                       2010   \n",
       "2           4295901070                       2004   \n",
       "3           5043466967                       2021   \n",
       "4           4295874502                       2020   \n",
       "...                ...                        ...   \n",
       "114846      5000757240                       2012   \n",
       "114847      4295865252                       2022   \n",
       "114848      4295903677                       2021   \n",
       "114849      4295907267                       2018   \n",
       "114850      5043324118                       2019   \n",
       "\n",
       "       Scope3EstimationDownstreamMethod Scope3EstimationUpstreamMethod   \n",
       "0                                   NaN                            NaN  \\\n",
       "1                                   NaN                            NaN   \n",
       "2                                   NaN                            NaN   \n",
       "3                      Aggregated_model               Aggregated_model   \n",
       "4                      Aggregated_model               Aggregated_model   \n",
       "...                                 ...                            ...   \n",
       "114846                              NaN                            NaN   \n",
       "114847                 Aggregated_model               Aggregated_model   \n",
       "114848                              NaN                            NaN   \n",
       "114849                 Aggregated_model               Aggregated_model   \n",
       "114850                 Aggregated_model               Aggregated_model   \n",
       "\n",
       "        Scope3EstimationUpstreamTotal   \n",
       "0                                 NaN  \\\n",
       "1                                 NaN   \n",
       "2                                 NaN   \n",
       "3                            2663.730   \n",
       "4                          230977.030   \n",
       "...                               ...   \n",
       "114846                            NaN   \n",
       "114847                      24011.800   \n",
       "114848                            NaN   \n",
       "114849                        358.730   \n",
       "114850                        461.090   \n",
       "\n",
       "        EnterpriseValueincludingCashandShortTermInvestmentsinUSD   \n",
       "0                                                     NaN         \\\n",
       "1                                                     NaN          \n",
       "2                                                     NaN          \n",
       "3                                          1198832044.860          \n",
       "4                                         29324781833.731          \n",
       "...                                                   ...          \n",
       "114846                                                NaN          \n",
       "114847                                      412585820.646          \n",
       "114848                                      486731732.500          \n",
       "114849                                      984657359.440          \n",
       "114850                                       22083531.491          \n",
       "\n",
       "        Scope3EstimationDownstreamTotal  \n",
       "0                                   NaN  \n",
       "1                                   NaN  \n",
       "2                                   NaN  \n",
       "3                              1727.140  \n",
       "4                            170081.970  \n",
       "...                                 ...  \n",
       "114846                              NaN  \n",
       "114847                        18545.790  \n",
       "114848                              NaN  \n",
       "114849                         1386.730  \n",
       "114850                          211.620  \n",
       "\n",
       "[114851 rows x 13 columns]"
      ]
     },
     "execution_count": 3,
     "metadata": {},
     "output_type": "execute_result"
    }
   ],
   "source": [
    "allClimate = pd.read_pickle('ClimateData.pkl').astype({\n",
    "    'OrganizationId': np.int64,\n",
    "    'FinancialPeriodFiscalYear': int,\n",
    "    'Scope1EstimatedTotal': float,\n",
    "    'Scope2EstimatedTotal': float,\n",
    "    'Scope3EstimationUpstreamTotal': float,\n",
    "    'Scope3EstimationDownstreamTotal': float,\n",
    "    'Scope1EstimatedMethod': object,\n",
    "    'Scope2EstimatedMethod': object,\n",
    "    'Scope3EstimationUpstreamMethod': object,\n",
    "    'Scope3EstimationDownstreamMethod': object,\n",
    "    'SalesinUSD': float,\n",
    "    'ExchangeRatetoUSD': float,\n",
    "    'EnterpriseValueincludingCashandShortTermInvestmentsinUSD': float\n",
    "})\n",
    "allClimate"
   ]
  },
  {
   "cell_type": "markdown",
   "metadata": {},
   "source": [
    "### Load the portfolio to be analized\n",
    "Portfolio is a CSV file with the constituent *RIC* and corresponding *Weight* in percent\n",
    "\n",
    "*Weight* must add up to 100%\n",
    "\n",
    "|RIC|WEIGHT %|\n",
    "|--|--|\n",
    "|AAPL.O|2.5|\n",
    "|MSFT.O|1.2|\n",
    "|..|..|"
   ]
  },
  {
   "cell_type": "code",
   "execution_count": 6,
   "metadata": {},
   "outputs": [
    {
     "data": {
      "text/html": [
       "<div>\n",
       "<style scoped>\n",
       "    .dataframe tbody tr th:only-of-type {\n",
       "        vertical-align: middle;\n",
       "    }\n",
       "\n",
       "    .dataframe tbody tr th {\n",
       "        vertical-align: top;\n",
       "    }\n",
       "\n",
       "    .dataframe thead th {\n",
       "        text-align: right;\n",
       "    }\n",
       "</style>\n",
       "<table border=\"1\" class=\"dataframe\">\n",
       "  <thead>\n",
       "    <tr style=\"text-align: right;\">\n",
       "      <th></th>\n",
       "      <th>RIC</th>\n",
       "      <th>Weight</th>\n",
       "    </tr>\n",
       "  </thead>\n",
       "  <tbody>\n",
       "    <tr>\n",
       "      <th>0</th>\n",
       "      <td>SMFT3.SA</td>\n",
       "      <td>20</td>\n",
       "    </tr>\n",
       "    <tr>\n",
       "      <th>1</th>\n",
       "      <td>MGLU3.SA</td>\n",
       "      <td>10</td>\n",
       "    </tr>\n",
       "    <tr>\n",
       "      <th>2</th>\n",
       "      <td>KBC.BR</td>\n",
       "      <td>10</td>\n",
       "    </tr>\n",
       "    <tr>\n",
       "      <th>3</th>\n",
       "      <td>ICT.PS</td>\n",
       "      <td>10</td>\n",
       "    </tr>\n",
       "    <tr>\n",
       "      <th>4</th>\n",
       "      <td>000880.KS</td>\n",
       "      <td>10</td>\n",
       "    </tr>\n",
       "    <tr>\n",
       "      <th>5</th>\n",
       "      <td>TRELb.ST</td>\n",
       "      <td>10</td>\n",
       "    </tr>\n",
       "    <tr>\n",
       "      <th>6</th>\n",
       "      <td>3549.T</td>\n",
       "      <td>10</td>\n",
       "    </tr>\n",
       "    <tr>\n",
       "      <th>7</th>\n",
       "      <td>028300.KQ</td>\n",
       "      <td>10</td>\n",
       "    </tr>\n",
       "    <tr>\n",
       "      <th>8</th>\n",
       "      <td>6841.T</td>\n",
       "      <td>5</td>\n",
       "    </tr>\n",
       "    <tr>\n",
       "      <th>9</th>\n",
       "      <td>H.TO</td>\n",
       "      <td>5</td>\n",
       "    </tr>\n",
       "  </tbody>\n",
       "</table>\n",
       "</div>"
      ],
      "text/plain": [
       "         RIC  Weight\n",
       "0   SMFT3.SA      20\n",
       "1   MGLU3.SA      10\n",
       "2     KBC.BR      10\n",
       "3     ICT.PS      10\n",
       "4  000880.KS      10\n",
       "5   TRELb.ST      10\n",
       "6     3549.T      10\n",
       "7  028300.KQ      10\n",
       "8     6841.T       5\n",
       "9       H.TO       5"
      ]
     },
     "execution_count": 6,
     "metadata": {},
     "output_type": "execute_result"
    }
   ],
   "source": [
    "# load the portfolio to be analized\n",
    "portfolio = pd.read_csv('Portfolio.csv')\n",
    "portfolio"
   ]
  },
  {
   "cell_type": "markdown",
   "metadata": {},
   "source": [
    "### Convert Symbology\n",
    "\n",
    "Lookup *Organization PermID* and *Reporting currency* for all instruments\n",
    "\n",
    "RDP SYmbology API: [/data/symbology/beta1/convert]()"
   ]
  },
  {
   "cell_type": "code",
   "execution_count": 7,
   "metadata": {},
   "outputs": [
    {
     "name": "stdout",
     "output_type": "stream",
     "text": [
      "Getting access token...\n",
      "...token received\n",
      "{'links': {'count': 10}, 'variability': '', 'universe': [{'Instrument': 'SMFT3.SA', 'Company Common Name': 'Smartfit Escola de Ginastica e Danca SA', 'Organization PermID': '5046047670', 'Reporting Currency': 'BRL'}, {'Instrument': 'MGLU3.SA', 'Company Common Name': 'Magazine Luiza SA', 'Organization PermID': '4296141085', 'Reporting Currency': 'BRL'}, {'Instrument': 'KBC.BR', 'Company Common Name': 'Kbc Groep NV', 'Organization PermID': '8589934262', 'Reporting Currency': 'EUR'}, {'Instrument': 'ICT.PS', 'Company Common Name': 'International Container Terminal Services Inc', 'Organization PermID': '4295886348', 'Reporting Currency': 'USD'}, {'Instrument': '000880.KS', 'Company Common Name': 'Hanwha Corp', 'Organization PermID': '4295881078', 'Reporting Currency': 'KRW'}, {'Instrument': 'TRELb.ST', 'Company Common Name': 'Trelleborg AB', 'Organization PermID': '4295890333', 'Reporting Currency': 'SEK'}, {'Instrument': '3549.T', 'Company Common Name': 'Kusuri No Aoki Holdings Co Ltd', 'Organization PermID': '5051613459', 'Reporting Currency': 'JPY'}, {'Instrument': '028300.KQ', 'Company Common Name': 'HLB Inc', 'Organization PermID': '4295881801', 'Reporting Currency': 'KRW'}, {'Instrument': '6841.T', 'Company Common Name': 'Yokogawa Electric Corp', 'Organization PermID': '4295880372', 'Reporting Currency': 'JPY'}, {'Instrument': 'H.TO', 'Company Common Name': 'Hydro One Ltd', 'Organization PermID': '5046709166', 'Reporting Currency': 'CAD'}], 'data': [['SMFT3.SA', '5046047670'], ['MGLU3.SA', '4296141085'], ['KBC.BR', '8589934262'], ['ICT.PS', '4295886348'], ['000880.KS', '4295881078'], ['TRELb.ST', '4295890333'], ['3549.T', '5051613459'], ['028300.KQ', '4295881801'], ['6841.T', '4295880372'], ['H.TO', '5046709166']], 'messages': {'codes': [[-1, -1], [-1, -1], [-1, -1], [-1, -1], [-1, -1], [-1, -1], [-1, -1], [-1, -1], [-1, -1], [-1, -1]], 'descriptions': [{'code': -1, 'description': 'ok'}]}, 'headers': [{'name': 'instrument', 'title': 'Instrument', 'type': 'string', 'description': 'The requested Instrument as defined by the user.'}, {'name': 'TR.OrganizationID', 'title': 'Organization PermID', 'type': 'string', 'description': 'Organization level permanent identifier. (OA Permid, Organization Permid, etc)'}]}\n"
     ]
    }
   ],
   "source": [
    "allResponses = []\n",
    "RIClist = portfolio['RIC'].tolist()\n",
    "bucketSize = 90\n",
    "\n",
    "buckets = [ RIClist[i: i + bucketSize] for i in range(0, len(RIClist), bucketSize) ]\n",
    "for bucket in buckets:\n",
    "  reqData = {\n",
    "    \"universe\": bucket,\n",
    "    \"to\": [\"OrganizationId\"]\n",
    "  }\n",
    "\n",
    "  hResp = postRequest('/data/symbology/beta1/convert', reqData)\n",
    "  print(hResp)\n",
    "  allResponses = allResponses + hResp['universe']"
   ]
  },
  {
   "cell_type": "code",
   "execution_count": 8,
   "metadata": {},
   "outputs": [
    {
     "data": {
      "text/html": [
       "<div>\n",
       "<style scoped>\n",
       "    .dataframe tbody tr th:only-of-type {\n",
       "        vertical-align: middle;\n",
       "    }\n",
       "\n",
       "    .dataframe tbody tr th {\n",
       "        vertical-align: top;\n",
       "    }\n",
       "\n",
       "    .dataframe thead th {\n",
       "        text-align: right;\n",
       "    }\n",
       "</style>\n",
       "<table border=\"1\" class=\"dataframe\">\n",
       "  <thead>\n",
       "    <tr style=\"text-align: right;\">\n",
       "      <th></th>\n",
       "      <th>RIC</th>\n",
       "      <th>Weight</th>\n",
       "      <th>Company Common Name</th>\n",
       "      <th>Organization PermID</th>\n",
       "      <th>Reporting Currency</th>\n",
       "    </tr>\n",
       "  </thead>\n",
       "  <tbody>\n",
       "    <tr>\n",
       "      <th>0</th>\n",
       "      <td>SMFT3.SA</td>\n",
       "      <td>20</td>\n",
       "      <td>Smartfit Escola de Ginastica e Danca SA</td>\n",
       "      <td>5046047670</td>\n",
       "      <td>BRL</td>\n",
       "    </tr>\n",
       "    <tr>\n",
       "      <th>1</th>\n",
       "      <td>MGLU3.SA</td>\n",
       "      <td>10</td>\n",
       "      <td>Magazine Luiza SA</td>\n",
       "      <td>4296141085</td>\n",
       "      <td>BRL</td>\n",
       "    </tr>\n",
       "    <tr>\n",
       "      <th>2</th>\n",
       "      <td>KBC.BR</td>\n",
       "      <td>10</td>\n",
       "      <td>Kbc Groep NV</td>\n",
       "      <td>8589934262</td>\n",
       "      <td>EUR</td>\n",
       "    </tr>\n",
       "    <tr>\n",
       "      <th>3</th>\n",
       "      <td>ICT.PS</td>\n",
       "      <td>10</td>\n",
       "      <td>International Container Terminal Services Inc</td>\n",
       "      <td>4295886348</td>\n",
       "      <td>USD</td>\n",
       "    </tr>\n",
       "    <tr>\n",
       "      <th>4</th>\n",
       "      <td>000880.KS</td>\n",
       "      <td>10</td>\n",
       "      <td>Hanwha Corp</td>\n",
       "      <td>4295881078</td>\n",
       "      <td>KRW</td>\n",
       "    </tr>\n",
       "    <tr>\n",
       "      <th>5</th>\n",
       "      <td>TRELb.ST</td>\n",
       "      <td>10</td>\n",
       "      <td>Trelleborg AB</td>\n",
       "      <td>4295890333</td>\n",
       "      <td>SEK</td>\n",
       "    </tr>\n",
       "    <tr>\n",
       "      <th>6</th>\n",
       "      <td>3549.T</td>\n",
       "      <td>10</td>\n",
       "      <td>Kusuri No Aoki Holdings Co Ltd</td>\n",
       "      <td>5051613459</td>\n",
       "      <td>JPY</td>\n",
       "    </tr>\n",
       "    <tr>\n",
       "      <th>7</th>\n",
       "      <td>028300.KQ</td>\n",
       "      <td>10</td>\n",
       "      <td>HLB Inc</td>\n",
       "      <td>4295881801</td>\n",
       "      <td>KRW</td>\n",
       "    </tr>\n",
       "    <tr>\n",
       "      <th>8</th>\n",
       "      <td>6841.T</td>\n",
       "      <td>5</td>\n",
       "      <td>Yokogawa Electric Corp</td>\n",
       "      <td>4295880372</td>\n",
       "      <td>JPY</td>\n",
       "    </tr>\n",
       "    <tr>\n",
       "      <th>9</th>\n",
       "      <td>H.TO</td>\n",
       "      <td>5</td>\n",
       "      <td>Hydro One Ltd</td>\n",
       "      <td>5046709166</td>\n",
       "      <td>CAD</td>\n",
       "    </tr>\n",
       "  </tbody>\n",
       "</table>\n",
       "</div>"
      ],
      "text/plain": [
       "         RIC  Weight                            Company Common Name   \n",
       "0   SMFT3.SA      20        Smartfit Escola de Ginastica e Danca SA  \\\n",
       "1   MGLU3.SA      10                              Magazine Luiza SA   \n",
       "2     KBC.BR      10                                   Kbc Groep NV   \n",
       "3     ICT.PS      10  International Container Terminal Services Inc   \n",
       "4  000880.KS      10                                    Hanwha Corp   \n",
       "5   TRELb.ST      10                                  Trelleborg AB   \n",
       "6     3549.T      10                 Kusuri No Aoki Holdings Co Ltd   \n",
       "7  028300.KQ      10                                        HLB Inc   \n",
       "8     6841.T       5                         Yokogawa Electric Corp   \n",
       "9       H.TO       5                                  Hydro One Ltd   \n",
       "\n",
       "   Organization PermID Reporting Currency  \n",
       "0           5046047670                BRL  \n",
       "1           4296141085                BRL  \n",
       "2           8589934262                EUR  \n",
       "3           4295886348                USD  \n",
       "4           4295881078                KRW  \n",
       "5           4295890333                SEK  \n",
       "6           5051613459                JPY  \n",
       "7           4295881801                KRW  \n",
       "8           4295880372                JPY  \n",
       "9           5046709166                CAD  "
      ]
     },
     "execution_count": 8,
     "metadata": {},
     "output_type": "execute_result"
    }
   ],
   "source": [
    "# merge Symbology and Currency data into the portfolio\n",
    "orgsData = pd.DataFrame(allResponses)\n",
    "portfolio = portfolio.merge(orgsData, how='inner', left_on='RIC', right_on='Instrument')\n",
    "portfolio = portfolio.drop(['Instrument'], axis = 1)\n",
    "portfolio['Organization PermID'] = portfolio['Organization PermID'].astype(np.int64)\n",
    "portfolio"
   ]
  },
  {
   "cell_type": "markdown",
   "metadata": {},
   "source": [
    "---\n",
    "# Temp Code"
   ]
  },
  {
   "cell_type": "code",
   "execution_count": 4,
   "metadata": {},
   "outputs": [
    {
     "data": {
      "text/html": [
       "<div>\n",
       "<style scoped>\n",
       "    .dataframe tbody tr th:only-of-type {\n",
       "        vertical-align: middle;\n",
       "    }\n",
       "\n",
       "    .dataframe tbody tr th {\n",
       "        vertical-align: top;\n",
       "    }\n",
       "\n",
       "    .dataframe thead th {\n",
       "        text-align: right;\n",
       "    }\n",
       "</style>\n",
       "<table border=\"1\" class=\"dataframe\">\n",
       "  <thead>\n",
       "    <tr style=\"text-align: right;\">\n",
       "      <th></th>\n",
       "      <th>RIC</th>\n",
       "      <th>Weight</th>\n",
       "      <th>Company Common Name</th>\n",
       "      <th>Organization PermID</th>\n",
       "      <th>Reporting Currency</th>\n",
       "    </tr>\n",
       "  </thead>\n",
       "  <tbody>\n",
       "    <tr>\n",
       "      <th>0</th>\n",
       "      <td>SMFT3.SA</td>\n",
       "      <td>0.001</td>\n",
       "      <td>Smartfit Escola de Ginastica e Danca SA</td>\n",
       "      <td>5046047670</td>\n",
       "      <td>BRL</td>\n",
       "    </tr>\n",
       "    <tr>\n",
       "      <th>1</th>\n",
       "      <td>MGLU3.SA</td>\n",
       "      <td>0.003</td>\n",
       "      <td>Magazine Luiza SA</td>\n",
       "      <td>4296141085</td>\n",
       "      <td>BRL</td>\n",
       "    </tr>\n",
       "    <tr>\n",
       "      <th>2</th>\n",
       "      <td>KBC.BR</td>\n",
       "      <td>0.028</td>\n",
       "      <td>Kbc Groep NV</td>\n",
       "      <td>8589934262</td>\n",
       "      <td>EUR</td>\n",
       "    </tr>\n",
       "    <tr>\n",
       "      <th>3</th>\n",
       "      <td>ICT.PS</td>\n",
       "      <td>0.006</td>\n",
       "      <td>International Container Terminal Services Inc</td>\n",
       "      <td>4295886348</td>\n",
       "      <td>USD</td>\n",
       "    </tr>\n",
       "    <tr>\n",
       "      <th>4</th>\n",
       "      <td>000880.KS</td>\n",
       "      <td>0.002</td>\n",
       "      <td>Hanwha Corp</td>\n",
       "      <td>4295881078</td>\n",
       "      <td>KRW</td>\n",
       "    </tr>\n",
       "    <tr>\n",
       "      <th>...</th>\n",
       "      <td>...</td>\n",
       "      <td>...</td>\n",
       "      <td>...</td>\n",
       "      <td>...</td>\n",
       "      <td>...</td>\n",
       "    </tr>\n",
       "    <tr>\n",
       "      <th>4158</th>\n",
       "      <td>WEGE3.SA</td>\n",
       "      <td>0.017</td>\n",
       "      <td>WEG SA</td>\n",
       "      <td>4295859789</td>\n",
       "      <td>BRL</td>\n",
       "    </tr>\n",
       "    <tr>\n",
       "      <th>4159</th>\n",
       "      <td>8954.T</td>\n",
       "      <td>0.005</td>\n",
       "      <td>Orix JREIT Inc</td>\n",
       "      <td>4295878495</td>\n",
       "      <td>JPY</td>\n",
       "    </tr>\n",
       "    <tr>\n",
       "      <th>4160</th>\n",
       "      <td>SO.N</td>\n",
       "      <td>0.115</td>\n",
       "      <td>Southern Co</td>\n",
       "      <td>4295903239</td>\n",
       "      <td>USD</td>\n",
       "    </tr>\n",
       "    <tr>\n",
       "      <th>4161</th>\n",
       "      <td>YUM.N</td>\n",
       "      <td>0.057</td>\n",
       "      <td>Yum! Brands Inc</td>\n",
       "      <td>4295905127</td>\n",
       "      <td>USD</td>\n",
       "    </tr>\n",
       "    <tr>\n",
       "      <th>4162</th>\n",
       "      <td>605117.SH</td>\n",
       "      <td>0.001</td>\n",
       "      <td>Ningbo Deye Technology Co Ltd</td>\n",
       "      <td>5070760884</td>\n",
       "      <td>CNY</td>\n",
       "    </tr>\n",
       "  </tbody>\n",
       "</table>\n",
       "<p>4163 rows × 5 columns</p>\n",
       "</div>"
      ],
      "text/plain": [
       "            RIC  Weight                            Company Common Name   \n",
       "0      SMFT3.SA   0.001        Smartfit Escola de Ginastica e Danca SA  \\\n",
       "1      MGLU3.SA   0.003                              Magazine Luiza SA   \n",
       "2        KBC.BR   0.028                                   Kbc Groep NV   \n",
       "3        ICT.PS   0.006  International Container Terminal Services Inc   \n",
       "4     000880.KS   0.002                                    Hanwha Corp   \n",
       "...         ...     ...                                            ...   \n",
       "4158   WEGE3.SA   0.017                                         WEG SA   \n",
       "4159     8954.T   0.005                                 Orix JREIT Inc   \n",
       "4160       SO.N   0.115                                    Southern Co   \n",
       "4161      YUM.N   0.057                                Yum! Brands Inc   \n",
       "4162  605117.SH   0.001                  Ningbo Deye Technology Co Ltd   \n",
       "\n",
       "      Organization PermID Reporting Currency  \n",
       "0              5046047670                BRL  \n",
       "1              4296141085                BRL  \n",
       "2              8589934262                EUR  \n",
       "3              4295886348                USD  \n",
       "4              4295881078                KRW  \n",
       "...                   ...                ...  \n",
       "4158           4295859789                BRL  \n",
       "4159           4295878495                JPY  \n",
       "4160           4295903239                USD  \n",
       "4161           4295905127                USD  \n",
       "4162           5070760884                CNY  \n",
       "\n",
       "[4163 rows x 5 columns]"
      ]
     },
     "execution_count": 4,
     "metadata": {},
     "output_type": "execute_result"
    }
   ],
   "source": [
    "portfolio = pd.read_pickle('PORT.pkl')\n",
    "portfolio"
   ]
  },
  {
   "cell_type": "code",
   "execution_count": 5,
   "metadata": {},
   "outputs": [],
   "source": [
    "# delete the offending instrument data <-- temporary measure to test the output with excel\n",
    "\n",
    "allClimate.loc[allClimate['OrganizationId'] == 4295856665, 'Scope1EstimatedTotal'] = 0\n",
    "allClimate.loc[allClimate['OrganizationId'] == 4295856665, 'Scope2EstimatedTotal'] = 0\n",
    "allClimate.loc[allClimate['OrganizationId'] == 4295856665, 'Scope3EstimationUpstreamTotal'] = 0\n",
    "allClimate.loc[allClimate['OrganizationId'] == 4295856665, 'Scope3EstimationDownstreamTotal'] = 0"
   ]
  },
  {
   "cell_type": "markdown",
   "metadata": {},
   "source": [
    "# /Temp Code"
   ]
  },
  {
   "cell_type": "code",
   "execution_count": 38,
   "metadata": {},
   "outputs": [],
   "source": [
    "# define the calculation parameters\n",
    "PortfolioAmountInvested = 1000000\n",
    "years = [2019, 2020, 2021, 2022]\n",
    "measures = ['Scope1EstimatedTotal', 'Scope2EstimatedTotal', 'Scope3EstimationUpstreamTotal', 'Scope3EstimationDownstreamTotal']\n",
    "\n",
    "# other parameters used in the notebook\n",
    "lsegColors = ['#FF5000', '#FFC800', '#00D0D4', '#9064CD', '#00C389', '#FFFF00']"
   ]
  },
  {
   "cell_type": "markdown",
   "metadata": {},
   "source": [
    "### Calculate: Data coverage % of this portfolio \n",
    "---"
   ]
  },
  {
   "cell_type": "code",
   "execution_count": 7,
   "metadata": {},
   "outputs": [],
   "source": [
    "# calculate the coverage % for each scope for each year for this portfolio\n",
    "cMmeasures = ['Scope1EstimatedTotal', 'Scope1EstimatedMethod', 'Scope2EstimatedTotal', 'Scope2EstimatedMethod', 'Scope3EstimationUpstreamTotal', 'Scope3EstimationUpstreamMethod', 'Scope3EstimationDownstreamTotal', 'Scope3EstimationDownstreamMethod', 'SalesinUSD', 'EnterpriseValueincludingCashandShortTermInvestmentsinUSD']\n",
    "\n",
    "def computeCoverageHoldings(year):\n",
    "    yPort = portfolio.merge(allClimate[allClimate['FinancialPeriodFiscalYear'] == year], how='left', left_on='Organization PermID', right_on='OrganizationId')\n",
    "    pSize = len(yPort.index)\n",
    "    return [((pSize - yPort[measure].isna().sum()) / pSize * 100) for measure in cMmeasures]\n",
    "\n",
    "\n",
    "def computeCoverageWeight(year):\n",
    "    yPort = portfolio.merge(allClimate[allClimate['FinancialPeriodFiscalYear'] == year], how='left', left_on='Organization PermID', right_on='OrganizationId')\n",
    "    return [yPort[yPort[measure].notna() & (yPort[measure] != 0) ]['Weight'].sum() for measure in cMmeasures]\n"
   ]
  },
  {
   "cell_type": "code",
   "execution_count": 8,
   "metadata": {},
   "outputs": [
    {
     "name": "stdout",
     "output_type": "stream",
     "text": [
      "Getting coverage data for 2019\n",
      "Getting coverage data for 2020\n",
      "Getting coverage data for 2021\n",
      "Getting coverage data for 2022\n"
     ]
    }
   ],
   "source": [
    "# get data for all the measures for all the years\n",
    "hoCoData = []\n",
    "wtCoData = []\n",
    "for yr in years:\n",
    "    print(f'Getting coverage data for {yr}')\n",
    "    hoCoData.append(computeCoverageHoldings(yr))\n",
    "    wtCoData.append(computeCoverageWeight(yr))\n"
   ]
  },
  {
   "cell_type": "code",
   "execution_count": 39,
   "metadata": {},
   "outputs": [
    {
     "data": {
      "application/vnd.plotly.v1+json": {
       "config": {
        "plotlyServerURL": "https://plot.ly"
       },
       "data": [
        {
         "marker": {
          "color": "#FF5000"
         },
         "name": "2019",
         "text": [
          "83",
          "83",
          "83",
          "83",
          "70",
          "70",
          "70",
          "70",
          "81",
          "81"
         ],
         "type": "bar",
         "x": [
          "Scope1EstimatedTotal",
          "Scope1EstimatedMethod",
          "Scope2EstimatedTotal",
          "Scope2EstimatedMethod",
          "Scope3EstimationUpstreamTotal",
          "Scope3EstimationUpstreamMethod",
          "Scope3EstimationDownstreamTotal",
          "Scope3EstimationDownstreamMethod",
          "SalesinUSD",
          "EnterpriseValueincludingCashandShortTermInvestmentsinUSD"
         ],
         "y": [
          83.8097525822724,
          83.8097525822724,
          83.8097525822724,
          83.8097525822724,
          70.71823204419888,
          70.71823204419888,
          70.71823204419888,
          70.71823204419888,
          81.88806149411482,
          81.23949075186164
         ]
        },
        {
         "marker": {
          "color": "#FFC800"
         },
         "name": "2020",
         "text": [
          "90",
          "90",
          "90",
          "90",
          "76",
          "76",
          "76",
          "76",
          "87",
          "86"
         ],
         "type": "bar",
         "x": [
          "Scope1EstimatedTotal",
          "Scope1EstimatedMethod",
          "Scope2EstimatedTotal",
          "Scope2EstimatedMethod",
          "Scope3EstimationUpstreamTotal",
          "Scope3EstimationUpstreamMethod",
          "Scope3EstimationDownstreamTotal",
          "Scope3EstimationDownstreamMethod",
          "SalesinUSD",
          "EnterpriseValueincludingCashandShortTermInvestmentsinUSD"
         ],
         "y": [
          90.48762911361999,
          90.48762911361999,
          90.48762911361999,
          90.48762911361999,
          76.79558011049724,
          76.79558011049724,
          76.79558011049724,
          76.79558011049724,
          87.3889022339659,
          86.59620466010088
         ]
        },
        {
         "marker": {
          "color": "#00D0D4"
         },
         "name": "2021",
         "text": [
          "92",
          "92",
          "92",
          "92",
          "78",
          "78",
          "78",
          "78",
          "90",
          "89"
         ],
         "type": "bar",
         "x": [
          "Scope1EstimatedTotal",
          "Scope1EstimatedMethod",
          "Scope2EstimatedTotal",
          "Scope2EstimatedMethod",
          "Scope3EstimationUpstreamTotal",
          "Scope3EstimationUpstreamMethod",
          "Scope3EstimationDownstreamTotal",
          "Scope3EstimationDownstreamMethod",
          "SalesinUSD",
          "EnterpriseValueincludingCashandShortTermInvestmentsinUSD"
         ],
         "y": [
          92.12106653855393,
          92.12106653855393,
          92.12106653855393,
          92.12106653855393,
          78.35695411962527,
          78.35695411962527,
          78.35695411962527,
          78.35695411962527,
          90.6317559452318,
          89.86307950996877
         ]
        },
        {
         "marker": {
          "color": "#9064CD"
         },
         "name": "2022",
         "text": [
          "93",
          "93",
          "93",
          "93",
          "79",
          "79",
          "79",
          "79",
          "84",
          "43"
         ],
         "type": "bar",
         "x": [
          "Scope1EstimatedTotal",
          "Scope1EstimatedMethod",
          "Scope2EstimatedTotal",
          "Scope2EstimatedMethod",
          "Scope3EstimationUpstreamTotal",
          "Scope3EstimationUpstreamMethod",
          "Scope3EstimationDownstreamTotal",
          "Scope3EstimationDownstreamMethod",
          "SalesinUSD",
          "EnterpriseValueincludingCashandShortTermInvestmentsinUSD"
         ],
         "y": [
          93.12995435983666,
          93.12995435983666,
          93.12995435983666,
          93.12995435983666,
          79.6060533269277,
          79.6060533269277,
          79.6060533269277,
          79.6060533269277,
          84.48234446312756,
          43.862599087196735
         ]
        }
       ],
       "layout": {
        "bargap": 0.3,
        "barmode": "group",
        "template": {
         "data": {
          "bar": [
           {
            "error_x": {
             "color": "#2a3f5f"
            },
            "error_y": {
             "color": "#2a3f5f"
            },
            "marker": {
             "line": {
              "color": "#E5ECF6",
              "width": 0.5
             },
             "pattern": {
              "fillmode": "overlay",
              "size": 10,
              "solidity": 0.2
             }
            },
            "type": "bar"
           }
          ],
          "barpolar": [
           {
            "marker": {
             "line": {
              "color": "#E5ECF6",
              "width": 0.5
             },
             "pattern": {
              "fillmode": "overlay",
              "size": 10,
              "solidity": 0.2
             }
            },
            "type": "barpolar"
           }
          ],
          "carpet": [
           {
            "aaxis": {
             "endlinecolor": "#2a3f5f",
             "gridcolor": "white",
             "linecolor": "white",
             "minorgridcolor": "white",
             "startlinecolor": "#2a3f5f"
            },
            "baxis": {
             "endlinecolor": "#2a3f5f",
             "gridcolor": "white",
             "linecolor": "white",
             "minorgridcolor": "white",
             "startlinecolor": "#2a3f5f"
            },
            "type": "carpet"
           }
          ],
          "choropleth": [
           {
            "colorbar": {
             "outlinewidth": 0,
             "ticks": ""
            },
            "type": "choropleth"
           }
          ],
          "contour": [
           {
            "colorbar": {
             "outlinewidth": 0,
             "ticks": ""
            },
            "colorscale": [
             [
              0,
              "#0d0887"
             ],
             [
              0.1111111111111111,
              "#46039f"
             ],
             [
              0.2222222222222222,
              "#7201a8"
             ],
             [
              0.3333333333333333,
              "#9c179e"
             ],
             [
              0.4444444444444444,
              "#bd3786"
             ],
             [
              0.5555555555555556,
              "#d8576b"
             ],
             [
              0.6666666666666666,
              "#ed7953"
             ],
             [
              0.7777777777777778,
              "#fb9f3a"
             ],
             [
              0.8888888888888888,
              "#fdca26"
             ],
             [
              1,
              "#f0f921"
             ]
            ],
            "type": "contour"
           }
          ],
          "contourcarpet": [
           {
            "colorbar": {
             "outlinewidth": 0,
             "ticks": ""
            },
            "type": "contourcarpet"
           }
          ],
          "heatmap": [
           {
            "colorbar": {
             "outlinewidth": 0,
             "ticks": ""
            },
            "colorscale": [
             [
              0,
              "#0d0887"
             ],
             [
              0.1111111111111111,
              "#46039f"
             ],
             [
              0.2222222222222222,
              "#7201a8"
             ],
             [
              0.3333333333333333,
              "#9c179e"
             ],
             [
              0.4444444444444444,
              "#bd3786"
             ],
             [
              0.5555555555555556,
              "#d8576b"
             ],
             [
              0.6666666666666666,
              "#ed7953"
             ],
             [
              0.7777777777777778,
              "#fb9f3a"
             ],
             [
              0.8888888888888888,
              "#fdca26"
             ],
             [
              1,
              "#f0f921"
             ]
            ],
            "type": "heatmap"
           }
          ],
          "heatmapgl": [
           {
            "colorbar": {
             "outlinewidth": 0,
             "ticks": ""
            },
            "colorscale": [
             [
              0,
              "#0d0887"
             ],
             [
              0.1111111111111111,
              "#46039f"
             ],
             [
              0.2222222222222222,
              "#7201a8"
             ],
             [
              0.3333333333333333,
              "#9c179e"
             ],
             [
              0.4444444444444444,
              "#bd3786"
             ],
             [
              0.5555555555555556,
              "#d8576b"
             ],
             [
              0.6666666666666666,
              "#ed7953"
             ],
             [
              0.7777777777777778,
              "#fb9f3a"
             ],
             [
              0.8888888888888888,
              "#fdca26"
             ],
             [
              1,
              "#f0f921"
             ]
            ],
            "type": "heatmapgl"
           }
          ],
          "histogram": [
           {
            "marker": {
             "pattern": {
              "fillmode": "overlay",
              "size": 10,
              "solidity": 0.2
             }
            },
            "type": "histogram"
           }
          ],
          "histogram2d": [
           {
            "colorbar": {
             "outlinewidth": 0,
             "ticks": ""
            },
            "colorscale": [
             [
              0,
              "#0d0887"
             ],
             [
              0.1111111111111111,
              "#46039f"
             ],
             [
              0.2222222222222222,
              "#7201a8"
             ],
             [
              0.3333333333333333,
              "#9c179e"
             ],
             [
              0.4444444444444444,
              "#bd3786"
             ],
             [
              0.5555555555555556,
              "#d8576b"
             ],
             [
              0.6666666666666666,
              "#ed7953"
             ],
             [
              0.7777777777777778,
              "#fb9f3a"
             ],
             [
              0.8888888888888888,
              "#fdca26"
             ],
             [
              1,
              "#f0f921"
             ]
            ],
            "type": "histogram2d"
           }
          ],
          "histogram2dcontour": [
           {
            "colorbar": {
             "outlinewidth": 0,
             "ticks": ""
            },
            "colorscale": [
             [
              0,
              "#0d0887"
             ],
             [
              0.1111111111111111,
              "#46039f"
             ],
             [
              0.2222222222222222,
              "#7201a8"
             ],
             [
              0.3333333333333333,
              "#9c179e"
             ],
             [
              0.4444444444444444,
              "#bd3786"
             ],
             [
              0.5555555555555556,
              "#d8576b"
             ],
             [
              0.6666666666666666,
              "#ed7953"
             ],
             [
              0.7777777777777778,
              "#fb9f3a"
             ],
             [
              0.8888888888888888,
              "#fdca26"
             ],
             [
              1,
              "#f0f921"
             ]
            ],
            "type": "histogram2dcontour"
           }
          ],
          "mesh3d": [
           {
            "colorbar": {
             "outlinewidth": 0,
             "ticks": ""
            },
            "type": "mesh3d"
           }
          ],
          "parcoords": [
           {
            "line": {
             "colorbar": {
              "outlinewidth": 0,
              "ticks": ""
             }
            },
            "type": "parcoords"
           }
          ],
          "pie": [
           {
            "automargin": true,
            "type": "pie"
           }
          ],
          "scatter": [
           {
            "fillpattern": {
             "fillmode": "overlay",
             "size": 10,
             "solidity": 0.2
            },
            "type": "scatter"
           }
          ],
          "scatter3d": [
           {
            "line": {
             "colorbar": {
              "outlinewidth": 0,
              "ticks": ""
             }
            },
            "marker": {
             "colorbar": {
              "outlinewidth": 0,
              "ticks": ""
             }
            },
            "type": "scatter3d"
           }
          ],
          "scattercarpet": [
           {
            "marker": {
             "colorbar": {
              "outlinewidth": 0,
              "ticks": ""
             }
            },
            "type": "scattercarpet"
           }
          ],
          "scattergeo": [
           {
            "marker": {
             "colorbar": {
              "outlinewidth": 0,
              "ticks": ""
             }
            },
            "type": "scattergeo"
           }
          ],
          "scattergl": [
           {
            "marker": {
             "colorbar": {
              "outlinewidth": 0,
              "ticks": ""
             }
            },
            "type": "scattergl"
           }
          ],
          "scattermapbox": [
           {
            "marker": {
             "colorbar": {
              "outlinewidth": 0,
              "ticks": ""
             }
            },
            "type": "scattermapbox"
           }
          ],
          "scatterpolar": [
           {
            "marker": {
             "colorbar": {
              "outlinewidth": 0,
              "ticks": ""
             }
            },
            "type": "scatterpolar"
           }
          ],
          "scatterpolargl": [
           {
            "marker": {
             "colorbar": {
              "outlinewidth": 0,
              "ticks": ""
             }
            },
            "type": "scatterpolargl"
           }
          ],
          "scatterternary": [
           {
            "marker": {
             "colorbar": {
              "outlinewidth": 0,
              "ticks": ""
             }
            },
            "type": "scatterternary"
           }
          ],
          "surface": [
           {
            "colorbar": {
             "outlinewidth": 0,
             "ticks": ""
            },
            "colorscale": [
             [
              0,
              "#0d0887"
             ],
             [
              0.1111111111111111,
              "#46039f"
             ],
             [
              0.2222222222222222,
              "#7201a8"
             ],
             [
              0.3333333333333333,
              "#9c179e"
             ],
             [
              0.4444444444444444,
              "#bd3786"
             ],
             [
              0.5555555555555556,
              "#d8576b"
             ],
             [
              0.6666666666666666,
              "#ed7953"
             ],
             [
              0.7777777777777778,
              "#fb9f3a"
             ],
             [
              0.8888888888888888,
              "#fdca26"
             ],
             [
              1,
              "#f0f921"
             ]
            ],
            "type": "surface"
           }
          ],
          "table": [
           {
            "cells": {
             "fill": {
              "color": "#EBF0F8"
             },
             "line": {
              "color": "white"
             }
            },
            "header": {
             "fill": {
              "color": "#C8D4E3"
             },
             "line": {
              "color": "white"
             }
            },
            "type": "table"
           }
          ]
         },
         "layout": {
          "annotationdefaults": {
           "arrowcolor": "#2a3f5f",
           "arrowhead": 0,
           "arrowwidth": 1
          },
          "autotypenumbers": "strict",
          "coloraxis": {
           "colorbar": {
            "outlinewidth": 0,
            "ticks": ""
           }
          },
          "colorscale": {
           "diverging": [
            [
             0,
             "#8e0152"
            ],
            [
             0.1,
             "#c51b7d"
            ],
            [
             0.2,
             "#de77ae"
            ],
            [
             0.3,
             "#f1b6da"
            ],
            [
             0.4,
             "#fde0ef"
            ],
            [
             0.5,
             "#f7f7f7"
            ],
            [
             0.6,
             "#e6f5d0"
            ],
            [
             0.7,
             "#b8e186"
            ],
            [
             0.8,
             "#7fbc41"
            ],
            [
             0.9,
             "#4d9221"
            ],
            [
             1,
             "#276419"
            ]
           ],
           "sequential": [
            [
             0,
             "#0d0887"
            ],
            [
             0.1111111111111111,
             "#46039f"
            ],
            [
             0.2222222222222222,
             "#7201a8"
            ],
            [
             0.3333333333333333,
             "#9c179e"
            ],
            [
             0.4444444444444444,
             "#bd3786"
            ],
            [
             0.5555555555555556,
             "#d8576b"
            ],
            [
             0.6666666666666666,
             "#ed7953"
            ],
            [
             0.7777777777777778,
             "#fb9f3a"
            ],
            [
             0.8888888888888888,
             "#fdca26"
            ],
            [
             1,
             "#f0f921"
            ]
           ],
           "sequentialminus": [
            [
             0,
             "#0d0887"
            ],
            [
             0.1111111111111111,
             "#46039f"
            ],
            [
             0.2222222222222222,
             "#7201a8"
            ],
            [
             0.3333333333333333,
             "#9c179e"
            ],
            [
             0.4444444444444444,
             "#bd3786"
            ],
            [
             0.5555555555555556,
             "#d8576b"
            ],
            [
             0.6666666666666666,
             "#ed7953"
            ],
            [
             0.7777777777777778,
             "#fb9f3a"
            ],
            [
             0.8888888888888888,
             "#fdca26"
            ],
            [
             1,
             "#f0f921"
            ]
           ]
          },
          "colorway": [
           "#636efa",
           "#EF553B",
           "#00cc96",
           "#ab63fa",
           "#FFA15A",
           "#19d3f3",
           "#FF6692",
           "#B6E880",
           "#FF97FF",
           "#FECB52"
          ],
          "font": {
           "color": "#2a3f5f"
          },
          "geo": {
           "bgcolor": "white",
           "lakecolor": "white",
           "landcolor": "#E5ECF6",
           "showlakes": true,
           "showland": true,
           "subunitcolor": "white"
          },
          "hoverlabel": {
           "align": "left"
          },
          "hovermode": "closest",
          "mapbox": {
           "style": "light"
          },
          "paper_bgcolor": "white",
          "plot_bgcolor": "#E5ECF6",
          "polar": {
           "angularaxis": {
            "gridcolor": "white",
            "linecolor": "white",
            "ticks": ""
           },
           "bgcolor": "#E5ECF6",
           "radialaxis": {
            "gridcolor": "white",
            "linecolor": "white",
            "ticks": ""
           }
          },
          "scene": {
           "xaxis": {
            "backgroundcolor": "#E5ECF6",
            "gridcolor": "white",
            "gridwidth": 2,
            "linecolor": "white",
            "showbackground": true,
            "ticks": "",
            "zerolinecolor": "white"
           },
           "yaxis": {
            "backgroundcolor": "#E5ECF6",
            "gridcolor": "white",
            "gridwidth": 2,
            "linecolor": "white",
            "showbackground": true,
            "ticks": "",
            "zerolinecolor": "white"
           },
           "zaxis": {
            "backgroundcolor": "#E5ECF6",
            "gridcolor": "white",
            "gridwidth": 2,
            "linecolor": "white",
            "showbackground": true,
            "ticks": "",
            "zerolinecolor": "white"
           }
          },
          "shapedefaults": {
           "line": {
            "color": "#2a3f5f"
           }
          },
          "ternary": {
           "aaxis": {
            "gridcolor": "white",
            "linecolor": "white",
            "ticks": ""
           },
           "baxis": {
            "gridcolor": "white",
            "linecolor": "white",
            "ticks": ""
           },
           "bgcolor": "#E5ECF6",
           "caxis": {
            "gridcolor": "white",
            "linecolor": "white",
            "ticks": ""
           }
          },
          "title": {
           "x": 0.05
          },
          "xaxis": {
           "automargin": true,
           "gridcolor": "white",
           "linecolor": "white",
           "ticks": "",
           "title": {
            "standoff": 15
           },
           "zerolinecolor": "white",
           "zerolinewidth": 2
          },
          "yaxis": {
           "automargin": true,
           "gridcolor": "white",
           "linecolor": "white",
           "ticks": "",
           "title": {
            "standoff": 15
           },
           "zerolinecolor": "white",
           "zerolinewidth": 2
          }
         }
        },
        "title": {
         "text": "Data coverage (% of portfolio holdings)"
        }
       }
      }
     },
     "metadata": {},
     "output_type": "display_data"
    },
    {
     "data": {
      "application/vnd.plotly.v1+json": {
       "config": {
        "plotlyServerURL": "https://plot.ly"
       },
       "data": [
        {
         "marker": {
          "color": "#FF5000"
         },
         "name": "2019",
         "text": [
          "98",
          "98",
          "98",
          "98",
          "84",
          "84",
          "84",
          "84",
          "97",
          "97"
         ],
         "type": "bar",
         "x": [
          "Scope1EstimatedTotal",
          "Scope1EstimatedMethod",
          "Scope2EstimatedTotal",
          "Scope2EstimatedMethod",
          "Scope3EstimationUpstreamTotal",
          "Scope3EstimationUpstreamMethod",
          "Scope3EstimationDownstreamTotal",
          "Scope3EstimationDownstreamMethod",
          "SalesinUSD",
          "EnterpriseValueincludingCashandShortTermInvestmentsinUSD"
         ],
         "y": [
          98.02259307100002,
          98.02629329199999,
          98.02259307100002,
          98.02629329199999,
          84.45397935199999,
          84.45767957300001,
          84.45397935199999,
          84.45767957300001,
          97.959298253,
          97.58762823800001
         ]
        },
        {
         "marker": {
          "color": "#FFC800"
         },
         "name": "2020",
         "text": [
          "98",
          "98",
          "98",
          "98",
          "85",
          "85",
          "85",
          "85",
          "98",
          "98"
         ],
         "type": "bar",
         "x": [
          "Scope1EstimatedTotal",
          "Scope1EstimatedMethod",
          "Scope2EstimatedTotal",
          "Scope2EstimatedMethod",
          "Scope3EstimationUpstreamTotal",
          "Scope3EstimationUpstreamMethod",
          "Scope3EstimationDownstreamTotal",
          "Scope3EstimationDownstreamMethod",
          "SalesinUSD",
          "EnterpriseValueincludingCashandShortTermInvestmentsinUSD"
         ],
         "y": [
          98.675951979,
          98.6796522,
          98.675951979,
          98.6796522,
          85.07860081499999,
          85.08230103600002,
          85.07860081499999,
          85.08230103600002,
          98.615363572,
          98.490050883
         ]
        },
        {
         "marker": {
          "color": "#00D0D4"
         },
         "name": "2021",
         "text": [
          "98",
          "98",
          "98",
          "98",
          "85",
          "85",
          "85",
          "85",
          "98",
          "98"
         ],
         "type": "bar",
         "x": [
          "Scope1EstimatedTotal",
          "Scope1EstimatedMethod",
          "Scope2EstimatedTotal",
          "Scope2EstimatedMethod",
          "Scope3EstimationUpstreamTotal",
          "Scope3EstimationUpstreamMethod",
          "Scope3EstimationDownstreamTotal",
          "Scope3EstimationDownstreamMethod",
          "SalesinUSD",
          "EnterpriseValueincludingCashandShortTermInvestmentsinUSD"
         ],
         "y": [
          98.855662236,
          98.859362457,
          98.855662236,
          98.859362457,
          85.25128379399999,
          85.25498401499999,
          85.25128379399999,
          85.25498401499999,
          98.73450476900001,
          98.490418378
         ]
        },
        {
         "marker": {
          "color": "#9064CD"
         },
         "name": "2022",
         "text": [
          "97",
          "97",
          "97",
          "97",
          "84",
          "84",
          "84",
          "84",
          "85",
          "59"
         ],
         "type": "bar",
         "x": [
          "Scope1EstimatedTotal",
          "Scope1EstimatedMethod",
          "Scope2EstimatedTotal",
          "Scope2EstimatedMethod",
          "Scope3EstimationUpstreamTotal",
          "Scope3EstimationUpstreamMethod",
          "Scope3EstimationDownstreamTotal",
          "Scope3EstimationDownstreamMethod",
          "SalesinUSD",
          "EnterpriseValueincludingCashandShortTermInvestmentsinUSD"
         ],
         "y": [
          97.76253627099999,
          97.766236492,
          97.76253627099999,
          97.766236492,
          84.02841800899999,
          84.03211823,
          84.02841800899999,
          84.03211823,
          85.52915556100001,
          59.558306144
         ]
        }
       ],
       "layout": {
        "bargap": 0.3,
        "barmode": "group",
        "template": {
         "data": {
          "bar": [
           {
            "error_x": {
             "color": "#2a3f5f"
            },
            "error_y": {
             "color": "#2a3f5f"
            },
            "marker": {
             "line": {
              "color": "#E5ECF6",
              "width": 0.5
             },
             "pattern": {
              "fillmode": "overlay",
              "size": 10,
              "solidity": 0.2
             }
            },
            "type": "bar"
           }
          ],
          "barpolar": [
           {
            "marker": {
             "line": {
              "color": "#E5ECF6",
              "width": 0.5
             },
             "pattern": {
              "fillmode": "overlay",
              "size": 10,
              "solidity": 0.2
             }
            },
            "type": "barpolar"
           }
          ],
          "carpet": [
           {
            "aaxis": {
             "endlinecolor": "#2a3f5f",
             "gridcolor": "white",
             "linecolor": "white",
             "minorgridcolor": "white",
             "startlinecolor": "#2a3f5f"
            },
            "baxis": {
             "endlinecolor": "#2a3f5f",
             "gridcolor": "white",
             "linecolor": "white",
             "minorgridcolor": "white",
             "startlinecolor": "#2a3f5f"
            },
            "type": "carpet"
           }
          ],
          "choropleth": [
           {
            "colorbar": {
             "outlinewidth": 0,
             "ticks": ""
            },
            "type": "choropleth"
           }
          ],
          "contour": [
           {
            "colorbar": {
             "outlinewidth": 0,
             "ticks": ""
            },
            "colorscale": [
             [
              0,
              "#0d0887"
             ],
             [
              0.1111111111111111,
              "#46039f"
             ],
             [
              0.2222222222222222,
              "#7201a8"
             ],
             [
              0.3333333333333333,
              "#9c179e"
             ],
             [
              0.4444444444444444,
              "#bd3786"
             ],
             [
              0.5555555555555556,
              "#d8576b"
             ],
             [
              0.6666666666666666,
              "#ed7953"
             ],
             [
              0.7777777777777778,
              "#fb9f3a"
             ],
             [
              0.8888888888888888,
              "#fdca26"
             ],
             [
              1,
              "#f0f921"
             ]
            ],
            "type": "contour"
           }
          ],
          "contourcarpet": [
           {
            "colorbar": {
             "outlinewidth": 0,
             "ticks": ""
            },
            "type": "contourcarpet"
           }
          ],
          "heatmap": [
           {
            "colorbar": {
             "outlinewidth": 0,
             "ticks": ""
            },
            "colorscale": [
             [
              0,
              "#0d0887"
             ],
             [
              0.1111111111111111,
              "#46039f"
             ],
             [
              0.2222222222222222,
              "#7201a8"
             ],
             [
              0.3333333333333333,
              "#9c179e"
             ],
             [
              0.4444444444444444,
              "#bd3786"
             ],
             [
              0.5555555555555556,
              "#d8576b"
             ],
             [
              0.6666666666666666,
              "#ed7953"
             ],
             [
              0.7777777777777778,
              "#fb9f3a"
             ],
             [
              0.8888888888888888,
              "#fdca26"
             ],
             [
              1,
              "#f0f921"
             ]
            ],
            "type": "heatmap"
           }
          ],
          "heatmapgl": [
           {
            "colorbar": {
             "outlinewidth": 0,
             "ticks": ""
            },
            "colorscale": [
             [
              0,
              "#0d0887"
             ],
             [
              0.1111111111111111,
              "#46039f"
             ],
             [
              0.2222222222222222,
              "#7201a8"
             ],
             [
              0.3333333333333333,
              "#9c179e"
             ],
             [
              0.4444444444444444,
              "#bd3786"
             ],
             [
              0.5555555555555556,
              "#d8576b"
             ],
             [
              0.6666666666666666,
              "#ed7953"
             ],
             [
              0.7777777777777778,
              "#fb9f3a"
             ],
             [
              0.8888888888888888,
              "#fdca26"
             ],
             [
              1,
              "#f0f921"
             ]
            ],
            "type": "heatmapgl"
           }
          ],
          "histogram": [
           {
            "marker": {
             "pattern": {
              "fillmode": "overlay",
              "size": 10,
              "solidity": 0.2
             }
            },
            "type": "histogram"
           }
          ],
          "histogram2d": [
           {
            "colorbar": {
             "outlinewidth": 0,
             "ticks": ""
            },
            "colorscale": [
             [
              0,
              "#0d0887"
             ],
             [
              0.1111111111111111,
              "#46039f"
             ],
             [
              0.2222222222222222,
              "#7201a8"
             ],
             [
              0.3333333333333333,
              "#9c179e"
             ],
             [
              0.4444444444444444,
              "#bd3786"
             ],
             [
              0.5555555555555556,
              "#d8576b"
             ],
             [
              0.6666666666666666,
              "#ed7953"
             ],
             [
              0.7777777777777778,
              "#fb9f3a"
             ],
             [
              0.8888888888888888,
              "#fdca26"
             ],
             [
              1,
              "#f0f921"
             ]
            ],
            "type": "histogram2d"
           }
          ],
          "histogram2dcontour": [
           {
            "colorbar": {
             "outlinewidth": 0,
             "ticks": ""
            },
            "colorscale": [
             [
              0,
              "#0d0887"
             ],
             [
              0.1111111111111111,
              "#46039f"
             ],
             [
              0.2222222222222222,
              "#7201a8"
             ],
             [
              0.3333333333333333,
              "#9c179e"
             ],
             [
              0.4444444444444444,
              "#bd3786"
             ],
             [
              0.5555555555555556,
              "#d8576b"
             ],
             [
              0.6666666666666666,
              "#ed7953"
             ],
             [
              0.7777777777777778,
              "#fb9f3a"
             ],
             [
              0.8888888888888888,
              "#fdca26"
             ],
             [
              1,
              "#f0f921"
             ]
            ],
            "type": "histogram2dcontour"
           }
          ],
          "mesh3d": [
           {
            "colorbar": {
             "outlinewidth": 0,
             "ticks": ""
            },
            "type": "mesh3d"
           }
          ],
          "parcoords": [
           {
            "line": {
             "colorbar": {
              "outlinewidth": 0,
              "ticks": ""
             }
            },
            "type": "parcoords"
           }
          ],
          "pie": [
           {
            "automargin": true,
            "type": "pie"
           }
          ],
          "scatter": [
           {
            "fillpattern": {
             "fillmode": "overlay",
             "size": 10,
             "solidity": 0.2
            },
            "type": "scatter"
           }
          ],
          "scatter3d": [
           {
            "line": {
             "colorbar": {
              "outlinewidth": 0,
              "ticks": ""
             }
            },
            "marker": {
             "colorbar": {
              "outlinewidth": 0,
              "ticks": ""
             }
            },
            "type": "scatter3d"
           }
          ],
          "scattercarpet": [
           {
            "marker": {
             "colorbar": {
              "outlinewidth": 0,
              "ticks": ""
             }
            },
            "type": "scattercarpet"
           }
          ],
          "scattergeo": [
           {
            "marker": {
             "colorbar": {
              "outlinewidth": 0,
              "ticks": ""
             }
            },
            "type": "scattergeo"
           }
          ],
          "scattergl": [
           {
            "marker": {
             "colorbar": {
              "outlinewidth": 0,
              "ticks": ""
             }
            },
            "type": "scattergl"
           }
          ],
          "scattermapbox": [
           {
            "marker": {
             "colorbar": {
              "outlinewidth": 0,
              "ticks": ""
             }
            },
            "type": "scattermapbox"
           }
          ],
          "scatterpolar": [
           {
            "marker": {
             "colorbar": {
              "outlinewidth": 0,
              "ticks": ""
             }
            },
            "type": "scatterpolar"
           }
          ],
          "scatterpolargl": [
           {
            "marker": {
             "colorbar": {
              "outlinewidth": 0,
              "ticks": ""
             }
            },
            "type": "scatterpolargl"
           }
          ],
          "scatterternary": [
           {
            "marker": {
             "colorbar": {
              "outlinewidth": 0,
              "ticks": ""
             }
            },
            "type": "scatterternary"
           }
          ],
          "surface": [
           {
            "colorbar": {
             "outlinewidth": 0,
             "ticks": ""
            },
            "colorscale": [
             [
              0,
              "#0d0887"
             ],
             [
              0.1111111111111111,
              "#46039f"
             ],
             [
              0.2222222222222222,
              "#7201a8"
             ],
             [
              0.3333333333333333,
              "#9c179e"
             ],
             [
              0.4444444444444444,
              "#bd3786"
             ],
             [
              0.5555555555555556,
              "#d8576b"
             ],
             [
              0.6666666666666666,
              "#ed7953"
             ],
             [
              0.7777777777777778,
              "#fb9f3a"
             ],
             [
              0.8888888888888888,
              "#fdca26"
             ],
             [
              1,
              "#f0f921"
             ]
            ],
            "type": "surface"
           }
          ],
          "table": [
           {
            "cells": {
             "fill": {
              "color": "#EBF0F8"
             },
             "line": {
              "color": "white"
             }
            },
            "header": {
             "fill": {
              "color": "#C8D4E3"
             },
             "line": {
              "color": "white"
             }
            },
            "type": "table"
           }
          ]
         },
         "layout": {
          "annotationdefaults": {
           "arrowcolor": "#2a3f5f",
           "arrowhead": 0,
           "arrowwidth": 1
          },
          "autotypenumbers": "strict",
          "coloraxis": {
           "colorbar": {
            "outlinewidth": 0,
            "ticks": ""
           }
          },
          "colorscale": {
           "diverging": [
            [
             0,
             "#8e0152"
            ],
            [
             0.1,
             "#c51b7d"
            ],
            [
             0.2,
             "#de77ae"
            ],
            [
             0.3,
             "#f1b6da"
            ],
            [
             0.4,
             "#fde0ef"
            ],
            [
             0.5,
             "#f7f7f7"
            ],
            [
             0.6,
             "#e6f5d0"
            ],
            [
             0.7,
             "#b8e186"
            ],
            [
             0.8,
             "#7fbc41"
            ],
            [
             0.9,
             "#4d9221"
            ],
            [
             1,
             "#276419"
            ]
           ],
           "sequential": [
            [
             0,
             "#0d0887"
            ],
            [
             0.1111111111111111,
             "#46039f"
            ],
            [
             0.2222222222222222,
             "#7201a8"
            ],
            [
             0.3333333333333333,
             "#9c179e"
            ],
            [
             0.4444444444444444,
             "#bd3786"
            ],
            [
             0.5555555555555556,
             "#d8576b"
            ],
            [
             0.6666666666666666,
             "#ed7953"
            ],
            [
             0.7777777777777778,
             "#fb9f3a"
            ],
            [
             0.8888888888888888,
             "#fdca26"
            ],
            [
             1,
             "#f0f921"
            ]
           ],
           "sequentialminus": [
            [
             0,
             "#0d0887"
            ],
            [
             0.1111111111111111,
             "#46039f"
            ],
            [
             0.2222222222222222,
             "#7201a8"
            ],
            [
             0.3333333333333333,
             "#9c179e"
            ],
            [
             0.4444444444444444,
             "#bd3786"
            ],
            [
             0.5555555555555556,
             "#d8576b"
            ],
            [
             0.6666666666666666,
             "#ed7953"
            ],
            [
             0.7777777777777778,
             "#fb9f3a"
            ],
            [
             0.8888888888888888,
             "#fdca26"
            ],
            [
             1,
             "#f0f921"
            ]
           ]
          },
          "colorway": [
           "#636efa",
           "#EF553B",
           "#00cc96",
           "#ab63fa",
           "#FFA15A",
           "#19d3f3",
           "#FF6692",
           "#B6E880",
           "#FF97FF",
           "#FECB52"
          ],
          "font": {
           "color": "#2a3f5f"
          },
          "geo": {
           "bgcolor": "white",
           "lakecolor": "white",
           "landcolor": "#E5ECF6",
           "showlakes": true,
           "showland": true,
           "subunitcolor": "white"
          },
          "hoverlabel": {
           "align": "left"
          },
          "hovermode": "closest",
          "mapbox": {
           "style": "light"
          },
          "paper_bgcolor": "white",
          "plot_bgcolor": "#E5ECF6",
          "polar": {
           "angularaxis": {
            "gridcolor": "white",
            "linecolor": "white",
            "ticks": ""
           },
           "bgcolor": "#E5ECF6",
           "radialaxis": {
            "gridcolor": "white",
            "linecolor": "white",
            "ticks": ""
           }
          },
          "scene": {
           "xaxis": {
            "backgroundcolor": "#E5ECF6",
            "gridcolor": "white",
            "gridwidth": 2,
            "linecolor": "white",
            "showbackground": true,
            "ticks": "",
            "zerolinecolor": "white"
           },
           "yaxis": {
            "backgroundcolor": "#E5ECF6",
            "gridcolor": "white",
            "gridwidth": 2,
            "linecolor": "white",
            "showbackground": true,
            "ticks": "",
            "zerolinecolor": "white"
           },
           "zaxis": {
            "backgroundcolor": "#E5ECF6",
            "gridcolor": "white",
            "gridwidth": 2,
            "linecolor": "white",
            "showbackground": true,
            "ticks": "",
            "zerolinecolor": "white"
           }
          },
          "shapedefaults": {
           "line": {
            "color": "#2a3f5f"
           }
          },
          "ternary": {
           "aaxis": {
            "gridcolor": "white",
            "linecolor": "white",
            "ticks": ""
           },
           "baxis": {
            "gridcolor": "white",
            "linecolor": "white",
            "ticks": ""
           },
           "bgcolor": "#E5ECF6",
           "caxis": {
            "gridcolor": "white",
            "linecolor": "white",
            "ticks": ""
           }
          },
          "title": {
           "x": 0.05
          },
          "xaxis": {
           "automargin": true,
           "gridcolor": "white",
           "linecolor": "white",
           "ticks": "",
           "title": {
            "standoff": 15
           },
           "zerolinecolor": "white",
           "zerolinewidth": 2
          },
          "yaxis": {
           "automargin": true,
           "gridcolor": "white",
           "linecolor": "white",
           "ticks": "",
           "title": {
            "standoff": 15
           },
           "zerolinecolor": "white",
           "zerolinewidth": 2
          }
         }
        },
        "title": {
         "text": "Data coverage (% of portfolio weight)"
        }
       }
      }
     },
     "metadata": {},
     "output_type": "display_data"
    }
   ],
   "source": [
    "# plot the coverage results\n",
    "plotData = []\n",
    "idx = 0\n",
    "for yr in years:\n",
    "    plotData.append(go.Bar(x = cMmeasures, name = str(yr),  y = hoCoData[idx],  text = [int(x) for x in hoCoData[idx]], marker_color=lsegColors[idx]))\n",
    "    idx = idx + 1\n",
    "\n",
    "layout = go.Layout(barmode = 'group')\n",
    "fig = go.Figure(data = plotData, layout = layout)\n",
    "fig.update_layout(title_text=\"Data coverage (% of portfolio holdings)\", bargap=0.3)\n",
    "fig.show()\n",
    "\n",
    "plotData = []\n",
    "idx = 0\n",
    "for yr in years:\n",
    "    plotData.append(go.Bar(x = cMmeasures, name = str(yr),  y = wtCoData[idx],  text = [int(x) for x in wtCoData[idx]], marker_color=lsegColors[idx]))\n",
    "    idx = idx + 1\n",
    "\n",
    "layout = go.Layout(barmode = 'group')\n",
    "fig = go.Figure(data = plotData, layout = layout)\n",
    "fig.update_layout(title_text=\"Data coverage (% of portfolio weight)\", bargap=0.3)\n",
    "fig.show()"
   ]
  },
  {
   "cell_type": "code",
   "execution_count": null,
   "metadata": {},
   "outputs": [],
   "source": []
  },
  {
   "cell_type": "code",
   "execution_count": null,
   "metadata": {},
   "outputs": [],
   "source": []
  },
  {
   "cell_type": "code",
   "execution_count": null,
   "metadata": {},
   "outputs": [],
   "source": []
  },
  {
   "cell_type": "code",
   "execution_count": null,
   "metadata": {},
   "outputs": [],
   "source": []
  },
  {
   "cell_type": "code",
   "execution_count": 60,
   "metadata": {},
   "outputs": [
    {
     "data": {
      "application/vnd.plotly.v1+json": {
       "config": {
        "plotlyServerURL": "https://plot.ly"
       },
       "data": [
        {
         "marker": {
          "color": "#FF5000"
         },
         "name": "2019",
         "orientation": "h",
         "type": "bar",
         "x": [
          83.8097525822724,
          83.8097525822724,
          83.8097525822724,
          83.8097525822724,
          70.71823204419888,
          70.71823204419888,
          70.71823204419888,
          70.71823204419888,
          81.88806149411482,
          81.23949075186164
         ],
         "y": [
          "Scope1EstimatedTotal",
          "Scope1EstimatedMethod",
          "Scope2EstimatedTotal",
          "Scope2EstimatedMethod",
          "Scope3EstimationUpstreamTotal",
          "Scope3EstimationUpstreamMethod",
          "Scope3EstimationDownstreamTotal",
          "Scope3EstimationDownstreamMethod",
          "SalesinUSD",
          "EnterpriseValueincludingCashandShortTermInvestmentsinUSD"
         ]
        },
        {
         "marker": {
          "color": "#FFC800"
         },
         "name": "2020",
         "orientation": "h",
         "type": "bar",
         "x": [
          90.48762911361999,
          90.48762911361999,
          90.48762911361999,
          90.48762911361999,
          76.79558011049724,
          76.79558011049724,
          76.79558011049724,
          76.79558011049724,
          87.3889022339659,
          86.59620466010088
         ],
         "y": [
          "Scope1EstimatedTotal",
          "Scope1EstimatedMethod",
          "Scope2EstimatedTotal",
          "Scope2EstimatedMethod",
          "Scope3EstimationUpstreamTotal",
          "Scope3EstimationUpstreamMethod",
          "Scope3EstimationDownstreamTotal",
          "Scope3EstimationDownstreamMethod",
          "SalesinUSD",
          "EnterpriseValueincludingCashandShortTermInvestmentsinUSD"
         ]
        },
        {
         "marker": {
          "color": "#00D0D4"
         },
         "name": "2021",
         "orientation": "h",
         "type": "bar",
         "x": [
          92.12106653855393,
          92.12106653855393,
          92.12106653855393,
          92.12106653855393,
          78.35695411962527,
          78.35695411962527,
          78.35695411962527,
          78.35695411962527,
          90.6317559452318,
          89.86307950996877
         ],
         "y": [
          "Scope1EstimatedTotal",
          "Scope1EstimatedMethod",
          "Scope2EstimatedTotal",
          "Scope2EstimatedMethod",
          "Scope3EstimationUpstreamTotal",
          "Scope3EstimationUpstreamMethod",
          "Scope3EstimationDownstreamTotal",
          "Scope3EstimationDownstreamMethod",
          "SalesinUSD",
          "EnterpriseValueincludingCashandShortTermInvestmentsinUSD"
         ]
        },
        {
         "marker": {
          "color": "#9064CD"
         },
         "name": "2022",
         "orientation": "h",
         "type": "bar",
         "x": [
          93.12995435983666,
          93.12995435983666,
          93.12995435983666,
          93.12995435983666,
          79.6060533269277,
          79.6060533269277,
          79.6060533269277,
          79.6060533269277,
          84.48234446312756,
          43.862599087196735
         ],
         "y": [
          "Scope1EstimatedTotal",
          "Scope1EstimatedMethod",
          "Scope2EstimatedTotal",
          "Scope2EstimatedMethod",
          "Scope3EstimationUpstreamTotal",
          "Scope3EstimationUpstreamMethod",
          "Scope3EstimationDownstreamTotal",
          "Scope3EstimationDownstreamMethod",
          "SalesinUSD",
          "EnterpriseValueincludingCashandShortTermInvestmentsinUSD"
         ]
        }
       ],
       "layout": {
        "barmode": "group",
        "height": 1000,
        "template": {
         "data": {
          "bar": [
           {
            "error_x": {
             "color": "#2a3f5f"
            },
            "error_y": {
             "color": "#2a3f5f"
            },
            "marker": {
             "line": {
              "color": "#E5ECF6",
              "width": 0.5
             },
             "pattern": {
              "fillmode": "overlay",
              "size": 10,
              "solidity": 0.2
             }
            },
            "type": "bar"
           }
          ],
          "barpolar": [
           {
            "marker": {
             "line": {
              "color": "#E5ECF6",
              "width": 0.5
             },
             "pattern": {
              "fillmode": "overlay",
              "size": 10,
              "solidity": 0.2
             }
            },
            "type": "barpolar"
           }
          ],
          "carpet": [
           {
            "aaxis": {
             "endlinecolor": "#2a3f5f",
             "gridcolor": "white",
             "linecolor": "white",
             "minorgridcolor": "white",
             "startlinecolor": "#2a3f5f"
            },
            "baxis": {
             "endlinecolor": "#2a3f5f",
             "gridcolor": "white",
             "linecolor": "white",
             "minorgridcolor": "white",
             "startlinecolor": "#2a3f5f"
            },
            "type": "carpet"
           }
          ],
          "choropleth": [
           {
            "colorbar": {
             "outlinewidth": 0,
             "ticks": ""
            },
            "type": "choropleth"
           }
          ],
          "contour": [
           {
            "colorbar": {
             "outlinewidth": 0,
             "ticks": ""
            },
            "colorscale": [
             [
              0,
              "#0d0887"
             ],
             [
              0.1111111111111111,
              "#46039f"
             ],
             [
              0.2222222222222222,
              "#7201a8"
             ],
             [
              0.3333333333333333,
              "#9c179e"
             ],
             [
              0.4444444444444444,
              "#bd3786"
             ],
             [
              0.5555555555555556,
              "#d8576b"
             ],
             [
              0.6666666666666666,
              "#ed7953"
             ],
             [
              0.7777777777777778,
              "#fb9f3a"
             ],
             [
              0.8888888888888888,
              "#fdca26"
             ],
             [
              1,
              "#f0f921"
             ]
            ],
            "type": "contour"
           }
          ],
          "contourcarpet": [
           {
            "colorbar": {
             "outlinewidth": 0,
             "ticks": ""
            },
            "type": "contourcarpet"
           }
          ],
          "heatmap": [
           {
            "colorbar": {
             "outlinewidth": 0,
             "ticks": ""
            },
            "colorscale": [
             [
              0,
              "#0d0887"
             ],
             [
              0.1111111111111111,
              "#46039f"
             ],
             [
              0.2222222222222222,
              "#7201a8"
             ],
             [
              0.3333333333333333,
              "#9c179e"
             ],
             [
              0.4444444444444444,
              "#bd3786"
             ],
             [
              0.5555555555555556,
              "#d8576b"
             ],
             [
              0.6666666666666666,
              "#ed7953"
             ],
             [
              0.7777777777777778,
              "#fb9f3a"
             ],
             [
              0.8888888888888888,
              "#fdca26"
             ],
             [
              1,
              "#f0f921"
             ]
            ],
            "type": "heatmap"
           }
          ],
          "heatmapgl": [
           {
            "colorbar": {
             "outlinewidth": 0,
             "ticks": ""
            },
            "colorscale": [
             [
              0,
              "#0d0887"
             ],
             [
              0.1111111111111111,
              "#46039f"
             ],
             [
              0.2222222222222222,
              "#7201a8"
             ],
             [
              0.3333333333333333,
              "#9c179e"
             ],
             [
              0.4444444444444444,
              "#bd3786"
             ],
             [
              0.5555555555555556,
              "#d8576b"
             ],
             [
              0.6666666666666666,
              "#ed7953"
             ],
             [
              0.7777777777777778,
              "#fb9f3a"
             ],
             [
              0.8888888888888888,
              "#fdca26"
             ],
             [
              1,
              "#f0f921"
             ]
            ],
            "type": "heatmapgl"
           }
          ],
          "histogram": [
           {
            "marker": {
             "pattern": {
              "fillmode": "overlay",
              "size": 10,
              "solidity": 0.2
             }
            },
            "type": "histogram"
           }
          ],
          "histogram2d": [
           {
            "colorbar": {
             "outlinewidth": 0,
             "ticks": ""
            },
            "colorscale": [
             [
              0,
              "#0d0887"
             ],
             [
              0.1111111111111111,
              "#46039f"
             ],
             [
              0.2222222222222222,
              "#7201a8"
             ],
             [
              0.3333333333333333,
              "#9c179e"
             ],
             [
              0.4444444444444444,
              "#bd3786"
             ],
             [
              0.5555555555555556,
              "#d8576b"
             ],
             [
              0.6666666666666666,
              "#ed7953"
             ],
             [
              0.7777777777777778,
              "#fb9f3a"
             ],
             [
              0.8888888888888888,
              "#fdca26"
             ],
             [
              1,
              "#f0f921"
             ]
            ],
            "type": "histogram2d"
           }
          ],
          "histogram2dcontour": [
           {
            "colorbar": {
             "outlinewidth": 0,
             "ticks": ""
            },
            "colorscale": [
             [
              0,
              "#0d0887"
             ],
             [
              0.1111111111111111,
              "#46039f"
             ],
             [
              0.2222222222222222,
              "#7201a8"
             ],
             [
              0.3333333333333333,
              "#9c179e"
             ],
             [
              0.4444444444444444,
              "#bd3786"
             ],
             [
              0.5555555555555556,
              "#d8576b"
             ],
             [
              0.6666666666666666,
              "#ed7953"
             ],
             [
              0.7777777777777778,
              "#fb9f3a"
             ],
             [
              0.8888888888888888,
              "#fdca26"
             ],
             [
              1,
              "#f0f921"
             ]
            ],
            "type": "histogram2dcontour"
           }
          ],
          "mesh3d": [
           {
            "colorbar": {
             "outlinewidth": 0,
             "ticks": ""
            },
            "type": "mesh3d"
           }
          ],
          "parcoords": [
           {
            "line": {
             "colorbar": {
              "outlinewidth": 0,
              "ticks": ""
             }
            },
            "type": "parcoords"
           }
          ],
          "pie": [
           {
            "automargin": true,
            "type": "pie"
           }
          ],
          "scatter": [
           {
            "fillpattern": {
             "fillmode": "overlay",
             "size": 10,
             "solidity": 0.2
            },
            "type": "scatter"
           }
          ],
          "scatter3d": [
           {
            "line": {
             "colorbar": {
              "outlinewidth": 0,
              "ticks": ""
             }
            },
            "marker": {
             "colorbar": {
              "outlinewidth": 0,
              "ticks": ""
             }
            },
            "type": "scatter3d"
           }
          ],
          "scattercarpet": [
           {
            "marker": {
             "colorbar": {
              "outlinewidth": 0,
              "ticks": ""
             }
            },
            "type": "scattercarpet"
           }
          ],
          "scattergeo": [
           {
            "marker": {
             "colorbar": {
              "outlinewidth": 0,
              "ticks": ""
             }
            },
            "type": "scattergeo"
           }
          ],
          "scattergl": [
           {
            "marker": {
             "colorbar": {
              "outlinewidth": 0,
              "ticks": ""
             }
            },
            "type": "scattergl"
           }
          ],
          "scattermapbox": [
           {
            "marker": {
             "colorbar": {
              "outlinewidth": 0,
              "ticks": ""
             }
            },
            "type": "scattermapbox"
           }
          ],
          "scatterpolar": [
           {
            "marker": {
             "colorbar": {
              "outlinewidth": 0,
              "ticks": ""
             }
            },
            "type": "scatterpolar"
           }
          ],
          "scatterpolargl": [
           {
            "marker": {
             "colorbar": {
              "outlinewidth": 0,
              "ticks": ""
             }
            },
            "type": "scatterpolargl"
           }
          ],
          "scatterternary": [
           {
            "marker": {
             "colorbar": {
              "outlinewidth": 0,
              "ticks": ""
             }
            },
            "type": "scatterternary"
           }
          ],
          "surface": [
           {
            "colorbar": {
             "outlinewidth": 0,
             "ticks": ""
            },
            "colorscale": [
             [
              0,
              "#0d0887"
             ],
             [
              0.1111111111111111,
              "#46039f"
             ],
             [
              0.2222222222222222,
              "#7201a8"
             ],
             [
              0.3333333333333333,
              "#9c179e"
             ],
             [
              0.4444444444444444,
              "#bd3786"
             ],
             [
              0.5555555555555556,
              "#d8576b"
             ],
             [
              0.6666666666666666,
              "#ed7953"
             ],
             [
              0.7777777777777778,
              "#fb9f3a"
             ],
             [
              0.8888888888888888,
              "#fdca26"
             ],
             [
              1,
              "#f0f921"
             ]
            ],
            "type": "surface"
           }
          ],
          "table": [
           {
            "cells": {
             "fill": {
              "color": "#EBF0F8"
             },
             "line": {
              "color": "white"
             }
            },
            "header": {
             "fill": {
              "color": "#C8D4E3"
             },
             "line": {
              "color": "white"
             }
            },
            "type": "table"
           }
          ]
         },
         "layout": {
          "annotationdefaults": {
           "arrowcolor": "#2a3f5f",
           "arrowhead": 0,
           "arrowwidth": 1
          },
          "autotypenumbers": "strict",
          "coloraxis": {
           "colorbar": {
            "outlinewidth": 0,
            "ticks": ""
           }
          },
          "colorscale": {
           "diverging": [
            [
             0,
             "#8e0152"
            ],
            [
             0.1,
             "#c51b7d"
            ],
            [
             0.2,
             "#de77ae"
            ],
            [
             0.3,
             "#f1b6da"
            ],
            [
             0.4,
             "#fde0ef"
            ],
            [
             0.5,
             "#f7f7f7"
            ],
            [
             0.6,
             "#e6f5d0"
            ],
            [
             0.7,
             "#b8e186"
            ],
            [
             0.8,
             "#7fbc41"
            ],
            [
             0.9,
             "#4d9221"
            ],
            [
             1,
             "#276419"
            ]
           ],
           "sequential": [
            [
             0,
             "#0d0887"
            ],
            [
             0.1111111111111111,
             "#46039f"
            ],
            [
             0.2222222222222222,
             "#7201a8"
            ],
            [
             0.3333333333333333,
             "#9c179e"
            ],
            [
             0.4444444444444444,
             "#bd3786"
            ],
            [
             0.5555555555555556,
             "#d8576b"
            ],
            [
             0.6666666666666666,
             "#ed7953"
            ],
            [
             0.7777777777777778,
             "#fb9f3a"
            ],
            [
             0.8888888888888888,
             "#fdca26"
            ],
            [
             1,
             "#f0f921"
            ]
           ],
           "sequentialminus": [
            [
             0,
             "#0d0887"
            ],
            [
             0.1111111111111111,
             "#46039f"
            ],
            [
             0.2222222222222222,
             "#7201a8"
            ],
            [
             0.3333333333333333,
             "#9c179e"
            ],
            [
             0.4444444444444444,
             "#bd3786"
            ],
            [
             0.5555555555555556,
             "#d8576b"
            ],
            [
             0.6666666666666666,
             "#ed7953"
            ],
            [
             0.7777777777777778,
             "#fb9f3a"
            ],
            [
             0.8888888888888888,
             "#fdca26"
            ],
            [
             1,
             "#f0f921"
            ]
           ]
          },
          "colorway": [
           "#636efa",
           "#EF553B",
           "#00cc96",
           "#ab63fa",
           "#FFA15A",
           "#19d3f3",
           "#FF6692",
           "#B6E880",
           "#FF97FF",
           "#FECB52"
          ],
          "font": {
           "color": "#2a3f5f"
          },
          "geo": {
           "bgcolor": "white",
           "lakecolor": "white",
           "landcolor": "#E5ECF6",
           "showlakes": true,
           "showland": true,
           "subunitcolor": "white"
          },
          "hoverlabel": {
           "align": "left"
          },
          "hovermode": "closest",
          "mapbox": {
           "style": "light"
          },
          "paper_bgcolor": "white",
          "plot_bgcolor": "#E5ECF6",
          "polar": {
           "angularaxis": {
            "gridcolor": "white",
            "linecolor": "white",
            "ticks": ""
           },
           "bgcolor": "#E5ECF6",
           "radialaxis": {
            "gridcolor": "white",
            "linecolor": "white",
            "ticks": ""
           }
          },
          "scene": {
           "xaxis": {
            "backgroundcolor": "#E5ECF6",
            "gridcolor": "white",
            "gridwidth": 2,
            "linecolor": "white",
            "showbackground": true,
            "ticks": "",
            "zerolinecolor": "white"
           },
           "yaxis": {
            "backgroundcolor": "#E5ECF6",
            "gridcolor": "white",
            "gridwidth": 2,
            "linecolor": "white",
            "showbackground": true,
            "ticks": "",
            "zerolinecolor": "white"
           },
           "zaxis": {
            "backgroundcolor": "#E5ECF6",
            "gridcolor": "white",
            "gridwidth": 2,
            "linecolor": "white",
            "showbackground": true,
            "ticks": "",
            "zerolinecolor": "white"
           }
          },
          "shapedefaults": {
           "line": {
            "color": "#2a3f5f"
           }
          },
          "ternary": {
           "aaxis": {
            "gridcolor": "white",
            "linecolor": "white",
            "ticks": ""
           },
           "baxis": {
            "gridcolor": "white",
            "linecolor": "white",
            "ticks": ""
           },
           "bgcolor": "#E5ECF6",
           "caxis": {
            "gridcolor": "white",
            "linecolor": "white",
            "ticks": ""
           }
          },
          "title": {
           "x": 0.05
          },
          "xaxis": {
           "automargin": true,
           "gridcolor": "white",
           "linecolor": "white",
           "ticks": "",
           "title": {
            "standoff": 15
           },
           "zerolinecolor": "white",
           "zerolinewidth": 2
          },
          "yaxis": {
           "automargin": true,
           "gridcolor": "white",
           "linecolor": "white",
           "ticks": "",
           "title": {
            "standoff": 15
           },
           "zerolinecolor": "white",
           "zerolinewidth": 2
          }
         }
        },
        "title": {
         "text": "Data coverage (% of portfolio holdings)"
        },
        "width": 1000
       }
      }
     },
     "metadata": {},
     "output_type": "display_data"
    },
    {
     "data": {
      "text/plain": [
       "'\\nplotData = []\\nidx = 0\\nfor yr in years:\\n    plotData.append(go.Bar(y = cMmeasures, name = str(yr),  x = wtCoData[idx], marker_color=lsegColors[idx], orientation=\\'h\\' ))\\n    idx = idx + 1\\n\\nlayout = go.Layout(barmode = \\'group\\')\\nfig = go.Figure(data = plotData, layout = layout)\\nfig.update_layout(title_text=\"Data coverage (% of portfolio weight)\")\\nfig.show()\\n'"
      ]
     },
     "execution_count": 60,
     "metadata": {},
     "output_type": "execute_result"
    }
   ],
   "source": [
    "# plot the coverage results\n",
    "plotData = []\n",
    "idx = 0\n",
    "for yr in years:\n",
    "    plotData.append(go.Bar(y = cMmeasures, name = str(yr),  x = hoCoData[idx], marker_color=lsegColors[idx], orientation='h' ))\n",
    "    idx = idx + 1\n",
    "\n",
    "layout = go.Layout(barmode = 'group')\n",
    "fig = go.Figure(data = plotData, layout = layout)\n",
    "fig.update_layout(title_text=\"Data coverage (% of portfolio holdings)\", height=1000, width=1000)\n",
    "fig.show()\n",
    "\n",
    "'''\n",
    "plotData = []\n",
    "idx = 0\n",
    "for yr in years:\n",
    "    plotData.append(go.Bar(y = cMmeasures, name = str(yr),  x = wtCoData[idx], marker_color=lsegColors[idx], orientation='h' ))\n",
    "    idx = idx + 1\n",
    "\n",
    "layout = go.Layout(barmode = 'group')\n",
    "fig = go.Figure(data = plotData, layout = layout)\n",
    "fig.update_layout(title_text=\"Data coverage (% of portfolio weight)\")\n",
    "fig.show()\n",
    "'''"
   ]
  },
  {
   "cell_type": "code",
   "execution_count": null,
   "metadata": {},
   "outputs": [],
   "source": []
  },
  {
   "cell_type": "code",
   "execution_count": null,
   "metadata": {},
   "outputs": [],
   "source": []
  },
  {
   "cell_type": "code",
   "execution_count": null,
   "metadata": {},
   "outputs": [],
   "source": []
  },
  {
   "cell_type": "code",
   "execution_count": null,
   "metadata": {},
   "outputs": [],
   "source": []
  },
  {
   "cell_type": "code",
   "execution_count": null,
   "metadata": {},
   "outputs": [],
   "source": []
  },
  {
   "cell_type": "code",
   "execution_count": null,
   "metadata": {},
   "outputs": [],
   "source": []
  },
  {
   "cell_type": "markdown",
   "metadata": {},
   "source": [
    "### Calculate: Weighted Average Carbon Intensity\n",
    "---"
   ]
  },
  {
   "cell_type": "markdown",
   "metadata": {},
   "source": [
    "**The Cauchy-Schwarz Inequality**\n",
    "$$\\left( \\sum_{k=1}^n a_k b_k \\right)^2 \\leq \\left( \\sum_{k=1}^n a_k^2 \\right) \\left( \\sum_{k=1}^n b_k^2 \\right)$$"
   ]
  },
  {
   "cell_type": "code",
   "execution_count": 18,
   "metadata": {},
   "outputs": [],
   "source": [
    "# define the formula for weighted carbon intesity\n",
    "#   Sum(weight * estimate/revenue)/Sum(weight) if estimate is not 0\n",
    "def getWACI(tPort, measure):\n",
    "    sDF = tPort[tPort[measure].notna() & tPort['SalesinUSD'].notna() & (tPort['SalesinUSD'] != 0)]\n",
    "    neu = (sDF['Weight'] * sDF[measure] / (sDF['SalesinUSD'] / 1000000)).sum()\n",
    "    deno = sDF['Weight'].sum()\n",
    "    return neu/deno\n",
    "\n",
    "\n",
    "def getCarbonIntensityForYear(year):\n",
    "    # merge data for a particular year into portfolio\n",
    "    yPort = portfolio.merge(allClimate[allClimate['FinancialPeriodFiscalYear'] == year], how='left', left_on='Organization PermID', right_on='OrganizationId')\n",
    "    return [getWACI(yPort, m) for m in measures]"
   ]
  },
  {
   "cell_type": "code",
   "execution_count": 19,
   "metadata": {},
   "outputs": [
    {
     "name": "stdout",
     "output_type": "stream",
     "text": [
      "Getting data for 2019\n",
      "Getting data for 2020\n",
      "Getting data for 2021\n",
      "Getting data for 2022\n"
     ]
    }
   ],
   "source": [
    "# get data for all the measures for all the years\n",
    "wciData = []\n",
    "for yr in years:\n",
    "    print(f'Getting data for {yr}')\n",
    "    wciData.append(getCarbonIntensityForYear(yr))"
   ]
  },
  {
   "cell_type": "code",
   "execution_count": 40,
   "metadata": {},
   "outputs": [
    {
     "data": {
      "application/vnd.plotly.v1+json": {
       "config": {
        "plotlyServerURL": "https://plot.ly"
       },
       "data": [
        {
         "marker": {
          "color": "#FF5000"
         },
         "name": "2019",
         "text": [
          "127",
          "34",
          "153",
          "681"
         ],
         "type": "bar",
         "x": [
          "Scope1EstimatedTotal",
          "Scope2EstimatedTotal",
          "Scope3EstimationUpstreamTotal",
          "Scope3EstimationDownstreamTotal"
         ],
         "y": [
          127.14331180407208,
          34.25743033724044,
          153.40899545375183,
          681.8751356509567
         ]
        },
        {
         "marker": {
          "color": "#FFC800"
         },
         "name": "2020",
         "text": [
          "130",
          "32",
          "164",
          "789"
         ],
         "type": "bar",
         "x": [
          "Scope1EstimatedTotal",
          "Scope2EstimatedTotal",
          "Scope3EstimationUpstreamTotal",
          "Scope3EstimationDownstreamTotal"
         ],
         "y": [
          130.4256942958268,
          32.785680598471274,
          164.926392671495,
          789.3770489268559
         ]
        },
        {
         "marker": {
          "color": "#00D0D4"
         },
         "name": "2021",
         "text": [
          "114",
          "29",
          "175",
          "709"
         ],
         "type": "bar",
         "x": [
          "Scope1EstimatedTotal",
          "Scope2EstimatedTotal",
          "Scope3EstimationUpstreamTotal",
          "Scope3EstimationDownstreamTotal"
         ],
         "y": [
          114.2344162832,
          29.204247251562073,
          175.44800857374688,
          709.7910342565608
         ]
        },
        {
         "marker": {
          "color": "#9064CD"
         },
         "name": "2022",
         "text": [
          "88",
          "28",
          "177",
          "673"
         ],
         "type": "bar",
         "x": [
          "Scope1EstimatedTotal",
          "Scope2EstimatedTotal",
          "Scope3EstimationUpstreamTotal",
          "Scope3EstimationDownstreamTotal"
         ],
         "y": [
          88.56744384534959,
          28.60761581425892,
          177.86365627721315,
          673.8841569107865
         ]
        }
       ],
       "layout": {
        "barmode": "group",
        "template": {
         "data": {
          "bar": [
           {
            "error_x": {
             "color": "#2a3f5f"
            },
            "error_y": {
             "color": "#2a3f5f"
            },
            "marker": {
             "line": {
              "color": "#E5ECF6",
              "width": 0.5
             },
             "pattern": {
              "fillmode": "overlay",
              "size": 10,
              "solidity": 0.2
             }
            },
            "type": "bar"
           }
          ],
          "barpolar": [
           {
            "marker": {
             "line": {
              "color": "#E5ECF6",
              "width": 0.5
             },
             "pattern": {
              "fillmode": "overlay",
              "size": 10,
              "solidity": 0.2
             }
            },
            "type": "barpolar"
           }
          ],
          "carpet": [
           {
            "aaxis": {
             "endlinecolor": "#2a3f5f",
             "gridcolor": "white",
             "linecolor": "white",
             "minorgridcolor": "white",
             "startlinecolor": "#2a3f5f"
            },
            "baxis": {
             "endlinecolor": "#2a3f5f",
             "gridcolor": "white",
             "linecolor": "white",
             "minorgridcolor": "white",
             "startlinecolor": "#2a3f5f"
            },
            "type": "carpet"
           }
          ],
          "choropleth": [
           {
            "colorbar": {
             "outlinewidth": 0,
             "ticks": ""
            },
            "type": "choropleth"
           }
          ],
          "contour": [
           {
            "colorbar": {
             "outlinewidth": 0,
             "ticks": ""
            },
            "colorscale": [
             [
              0,
              "#0d0887"
             ],
             [
              0.1111111111111111,
              "#46039f"
             ],
             [
              0.2222222222222222,
              "#7201a8"
             ],
             [
              0.3333333333333333,
              "#9c179e"
             ],
             [
              0.4444444444444444,
              "#bd3786"
             ],
             [
              0.5555555555555556,
              "#d8576b"
             ],
             [
              0.6666666666666666,
              "#ed7953"
             ],
             [
              0.7777777777777778,
              "#fb9f3a"
             ],
             [
              0.8888888888888888,
              "#fdca26"
             ],
             [
              1,
              "#f0f921"
             ]
            ],
            "type": "contour"
           }
          ],
          "contourcarpet": [
           {
            "colorbar": {
             "outlinewidth": 0,
             "ticks": ""
            },
            "type": "contourcarpet"
           }
          ],
          "heatmap": [
           {
            "colorbar": {
             "outlinewidth": 0,
             "ticks": ""
            },
            "colorscale": [
             [
              0,
              "#0d0887"
             ],
             [
              0.1111111111111111,
              "#46039f"
             ],
             [
              0.2222222222222222,
              "#7201a8"
             ],
             [
              0.3333333333333333,
              "#9c179e"
             ],
             [
              0.4444444444444444,
              "#bd3786"
             ],
             [
              0.5555555555555556,
              "#d8576b"
             ],
             [
              0.6666666666666666,
              "#ed7953"
             ],
             [
              0.7777777777777778,
              "#fb9f3a"
             ],
             [
              0.8888888888888888,
              "#fdca26"
             ],
             [
              1,
              "#f0f921"
             ]
            ],
            "type": "heatmap"
           }
          ],
          "heatmapgl": [
           {
            "colorbar": {
             "outlinewidth": 0,
             "ticks": ""
            },
            "colorscale": [
             [
              0,
              "#0d0887"
             ],
             [
              0.1111111111111111,
              "#46039f"
             ],
             [
              0.2222222222222222,
              "#7201a8"
             ],
             [
              0.3333333333333333,
              "#9c179e"
             ],
             [
              0.4444444444444444,
              "#bd3786"
             ],
             [
              0.5555555555555556,
              "#d8576b"
             ],
             [
              0.6666666666666666,
              "#ed7953"
             ],
             [
              0.7777777777777778,
              "#fb9f3a"
             ],
             [
              0.8888888888888888,
              "#fdca26"
             ],
             [
              1,
              "#f0f921"
             ]
            ],
            "type": "heatmapgl"
           }
          ],
          "histogram": [
           {
            "marker": {
             "pattern": {
              "fillmode": "overlay",
              "size": 10,
              "solidity": 0.2
             }
            },
            "type": "histogram"
           }
          ],
          "histogram2d": [
           {
            "colorbar": {
             "outlinewidth": 0,
             "ticks": ""
            },
            "colorscale": [
             [
              0,
              "#0d0887"
             ],
             [
              0.1111111111111111,
              "#46039f"
             ],
             [
              0.2222222222222222,
              "#7201a8"
             ],
             [
              0.3333333333333333,
              "#9c179e"
             ],
             [
              0.4444444444444444,
              "#bd3786"
             ],
             [
              0.5555555555555556,
              "#d8576b"
             ],
             [
              0.6666666666666666,
              "#ed7953"
             ],
             [
              0.7777777777777778,
              "#fb9f3a"
             ],
             [
              0.8888888888888888,
              "#fdca26"
             ],
             [
              1,
              "#f0f921"
             ]
            ],
            "type": "histogram2d"
           }
          ],
          "histogram2dcontour": [
           {
            "colorbar": {
             "outlinewidth": 0,
             "ticks": ""
            },
            "colorscale": [
             [
              0,
              "#0d0887"
             ],
             [
              0.1111111111111111,
              "#46039f"
             ],
             [
              0.2222222222222222,
              "#7201a8"
             ],
             [
              0.3333333333333333,
              "#9c179e"
             ],
             [
              0.4444444444444444,
              "#bd3786"
             ],
             [
              0.5555555555555556,
              "#d8576b"
             ],
             [
              0.6666666666666666,
              "#ed7953"
             ],
             [
              0.7777777777777778,
              "#fb9f3a"
             ],
             [
              0.8888888888888888,
              "#fdca26"
             ],
             [
              1,
              "#f0f921"
             ]
            ],
            "type": "histogram2dcontour"
           }
          ],
          "mesh3d": [
           {
            "colorbar": {
             "outlinewidth": 0,
             "ticks": ""
            },
            "type": "mesh3d"
           }
          ],
          "parcoords": [
           {
            "line": {
             "colorbar": {
              "outlinewidth": 0,
              "ticks": ""
             }
            },
            "type": "parcoords"
           }
          ],
          "pie": [
           {
            "automargin": true,
            "type": "pie"
           }
          ],
          "scatter": [
           {
            "fillpattern": {
             "fillmode": "overlay",
             "size": 10,
             "solidity": 0.2
            },
            "type": "scatter"
           }
          ],
          "scatter3d": [
           {
            "line": {
             "colorbar": {
              "outlinewidth": 0,
              "ticks": ""
             }
            },
            "marker": {
             "colorbar": {
              "outlinewidth": 0,
              "ticks": ""
             }
            },
            "type": "scatter3d"
           }
          ],
          "scattercarpet": [
           {
            "marker": {
             "colorbar": {
              "outlinewidth": 0,
              "ticks": ""
             }
            },
            "type": "scattercarpet"
           }
          ],
          "scattergeo": [
           {
            "marker": {
             "colorbar": {
              "outlinewidth": 0,
              "ticks": ""
             }
            },
            "type": "scattergeo"
           }
          ],
          "scattergl": [
           {
            "marker": {
             "colorbar": {
              "outlinewidth": 0,
              "ticks": ""
             }
            },
            "type": "scattergl"
           }
          ],
          "scattermapbox": [
           {
            "marker": {
             "colorbar": {
              "outlinewidth": 0,
              "ticks": ""
             }
            },
            "type": "scattermapbox"
           }
          ],
          "scatterpolar": [
           {
            "marker": {
             "colorbar": {
              "outlinewidth": 0,
              "ticks": ""
             }
            },
            "type": "scatterpolar"
           }
          ],
          "scatterpolargl": [
           {
            "marker": {
             "colorbar": {
              "outlinewidth": 0,
              "ticks": ""
             }
            },
            "type": "scatterpolargl"
           }
          ],
          "scatterternary": [
           {
            "marker": {
             "colorbar": {
              "outlinewidth": 0,
              "ticks": ""
             }
            },
            "type": "scatterternary"
           }
          ],
          "surface": [
           {
            "colorbar": {
             "outlinewidth": 0,
             "ticks": ""
            },
            "colorscale": [
             [
              0,
              "#0d0887"
             ],
             [
              0.1111111111111111,
              "#46039f"
             ],
             [
              0.2222222222222222,
              "#7201a8"
             ],
             [
              0.3333333333333333,
              "#9c179e"
             ],
             [
              0.4444444444444444,
              "#bd3786"
             ],
             [
              0.5555555555555556,
              "#d8576b"
             ],
             [
              0.6666666666666666,
              "#ed7953"
             ],
             [
              0.7777777777777778,
              "#fb9f3a"
             ],
             [
              0.8888888888888888,
              "#fdca26"
             ],
             [
              1,
              "#f0f921"
             ]
            ],
            "type": "surface"
           }
          ],
          "table": [
           {
            "cells": {
             "fill": {
              "color": "#EBF0F8"
             },
             "line": {
              "color": "white"
             }
            },
            "header": {
             "fill": {
              "color": "#C8D4E3"
             },
             "line": {
              "color": "white"
             }
            },
            "type": "table"
           }
          ]
         },
         "layout": {
          "annotationdefaults": {
           "arrowcolor": "#2a3f5f",
           "arrowhead": 0,
           "arrowwidth": 1
          },
          "autotypenumbers": "strict",
          "coloraxis": {
           "colorbar": {
            "outlinewidth": 0,
            "ticks": ""
           }
          },
          "colorscale": {
           "diverging": [
            [
             0,
             "#8e0152"
            ],
            [
             0.1,
             "#c51b7d"
            ],
            [
             0.2,
             "#de77ae"
            ],
            [
             0.3,
             "#f1b6da"
            ],
            [
             0.4,
             "#fde0ef"
            ],
            [
             0.5,
             "#f7f7f7"
            ],
            [
             0.6,
             "#e6f5d0"
            ],
            [
             0.7,
             "#b8e186"
            ],
            [
             0.8,
             "#7fbc41"
            ],
            [
             0.9,
             "#4d9221"
            ],
            [
             1,
             "#276419"
            ]
           ],
           "sequential": [
            [
             0,
             "#0d0887"
            ],
            [
             0.1111111111111111,
             "#46039f"
            ],
            [
             0.2222222222222222,
             "#7201a8"
            ],
            [
             0.3333333333333333,
             "#9c179e"
            ],
            [
             0.4444444444444444,
             "#bd3786"
            ],
            [
             0.5555555555555556,
             "#d8576b"
            ],
            [
             0.6666666666666666,
             "#ed7953"
            ],
            [
             0.7777777777777778,
             "#fb9f3a"
            ],
            [
             0.8888888888888888,
             "#fdca26"
            ],
            [
             1,
             "#f0f921"
            ]
           ],
           "sequentialminus": [
            [
             0,
             "#0d0887"
            ],
            [
             0.1111111111111111,
             "#46039f"
            ],
            [
             0.2222222222222222,
             "#7201a8"
            ],
            [
             0.3333333333333333,
             "#9c179e"
            ],
            [
             0.4444444444444444,
             "#bd3786"
            ],
            [
             0.5555555555555556,
             "#d8576b"
            ],
            [
             0.6666666666666666,
             "#ed7953"
            ],
            [
             0.7777777777777778,
             "#fb9f3a"
            ],
            [
             0.8888888888888888,
             "#fdca26"
            ],
            [
             1,
             "#f0f921"
            ]
           ]
          },
          "colorway": [
           "#636efa",
           "#EF553B",
           "#00cc96",
           "#ab63fa",
           "#FFA15A",
           "#19d3f3",
           "#FF6692",
           "#B6E880",
           "#FF97FF",
           "#FECB52"
          ],
          "font": {
           "color": "#2a3f5f"
          },
          "geo": {
           "bgcolor": "white",
           "lakecolor": "white",
           "landcolor": "#E5ECF6",
           "showlakes": true,
           "showland": true,
           "subunitcolor": "white"
          },
          "hoverlabel": {
           "align": "left"
          },
          "hovermode": "closest",
          "mapbox": {
           "style": "light"
          },
          "paper_bgcolor": "white",
          "plot_bgcolor": "#E5ECF6",
          "polar": {
           "angularaxis": {
            "gridcolor": "white",
            "linecolor": "white",
            "ticks": ""
           },
           "bgcolor": "#E5ECF6",
           "radialaxis": {
            "gridcolor": "white",
            "linecolor": "white",
            "ticks": ""
           }
          },
          "scene": {
           "xaxis": {
            "backgroundcolor": "#E5ECF6",
            "gridcolor": "white",
            "gridwidth": 2,
            "linecolor": "white",
            "showbackground": true,
            "ticks": "",
            "zerolinecolor": "white"
           },
           "yaxis": {
            "backgroundcolor": "#E5ECF6",
            "gridcolor": "white",
            "gridwidth": 2,
            "linecolor": "white",
            "showbackground": true,
            "ticks": "",
            "zerolinecolor": "white"
           },
           "zaxis": {
            "backgroundcolor": "#E5ECF6",
            "gridcolor": "white",
            "gridwidth": 2,
            "linecolor": "white",
            "showbackground": true,
            "ticks": "",
            "zerolinecolor": "white"
           }
          },
          "shapedefaults": {
           "line": {
            "color": "#2a3f5f"
           }
          },
          "ternary": {
           "aaxis": {
            "gridcolor": "white",
            "linecolor": "white",
            "ticks": ""
           },
           "baxis": {
            "gridcolor": "white",
            "linecolor": "white",
            "ticks": ""
           },
           "bgcolor": "#E5ECF6",
           "caxis": {
            "gridcolor": "white",
            "linecolor": "white",
            "ticks": ""
           }
          },
          "title": {
           "x": 0.05
          },
          "xaxis": {
           "automargin": true,
           "gridcolor": "white",
           "linecolor": "white",
           "ticks": "",
           "title": {
            "standoff": 15
           },
           "zerolinecolor": "white",
           "zerolinewidth": 2
          },
          "yaxis": {
           "automargin": true,
           "gridcolor": "white",
           "linecolor": "white",
           "ticks": "",
           "title": {
            "standoff": 15
           },
           "zerolinecolor": "white",
           "zerolinewidth": 2
          }
         }
        },
        "title": {
         "text": "Portfolio's Weighted Average Carbon Intensity (Weight by Scope)"
        },
        "yaxis": {
         "title": {
          "text": "Ton CO₂/MUSD sales"
         }
        }
       }
      }
     },
     "metadata": {},
     "output_type": "display_data"
    }
   ],
   "source": [
    "# chart it in a bar graph\n",
    "plotData = []\n",
    "idx = 0\n",
    "for yr in years:\n",
    "    plotData.append(go.Bar(x = measures, name = str(yr),  y = wciData[idx],  text = [int(x) for x in wciData[idx]], marker_color=lsegColors[idx]))\n",
    "    idx = idx + 1\n",
    "\n",
    "layout = go.Layout(barmode = 'group')\n",
    "fig = go.Figure(data = plotData, layout = layout)\n",
    "fig.update_layout(title_text=\"Portfolio's Weighted Average Carbon Intensity (Weight by Scope)\", yaxis=dict(title='Ton CO₂/MUSD sales'))\n",
    "fig.show()"
   ]
  },
  {
   "cell_type": "markdown",
   "metadata": {},
   "source": [
    "### Calculate: Financed Emissions\n",
    "---"
   ]
  },
  {
   "cell_type": "code",
   "execution_count": 22,
   "metadata": {},
   "outputs": [],
   "source": [
    "# define the formula for financed emissions\n",
    "def getFE(tPort, measure):\n",
    "    sDF = tPort[tPort[measure].notna() & tPort['EnterpriseValueincludingCashandShortTermInvestmentsinUSD'].notna() & (tPort['EnterpriseValueincludingCashandShortTermInvestmentsinUSD'] != 0)]\n",
    "    neu = (sDF[measure] * PortfolioAmountInvested * sDF['Weight'] / sDF['EnterpriseValueincludingCashandShortTermInvestmentsinUSD'] ).sum()\n",
    "    deno = sDF['Weight'].sum()\n",
    "    return neu/deno\n",
    "\n",
    "\n",
    "def getFinancedEmissionsForYear(year):\n",
    "    # merge data for a particular year into portfolio\n",
    "    yPort = portfolio.merge(allClimate[allClimate['FinancialPeriodFiscalYear'] == year], how='left', left_on='Organization PermID', right_on='OrganizationId')\n",
    "    return [getFE(yPort, m) for m in measures]\n"
   ]
  },
  {
   "cell_type": "code",
   "execution_count": 23,
   "metadata": {},
   "outputs": [
    {
     "name": "stdout",
     "output_type": "stream",
     "text": [
      "Getting data for 2019\n",
      "Getting data for 2020\n",
      "Getting data for 2021\n",
      "Getting data for 2022\n"
     ]
    }
   ],
   "source": [
    "# get data for all the measures for all the years\n",
    "feData = []\n",
    "for yr in years:\n",
    "    print(f'Getting data for {yr}')\n",
    "    feData.append(getFinancedEmissionsForYear(yr))\n"
   ]
  },
  {
   "cell_type": "code",
   "execution_count": 41,
   "metadata": {},
   "outputs": [
    {
     "data": {
      "application/vnd.plotly.v1+json": {
       "config": {
        "plotlyServerURL": "https://plot.ly"
       },
       "data": [
        {
         "marker": {
          "color": "#FF5000"
         },
         "name": "2019",
         "text": [
          "1212",
          "58",
          "488",
          "2621"
         ],
         "type": "bar",
         "x": [
          "Scope1EstimatedTotal",
          "Scope2EstimatedTotal",
          "Scope3EstimationUpstreamTotal",
          "Scope3EstimationDownstreamTotal"
         ],
         "y": [
          1212.8121850003206,
          58.0998071800972,
          488.1273208177502,
          2621.397820847984
         ]
        },
        {
         "marker": {
          "color": "#FFC800"
         },
         "name": "2020",
         "text": [
          "995",
          "40",
          "460",
          "2833"
         ],
         "type": "bar",
         "x": [
          "Scope1EstimatedTotal",
          "Scope2EstimatedTotal",
          "Scope3EstimationUpstreamTotal",
          "Scope3EstimationDownstreamTotal"
         ],
         "y": [
          995.6796126333352,
          40.365435002731864,
          460.47890007755063,
          2833.283137776517
         ]
        },
        {
         "marker": {
          "color": "#00D0D4"
         },
         "name": "2021",
         "text": [
          "1114",
          "59",
          "334",
          "2662"
         ],
         "type": "bar",
         "x": [
          "Scope1EstimatedTotal",
          "Scope2EstimatedTotal",
          "Scope3EstimationUpstreamTotal",
          "Scope3EstimationDownstreamTotal"
         ],
         "y": [
          1114.3517611472735,
          59.75318734428406,
          334.57389490435435,
          2662.890934751698
         ]
        },
        {
         "marker": {
          "color": "#9064CD"
         },
         "name": "2022",
         "text": [
          "1882",
          "79",
          "431",
          "2503"
         ],
         "type": "bar",
         "x": [
          "Scope1EstimatedTotal",
          "Scope2EstimatedTotal",
          "Scope3EstimationUpstreamTotal",
          "Scope3EstimationDownstreamTotal"
         ],
         "y": [
          1882.9754309262603,
          79.08701095890304,
          431.6999541099616,
          2503.6683050950496
         ]
        }
       ],
       "layout": {
        "barmode": "group",
        "template": {
         "data": {
          "bar": [
           {
            "error_x": {
             "color": "#2a3f5f"
            },
            "error_y": {
             "color": "#2a3f5f"
            },
            "marker": {
             "line": {
              "color": "#E5ECF6",
              "width": 0.5
             },
             "pattern": {
              "fillmode": "overlay",
              "size": 10,
              "solidity": 0.2
             }
            },
            "type": "bar"
           }
          ],
          "barpolar": [
           {
            "marker": {
             "line": {
              "color": "#E5ECF6",
              "width": 0.5
             },
             "pattern": {
              "fillmode": "overlay",
              "size": 10,
              "solidity": 0.2
             }
            },
            "type": "barpolar"
           }
          ],
          "carpet": [
           {
            "aaxis": {
             "endlinecolor": "#2a3f5f",
             "gridcolor": "white",
             "linecolor": "white",
             "minorgridcolor": "white",
             "startlinecolor": "#2a3f5f"
            },
            "baxis": {
             "endlinecolor": "#2a3f5f",
             "gridcolor": "white",
             "linecolor": "white",
             "minorgridcolor": "white",
             "startlinecolor": "#2a3f5f"
            },
            "type": "carpet"
           }
          ],
          "choropleth": [
           {
            "colorbar": {
             "outlinewidth": 0,
             "ticks": ""
            },
            "type": "choropleth"
           }
          ],
          "contour": [
           {
            "colorbar": {
             "outlinewidth": 0,
             "ticks": ""
            },
            "colorscale": [
             [
              0,
              "#0d0887"
             ],
             [
              0.1111111111111111,
              "#46039f"
             ],
             [
              0.2222222222222222,
              "#7201a8"
             ],
             [
              0.3333333333333333,
              "#9c179e"
             ],
             [
              0.4444444444444444,
              "#bd3786"
             ],
             [
              0.5555555555555556,
              "#d8576b"
             ],
             [
              0.6666666666666666,
              "#ed7953"
             ],
             [
              0.7777777777777778,
              "#fb9f3a"
             ],
             [
              0.8888888888888888,
              "#fdca26"
             ],
             [
              1,
              "#f0f921"
             ]
            ],
            "type": "contour"
           }
          ],
          "contourcarpet": [
           {
            "colorbar": {
             "outlinewidth": 0,
             "ticks": ""
            },
            "type": "contourcarpet"
           }
          ],
          "heatmap": [
           {
            "colorbar": {
             "outlinewidth": 0,
             "ticks": ""
            },
            "colorscale": [
             [
              0,
              "#0d0887"
             ],
             [
              0.1111111111111111,
              "#46039f"
             ],
             [
              0.2222222222222222,
              "#7201a8"
             ],
             [
              0.3333333333333333,
              "#9c179e"
             ],
             [
              0.4444444444444444,
              "#bd3786"
             ],
             [
              0.5555555555555556,
              "#d8576b"
             ],
             [
              0.6666666666666666,
              "#ed7953"
             ],
             [
              0.7777777777777778,
              "#fb9f3a"
             ],
             [
              0.8888888888888888,
              "#fdca26"
             ],
             [
              1,
              "#f0f921"
             ]
            ],
            "type": "heatmap"
           }
          ],
          "heatmapgl": [
           {
            "colorbar": {
             "outlinewidth": 0,
             "ticks": ""
            },
            "colorscale": [
             [
              0,
              "#0d0887"
             ],
             [
              0.1111111111111111,
              "#46039f"
             ],
             [
              0.2222222222222222,
              "#7201a8"
             ],
             [
              0.3333333333333333,
              "#9c179e"
             ],
             [
              0.4444444444444444,
              "#bd3786"
             ],
             [
              0.5555555555555556,
              "#d8576b"
             ],
             [
              0.6666666666666666,
              "#ed7953"
             ],
             [
              0.7777777777777778,
              "#fb9f3a"
             ],
             [
              0.8888888888888888,
              "#fdca26"
             ],
             [
              1,
              "#f0f921"
             ]
            ],
            "type": "heatmapgl"
           }
          ],
          "histogram": [
           {
            "marker": {
             "pattern": {
              "fillmode": "overlay",
              "size": 10,
              "solidity": 0.2
             }
            },
            "type": "histogram"
           }
          ],
          "histogram2d": [
           {
            "colorbar": {
             "outlinewidth": 0,
             "ticks": ""
            },
            "colorscale": [
             [
              0,
              "#0d0887"
             ],
             [
              0.1111111111111111,
              "#46039f"
             ],
             [
              0.2222222222222222,
              "#7201a8"
             ],
             [
              0.3333333333333333,
              "#9c179e"
             ],
             [
              0.4444444444444444,
              "#bd3786"
             ],
             [
              0.5555555555555556,
              "#d8576b"
             ],
             [
              0.6666666666666666,
              "#ed7953"
             ],
             [
              0.7777777777777778,
              "#fb9f3a"
             ],
             [
              0.8888888888888888,
              "#fdca26"
             ],
             [
              1,
              "#f0f921"
             ]
            ],
            "type": "histogram2d"
           }
          ],
          "histogram2dcontour": [
           {
            "colorbar": {
             "outlinewidth": 0,
             "ticks": ""
            },
            "colorscale": [
             [
              0,
              "#0d0887"
             ],
             [
              0.1111111111111111,
              "#46039f"
             ],
             [
              0.2222222222222222,
              "#7201a8"
             ],
             [
              0.3333333333333333,
              "#9c179e"
             ],
             [
              0.4444444444444444,
              "#bd3786"
             ],
             [
              0.5555555555555556,
              "#d8576b"
             ],
             [
              0.6666666666666666,
              "#ed7953"
             ],
             [
              0.7777777777777778,
              "#fb9f3a"
             ],
             [
              0.8888888888888888,
              "#fdca26"
             ],
             [
              1,
              "#f0f921"
             ]
            ],
            "type": "histogram2dcontour"
           }
          ],
          "mesh3d": [
           {
            "colorbar": {
             "outlinewidth": 0,
             "ticks": ""
            },
            "type": "mesh3d"
           }
          ],
          "parcoords": [
           {
            "line": {
             "colorbar": {
              "outlinewidth": 0,
              "ticks": ""
             }
            },
            "type": "parcoords"
           }
          ],
          "pie": [
           {
            "automargin": true,
            "type": "pie"
           }
          ],
          "scatter": [
           {
            "fillpattern": {
             "fillmode": "overlay",
             "size": 10,
             "solidity": 0.2
            },
            "type": "scatter"
           }
          ],
          "scatter3d": [
           {
            "line": {
             "colorbar": {
              "outlinewidth": 0,
              "ticks": ""
             }
            },
            "marker": {
             "colorbar": {
              "outlinewidth": 0,
              "ticks": ""
             }
            },
            "type": "scatter3d"
           }
          ],
          "scattercarpet": [
           {
            "marker": {
             "colorbar": {
              "outlinewidth": 0,
              "ticks": ""
             }
            },
            "type": "scattercarpet"
           }
          ],
          "scattergeo": [
           {
            "marker": {
             "colorbar": {
              "outlinewidth": 0,
              "ticks": ""
             }
            },
            "type": "scattergeo"
           }
          ],
          "scattergl": [
           {
            "marker": {
             "colorbar": {
              "outlinewidth": 0,
              "ticks": ""
             }
            },
            "type": "scattergl"
           }
          ],
          "scattermapbox": [
           {
            "marker": {
             "colorbar": {
              "outlinewidth": 0,
              "ticks": ""
             }
            },
            "type": "scattermapbox"
           }
          ],
          "scatterpolar": [
           {
            "marker": {
             "colorbar": {
              "outlinewidth": 0,
              "ticks": ""
             }
            },
            "type": "scatterpolar"
           }
          ],
          "scatterpolargl": [
           {
            "marker": {
             "colorbar": {
              "outlinewidth": 0,
              "ticks": ""
             }
            },
            "type": "scatterpolargl"
           }
          ],
          "scatterternary": [
           {
            "marker": {
             "colorbar": {
              "outlinewidth": 0,
              "ticks": ""
             }
            },
            "type": "scatterternary"
           }
          ],
          "surface": [
           {
            "colorbar": {
             "outlinewidth": 0,
             "ticks": ""
            },
            "colorscale": [
             [
              0,
              "#0d0887"
             ],
             [
              0.1111111111111111,
              "#46039f"
             ],
             [
              0.2222222222222222,
              "#7201a8"
             ],
             [
              0.3333333333333333,
              "#9c179e"
             ],
             [
              0.4444444444444444,
              "#bd3786"
             ],
             [
              0.5555555555555556,
              "#d8576b"
             ],
             [
              0.6666666666666666,
              "#ed7953"
             ],
             [
              0.7777777777777778,
              "#fb9f3a"
             ],
             [
              0.8888888888888888,
              "#fdca26"
             ],
             [
              1,
              "#f0f921"
             ]
            ],
            "type": "surface"
           }
          ],
          "table": [
           {
            "cells": {
             "fill": {
              "color": "#EBF0F8"
             },
             "line": {
              "color": "white"
             }
            },
            "header": {
             "fill": {
              "color": "#C8D4E3"
             },
             "line": {
              "color": "white"
             }
            },
            "type": "table"
           }
          ]
         },
         "layout": {
          "annotationdefaults": {
           "arrowcolor": "#2a3f5f",
           "arrowhead": 0,
           "arrowwidth": 1
          },
          "autotypenumbers": "strict",
          "coloraxis": {
           "colorbar": {
            "outlinewidth": 0,
            "ticks": ""
           }
          },
          "colorscale": {
           "diverging": [
            [
             0,
             "#8e0152"
            ],
            [
             0.1,
             "#c51b7d"
            ],
            [
             0.2,
             "#de77ae"
            ],
            [
             0.3,
             "#f1b6da"
            ],
            [
             0.4,
             "#fde0ef"
            ],
            [
             0.5,
             "#f7f7f7"
            ],
            [
             0.6,
             "#e6f5d0"
            ],
            [
             0.7,
             "#b8e186"
            ],
            [
             0.8,
             "#7fbc41"
            ],
            [
             0.9,
             "#4d9221"
            ],
            [
             1,
             "#276419"
            ]
           ],
           "sequential": [
            [
             0,
             "#0d0887"
            ],
            [
             0.1111111111111111,
             "#46039f"
            ],
            [
             0.2222222222222222,
             "#7201a8"
            ],
            [
             0.3333333333333333,
             "#9c179e"
            ],
            [
             0.4444444444444444,
             "#bd3786"
            ],
            [
             0.5555555555555556,
             "#d8576b"
            ],
            [
             0.6666666666666666,
             "#ed7953"
            ],
            [
             0.7777777777777778,
             "#fb9f3a"
            ],
            [
             0.8888888888888888,
             "#fdca26"
            ],
            [
             1,
             "#f0f921"
            ]
           ],
           "sequentialminus": [
            [
             0,
             "#0d0887"
            ],
            [
             0.1111111111111111,
             "#46039f"
            ],
            [
             0.2222222222222222,
             "#7201a8"
            ],
            [
             0.3333333333333333,
             "#9c179e"
            ],
            [
             0.4444444444444444,
             "#bd3786"
            ],
            [
             0.5555555555555556,
             "#d8576b"
            ],
            [
             0.6666666666666666,
             "#ed7953"
            ],
            [
             0.7777777777777778,
             "#fb9f3a"
            ],
            [
             0.8888888888888888,
             "#fdca26"
            ],
            [
             1,
             "#f0f921"
            ]
           ]
          },
          "colorway": [
           "#636efa",
           "#EF553B",
           "#00cc96",
           "#ab63fa",
           "#FFA15A",
           "#19d3f3",
           "#FF6692",
           "#B6E880",
           "#FF97FF",
           "#FECB52"
          ],
          "font": {
           "color": "#2a3f5f"
          },
          "geo": {
           "bgcolor": "white",
           "lakecolor": "white",
           "landcolor": "#E5ECF6",
           "showlakes": true,
           "showland": true,
           "subunitcolor": "white"
          },
          "hoverlabel": {
           "align": "left"
          },
          "hovermode": "closest",
          "mapbox": {
           "style": "light"
          },
          "paper_bgcolor": "white",
          "plot_bgcolor": "#E5ECF6",
          "polar": {
           "angularaxis": {
            "gridcolor": "white",
            "linecolor": "white",
            "ticks": ""
           },
           "bgcolor": "#E5ECF6",
           "radialaxis": {
            "gridcolor": "white",
            "linecolor": "white",
            "ticks": ""
           }
          },
          "scene": {
           "xaxis": {
            "backgroundcolor": "#E5ECF6",
            "gridcolor": "white",
            "gridwidth": 2,
            "linecolor": "white",
            "showbackground": true,
            "ticks": "",
            "zerolinecolor": "white"
           },
           "yaxis": {
            "backgroundcolor": "#E5ECF6",
            "gridcolor": "white",
            "gridwidth": 2,
            "linecolor": "white",
            "showbackground": true,
            "ticks": "",
            "zerolinecolor": "white"
           },
           "zaxis": {
            "backgroundcolor": "#E5ECF6",
            "gridcolor": "white",
            "gridwidth": 2,
            "linecolor": "white",
            "showbackground": true,
            "ticks": "",
            "zerolinecolor": "white"
           }
          },
          "shapedefaults": {
           "line": {
            "color": "#2a3f5f"
           }
          },
          "ternary": {
           "aaxis": {
            "gridcolor": "white",
            "linecolor": "white",
            "ticks": ""
           },
           "baxis": {
            "gridcolor": "white",
            "linecolor": "white",
            "ticks": ""
           },
           "bgcolor": "#E5ECF6",
           "caxis": {
            "gridcolor": "white",
            "linecolor": "white",
            "ticks": ""
           }
          },
          "title": {
           "x": 0.05
          },
          "xaxis": {
           "automargin": true,
           "gridcolor": "white",
           "linecolor": "white",
           "ticks": "",
           "title": {
            "standoff": 15
           },
           "zerolinecolor": "white",
           "zerolinewidth": 2
          },
          "yaxis": {
           "automargin": true,
           "gridcolor": "white",
           "linecolor": "white",
           "ticks": "",
           "title": {
            "standoff": 15
           },
           "zerolinecolor": "white",
           "zerolinewidth": 2
          }
         }
        },
        "title": {
         "text": "Financed Emissions for a portfolio valued at 1,000,000"
        },
        "yaxis": {
         "title": {
          "text": "Ton CO₂/MUSD sales"
         }
        }
       }
      }
     },
     "metadata": {},
     "output_type": "display_data"
    }
   ],
   "source": [
    "# chart it in a bar graph\n",
    "plotData = []\n",
    "idx = 0\n",
    "for yr in years:\n",
    "    plotData.append(go.Bar(x = measures, name = str(yr),  y = feData[idx],  text = [int(x) for x in feData[idx]], marker_color=lsegColors[idx]))\n",
    "    idx = idx + 1\n",
    "\n",
    "layout = go.Layout(barmode = 'group')\n",
    "fig = go.Figure(data = plotData, layout = layout)\n",
    "fig.update_layout(title_text=f\"Financed Emissions for a portfolio valued at {PortfolioAmountInvested:,}\", yaxis=dict(title='Ton CO₂/MUSD sales'))\n",
    "fig.show()"
   ]
  },
  {
   "cell_type": "markdown",
   "metadata": {},
   "source": [
    "### Calculate: PCAF Data Quality Score\n",
    "---"
   ]
  },
  {
   "cell_type": "code",
   "execution_count": 28,
   "metadata": {},
   "outputs": [],
   "source": [
    "# assign a score to each type of estimation method\n",
    "scoreMapping = {\n",
    "    'Scope1EstimatedMethod': {\n",
    "        'Reported': 2,\n",
    "        'Energy_model': 3,\n",
    "        'Energy_extrapolated': 4,\n",
    "        'Winsorized': 4,\n",
    "        'Extrapolated': 4,\n",
    "        'Aggregated Estimate': 5,\n",
    "        'Aggregated_model': 5,\n",
    "        'Reported_value': 2,\n",
    "    },\n",
    "\n",
    "    'Scope2EstimatedMethod': {\n",
    "        'Reported': 2,\n",
    "        'Winsorized': 4,\n",
    "        'Extrapolated': 4,\n",
    "        'Aggregated Estimate': 5,\n",
    "        'Aggregated_model': 5,\n",
    "        'Reported_value': 2\n",
    "    },\n",
    "\n",
    "    'Scope3EstimationDownstreamMethod':\t{\n",
    "        'Reported': 2,\n",
    "        'Fossil_fuel_production_model': 3,\n",
    "        'Winsorized': 4,\n",
    "        'Extrapolated': 4,\n",
    "        'Aggregated_model': 5,\n",
    "        'Reported_value': 2,\n",
    "        'Aggregated model': 5,\n",
    "        'Fossil fuel production model': 3\n",
    "    },\n",
    "\n",
    "    'Scope3EstimationUpstreamMethod': {\n",
    "        'Reported': 2,\n",
    "        'Winsorized': 4,\n",
    "        'Extrapolated': 4,\n",
    "        'Aggregated_model': 5,\n",
    "        'Reported_value': 2,\n",
    "        'Aggregated model': 5\n",
    "    }\n",
    "}"
   ]
  },
  {
   "cell_type": "code",
   "execution_count": 29,
   "metadata": {},
   "outputs": [],
   "source": [
    "# define parameters for the PCAF calculation - year and the fields to be used\n",
    "pcafYear = 2021\n",
    "numberScoreGrades = 6\n",
    "pcafMeasures = {\n",
    "    'Scope1EstimatedMethod': 'Scope1EstimatedTotal',\n",
    "\t'Scope2EstimatedMethod': 'Scope2EstimatedTotal',\n",
    "\t'Scope3EstimationUpstreamMethod': 'Scope3EstimationUpstreamTotal',\n",
    "\t'Scope3EstimationDownstreamMethod': 'Scope3EstimationDownstreamTotal'\n",
    "}"
   ]
  },
  {
   "cell_type": "code",
   "execution_count": 30,
   "metadata": {},
   "outputs": [],
   "source": [
    "# define the formula for PCAF Score grade\n",
    "def getPCAFByWeight(tPort, scope):\n",
    "    scoresByWeight = [0] * numberScoreGrades\n",
    "    # aggregate all the weights for a particular score\n",
    "    sDF = tPort[tPort['EnterpriseValueincludingCashandShortTermInvestmentsinUSD'].notna() & (tPort['EnterpriseValueincludingCashandShortTermInvestmentsinUSD'] != 0)]\n",
    "    for grade in range(numberScoreGrades):\n",
    "        scoresByWeight[grade] = sDF[sDF[scope] == grade]['Weight'].sum() \n",
    "\n",
    "    # also add the weights which don't have enterprise value into the n/a bucket\n",
    "    sDF = tPort[tPort['EnterpriseValueincludingCashandShortTermInvestmentsinUSD'].isna() | (tPort['EnterpriseValueincludingCashandShortTermInvestmentsinUSD'] == 0)]\n",
    "    scoresByWeight[0] += sDF['Weight'].sum() \n",
    "\n",
    "    return scoresByWeight"
   ]
  },
  {
   "cell_type": "code",
   "execution_count": 31,
   "metadata": {},
   "outputs": [],
   "source": [
    "# define the formula for PCAF Score grade\n",
    "def getPCAFByFE(tPort, scope):\n",
    "    # calculate the financed emissions for a scope\n",
    "    tPort[f'fe_{scope}'] = tPort[pcafMeasures[scope]] * PortfolioAmountInvested * tPort['Weight'] / tPort['EnterpriseValueincludingCashandShortTermInvestmentsinUSD']\n",
    "    # find coverage % for this scope\n",
    "    coverage = tPort[tPort[pcafMeasures[scope]].notna() & tPort['EnterpriseValueincludingCashandShortTermInvestmentsinUSD'].notna()]['Weight'].sum()\n",
    "    # find the ratio of FE to coverage\n",
    "    R4170 = tPort[f'fe_{scope}'].sum()/coverage\n",
    "    # calculate rebased financed emissions and insert into FE misssing values\n",
    "    tPort['rebasedFE'] = tPort['Weight'] * PortfolioAmountInvested * R4170 / 1000000\n",
    "    tPort[f'fe_{scope}'] = tPort[f'fe_{scope}'].fillna(tPort['rebasedFE'])\n",
    "    allFE = tPort[f'fe_{scope}'].sum()\n",
    "    # generate score grades by FE\n",
    "    scoresByFE = [ (tPort[tPort[scope] == grade][f'fe_{scope}'].sum()/allFE) * 100 for grade in range(numberScoreGrades)]\n",
    "    return scoresByFE"
   ]
  },
  {
   "cell_type": "code",
   "execution_count": 32,
   "metadata": {},
   "outputs": [],
   "source": [
    "# merge data for a particular year into portfolio\n",
    "pcafPort = portfolio.merge(allClimate[allClimate['FinancialPeriodFiscalYear'] == pcafYear], how='left', left_on='Organization PermID', right_on='OrganizationId')\n",
    "# replace the method values with score grade numbers \n",
    "pcafPort = pcafPort.replace(scoreMapping)\n",
    "# fill up the unavailable methods with 0\n",
    "pcafPort.fillna({k:0 for k in pcafMeasures.keys()}, inplace=True)\n",
    "\n",
    "pcafWeights = [getPCAFByWeight(pcafPort, measure) for measure in pcafMeasures.keys()]\n",
    "pcafFE = [getPCAFByFE(pcafPort, measure) for measure in pcafMeasures.keys()]"
   ]
  },
  {
   "cell_type": "code",
   "execution_count": 46,
   "metadata": {},
   "outputs": [
    {
     "data": {
      "application/vnd.plotly.v1+json": {
       "config": {
        "plotlyServerURL": "https://plot.ly"
       },
       "data": [
        {
         "domain": {
          "x": [
           0,
           0.2125
          ],
          "y": [
           0,
           1
          ]
         },
         "hole": 0.5,
         "hoverinfo": "label+percent+name",
         "labels": [
          "No Data",
          "1",
          "2",
          "3",
          "4",
          "5"
         ],
         "marker": {
          "colors": [
           "#FF5000",
           "#FFC800",
           "#00D0D4",
           "#9064CD",
           "#00C389",
           "#FFFF00"
          ]
         },
         "name": "Scope1EstimatedMethod",
         "type": "pie",
         "values": [
          1.6981744489999997,
          0,
          87.557956787,
          0.018917540999999996,
          5.954703018000001,
          4.681829629
         ]
        },
        {
         "domain": {
          "x": [
           0.2625,
           0.475
          ],
          "y": [
           0,
           1
          ]
         },
         "hole": 0.5,
         "hoverinfo": "label+percent+name",
         "labels": [
          "No Data",
          "1",
          "2",
          "3",
          "4",
          "5"
         ],
         "marker": {
          "colors": [
           "#FF5000",
           "#FFC800",
           "#00D0D4",
           "#9064CD",
           "#00C389",
           "#FFFF00"
          ]
         },
         "name": "Scope2EstimatedMethod",
         "type": "pie",
         "values": [
          1.6981744489999997,
          0,
          88.99984625900001,
          0,
          4.5295697950000005,
          4.683990921
         ]
        },
        {
         "domain": {
          "x": [
           0.525,
           0.7375
          ],
          "y": [
           0,
           1
          ]
         },
         "hole": 0.5,
         "hoverinfo": "label+percent+name",
         "labels": [
          "No Data",
          "1",
          "2",
          "3",
          "4",
          "5"
         ],
         "marker": {
          "colors": [
           "#FF5000",
           "#FFC800",
           "#00D0D4",
           "#9064CD",
           "#00C389",
           "#FFFF00"
          ]
         },
         "name": "Scope3EstimationUpstreamMethod",
         "type": "pie",
         "values": [
          15.143179167,
          0,
          57.655295423999995,
          0,
          9.741536060000001,
          17.371570773000002
         ]
        },
        {
         "domain": {
          "x": [
           0.7875,
           1
          ],
          "y": [
           0,
           1
          ]
         },
         "hole": 0.5,
         "hoverinfo": "label+percent+name",
         "labels": [
          "No Data",
          "1",
          "2",
          "3",
          "4",
          "5"
         ],
         "marker": {
          "colors": [
           "#FF5000",
           "#FFC800",
           "#00D0D4",
           "#9064CD",
           "#00C389",
           "#FFFF00"
          ]
         },
         "name": "Scope3EstimationDownstreamMethod",
         "type": "pie",
         "values": [
          15.143179167,
          0,
          39.326987523,
          0.690888162,
          7.78352982,
          36.966996752
         ]
        }
       ],
       "layout": {
        "template": {
         "data": {
          "bar": [
           {
            "error_x": {
             "color": "#2a3f5f"
            },
            "error_y": {
             "color": "#2a3f5f"
            },
            "marker": {
             "line": {
              "color": "#E5ECF6",
              "width": 0.5
             },
             "pattern": {
              "fillmode": "overlay",
              "size": 10,
              "solidity": 0.2
             }
            },
            "type": "bar"
           }
          ],
          "barpolar": [
           {
            "marker": {
             "line": {
              "color": "#E5ECF6",
              "width": 0.5
             },
             "pattern": {
              "fillmode": "overlay",
              "size": 10,
              "solidity": 0.2
             }
            },
            "type": "barpolar"
           }
          ],
          "carpet": [
           {
            "aaxis": {
             "endlinecolor": "#2a3f5f",
             "gridcolor": "white",
             "linecolor": "white",
             "minorgridcolor": "white",
             "startlinecolor": "#2a3f5f"
            },
            "baxis": {
             "endlinecolor": "#2a3f5f",
             "gridcolor": "white",
             "linecolor": "white",
             "minorgridcolor": "white",
             "startlinecolor": "#2a3f5f"
            },
            "type": "carpet"
           }
          ],
          "choropleth": [
           {
            "colorbar": {
             "outlinewidth": 0,
             "ticks": ""
            },
            "type": "choropleth"
           }
          ],
          "contour": [
           {
            "colorbar": {
             "outlinewidth": 0,
             "ticks": ""
            },
            "colorscale": [
             [
              0,
              "#0d0887"
             ],
             [
              0.1111111111111111,
              "#46039f"
             ],
             [
              0.2222222222222222,
              "#7201a8"
             ],
             [
              0.3333333333333333,
              "#9c179e"
             ],
             [
              0.4444444444444444,
              "#bd3786"
             ],
             [
              0.5555555555555556,
              "#d8576b"
             ],
             [
              0.6666666666666666,
              "#ed7953"
             ],
             [
              0.7777777777777778,
              "#fb9f3a"
             ],
             [
              0.8888888888888888,
              "#fdca26"
             ],
             [
              1,
              "#f0f921"
             ]
            ],
            "type": "contour"
           }
          ],
          "contourcarpet": [
           {
            "colorbar": {
             "outlinewidth": 0,
             "ticks": ""
            },
            "type": "contourcarpet"
           }
          ],
          "heatmap": [
           {
            "colorbar": {
             "outlinewidth": 0,
             "ticks": ""
            },
            "colorscale": [
             [
              0,
              "#0d0887"
             ],
             [
              0.1111111111111111,
              "#46039f"
             ],
             [
              0.2222222222222222,
              "#7201a8"
             ],
             [
              0.3333333333333333,
              "#9c179e"
             ],
             [
              0.4444444444444444,
              "#bd3786"
             ],
             [
              0.5555555555555556,
              "#d8576b"
             ],
             [
              0.6666666666666666,
              "#ed7953"
             ],
             [
              0.7777777777777778,
              "#fb9f3a"
             ],
             [
              0.8888888888888888,
              "#fdca26"
             ],
             [
              1,
              "#f0f921"
             ]
            ],
            "type": "heatmap"
           }
          ],
          "heatmapgl": [
           {
            "colorbar": {
             "outlinewidth": 0,
             "ticks": ""
            },
            "colorscale": [
             [
              0,
              "#0d0887"
             ],
             [
              0.1111111111111111,
              "#46039f"
             ],
             [
              0.2222222222222222,
              "#7201a8"
             ],
             [
              0.3333333333333333,
              "#9c179e"
             ],
             [
              0.4444444444444444,
              "#bd3786"
             ],
             [
              0.5555555555555556,
              "#d8576b"
             ],
             [
              0.6666666666666666,
              "#ed7953"
             ],
             [
              0.7777777777777778,
              "#fb9f3a"
             ],
             [
              0.8888888888888888,
              "#fdca26"
             ],
             [
              1,
              "#f0f921"
             ]
            ],
            "type": "heatmapgl"
           }
          ],
          "histogram": [
           {
            "marker": {
             "pattern": {
              "fillmode": "overlay",
              "size": 10,
              "solidity": 0.2
             }
            },
            "type": "histogram"
           }
          ],
          "histogram2d": [
           {
            "colorbar": {
             "outlinewidth": 0,
             "ticks": ""
            },
            "colorscale": [
             [
              0,
              "#0d0887"
             ],
             [
              0.1111111111111111,
              "#46039f"
             ],
             [
              0.2222222222222222,
              "#7201a8"
             ],
             [
              0.3333333333333333,
              "#9c179e"
             ],
             [
              0.4444444444444444,
              "#bd3786"
             ],
             [
              0.5555555555555556,
              "#d8576b"
             ],
             [
              0.6666666666666666,
              "#ed7953"
             ],
             [
              0.7777777777777778,
              "#fb9f3a"
             ],
             [
              0.8888888888888888,
              "#fdca26"
             ],
             [
              1,
              "#f0f921"
             ]
            ],
            "type": "histogram2d"
           }
          ],
          "histogram2dcontour": [
           {
            "colorbar": {
             "outlinewidth": 0,
             "ticks": ""
            },
            "colorscale": [
             [
              0,
              "#0d0887"
             ],
             [
              0.1111111111111111,
              "#46039f"
             ],
             [
              0.2222222222222222,
              "#7201a8"
             ],
             [
              0.3333333333333333,
              "#9c179e"
             ],
             [
              0.4444444444444444,
              "#bd3786"
             ],
             [
              0.5555555555555556,
              "#d8576b"
             ],
             [
              0.6666666666666666,
              "#ed7953"
             ],
             [
              0.7777777777777778,
              "#fb9f3a"
             ],
             [
              0.8888888888888888,
              "#fdca26"
             ],
             [
              1,
              "#f0f921"
             ]
            ],
            "type": "histogram2dcontour"
           }
          ],
          "mesh3d": [
           {
            "colorbar": {
             "outlinewidth": 0,
             "ticks": ""
            },
            "type": "mesh3d"
           }
          ],
          "parcoords": [
           {
            "line": {
             "colorbar": {
              "outlinewidth": 0,
              "ticks": ""
             }
            },
            "type": "parcoords"
           }
          ],
          "pie": [
           {
            "automargin": true,
            "type": "pie"
           }
          ],
          "scatter": [
           {
            "fillpattern": {
             "fillmode": "overlay",
             "size": 10,
             "solidity": 0.2
            },
            "type": "scatter"
           }
          ],
          "scatter3d": [
           {
            "line": {
             "colorbar": {
              "outlinewidth": 0,
              "ticks": ""
             }
            },
            "marker": {
             "colorbar": {
              "outlinewidth": 0,
              "ticks": ""
             }
            },
            "type": "scatter3d"
           }
          ],
          "scattercarpet": [
           {
            "marker": {
             "colorbar": {
              "outlinewidth": 0,
              "ticks": ""
             }
            },
            "type": "scattercarpet"
           }
          ],
          "scattergeo": [
           {
            "marker": {
             "colorbar": {
              "outlinewidth": 0,
              "ticks": ""
             }
            },
            "type": "scattergeo"
           }
          ],
          "scattergl": [
           {
            "marker": {
             "colorbar": {
              "outlinewidth": 0,
              "ticks": ""
             }
            },
            "type": "scattergl"
           }
          ],
          "scattermapbox": [
           {
            "marker": {
             "colorbar": {
              "outlinewidth": 0,
              "ticks": ""
             }
            },
            "type": "scattermapbox"
           }
          ],
          "scatterpolar": [
           {
            "marker": {
             "colorbar": {
              "outlinewidth": 0,
              "ticks": ""
             }
            },
            "type": "scatterpolar"
           }
          ],
          "scatterpolargl": [
           {
            "marker": {
             "colorbar": {
              "outlinewidth": 0,
              "ticks": ""
             }
            },
            "type": "scatterpolargl"
           }
          ],
          "scatterternary": [
           {
            "marker": {
             "colorbar": {
              "outlinewidth": 0,
              "ticks": ""
             }
            },
            "type": "scatterternary"
           }
          ],
          "surface": [
           {
            "colorbar": {
             "outlinewidth": 0,
             "ticks": ""
            },
            "colorscale": [
             [
              0,
              "#0d0887"
             ],
             [
              0.1111111111111111,
              "#46039f"
             ],
             [
              0.2222222222222222,
              "#7201a8"
             ],
             [
              0.3333333333333333,
              "#9c179e"
             ],
             [
              0.4444444444444444,
              "#bd3786"
             ],
             [
              0.5555555555555556,
              "#d8576b"
             ],
             [
              0.6666666666666666,
              "#ed7953"
             ],
             [
              0.7777777777777778,
              "#fb9f3a"
             ],
             [
              0.8888888888888888,
              "#fdca26"
             ],
             [
              1,
              "#f0f921"
             ]
            ],
            "type": "surface"
           }
          ],
          "table": [
           {
            "cells": {
             "fill": {
              "color": "#EBF0F8"
             },
             "line": {
              "color": "white"
             }
            },
            "header": {
             "fill": {
              "color": "#C8D4E3"
             },
             "line": {
              "color": "white"
             }
            },
            "type": "table"
           }
          ]
         },
         "layout": {
          "annotationdefaults": {
           "arrowcolor": "#2a3f5f",
           "arrowhead": 0,
           "arrowwidth": 1
          },
          "autotypenumbers": "strict",
          "coloraxis": {
           "colorbar": {
            "outlinewidth": 0,
            "ticks": ""
           }
          },
          "colorscale": {
           "diverging": [
            [
             0,
             "#8e0152"
            ],
            [
             0.1,
             "#c51b7d"
            ],
            [
             0.2,
             "#de77ae"
            ],
            [
             0.3,
             "#f1b6da"
            ],
            [
             0.4,
             "#fde0ef"
            ],
            [
             0.5,
             "#f7f7f7"
            ],
            [
             0.6,
             "#e6f5d0"
            ],
            [
             0.7,
             "#b8e186"
            ],
            [
             0.8,
             "#7fbc41"
            ],
            [
             0.9,
             "#4d9221"
            ],
            [
             1,
             "#276419"
            ]
           ],
           "sequential": [
            [
             0,
             "#0d0887"
            ],
            [
             0.1111111111111111,
             "#46039f"
            ],
            [
             0.2222222222222222,
             "#7201a8"
            ],
            [
             0.3333333333333333,
             "#9c179e"
            ],
            [
             0.4444444444444444,
             "#bd3786"
            ],
            [
             0.5555555555555556,
             "#d8576b"
            ],
            [
             0.6666666666666666,
             "#ed7953"
            ],
            [
             0.7777777777777778,
             "#fb9f3a"
            ],
            [
             0.8888888888888888,
             "#fdca26"
            ],
            [
             1,
             "#f0f921"
            ]
           ],
           "sequentialminus": [
            [
             0,
             "#0d0887"
            ],
            [
             0.1111111111111111,
             "#46039f"
            ],
            [
             0.2222222222222222,
             "#7201a8"
            ],
            [
             0.3333333333333333,
             "#9c179e"
            ],
            [
             0.4444444444444444,
             "#bd3786"
            ],
            [
             0.5555555555555556,
             "#d8576b"
            ],
            [
             0.6666666666666666,
             "#ed7953"
            ],
            [
             0.7777777777777778,
             "#fb9f3a"
            ],
            [
             0.8888888888888888,
             "#fdca26"
            ],
            [
             1,
             "#f0f921"
            ]
           ]
          },
          "colorway": [
           "#636efa",
           "#EF553B",
           "#00cc96",
           "#ab63fa",
           "#FFA15A",
           "#19d3f3",
           "#FF6692",
           "#B6E880",
           "#FF97FF",
           "#FECB52"
          ],
          "font": {
           "color": "#2a3f5f"
          },
          "geo": {
           "bgcolor": "white",
           "lakecolor": "white",
           "landcolor": "#E5ECF6",
           "showlakes": true,
           "showland": true,
           "subunitcolor": "white"
          },
          "hoverlabel": {
           "align": "left"
          },
          "hovermode": "closest",
          "mapbox": {
           "style": "light"
          },
          "paper_bgcolor": "white",
          "plot_bgcolor": "#E5ECF6",
          "polar": {
           "angularaxis": {
            "gridcolor": "white",
            "linecolor": "white",
            "ticks": ""
           },
           "bgcolor": "#E5ECF6",
           "radialaxis": {
            "gridcolor": "white",
            "linecolor": "white",
            "ticks": ""
           }
          },
          "scene": {
           "xaxis": {
            "backgroundcolor": "#E5ECF6",
            "gridcolor": "white",
            "gridwidth": 2,
            "linecolor": "white",
            "showbackground": true,
            "ticks": "",
            "zerolinecolor": "white"
           },
           "yaxis": {
            "backgroundcolor": "#E5ECF6",
            "gridcolor": "white",
            "gridwidth": 2,
            "linecolor": "white",
            "showbackground": true,
            "ticks": "",
            "zerolinecolor": "white"
           },
           "zaxis": {
            "backgroundcolor": "#E5ECF6",
            "gridcolor": "white",
            "gridwidth": 2,
            "linecolor": "white",
            "showbackground": true,
            "ticks": "",
            "zerolinecolor": "white"
           }
          },
          "shapedefaults": {
           "line": {
            "color": "#2a3f5f"
           }
          },
          "ternary": {
           "aaxis": {
            "gridcolor": "white",
            "linecolor": "white",
            "ticks": ""
           },
           "baxis": {
            "gridcolor": "white",
            "linecolor": "white",
            "ticks": ""
           },
           "bgcolor": "#E5ECF6",
           "caxis": {
            "gridcolor": "white",
            "linecolor": "white",
            "ticks": ""
           }
          },
          "title": {
           "x": 0.05
          },
          "xaxis": {
           "automargin": true,
           "gridcolor": "white",
           "linecolor": "white",
           "ticks": "",
           "title": {
            "standoff": 15
           },
           "zerolinecolor": "white",
           "zerolinewidth": 2
          },
          "yaxis": {
           "automargin": true,
           "gridcolor": "white",
           "linecolor": "white",
           "ticks": "",
           "title": {
            "standoff": 15
           },
           "zerolinecolor": "white",
           "zerolinewidth": 2
          }
         }
        },
        "title": {
         "text": "PCAF quality score for 2021 (Index Weight)"
        }
       }
      }
     },
     "metadata": {},
     "output_type": "display_data"
    },
    {
     "data": {
      "application/vnd.plotly.v1+json": {
       "config": {
        "plotlyServerURL": "https://plot.ly"
       },
       "data": [
        {
         "domain": {
          "x": [
           0,
           0.2125
          ],
          "y": [
           0,
           1
          ]
         },
         "hole": 0.5,
         "hoverinfo": "label+percent+name",
         "labels": [
          "No Data",
          "1",
          "2",
          "3",
          "4",
          "5"
         ],
         "marker": {
          "colors": [
           "#FF5000",
           "#FFC800",
           "#00D0D4",
           "#9064CD",
           "#00C389",
           "#FFFF00"
          ]
         },
         "name": "Scope1EstimatedMethod",
         "type": "pie",
         "values": [
          1.0531501473634406,
          0,
          97.55205396643933,
          0.003408444736817419,
          1.1843975705236789,
          0.20698987093670865
         ]
        },
        {
         "domain": {
          "x": [
           0.2625,
           0.475
          ],
          "y": [
           0,
           1
          ]
         },
         "hole": 0.5,
         "hoverinfo": "label+percent+name",
         "labels": [
          "No Data",
          "1",
          "2",
          "3",
          "4",
          "5"
         ],
         "marker": {
          "colors": [
           "#FF5000",
           "#FFC800",
           "#00D0D4",
           "#9064CD",
           "#00C389",
           "#FFFF00"
          ]
         },
         "name": "Scope2EstimatedMethod",
         "type": "pie",
         "values": [
          1.0531501473634408,
          0,
          96.7994481812473,
          0,
          1.6031283962774443,
          0.5442732751118432
         ]
        },
        {
         "domain": {
          "x": [
           0.525,
           0.7375
          ],
          "y": [
           0,
           1
          ]
         },
         "hole": 0.5,
         "hoverinfo": "label+percent+name",
         "labels": [
          "No Data",
          "1",
          "2",
          "3",
          "4",
          "5"
         ],
         "marker": {
          "colors": [
           "#FF5000",
           "#FFC800",
           "#00D0D4",
           "#9064CD",
           "#00C389",
           "#FFFF00"
          ]
         },
         "name": "Scope3EstimationUpstreamMethod",
         "type": "pie",
         "values": [
          14.66956803215938,
          0,
          75.77158193703542,
          0,
          5.768052983349385,
          3.7907970474557926
         ]
        },
        {
         "domain": {
          "x": [
           0.7875,
           1
          ],
          "y": [
           0,
           1
          ]
         },
         "hole": 0.5,
         "hoverinfo": "label+percent+name",
         "labels": [
          "No Data",
          "1",
          "2",
          "3",
          "4",
          "5"
         ],
         "marker": {
          "colors": [
           "#FF5000",
           "#FFC800",
           "#00D0D4",
           "#9064CD",
           "#00C389",
           "#FFFF00"
          ]
         },
         "name": "Scope3EstimationDownstreamMethod",
         "type": "pie",
         "values": [
          14.669568032159388,
          0,
          40.044307636491794,
          3.0704675704041966,
          4.840283084704322,
          37.3753736762403
         ]
        }
       ],
       "layout": {
        "template": {
         "data": {
          "bar": [
           {
            "error_x": {
             "color": "#2a3f5f"
            },
            "error_y": {
             "color": "#2a3f5f"
            },
            "marker": {
             "line": {
              "color": "#E5ECF6",
              "width": 0.5
             },
             "pattern": {
              "fillmode": "overlay",
              "size": 10,
              "solidity": 0.2
             }
            },
            "type": "bar"
           }
          ],
          "barpolar": [
           {
            "marker": {
             "line": {
              "color": "#E5ECF6",
              "width": 0.5
             },
             "pattern": {
              "fillmode": "overlay",
              "size": 10,
              "solidity": 0.2
             }
            },
            "type": "barpolar"
           }
          ],
          "carpet": [
           {
            "aaxis": {
             "endlinecolor": "#2a3f5f",
             "gridcolor": "white",
             "linecolor": "white",
             "minorgridcolor": "white",
             "startlinecolor": "#2a3f5f"
            },
            "baxis": {
             "endlinecolor": "#2a3f5f",
             "gridcolor": "white",
             "linecolor": "white",
             "minorgridcolor": "white",
             "startlinecolor": "#2a3f5f"
            },
            "type": "carpet"
           }
          ],
          "choropleth": [
           {
            "colorbar": {
             "outlinewidth": 0,
             "ticks": ""
            },
            "type": "choropleth"
           }
          ],
          "contour": [
           {
            "colorbar": {
             "outlinewidth": 0,
             "ticks": ""
            },
            "colorscale": [
             [
              0,
              "#0d0887"
             ],
             [
              0.1111111111111111,
              "#46039f"
             ],
             [
              0.2222222222222222,
              "#7201a8"
             ],
             [
              0.3333333333333333,
              "#9c179e"
             ],
             [
              0.4444444444444444,
              "#bd3786"
             ],
             [
              0.5555555555555556,
              "#d8576b"
             ],
             [
              0.6666666666666666,
              "#ed7953"
             ],
             [
              0.7777777777777778,
              "#fb9f3a"
             ],
             [
              0.8888888888888888,
              "#fdca26"
             ],
             [
              1,
              "#f0f921"
             ]
            ],
            "type": "contour"
           }
          ],
          "contourcarpet": [
           {
            "colorbar": {
             "outlinewidth": 0,
             "ticks": ""
            },
            "type": "contourcarpet"
           }
          ],
          "heatmap": [
           {
            "colorbar": {
             "outlinewidth": 0,
             "ticks": ""
            },
            "colorscale": [
             [
              0,
              "#0d0887"
             ],
             [
              0.1111111111111111,
              "#46039f"
             ],
             [
              0.2222222222222222,
              "#7201a8"
             ],
             [
              0.3333333333333333,
              "#9c179e"
             ],
             [
              0.4444444444444444,
              "#bd3786"
             ],
             [
              0.5555555555555556,
              "#d8576b"
             ],
             [
              0.6666666666666666,
              "#ed7953"
             ],
             [
              0.7777777777777778,
              "#fb9f3a"
             ],
             [
              0.8888888888888888,
              "#fdca26"
             ],
             [
              1,
              "#f0f921"
             ]
            ],
            "type": "heatmap"
           }
          ],
          "heatmapgl": [
           {
            "colorbar": {
             "outlinewidth": 0,
             "ticks": ""
            },
            "colorscale": [
             [
              0,
              "#0d0887"
             ],
             [
              0.1111111111111111,
              "#46039f"
             ],
             [
              0.2222222222222222,
              "#7201a8"
             ],
             [
              0.3333333333333333,
              "#9c179e"
             ],
             [
              0.4444444444444444,
              "#bd3786"
             ],
             [
              0.5555555555555556,
              "#d8576b"
             ],
             [
              0.6666666666666666,
              "#ed7953"
             ],
             [
              0.7777777777777778,
              "#fb9f3a"
             ],
             [
              0.8888888888888888,
              "#fdca26"
             ],
             [
              1,
              "#f0f921"
             ]
            ],
            "type": "heatmapgl"
           }
          ],
          "histogram": [
           {
            "marker": {
             "pattern": {
              "fillmode": "overlay",
              "size": 10,
              "solidity": 0.2
             }
            },
            "type": "histogram"
           }
          ],
          "histogram2d": [
           {
            "colorbar": {
             "outlinewidth": 0,
             "ticks": ""
            },
            "colorscale": [
             [
              0,
              "#0d0887"
             ],
             [
              0.1111111111111111,
              "#46039f"
             ],
             [
              0.2222222222222222,
              "#7201a8"
             ],
             [
              0.3333333333333333,
              "#9c179e"
             ],
             [
              0.4444444444444444,
              "#bd3786"
             ],
             [
              0.5555555555555556,
              "#d8576b"
             ],
             [
              0.6666666666666666,
              "#ed7953"
             ],
             [
              0.7777777777777778,
              "#fb9f3a"
             ],
             [
              0.8888888888888888,
              "#fdca26"
             ],
             [
              1,
              "#f0f921"
             ]
            ],
            "type": "histogram2d"
           }
          ],
          "histogram2dcontour": [
           {
            "colorbar": {
             "outlinewidth": 0,
             "ticks": ""
            },
            "colorscale": [
             [
              0,
              "#0d0887"
             ],
             [
              0.1111111111111111,
              "#46039f"
             ],
             [
              0.2222222222222222,
              "#7201a8"
             ],
             [
              0.3333333333333333,
              "#9c179e"
             ],
             [
              0.4444444444444444,
              "#bd3786"
             ],
             [
              0.5555555555555556,
              "#d8576b"
             ],
             [
              0.6666666666666666,
              "#ed7953"
             ],
             [
              0.7777777777777778,
              "#fb9f3a"
             ],
             [
              0.8888888888888888,
              "#fdca26"
             ],
             [
              1,
              "#f0f921"
             ]
            ],
            "type": "histogram2dcontour"
           }
          ],
          "mesh3d": [
           {
            "colorbar": {
             "outlinewidth": 0,
             "ticks": ""
            },
            "type": "mesh3d"
           }
          ],
          "parcoords": [
           {
            "line": {
             "colorbar": {
              "outlinewidth": 0,
              "ticks": ""
             }
            },
            "type": "parcoords"
           }
          ],
          "pie": [
           {
            "automargin": true,
            "type": "pie"
           }
          ],
          "scatter": [
           {
            "fillpattern": {
             "fillmode": "overlay",
             "size": 10,
             "solidity": 0.2
            },
            "type": "scatter"
           }
          ],
          "scatter3d": [
           {
            "line": {
             "colorbar": {
              "outlinewidth": 0,
              "ticks": ""
             }
            },
            "marker": {
             "colorbar": {
              "outlinewidth": 0,
              "ticks": ""
             }
            },
            "type": "scatter3d"
           }
          ],
          "scattercarpet": [
           {
            "marker": {
             "colorbar": {
              "outlinewidth": 0,
              "ticks": ""
             }
            },
            "type": "scattercarpet"
           }
          ],
          "scattergeo": [
           {
            "marker": {
             "colorbar": {
              "outlinewidth": 0,
              "ticks": ""
             }
            },
            "type": "scattergeo"
           }
          ],
          "scattergl": [
           {
            "marker": {
             "colorbar": {
              "outlinewidth": 0,
              "ticks": ""
             }
            },
            "type": "scattergl"
           }
          ],
          "scattermapbox": [
           {
            "marker": {
             "colorbar": {
              "outlinewidth": 0,
              "ticks": ""
             }
            },
            "type": "scattermapbox"
           }
          ],
          "scatterpolar": [
           {
            "marker": {
             "colorbar": {
              "outlinewidth": 0,
              "ticks": ""
             }
            },
            "type": "scatterpolar"
           }
          ],
          "scatterpolargl": [
           {
            "marker": {
             "colorbar": {
              "outlinewidth": 0,
              "ticks": ""
             }
            },
            "type": "scatterpolargl"
           }
          ],
          "scatterternary": [
           {
            "marker": {
             "colorbar": {
              "outlinewidth": 0,
              "ticks": ""
             }
            },
            "type": "scatterternary"
           }
          ],
          "surface": [
           {
            "colorbar": {
             "outlinewidth": 0,
             "ticks": ""
            },
            "colorscale": [
             [
              0,
              "#0d0887"
             ],
             [
              0.1111111111111111,
              "#46039f"
             ],
             [
              0.2222222222222222,
              "#7201a8"
             ],
             [
              0.3333333333333333,
              "#9c179e"
             ],
             [
              0.4444444444444444,
              "#bd3786"
             ],
             [
              0.5555555555555556,
              "#d8576b"
             ],
             [
              0.6666666666666666,
              "#ed7953"
             ],
             [
              0.7777777777777778,
              "#fb9f3a"
             ],
             [
              0.8888888888888888,
              "#fdca26"
             ],
             [
              1,
              "#f0f921"
             ]
            ],
            "type": "surface"
           }
          ],
          "table": [
           {
            "cells": {
             "fill": {
              "color": "#EBF0F8"
             },
             "line": {
              "color": "white"
             }
            },
            "header": {
             "fill": {
              "color": "#C8D4E3"
             },
             "line": {
              "color": "white"
             }
            },
            "type": "table"
           }
          ]
         },
         "layout": {
          "annotationdefaults": {
           "arrowcolor": "#2a3f5f",
           "arrowhead": 0,
           "arrowwidth": 1
          },
          "autotypenumbers": "strict",
          "coloraxis": {
           "colorbar": {
            "outlinewidth": 0,
            "ticks": ""
           }
          },
          "colorscale": {
           "diverging": [
            [
             0,
             "#8e0152"
            ],
            [
             0.1,
             "#c51b7d"
            ],
            [
             0.2,
             "#de77ae"
            ],
            [
             0.3,
             "#f1b6da"
            ],
            [
             0.4,
             "#fde0ef"
            ],
            [
             0.5,
             "#f7f7f7"
            ],
            [
             0.6,
             "#e6f5d0"
            ],
            [
             0.7,
             "#b8e186"
            ],
            [
             0.8,
             "#7fbc41"
            ],
            [
             0.9,
             "#4d9221"
            ],
            [
             1,
             "#276419"
            ]
           ],
           "sequential": [
            [
             0,
             "#0d0887"
            ],
            [
             0.1111111111111111,
             "#46039f"
            ],
            [
             0.2222222222222222,
             "#7201a8"
            ],
            [
             0.3333333333333333,
             "#9c179e"
            ],
            [
             0.4444444444444444,
             "#bd3786"
            ],
            [
             0.5555555555555556,
             "#d8576b"
            ],
            [
             0.6666666666666666,
             "#ed7953"
            ],
            [
             0.7777777777777778,
             "#fb9f3a"
            ],
            [
             0.8888888888888888,
             "#fdca26"
            ],
            [
             1,
             "#f0f921"
            ]
           ],
           "sequentialminus": [
            [
             0,
             "#0d0887"
            ],
            [
             0.1111111111111111,
             "#46039f"
            ],
            [
             0.2222222222222222,
             "#7201a8"
            ],
            [
             0.3333333333333333,
             "#9c179e"
            ],
            [
             0.4444444444444444,
             "#bd3786"
            ],
            [
             0.5555555555555556,
             "#d8576b"
            ],
            [
             0.6666666666666666,
             "#ed7953"
            ],
            [
             0.7777777777777778,
             "#fb9f3a"
            ],
            [
             0.8888888888888888,
             "#fdca26"
            ],
            [
             1,
             "#f0f921"
            ]
           ]
          },
          "colorway": [
           "#636efa",
           "#EF553B",
           "#00cc96",
           "#ab63fa",
           "#FFA15A",
           "#19d3f3",
           "#FF6692",
           "#B6E880",
           "#FF97FF",
           "#FECB52"
          ],
          "font": {
           "color": "#2a3f5f"
          },
          "geo": {
           "bgcolor": "white",
           "lakecolor": "white",
           "landcolor": "#E5ECF6",
           "showlakes": true,
           "showland": true,
           "subunitcolor": "white"
          },
          "hoverlabel": {
           "align": "left"
          },
          "hovermode": "closest",
          "mapbox": {
           "style": "light"
          },
          "paper_bgcolor": "white",
          "plot_bgcolor": "#E5ECF6",
          "polar": {
           "angularaxis": {
            "gridcolor": "white",
            "linecolor": "white",
            "ticks": ""
           },
           "bgcolor": "#E5ECF6",
           "radialaxis": {
            "gridcolor": "white",
            "linecolor": "white",
            "ticks": ""
           }
          },
          "scene": {
           "xaxis": {
            "backgroundcolor": "#E5ECF6",
            "gridcolor": "white",
            "gridwidth": 2,
            "linecolor": "white",
            "showbackground": true,
            "ticks": "",
            "zerolinecolor": "white"
           },
           "yaxis": {
            "backgroundcolor": "#E5ECF6",
            "gridcolor": "white",
            "gridwidth": 2,
            "linecolor": "white",
            "showbackground": true,
            "ticks": "",
            "zerolinecolor": "white"
           },
           "zaxis": {
            "backgroundcolor": "#E5ECF6",
            "gridcolor": "white",
            "gridwidth": 2,
            "linecolor": "white",
            "showbackground": true,
            "ticks": "",
            "zerolinecolor": "white"
           }
          },
          "shapedefaults": {
           "line": {
            "color": "#2a3f5f"
           }
          },
          "ternary": {
           "aaxis": {
            "gridcolor": "white",
            "linecolor": "white",
            "ticks": ""
           },
           "baxis": {
            "gridcolor": "white",
            "linecolor": "white",
            "ticks": ""
           },
           "bgcolor": "#E5ECF6",
           "caxis": {
            "gridcolor": "white",
            "linecolor": "white",
            "ticks": ""
           }
          },
          "title": {
           "x": 0.05
          },
          "xaxis": {
           "automargin": true,
           "gridcolor": "white",
           "linecolor": "white",
           "ticks": "",
           "title": {
            "standoff": 15
           },
           "zerolinecolor": "white",
           "zerolinewidth": 2
          },
          "yaxis": {
           "automargin": true,
           "gridcolor": "white",
           "linecolor": "white",
           "ticks": "",
           "title": {
            "standoff": 15
           },
           "zerolinecolor": "white",
           "zerolinewidth": 2
          }
         }
        },
        "title": {
         "text": "PCAF quality score for 2021 (Financed Emissions)"
        }
       }
      }
     },
     "metadata": {},
     "output_type": "display_data"
    }
   ],
   "source": [
    "scoreLabels = ['No Data', '1', '2', '3', '4', '5']\n",
    "measureNames = pcafMeasures.keys()\n",
    "\n",
    "# Create subplots for index weight pie charts\n",
    "fig = make_subplots(rows=1, cols=len(measureNames), specs=[[{'type':'domain'}] * len(measureNames)] )\n",
    "idx = 0\n",
    "for m in measureNames:\n",
    "    fig.add_trace(go.Pie(labels=scoreLabels, values=pcafWeights[idx], name=m), 1, 1 + idx)\n",
    "    idx = idx + 1\n",
    "\n",
    "fig.update_traces(hole=.5, hoverinfo=\"label+percent+name\", marker=dict(colors=lsegColors))\n",
    "fig.update_layout(title_text = f\"PCAF quality score for {pcafYear} (Index Weight)\")\n",
    "fig.show()\n",
    "\n",
    "# Create subplots for Financed Emissions pie charts\n",
    "fig = make_subplots(rows=1, cols=len(measureNames), specs=[[{'type':'domain'}] * len(measureNames)] )\n",
    "idx = 0\n",
    "for m in measureNames:\n",
    "    fig.add_trace(go.Pie(labels=scoreLabels, values=pcafFE[idx], name=m), 1, 1 + idx)\n",
    "    idx = idx + 1\n",
    "\n",
    "fig.update_traces(hole=.5, hoverinfo=\"label+percent+name\", marker=dict(colors=lsegColors))\n",
    "fig.update_layout(title_text = f\"PCAF quality score for {pcafYear} (Financed Emissions)\")\n",
    "fig.show()"
   ]
  },
  {
   "cell_type": "code",
   "execution_count": 43,
   "metadata": {},
   "outputs": [
    {
     "data": {
      "application/vnd.plotly.v1+json": {
       "config": {
        "plotlyServerURL": "https://plot.ly"
       },
       "data": [
        {
         "marker": {
          "color": "#FF5000"
         },
         "name": "1",
         "type": "bar",
         "x": [
          "Scope1EstimatedMethod",
          "Scope2EstimatedMethod",
          "Scope3EstimationUpstreamMethod",
          "Scope3EstimationDownstreamMethod"
         ],
         "y": [
          0,
          0,
          0,
          0
         ]
        },
        {
         "marker": {
          "color": "#FFC800"
         },
         "name": "2",
         "type": "bar",
         "x": [
          "Scope1EstimatedMethod",
          "Scope2EstimatedMethod",
          "Scope3EstimationUpstreamMethod",
          "Scope3EstimationDownstreamMethod"
         ],
         "y": [
          87.557956787,
          88.99984625900001,
          57.655295423999995,
          39.326987523
         ]
        },
        {
         "marker": {
          "color": "#00D0D4"
         },
         "name": "3",
         "type": "bar",
         "x": [
          "Scope1EstimatedMethod",
          "Scope2EstimatedMethod",
          "Scope3EstimationUpstreamMethod",
          "Scope3EstimationDownstreamMethod"
         ],
         "y": [
          0.018917540999999996,
          0,
          0,
          0.690888162
         ]
        },
        {
         "marker": {
          "color": "#9064CD"
         },
         "name": "4",
         "type": "bar",
         "x": [
          "Scope1EstimatedMethod",
          "Scope2EstimatedMethod",
          "Scope3EstimationUpstreamMethod",
          "Scope3EstimationDownstreamMethod"
         ],
         "y": [
          5.954703018000001,
          4.5295697950000005,
          9.741536060000001,
          7.78352982
         ]
        },
        {
         "marker": {
          "color": "#00C389"
         },
         "name": "5",
         "type": "bar",
         "x": [
          "Scope1EstimatedMethod",
          "Scope2EstimatedMethod",
          "Scope3EstimationUpstreamMethod",
          "Scope3EstimationDownstreamMethod"
         ],
         "y": [
          4.681829629,
          4.683990921,
          17.371570773000002,
          36.966996752
         ]
        },
        {
         "marker": {
          "color": "#FFFF00"
         },
         "name": "No Data",
         "type": "bar",
         "x": [
          "Scope1EstimatedMethod",
          "Scope2EstimatedMethod",
          "Scope3EstimationUpstreamMethod",
          "Scope3EstimationDownstreamMethod"
         ],
         "y": [
          1.6981744489999997,
          1.6981744489999997,
          15.143179167,
          15.143179167
         ]
        }
       ],
       "layout": {
        "bargap": 0.8,
        "barmode": "stack",
        "template": {
         "data": {
          "bar": [
           {
            "error_x": {
             "color": "#2a3f5f"
            },
            "error_y": {
             "color": "#2a3f5f"
            },
            "marker": {
             "line": {
              "color": "#E5ECF6",
              "width": 0.5
             },
             "pattern": {
              "fillmode": "overlay",
              "size": 10,
              "solidity": 0.2
             }
            },
            "type": "bar"
           }
          ],
          "barpolar": [
           {
            "marker": {
             "line": {
              "color": "#E5ECF6",
              "width": 0.5
             },
             "pattern": {
              "fillmode": "overlay",
              "size": 10,
              "solidity": 0.2
             }
            },
            "type": "barpolar"
           }
          ],
          "carpet": [
           {
            "aaxis": {
             "endlinecolor": "#2a3f5f",
             "gridcolor": "white",
             "linecolor": "white",
             "minorgridcolor": "white",
             "startlinecolor": "#2a3f5f"
            },
            "baxis": {
             "endlinecolor": "#2a3f5f",
             "gridcolor": "white",
             "linecolor": "white",
             "minorgridcolor": "white",
             "startlinecolor": "#2a3f5f"
            },
            "type": "carpet"
           }
          ],
          "choropleth": [
           {
            "colorbar": {
             "outlinewidth": 0,
             "ticks": ""
            },
            "type": "choropleth"
           }
          ],
          "contour": [
           {
            "colorbar": {
             "outlinewidth": 0,
             "ticks": ""
            },
            "colorscale": [
             [
              0,
              "#0d0887"
             ],
             [
              0.1111111111111111,
              "#46039f"
             ],
             [
              0.2222222222222222,
              "#7201a8"
             ],
             [
              0.3333333333333333,
              "#9c179e"
             ],
             [
              0.4444444444444444,
              "#bd3786"
             ],
             [
              0.5555555555555556,
              "#d8576b"
             ],
             [
              0.6666666666666666,
              "#ed7953"
             ],
             [
              0.7777777777777778,
              "#fb9f3a"
             ],
             [
              0.8888888888888888,
              "#fdca26"
             ],
             [
              1,
              "#f0f921"
             ]
            ],
            "type": "contour"
           }
          ],
          "contourcarpet": [
           {
            "colorbar": {
             "outlinewidth": 0,
             "ticks": ""
            },
            "type": "contourcarpet"
           }
          ],
          "heatmap": [
           {
            "colorbar": {
             "outlinewidth": 0,
             "ticks": ""
            },
            "colorscale": [
             [
              0,
              "#0d0887"
             ],
             [
              0.1111111111111111,
              "#46039f"
             ],
             [
              0.2222222222222222,
              "#7201a8"
             ],
             [
              0.3333333333333333,
              "#9c179e"
             ],
             [
              0.4444444444444444,
              "#bd3786"
             ],
             [
              0.5555555555555556,
              "#d8576b"
             ],
             [
              0.6666666666666666,
              "#ed7953"
             ],
             [
              0.7777777777777778,
              "#fb9f3a"
             ],
             [
              0.8888888888888888,
              "#fdca26"
             ],
             [
              1,
              "#f0f921"
             ]
            ],
            "type": "heatmap"
           }
          ],
          "heatmapgl": [
           {
            "colorbar": {
             "outlinewidth": 0,
             "ticks": ""
            },
            "colorscale": [
             [
              0,
              "#0d0887"
             ],
             [
              0.1111111111111111,
              "#46039f"
             ],
             [
              0.2222222222222222,
              "#7201a8"
             ],
             [
              0.3333333333333333,
              "#9c179e"
             ],
             [
              0.4444444444444444,
              "#bd3786"
             ],
             [
              0.5555555555555556,
              "#d8576b"
             ],
             [
              0.6666666666666666,
              "#ed7953"
             ],
             [
              0.7777777777777778,
              "#fb9f3a"
             ],
             [
              0.8888888888888888,
              "#fdca26"
             ],
             [
              1,
              "#f0f921"
             ]
            ],
            "type": "heatmapgl"
           }
          ],
          "histogram": [
           {
            "marker": {
             "pattern": {
              "fillmode": "overlay",
              "size": 10,
              "solidity": 0.2
             }
            },
            "type": "histogram"
           }
          ],
          "histogram2d": [
           {
            "colorbar": {
             "outlinewidth": 0,
             "ticks": ""
            },
            "colorscale": [
             [
              0,
              "#0d0887"
             ],
             [
              0.1111111111111111,
              "#46039f"
             ],
             [
              0.2222222222222222,
              "#7201a8"
             ],
             [
              0.3333333333333333,
              "#9c179e"
             ],
             [
              0.4444444444444444,
              "#bd3786"
             ],
             [
              0.5555555555555556,
              "#d8576b"
             ],
             [
              0.6666666666666666,
              "#ed7953"
             ],
             [
              0.7777777777777778,
              "#fb9f3a"
             ],
             [
              0.8888888888888888,
              "#fdca26"
             ],
             [
              1,
              "#f0f921"
             ]
            ],
            "type": "histogram2d"
           }
          ],
          "histogram2dcontour": [
           {
            "colorbar": {
             "outlinewidth": 0,
             "ticks": ""
            },
            "colorscale": [
             [
              0,
              "#0d0887"
             ],
             [
              0.1111111111111111,
              "#46039f"
             ],
             [
              0.2222222222222222,
              "#7201a8"
             ],
             [
              0.3333333333333333,
              "#9c179e"
             ],
             [
              0.4444444444444444,
              "#bd3786"
             ],
             [
              0.5555555555555556,
              "#d8576b"
             ],
             [
              0.6666666666666666,
              "#ed7953"
             ],
             [
              0.7777777777777778,
              "#fb9f3a"
             ],
             [
              0.8888888888888888,
              "#fdca26"
             ],
             [
              1,
              "#f0f921"
             ]
            ],
            "type": "histogram2dcontour"
           }
          ],
          "mesh3d": [
           {
            "colorbar": {
             "outlinewidth": 0,
             "ticks": ""
            },
            "type": "mesh3d"
           }
          ],
          "parcoords": [
           {
            "line": {
             "colorbar": {
              "outlinewidth": 0,
              "ticks": ""
             }
            },
            "type": "parcoords"
           }
          ],
          "pie": [
           {
            "automargin": true,
            "type": "pie"
           }
          ],
          "scatter": [
           {
            "fillpattern": {
             "fillmode": "overlay",
             "size": 10,
             "solidity": 0.2
            },
            "type": "scatter"
           }
          ],
          "scatter3d": [
           {
            "line": {
             "colorbar": {
              "outlinewidth": 0,
              "ticks": ""
             }
            },
            "marker": {
             "colorbar": {
              "outlinewidth": 0,
              "ticks": ""
             }
            },
            "type": "scatter3d"
           }
          ],
          "scattercarpet": [
           {
            "marker": {
             "colorbar": {
              "outlinewidth": 0,
              "ticks": ""
             }
            },
            "type": "scattercarpet"
           }
          ],
          "scattergeo": [
           {
            "marker": {
             "colorbar": {
              "outlinewidth": 0,
              "ticks": ""
             }
            },
            "type": "scattergeo"
           }
          ],
          "scattergl": [
           {
            "marker": {
             "colorbar": {
              "outlinewidth": 0,
              "ticks": ""
             }
            },
            "type": "scattergl"
           }
          ],
          "scattermapbox": [
           {
            "marker": {
             "colorbar": {
              "outlinewidth": 0,
              "ticks": ""
             }
            },
            "type": "scattermapbox"
           }
          ],
          "scatterpolar": [
           {
            "marker": {
             "colorbar": {
              "outlinewidth": 0,
              "ticks": ""
             }
            },
            "type": "scatterpolar"
           }
          ],
          "scatterpolargl": [
           {
            "marker": {
             "colorbar": {
              "outlinewidth": 0,
              "ticks": ""
             }
            },
            "type": "scatterpolargl"
           }
          ],
          "scatterternary": [
           {
            "marker": {
             "colorbar": {
              "outlinewidth": 0,
              "ticks": ""
             }
            },
            "type": "scatterternary"
           }
          ],
          "surface": [
           {
            "colorbar": {
             "outlinewidth": 0,
             "ticks": ""
            },
            "colorscale": [
             [
              0,
              "#0d0887"
             ],
             [
              0.1111111111111111,
              "#46039f"
             ],
             [
              0.2222222222222222,
              "#7201a8"
             ],
             [
              0.3333333333333333,
              "#9c179e"
             ],
             [
              0.4444444444444444,
              "#bd3786"
             ],
             [
              0.5555555555555556,
              "#d8576b"
             ],
             [
              0.6666666666666666,
              "#ed7953"
             ],
             [
              0.7777777777777778,
              "#fb9f3a"
             ],
             [
              0.8888888888888888,
              "#fdca26"
             ],
             [
              1,
              "#f0f921"
             ]
            ],
            "type": "surface"
           }
          ],
          "table": [
           {
            "cells": {
             "fill": {
              "color": "#EBF0F8"
             },
             "line": {
              "color": "white"
             }
            },
            "header": {
             "fill": {
              "color": "#C8D4E3"
             },
             "line": {
              "color": "white"
             }
            },
            "type": "table"
           }
          ]
         },
         "layout": {
          "annotationdefaults": {
           "arrowcolor": "#2a3f5f",
           "arrowhead": 0,
           "arrowwidth": 1
          },
          "autotypenumbers": "strict",
          "coloraxis": {
           "colorbar": {
            "outlinewidth": 0,
            "ticks": ""
           }
          },
          "colorscale": {
           "diverging": [
            [
             0,
             "#8e0152"
            ],
            [
             0.1,
             "#c51b7d"
            ],
            [
             0.2,
             "#de77ae"
            ],
            [
             0.3,
             "#f1b6da"
            ],
            [
             0.4,
             "#fde0ef"
            ],
            [
             0.5,
             "#f7f7f7"
            ],
            [
             0.6,
             "#e6f5d0"
            ],
            [
             0.7,
             "#b8e186"
            ],
            [
             0.8,
             "#7fbc41"
            ],
            [
             0.9,
             "#4d9221"
            ],
            [
             1,
             "#276419"
            ]
           ],
           "sequential": [
            [
             0,
             "#0d0887"
            ],
            [
             0.1111111111111111,
             "#46039f"
            ],
            [
             0.2222222222222222,
             "#7201a8"
            ],
            [
             0.3333333333333333,
             "#9c179e"
            ],
            [
             0.4444444444444444,
             "#bd3786"
            ],
            [
             0.5555555555555556,
             "#d8576b"
            ],
            [
             0.6666666666666666,
             "#ed7953"
            ],
            [
             0.7777777777777778,
             "#fb9f3a"
            ],
            [
             0.8888888888888888,
             "#fdca26"
            ],
            [
             1,
             "#f0f921"
            ]
           ],
           "sequentialminus": [
            [
             0,
             "#0d0887"
            ],
            [
             0.1111111111111111,
             "#46039f"
            ],
            [
             0.2222222222222222,
             "#7201a8"
            ],
            [
             0.3333333333333333,
             "#9c179e"
            ],
            [
             0.4444444444444444,
             "#bd3786"
            ],
            [
             0.5555555555555556,
             "#d8576b"
            ],
            [
             0.6666666666666666,
             "#ed7953"
            ],
            [
             0.7777777777777778,
             "#fb9f3a"
            ],
            [
             0.8888888888888888,
             "#fdca26"
            ],
            [
             1,
             "#f0f921"
            ]
           ]
          },
          "colorway": [
           "#636efa",
           "#EF553B",
           "#00cc96",
           "#ab63fa",
           "#FFA15A",
           "#19d3f3",
           "#FF6692",
           "#B6E880",
           "#FF97FF",
           "#FECB52"
          ],
          "font": {
           "color": "#2a3f5f"
          },
          "geo": {
           "bgcolor": "white",
           "lakecolor": "white",
           "landcolor": "#E5ECF6",
           "showlakes": true,
           "showland": true,
           "subunitcolor": "white"
          },
          "hoverlabel": {
           "align": "left"
          },
          "hovermode": "closest",
          "mapbox": {
           "style": "light"
          },
          "paper_bgcolor": "white",
          "plot_bgcolor": "#E5ECF6",
          "polar": {
           "angularaxis": {
            "gridcolor": "white",
            "linecolor": "white",
            "ticks": ""
           },
           "bgcolor": "#E5ECF6",
           "radialaxis": {
            "gridcolor": "white",
            "linecolor": "white",
            "ticks": ""
           }
          },
          "scene": {
           "xaxis": {
            "backgroundcolor": "#E5ECF6",
            "gridcolor": "white",
            "gridwidth": 2,
            "linecolor": "white",
            "showbackground": true,
            "ticks": "",
            "zerolinecolor": "white"
           },
           "yaxis": {
            "backgroundcolor": "#E5ECF6",
            "gridcolor": "white",
            "gridwidth": 2,
            "linecolor": "white",
            "showbackground": true,
            "ticks": "",
            "zerolinecolor": "white"
           },
           "zaxis": {
            "backgroundcolor": "#E5ECF6",
            "gridcolor": "white",
            "gridwidth": 2,
            "linecolor": "white",
            "showbackground": true,
            "ticks": "",
            "zerolinecolor": "white"
           }
          },
          "shapedefaults": {
           "line": {
            "color": "#2a3f5f"
           }
          },
          "ternary": {
           "aaxis": {
            "gridcolor": "white",
            "linecolor": "white",
            "ticks": ""
           },
           "baxis": {
            "gridcolor": "white",
            "linecolor": "white",
            "ticks": ""
           },
           "bgcolor": "#E5ECF6",
           "caxis": {
            "gridcolor": "white",
            "linecolor": "white",
            "ticks": ""
           }
          },
          "title": {
           "x": 0.05
          },
          "xaxis": {
           "automargin": true,
           "gridcolor": "white",
           "linecolor": "white",
           "ticks": "",
           "title": {
            "standoff": 15
           },
           "zerolinecolor": "white",
           "zerolinewidth": 2
          },
          "yaxis": {
           "automargin": true,
           "gridcolor": "white",
           "linecolor": "white",
           "ticks": "",
           "title": {
            "standoff": 15
           },
           "zerolinecolor": "white",
           "zerolinewidth": 2
          }
         }
        },
        "title": {
         "text": "PCAF quality score for 2021 (Index Weight)"
        },
        "yaxis": {
         "title": {
          "text": "%"
         }
        }
       }
      }
     },
     "metadata": {},
     "output_type": "display_data"
    },
    {
     "data": {
      "application/vnd.plotly.v1+json": {
       "config": {
        "plotlyServerURL": "https://plot.ly"
       },
       "data": [
        {
         "marker": {
          "color": "#FF5000"
         },
         "name": "1",
         "type": "bar",
         "x": [
          "Scope1EstimatedMethod",
          "Scope2EstimatedMethod",
          "Scope3EstimationUpstreamMethod",
          "Scope3EstimationDownstreamMethod"
         ],
         "y": [
          0,
          0,
          0,
          0
         ]
        },
        {
         "marker": {
          "color": "#FFC800"
         },
         "name": "2",
         "type": "bar",
         "x": [
          "Scope1EstimatedMethod",
          "Scope2EstimatedMethod",
          "Scope3EstimationUpstreamMethod",
          "Scope3EstimationDownstreamMethod"
         ],
         "y": [
          97.55205396643933,
          96.7994481812473,
          75.77158193703542,
          40.044307636491794
         ]
        },
        {
         "marker": {
          "color": "#00D0D4"
         },
         "name": "3",
         "type": "bar",
         "x": [
          "Scope1EstimatedMethod",
          "Scope2EstimatedMethod",
          "Scope3EstimationUpstreamMethod",
          "Scope3EstimationDownstreamMethod"
         ],
         "y": [
          0.003408444736817419,
          0,
          0,
          3.0704675704041966
         ]
        },
        {
         "marker": {
          "color": "#9064CD"
         },
         "name": "4",
         "type": "bar",
         "x": [
          "Scope1EstimatedMethod",
          "Scope2EstimatedMethod",
          "Scope3EstimationUpstreamMethod",
          "Scope3EstimationDownstreamMethod"
         ],
         "y": [
          1.1843975705236789,
          1.6031283962774443,
          5.768052983349385,
          4.840283084704322
         ]
        },
        {
         "marker": {
          "color": "#00C389"
         },
         "name": "5",
         "type": "bar",
         "x": [
          "Scope1EstimatedMethod",
          "Scope2EstimatedMethod",
          "Scope3EstimationUpstreamMethod",
          "Scope3EstimationDownstreamMethod"
         ],
         "y": [
          0.20698987093670865,
          0.5442732751118432,
          3.7907970474557926,
          37.3753736762403
         ]
        },
        {
         "marker": {
          "color": "#FFFF00"
         },
         "name": "No Data",
         "type": "bar",
         "x": [
          "Scope1EstimatedMethod",
          "Scope2EstimatedMethod",
          "Scope3EstimationUpstreamMethod",
          "Scope3EstimationDownstreamMethod"
         ],
         "y": [
          1.0531501473634406,
          1.0531501473634408,
          14.66956803215938,
          14.669568032159388
         ]
        }
       ],
       "layout": {
        "bargap": 0.8,
        "barmode": "stack",
        "template": {
         "data": {
          "bar": [
           {
            "error_x": {
             "color": "#2a3f5f"
            },
            "error_y": {
             "color": "#2a3f5f"
            },
            "marker": {
             "line": {
              "color": "#E5ECF6",
              "width": 0.5
             },
             "pattern": {
              "fillmode": "overlay",
              "size": 10,
              "solidity": 0.2
             }
            },
            "type": "bar"
           }
          ],
          "barpolar": [
           {
            "marker": {
             "line": {
              "color": "#E5ECF6",
              "width": 0.5
             },
             "pattern": {
              "fillmode": "overlay",
              "size": 10,
              "solidity": 0.2
             }
            },
            "type": "barpolar"
           }
          ],
          "carpet": [
           {
            "aaxis": {
             "endlinecolor": "#2a3f5f",
             "gridcolor": "white",
             "linecolor": "white",
             "minorgridcolor": "white",
             "startlinecolor": "#2a3f5f"
            },
            "baxis": {
             "endlinecolor": "#2a3f5f",
             "gridcolor": "white",
             "linecolor": "white",
             "minorgridcolor": "white",
             "startlinecolor": "#2a3f5f"
            },
            "type": "carpet"
           }
          ],
          "choropleth": [
           {
            "colorbar": {
             "outlinewidth": 0,
             "ticks": ""
            },
            "type": "choropleth"
           }
          ],
          "contour": [
           {
            "colorbar": {
             "outlinewidth": 0,
             "ticks": ""
            },
            "colorscale": [
             [
              0,
              "#0d0887"
             ],
             [
              0.1111111111111111,
              "#46039f"
             ],
             [
              0.2222222222222222,
              "#7201a8"
             ],
             [
              0.3333333333333333,
              "#9c179e"
             ],
             [
              0.4444444444444444,
              "#bd3786"
             ],
             [
              0.5555555555555556,
              "#d8576b"
             ],
             [
              0.6666666666666666,
              "#ed7953"
             ],
             [
              0.7777777777777778,
              "#fb9f3a"
             ],
             [
              0.8888888888888888,
              "#fdca26"
             ],
             [
              1,
              "#f0f921"
             ]
            ],
            "type": "contour"
           }
          ],
          "contourcarpet": [
           {
            "colorbar": {
             "outlinewidth": 0,
             "ticks": ""
            },
            "type": "contourcarpet"
           }
          ],
          "heatmap": [
           {
            "colorbar": {
             "outlinewidth": 0,
             "ticks": ""
            },
            "colorscale": [
             [
              0,
              "#0d0887"
             ],
             [
              0.1111111111111111,
              "#46039f"
             ],
             [
              0.2222222222222222,
              "#7201a8"
             ],
             [
              0.3333333333333333,
              "#9c179e"
             ],
             [
              0.4444444444444444,
              "#bd3786"
             ],
             [
              0.5555555555555556,
              "#d8576b"
             ],
             [
              0.6666666666666666,
              "#ed7953"
             ],
             [
              0.7777777777777778,
              "#fb9f3a"
             ],
             [
              0.8888888888888888,
              "#fdca26"
             ],
             [
              1,
              "#f0f921"
             ]
            ],
            "type": "heatmap"
           }
          ],
          "heatmapgl": [
           {
            "colorbar": {
             "outlinewidth": 0,
             "ticks": ""
            },
            "colorscale": [
             [
              0,
              "#0d0887"
             ],
             [
              0.1111111111111111,
              "#46039f"
             ],
             [
              0.2222222222222222,
              "#7201a8"
             ],
             [
              0.3333333333333333,
              "#9c179e"
             ],
             [
              0.4444444444444444,
              "#bd3786"
             ],
             [
              0.5555555555555556,
              "#d8576b"
             ],
             [
              0.6666666666666666,
              "#ed7953"
             ],
             [
              0.7777777777777778,
              "#fb9f3a"
             ],
             [
              0.8888888888888888,
              "#fdca26"
             ],
             [
              1,
              "#f0f921"
             ]
            ],
            "type": "heatmapgl"
           }
          ],
          "histogram": [
           {
            "marker": {
             "pattern": {
              "fillmode": "overlay",
              "size": 10,
              "solidity": 0.2
             }
            },
            "type": "histogram"
           }
          ],
          "histogram2d": [
           {
            "colorbar": {
             "outlinewidth": 0,
             "ticks": ""
            },
            "colorscale": [
             [
              0,
              "#0d0887"
             ],
             [
              0.1111111111111111,
              "#46039f"
             ],
             [
              0.2222222222222222,
              "#7201a8"
             ],
             [
              0.3333333333333333,
              "#9c179e"
             ],
             [
              0.4444444444444444,
              "#bd3786"
             ],
             [
              0.5555555555555556,
              "#d8576b"
             ],
             [
              0.6666666666666666,
              "#ed7953"
             ],
             [
              0.7777777777777778,
              "#fb9f3a"
             ],
             [
              0.8888888888888888,
              "#fdca26"
             ],
             [
              1,
              "#f0f921"
             ]
            ],
            "type": "histogram2d"
           }
          ],
          "histogram2dcontour": [
           {
            "colorbar": {
             "outlinewidth": 0,
             "ticks": ""
            },
            "colorscale": [
             [
              0,
              "#0d0887"
             ],
             [
              0.1111111111111111,
              "#46039f"
             ],
             [
              0.2222222222222222,
              "#7201a8"
             ],
             [
              0.3333333333333333,
              "#9c179e"
             ],
             [
              0.4444444444444444,
              "#bd3786"
             ],
             [
              0.5555555555555556,
              "#d8576b"
             ],
             [
              0.6666666666666666,
              "#ed7953"
             ],
             [
              0.7777777777777778,
              "#fb9f3a"
             ],
             [
              0.8888888888888888,
              "#fdca26"
             ],
             [
              1,
              "#f0f921"
             ]
            ],
            "type": "histogram2dcontour"
           }
          ],
          "mesh3d": [
           {
            "colorbar": {
             "outlinewidth": 0,
             "ticks": ""
            },
            "type": "mesh3d"
           }
          ],
          "parcoords": [
           {
            "line": {
             "colorbar": {
              "outlinewidth": 0,
              "ticks": ""
             }
            },
            "type": "parcoords"
           }
          ],
          "pie": [
           {
            "automargin": true,
            "type": "pie"
           }
          ],
          "scatter": [
           {
            "fillpattern": {
             "fillmode": "overlay",
             "size": 10,
             "solidity": 0.2
            },
            "type": "scatter"
           }
          ],
          "scatter3d": [
           {
            "line": {
             "colorbar": {
              "outlinewidth": 0,
              "ticks": ""
             }
            },
            "marker": {
             "colorbar": {
              "outlinewidth": 0,
              "ticks": ""
             }
            },
            "type": "scatter3d"
           }
          ],
          "scattercarpet": [
           {
            "marker": {
             "colorbar": {
              "outlinewidth": 0,
              "ticks": ""
             }
            },
            "type": "scattercarpet"
           }
          ],
          "scattergeo": [
           {
            "marker": {
             "colorbar": {
              "outlinewidth": 0,
              "ticks": ""
             }
            },
            "type": "scattergeo"
           }
          ],
          "scattergl": [
           {
            "marker": {
             "colorbar": {
              "outlinewidth": 0,
              "ticks": ""
             }
            },
            "type": "scattergl"
           }
          ],
          "scattermapbox": [
           {
            "marker": {
             "colorbar": {
              "outlinewidth": 0,
              "ticks": ""
             }
            },
            "type": "scattermapbox"
           }
          ],
          "scatterpolar": [
           {
            "marker": {
             "colorbar": {
              "outlinewidth": 0,
              "ticks": ""
             }
            },
            "type": "scatterpolar"
           }
          ],
          "scatterpolargl": [
           {
            "marker": {
             "colorbar": {
              "outlinewidth": 0,
              "ticks": ""
             }
            },
            "type": "scatterpolargl"
           }
          ],
          "scatterternary": [
           {
            "marker": {
             "colorbar": {
              "outlinewidth": 0,
              "ticks": ""
             }
            },
            "type": "scatterternary"
           }
          ],
          "surface": [
           {
            "colorbar": {
             "outlinewidth": 0,
             "ticks": ""
            },
            "colorscale": [
             [
              0,
              "#0d0887"
             ],
             [
              0.1111111111111111,
              "#46039f"
             ],
             [
              0.2222222222222222,
              "#7201a8"
             ],
             [
              0.3333333333333333,
              "#9c179e"
             ],
             [
              0.4444444444444444,
              "#bd3786"
             ],
             [
              0.5555555555555556,
              "#d8576b"
             ],
             [
              0.6666666666666666,
              "#ed7953"
             ],
             [
              0.7777777777777778,
              "#fb9f3a"
             ],
             [
              0.8888888888888888,
              "#fdca26"
             ],
             [
              1,
              "#f0f921"
             ]
            ],
            "type": "surface"
           }
          ],
          "table": [
           {
            "cells": {
             "fill": {
              "color": "#EBF0F8"
             },
             "line": {
              "color": "white"
             }
            },
            "header": {
             "fill": {
              "color": "#C8D4E3"
             },
             "line": {
              "color": "white"
             }
            },
            "type": "table"
           }
          ]
         },
         "layout": {
          "annotationdefaults": {
           "arrowcolor": "#2a3f5f",
           "arrowhead": 0,
           "arrowwidth": 1
          },
          "autotypenumbers": "strict",
          "coloraxis": {
           "colorbar": {
            "outlinewidth": 0,
            "ticks": ""
           }
          },
          "colorscale": {
           "diverging": [
            [
             0,
             "#8e0152"
            ],
            [
             0.1,
             "#c51b7d"
            ],
            [
             0.2,
             "#de77ae"
            ],
            [
             0.3,
             "#f1b6da"
            ],
            [
             0.4,
             "#fde0ef"
            ],
            [
             0.5,
             "#f7f7f7"
            ],
            [
             0.6,
             "#e6f5d0"
            ],
            [
             0.7,
             "#b8e186"
            ],
            [
             0.8,
             "#7fbc41"
            ],
            [
             0.9,
             "#4d9221"
            ],
            [
             1,
             "#276419"
            ]
           ],
           "sequential": [
            [
             0,
             "#0d0887"
            ],
            [
             0.1111111111111111,
             "#46039f"
            ],
            [
             0.2222222222222222,
             "#7201a8"
            ],
            [
             0.3333333333333333,
             "#9c179e"
            ],
            [
             0.4444444444444444,
             "#bd3786"
            ],
            [
             0.5555555555555556,
             "#d8576b"
            ],
            [
             0.6666666666666666,
             "#ed7953"
            ],
            [
             0.7777777777777778,
             "#fb9f3a"
            ],
            [
             0.8888888888888888,
             "#fdca26"
            ],
            [
             1,
             "#f0f921"
            ]
           ],
           "sequentialminus": [
            [
             0,
             "#0d0887"
            ],
            [
             0.1111111111111111,
             "#46039f"
            ],
            [
             0.2222222222222222,
             "#7201a8"
            ],
            [
             0.3333333333333333,
             "#9c179e"
            ],
            [
             0.4444444444444444,
             "#bd3786"
            ],
            [
             0.5555555555555556,
             "#d8576b"
            ],
            [
             0.6666666666666666,
             "#ed7953"
            ],
            [
             0.7777777777777778,
             "#fb9f3a"
            ],
            [
             0.8888888888888888,
             "#fdca26"
            ],
            [
             1,
             "#f0f921"
            ]
           ]
          },
          "colorway": [
           "#636efa",
           "#EF553B",
           "#00cc96",
           "#ab63fa",
           "#FFA15A",
           "#19d3f3",
           "#FF6692",
           "#B6E880",
           "#FF97FF",
           "#FECB52"
          ],
          "font": {
           "color": "#2a3f5f"
          },
          "geo": {
           "bgcolor": "white",
           "lakecolor": "white",
           "landcolor": "#E5ECF6",
           "showlakes": true,
           "showland": true,
           "subunitcolor": "white"
          },
          "hoverlabel": {
           "align": "left"
          },
          "hovermode": "closest",
          "mapbox": {
           "style": "light"
          },
          "paper_bgcolor": "white",
          "plot_bgcolor": "#E5ECF6",
          "polar": {
           "angularaxis": {
            "gridcolor": "white",
            "linecolor": "white",
            "ticks": ""
           },
           "bgcolor": "#E5ECF6",
           "radialaxis": {
            "gridcolor": "white",
            "linecolor": "white",
            "ticks": ""
           }
          },
          "scene": {
           "xaxis": {
            "backgroundcolor": "#E5ECF6",
            "gridcolor": "white",
            "gridwidth": 2,
            "linecolor": "white",
            "showbackground": true,
            "ticks": "",
            "zerolinecolor": "white"
           },
           "yaxis": {
            "backgroundcolor": "#E5ECF6",
            "gridcolor": "white",
            "gridwidth": 2,
            "linecolor": "white",
            "showbackground": true,
            "ticks": "",
            "zerolinecolor": "white"
           },
           "zaxis": {
            "backgroundcolor": "#E5ECF6",
            "gridcolor": "white",
            "gridwidth": 2,
            "linecolor": "white",
            "showbackground": true,
            "ticks": "",
            "zerolinecolor": "white"
           }
          },
          "shapedefaults": {
           "line": {
            "color": "#2a3f5f"
           }
          },
          "ternary": {
           "aaxis": {
            "gridcolor": "white",
            "linecolor": "white",
            "ticks": ""
           },
           "baxis": {
            "gridcolor": "white",
            "linecolor": "white",
            "ticks": ""
           },
           "bgcolor": "#E5ECF6",
           "caxis": {
            "gridcolor": "white",
            "linecolor": "white",
            "ticks": ""
           }
          },
          "title": {
           "x": 0.05
          },
          "xaxis": {
           "automargin": true,
           "gridcolor": "white",
           "linecolor": "white",
           "ticks": "",
           "title": {
            "standoff": 15
           },
           "zerolinecolor": "white",
           "zerolinewidth": 2
          },
          "yaxis": {
           "automargin": true,
           "gridcolor": "white",
           "linecolor": "white",
           "ticks": "",
           "title": {
            "standoff": 15
           },
           "zerolinecolor": "white",
           "zerolinewidth": 2
          }
         }
        },
        "title": {
         "text": "PCAF quality score for 2021 (Financed Emissions)"
        },
        "yaxis": {
         "title": {
          "text": "%"
         }
        }
       }
      }
     },
     "metadata": {},
     "output_type": "display_data"
    }
   ],
   "source": [
    "scoreLabels = ['1', '2', '3', '4', '5', 'No Data']\n",
    "measureNames = list(pcafMeasures.keys())\n",
    "\n",
    "# show first bar chart\n",
    "tWeights = list(map(list, zip(*pcafWeights)))\n",
    "# move no data entry to the end\n",
    "tWeights = tWeights[1:] + [tWeights[0]]\n",
    "plotData = []\n",
    "idx = 0\n",
    "for grade in scoreLabels:\n",
    "    plotData.append(go.Bar(x = measureNames, name = grade,  y = tWeights[idx], marker_color=lsegColors[idx] ))\n",
    "    idx = idx + 1\n",
    "\n",
    "fig = go.Figure(plotData)\n",
    "# Change the bar mode\n",
    "fig.update_layout(barmode='stack', bargap=0.8, title_text=f\"PCAF quality score for {pcafYear} (Index Weight)\", yaxis=dict(title='%'))\n",
    "fig.show()\n",
    "\n",
    "# add second bar chart\n",
    "tWeights = list(map(list, zip(*pcafFE)))\n",
    "# move no data entry to the end\n",
    "tWeights = tWeights[1:] + [tWeights[0]]\n",
    "plotData = []\n",
    "idx = 0\n",
    "for grade in scoreLabels:\n",
    "    plotData.append(go.Bar(x = measureNames, name = grade,  y = tWeights[idx], marker_color=lsegColors[idx] ))\n",
    "    idx = idx + 1\n",
    "\n",
    "fig = go.Figure(plotData)\n",
    "# Change the bar mode\n",
    "fig.update_layout(barmode='stack', bargap=0.8, title_text=f\"PCAF quality score for {pcafYear} (Financed Emissions)\", yaxis=dict(title='%'))\n",
    "fig.show()"
   ]
  },
  {
   "cell_type": "code",
   "execution_count": null,
   "metadata": {},
   "outputs": [],
   "source": []
  },
  {
   "cell_type": "markdown",
   "metadata": {},
   "source": [
    "### One time step: Download and save the Bulk files\n",
    "---"
   ]
  },
  {
   "cell_type": "code",
   "execution_count": 17,
   "metadata": {},
   "outputs": [
    {
     "name": "stdout",
     "output_type": "stream",
     "text": [
      "Getting access token...\n",
      "...token received\n",
      "{'value': [{'id': '4005-f8cb-27593d0d-82a1-65e06fa6c8e0', 'name': 'Bulk-Climate-Global-Measures-WealthPro-Limited-v1-DataItems-Csv-Delta-2023-11-12T17:05:01.948Z', 'bucketName': 'bulk-climate', 'packageId': '442f-6fa3-592ad4f5-95a1-108bde772301', 'attributes': [{'name': 'ContentType', 'value': 'Climate'}, {'name': 'ResultCount', 'value': '106132'}], 'files': ['4bd8-80cd-94e56d06-b04d-810303c44a9b'], 'numFiles': 1, 'contentFrom': '2023-11-05T16:55:00Z', 'contentTo': '2023-11-12T16:55:00Z', 'availableFrom': '2023-11-12T17:17:20Z', 'availableTo': '2023-11-26T17:17:19Z', 'status': 'READY', 'created': '2023-11-12T17:17:20Z', 'modified': '2023-11-12T17:17:22Z'}, {'id': '4042-2d7b-3e0f894e-bdbf-d55d624648c1', 'name': 'Bulk-Climate-Global-Measures-WealthPro-CDP-Limited-v1-Csv-Init-2023-11-19T17:04:41.632Z', 'bucketName': 'bulk-climate', 'packageId': '436d-2891-52a25ccf-8d36-bc39f94b66ce', 'attributes': [{'name': 'ResultCount', 'value': '4368'}, {'name': 'ContentType', 'value': 'Climate'}], 'files': ['48ab-1a5a-bee1932d-aeb0-86db0203ff5e'], 'numFiles': 1, 'contentFrom': '1970-01-01T00:00:00Z', 'contentTo': '2023-11-19T16:55:00Z', 'availableFrom': '2023-11-19T17:14:57Z', 'availableTo': '2023-12-03T17:14:57Z', 'status': 'READY', 'created': '2023-11-19T17:14:57Z', 'modified': '2023-11-19T17:14:59Z'}, {'id': '409b-c25d-94ccb1e2-8d8e-238acff936ce', 'name': 'Bulk-Climate-Global-Measures-Full-v1-DataItems-Csv-Init-2023-11-19T17:01:08.335Z', 'bucketName': 'bulk-climate', 'packageId': '4f25-b88a-747a9de3-a463-009b6b08cbc7', 'attributes': [{'name': 'ContentType', 'value': 'Climate'}, {'name': 'ResultCount', 'value': '7162689'}], 'files': ['4536-07e2-430f3ec3-bb73-a1c3485fea57'], 'numFiles': 1, 'contentFrom': '1970-01-01T00:00:00Z', 'contentTo': '2023-11-19T16:55:00Z', 'availableFrom': '2023-11-19T17:14:19Z', 'availableTo': '2023-12-03T17:14:19Z', 'status': 'READY', 'created': '2023-11-19T17:14:19Z', 'modified': '2023-11-19T17:24:55Z'}, {'id': '40fd-9734-4859263c-a3c3-b654de803bdd', 'name': 'Bulk-Climate-Global-Measures-CDP-v1-Jsonl-Init-2023-11-19T17:03:52.943Z', 'bucketName': 'bulk-climate', 'packageId': '45ad-ee4b-9dfd4ed0-b6a2-f5a1b864f580', 'attributes': [{'name': 'ResultCount', 'value': '16921'}, {'name': 'ContentType', 'value': 'Climate'}], 'files': ['4564-2475-3cd2a03e-8a4e-e072b5da32b9'], 'numFiles': 1, 'contentFrom': '1970-01-01T00:00:00Z', 'contentTo': '2023-11-19T16:55:00Z', 'availableFrom': '2023-11-19T17:14:21Z', 'availableTo': '2023-12-03T17:14:21Z', 'status': 'READY', 'created': '2023-11-19T17:14:21Z', 'modified': '2023-11-19T17:15:23Z'}, {'id': '419a-23b5-a3f4493c-96ce-2548849f2428', 'name': 'Bulk-Climate-Global-Measures-CDP-v1-Csv-Delta-2023-11-19T17:01:41.763Z', 'bucketName': 'bulk-climate', 'packageId': '45ad-ee4b-9dfd4ed0-b6a2-f5a1b864f580', 'attributes': [{'name': 'ResultCount', 'value': '1662958'}, {'name': 'ContentType', 'value': 'Climate'}], 'files': ['479a-362e-a9398c83-8fa3-153537a42c51'], 'numFiles': 1, 'contentFrom': '2023-11-12T16:55:00Z', 'contentTo': '2023-11-19T16:55:00Z', 'availableFrom': '2023-11-19T17:14:26Z', 'availableTo': '2023-12-03T17:14:26Z', 'status': 'READY', 'created': '2023-11-19T17:14:26Z', 'modified': '2023-11-19T17:14:54Z'}, {'id': '419c-53ad-f6a463f9-b23b-454636e56663', 'name': 'Bulk-Climate-Global-Measures-CDP-v1-Jsonl-Init-2023-11-12T17:04:50.923Z', 'bucketName': 'bulk-climate', 'packageId': '45ad-ee4b-9dfd4ed0-b6a2-f5a1b864f580', 'attributes': [{'name': 'ResultCount', 'value': '16921'}, {'name': 'ContentType', 'value': 'Climate'}], 'files': ['40c3-9d37-fd468cb5-a044-d4e7d598ae30'], 'numFiles': 1, 'contentFrom': '1970-01-01T00:00:00Z', 'contentTo': '2023-11-12T16:55:00Z', 'availableFrom': '2023-11-12T17:19:14Z', 'availableTo': '2023-11-26T17:19:14Z', 'status': 'READY', 'created': '2023-11-12T17:19:14Z', 'modified': '2023-11-12T17:20:15Z'}, {'id': '419f-24f9-32c8eeb4-b2aa-cf277bcbd4a8', 'name': 'Bulk-Climate-Global-Measures-Full-Limited-v1-DataItems-Jsonl-Delta-2023-11-19T17:03:07.344Z', 'bucketName': 'bulk-climate', 'packageId': '48b5-337b-70af4ccd-a67e-80f8dd33357f', 'attributes': [{'name': 'ContentType', 'value': 'Climate'}, {'name': 'ResultCount', 'value': '2163'}], 'files': ['4c43-25ea-a739eb69-9915-0d53ec1bab2e'], 'numFiles': 1, 'contentFrom': '2023-11-12T16:55:00Z', 'contentTo': '2023-11-19T16:55:00Z', 'availableFrom': '2023-11-19T17:14:03Z', 'availableTo': '2023-12-03T17:14:03Z', 'status': 'READY', 'created': '2023-11-19T17:14:03Z', 'modified': '2023-11-19T17:14:12Z'}, {'id': '41c5-020a-3d72bdab-809f-dd29526cce18', 'name': 'Bulk-Climate-Global-Measures-WealthPro-CDP-Limited-v1-Csv-Delta-2023-11-19T17:03:43.533Z', 'bucketName': 'bulk-climate', 'packageId': '436d-2891-52a25ccf-8d36-bc39f94b66ce', 'attributes': [{'name': 'ContentType', 'value': 'Climate'}, {'name': 'ResultCount', 'value': '3501'}], 'files': ['4a6b-07c7-963bb919-b8c3-049efa3a5f4d'], 'numFiles': 1, 'contentFrom': '2023-11-12T16:55:00Z', 'contentTo': '2023-11-19T16:55:00Z', 'availableFrom': '2023-11-19T17:15:46Z', 'availableTo': '2023-12-03T17:15:46Z', 'status': 'READY', 'created': '2023-11-19T17:15:46Z', 'modified': '2023-11-19T17:15:48Z'}, {'id': '41e2-b43f-760fe066-aaa5-4c054e1123cf', 'name': 'Bulk-Climate-Global-Measures-WealthPro-CDP-Limited-v1-Jsonl-Delta-2023-11-19T17:03:43.533Z', 'bucketName': 'bulk-climate', 'packageId': '436d-2891-52a25ccf-8d36-bc39f94b66ce', 'attributes': [{'name': 'ContentType', 'value': 'Climate'}, {'name': 'ResultCount', 'value': '58'}], 'files': ['427d-dfee-53ad30bb-bf05-6bf2b8ad20f2'], 'numFiles': 1, 'contentFrom': '2023-11-12T16:55:00Z', 'contentTo': '2023-11-19T16:55:00Z', 'availableFrom': '2023-11-19T17:15:44Z', 'availableTo': '2023-12-03T17:15:44Z', 'status': 'READY', 'created': '2023-11-19T17:15:44Z', 'modified': '2023-11-19T17:15:48Z'}, {'id': '431b-e08f-12bcc1f4-be24-79fa5111d807', 'name': 'Bulk-Climate-Global-Measures-Full-v1-Analytics-Csv-Init-2023-11-19T17:01:08.335Z', 'bucketName': 'bulk-climate', 'packageId': '4f25-b88a-747a9de3-a463-009b6b08cbc7', 'attributes': [{'name': 'ContentType', 'value': 'Climate'}, {'name': 'ResultCount', 'value': '1204918'}], 'files': ['4a44-d142-9c4bcf40-a6bb-55b653d4b4e2'], 'numFiles': 1, 'contentFrom': '1970-01-01T00:00:00Z', 'contentTo': '2023-11-19T16:55:00Z', 'availableFrom': '2023-11-19T17:24:34Z', 'availableTo': '2023-12-03T17:24:34Z', 'status': 'READY', 'created': '2023-11-19T17:24:34Z', 'modified': '2023-11-19T17:24:55Z'}, {'id': '4359-6e52-49fa27e5-9d88-7bcb92133945', 'name': 'Bulk-Climate-Global-Measures-WealthPro-CDP-Limited-v1-Jsonl-Delta-2023-11-12T17:02:06.388Z', 'bucketName': 'bulk-climate', 'packageId': '436d-2891-52a25ccf-8d36-bc39f94b66ce', 'attributes': [{'name': 'ContentType', 'value': 'Climate'}, {'name': 'ResultCount', 'value': '61'}], 'files': ['4b78-50c9-3e2d2a76-a71f-dc41eadf81da'], 'numFiles': 1, 'contentFrom': '2023-11-05T16:55:00Z', 'contentTo': '2023-11-12T16:55:00Z', 'availableFrom': '2023-11-12T17:11:18Z', 'availableTo': '2023-11-26T17:11:18Z', 'status': 'READY', 'created': '2023-11-12T17:11:18Z', 'modified': '2023-11-12T17:11:22Z'}, {'id': '43d5-5a77-2fd8468f-b07b-3bf4d9decd92', 'name': 'Bulk-Climate-Global-Measures-WealthPro-Limited-v1-DataItems-Jsonl-Init-2023-11-19T17:03:12.190Z', 'bucketName': 'bulk-climate', 'packageId': '442f-6fa3-592ad4f5-95a1-108bde772301', 'attributes': [{'name': 'ResultCount', 'value': '2406'}, {'name': 'ContentType', 'value': 'Climate'}], 'files': ['42e9-6440-ac4f61f0-b6a6-50a56e70d0dd'], 'numFiles': 1, 'contentFrom': '1970-01-01T00:00:00Z', 'contentTo': '2023-11-19T16:55:00Z', 'availableFrom': '2023-11-19T17:13:24Z', 'availableTo': '2023-12-03T17:13:23Z', 'status': 'READY', 'created': '2023-11-19T17:13:24Z', 'modified': '2023-11-19T17:13:32Z'}, {'id': '43f8-97b9-da9b9c92-85cf-5acf6a4f5421', 'name': 'Bulk-Climate-Global-Measures-Full-v1-DataItems-Csv-Delta-2023-11-12T17:05:52.054Z', 'bucketName': 'bulk-climate', 'packageId': '4f25-b88a-747a9de3-a463-009b6b08cbc7', 'attributes': [{'name': 'ContentType', 'value': 'Climate'}, {'name': 'ResultCount', 'value': '7038859'}], 'files': ['4613-38ba-2a488324-ad8c-9bdf4b4ca5f0'], 'numFiles': 1, 'contentFrom': '2023-11-05T16:55:00Z', 'contentTo': '2023-11-12T16:55:00Z', 'availableFrom': '2023-11-12T17:23:52Z', 'availableTo': '2023-11-26T17:23:52Z', 'status': 'READY', 'created': '2023-11-12T17:23:52Z', 'modified': '2023-11-12T17:33:17Z'}, {'id': '441f-8336-4fadae11-b024-d7ea85825e83', 'name': 'Bulk-Climate-Global-Measures-Full-v1-Analytics-Csv-Delta-2023-11-19T17:03:40.502Z', 'bucketName': 'bulk-climate', 'packageId': '4f25-b88a-747a9de3-a463-009b6b08cbc7', 'attributes': [{'name': 'ContentType', 'value': 'Climate'}, {'name': 'ResultCount', 'value': '1204883'}], 'files': ['4eda-928a-940cb607-8a22-2f3f41e72776'], 'numFiles': 1, 'contentFrom': '2023-11-12T16:55:00Z', 'contentTo': '2023-11-19T16:55:00Z', 'availableFrom': '2023-11-19T17:27:10Z', 'availableTo': '2023-12-03T17:27:10Z', 'status': 'READY', 'created': '2023-11-19T17:27:10Z', 'modified': '2023-11-19T17:27:31Z'}, {'id': '4458-3ec2-936aeccc-9f9b-53b15d254356', 'name': 'Bulk-Climate-Global-Measures-WealthPro-Limited-v1-DataItems-Jsonl-Delta-2023-11-19T17:02:36.562Z', 'bucketName': 'bulk-climate', 'packageId': '442f-6fa3-592ad4f5-95a1-108bde772301', 'attributes': [{'name': 'ContentType', 'value': 'Climate'}, {'name': 'ResultCount', 'value': '2163'}], 'files': ['4d32-1674-a5166ed0-8f64-8c0a9d25c5dc'], 'numFiles': 1, 'contentFrom': '2023-11-12T16:55:00Z', 'contentTo': '2023-11-19T16:55:00Z', 'availableFrom': '2023-11-19T17:13:22Z', 'availableTo': '2023-12-03T17:13:22Z', 'status': 'READY', 'created': '2023-11-19T17:13:22Z', 'modified': '2023-11-19T17:13:30Z'}, {'id': '447f-7714-3765c29e-b475-3dd46dd72d7d', 'name': 'Bulk-Climate-Global-Measures-CDP-v1-Jsonl-Delta-2023-11-12T17:03:23.612Z', 'bucketName': 'bulk-climate', 'packageId': '45ad-ee4b-9dfd4ed0-b6a2-f5a1b864f580', 'attributes': [{'name': 'ResultCount', 'value': '16883'}, {'name': 'ContentType', 'value': 'Climate'}], 'files': ['4cce-c937-55051670-915a-d596c09f6515'], 'numFiles': 1, 'contentFrom': '2023-11-05T16:55:00Z', 'contentTo': '2023-11-12T16:55:00Z', 'availableFrom': '2023-11-12T17:19:41Z', 'availableTo': '2023-11-26T17:19:41Z', 'status': 'READY', 'created': '2023-11-12T17:19:41Z', 'modified': '2023-11-12T17:20:41Z'}, {'id': '4486-be5d-5b45df44-8986-3d38526b739d', 'name': 'Bulk-Climate-Global-Measures-CDP-Limited-v1-Jsonl-Delta-2023-11-12T17:03:23.897Z', 'bucketName': 'bulk-climate', 'packageId': '4aad-1686-5db19743-9b91-d45e83f929bc', 'attributes': [{'name': 'ResultCount', 'value': '61'}, {'name': 'ContentType', 'value': 'Climate'}], 'files': ['4358-68f1-3b54fc35-a5fe-5da9f219be75'], 'numFiles': 1, 'contentFrom': '2023-11-05T16:55:00Z', 'contentTo': '2023-11-12T16:55:00Z', 'availableFrom': '2023-11-12T17:17:21Z', 'availableTo': '2023-11-26T17:17:21Z', 'status': 'READY', 'created': '2023-11-12T17:17:21Z', 'modified': '2023-11-12T17:17:25Z'}, {'id': '44a1-dc87-247b8dda-870d-e17af2cd29ca', 'name': 'Bulk-Climate-Global-Measures-CDP-Limited-v1-Jsonl-Delta-2023-11-19T17:03:18.480Z', 'bucketName': 'bulk-climate', 'packageId': '4aad-1686-5db19743-9b91-d45e83f929bc', 'attributes': [{'name': 'ResultCount', 'value': '58'}, {'name': 'ContentType', 'value': 'Climate'}], 'files': ['40be-5f60-0c45c283-8442-223f2fdd7a6c'], 'numFiles': 1, 'contentFrom': '2023-11-12T16:55:00Z', 'contentTo': '2023-11-19T16:55:00Z', 'availableFrom': '2023-11-19T17:14:38Z', 'availableTo': '2023-12-03T17:14:38Z', 'status': 'READY', 'created': '2023-11-19T17:14:38Z', 'modified': '2023-11-19T17:14:42Z'}, {'id': '4543-94fb-51b1da54-8800-daad0951dc6f', 'name': 'Bulk-Climate-Global-Measures-Full-Limited-v1-DataItems-Jsonl-Delta-2023-11-12T17:04:36.004Z', 'bucketName': 'bulk-climate', 'packageId': '48b5-337b-70af4ccd-a67e-80f8dd33357f', 'attributes': [{'name': 'ContentType', 'value': 'Climate'}, {'name': 'ResultCount', 'value': '2202'}], 'files': ['49e4-c48b-6e9b9226-8f29-5fc3010fcede'], 'numFiles': 1, 'contentFrom': '2023-11-05T16:55:00Z', 'contentTo': '2023-11-12T16:55:00Z', 'availableFrom': '2023-11-12T17:18:13Z', 'availableTo': '2023-11-26T17:18:13Z', 'status': 'READY', 'created': '2023-11-12T17:18:13Z', 'modified': '2023-11-12T17:18:23Z'}, {'id': '456e-2931-6d612dd2-a326-e094a71cd5cf', 'name': 'Bulk-Climate-Global-Measures-Full-v1-DataItems-Csv-Init-2023-11-12T17:05:30.140Z', 'bucketName': 'bulk-climate', 'packageId': '4f25-b88a-747a9de3-a463-009b6b08cbc7', 'attributes': [{'name': 'ResultCount', 'value': '7041256'}, {'name': 'ContentType', 'value': 'Climate'}], 'files': ['4735-aca1-bd07dffe-a54b-ee6e65a9ba0b'], 'numFiles': 1, 'contentFrom': '1970-01-01T00:00:00Z', 'contentTo': '2023-11-12T16:55:00Z', 'availableFrom': '2023-11-12T17:23:59Z', 'availableTo': '2023-11-26T17:23:59Z', 'status': 'READY', 'created': '2023-11-12T17:23:59Z', 'modified': '2023-11-12T17:33:21Z'}, {'id': '4585-ffb6-2c5fe4e5-82ed-f8d527593ba0', 'name': 'Bulk-Climate-Global-Measures-WealthPro-CDP-Limited-v1-Jsonl-Init-2023-11-19T17:04:41.632Z', 'bucketName': 'bulk-climate', 'packageId': '436d-2891-52a25ccf-8d36-bc39f94b66ce', 'attributes': [{'name': 'ContentType', 'value': 'Climate'}, {'name': 'ResultCount', 'value': '70'}], 'files': ['44b0-69d0-ae5e4682-8610-a9a56547a44b'], 'numFiles': 1, 'contentFrom': '1970-01-01T00:00:00Z', 'contentTo': '2023-11-19T16:55:00Z', 'availableFrom': '2023-11-19T17:14:54Z', 'availableTo': '2023-12-03T17:14:54Z', 'status': 'READY', 'created': '2023-11-19T17:14:54Z', 'modified': '2023-11-19T17:14:58Z'}, {'id': '45db-f261-a0746561-beed-04e77f74b765', 'name': 'Bulk-Climate-Global-Measures-Full-v1-Analytics-Jsonl-Delta-2023-11-12T17:05:52.054Z', 'bucketName': 'bulk-climate', 'packageId': '4f25-b88a-747a9de3-a463-009b6b08cbc7', 'attributes': [{'name': 'ContentType', 'value': 'Climate'}, {'name': 'ResultCount', 'value': '77672'}], 'files': ['4208-fe45-ccdaeb80-be7e-9f0c698f8633'], 'numFiles': 1, 'contentFrom': '2023-11-05T16:55:00Z', 'contentTo': '2023-11-12T16:55:00Z', 'availableFrom': '2023-11-12T17:32:32Z', 'availableTo': '2023-11-26T17:32:32Z', 'status': 'READY', 'created': '2023-11-12T17:32:32Z', 'modified': '2023-11-12T17:33:18Z'}, {'id': '45f7-8d56-1cfbb022-a6e6-40dc8838fcc0', 'name': 'Bulk-Climate-Global-Measures-Full-Limited-v1-DataItems-Csv-Delta-2023-11-12T17:04:36.004Z', 'bucketName': 'bulk-climate', 'packageId': '48b5-337b-70af4ccd-a67e-80f8dd33357f', 'attributes': [{'name': 'ResultCount', 'value': '117911'}, {'name': 'ContentType', 'value': 'Climate'}], 'files': ['4f6c-07df-79d61161-80fa-b8220bb475ee'], 'numFiles': 1, 'contentFrom': '2023-11-05T16:55:00Z', 'contentTo': '2023-11-12T16:55:00Z', 'availableFrom': '2023-11-12T17:18:20Z', 'availableTo': '2023-11-26T17:18:19Z', 'status': 'READY', 'created': '2023-11-12T17:18:20Z', 'modified': '2023-11-12T17:18:23Z'}, {'id': '45fb-7270-4313946b-b7f0-39075f5f5433', 'name': 'Bulk-Climate-Global-Measures-Full-v1-DataItems-Jsonl-Init-2023-11-12T17:05:30.140Z', 'bucketName': 'bulk-climate', 'packageId': '4f25-b88a-747a9de3-a463-009b6b08cbc7', 'attributes': [{'name': 'ResultCount', 'value': '114671'}, {'name': 'ContentType', 'value': 'Climate'}], 'files': ['4836-0baf-317ef32b-90bf-ccd20e68b69c'], 'numFiles': 1, 'contentFrom': '1970-01-01T00:00:00Z', 'contentTo': '2023-11-12T16:55:00Z', 'availableFrom': '2023-11-12T17:21:18Z', 'availableTo': '2023-11-26T17:21:18Z', 'status': 'READY', 'created': '2023-11-12T17:21:18Z', 'modified': '2023-11-12T17:33:21Z'}, {'id': '4607-d0fe-d735086a-b8f8-9bce13cc0d8a', 'name': 'Bulk-Climate-Global-Measures-WealthPro-Limited-v1-DataItems-Jsonl-Init-2023-11-12T17:06:06.966Z', 'bucketName': 'bulk-climate', 'packageId': '442f-6fa3-592ad4f5-95a1-108bde772301', 'attributes': [{'name': 'ContentType', 'value': 'Climate'}, {'name': 'ResultCount', 'value': '2394'}], 'files': ['4678-8ebd-976f4be6-a064-3d4cc5a57dcd'], 'numFiles': 1, 'contentFrom': '1970-01-01T00:00:00Z', 'contentTo': '2023-11-12T16:55:00Z', 'availableFrom': '2023-11-12T17:18:20Z', 'availableTo': '2023-11-26T17:18:20Z', 'status': 'READY', 'created': '2023-11-12T17:18:20Z', 'modified': '2023-11-12T17:18:28Z'}, {'id': '460d-0d87-3e5caaf4-bb9d-96e998600280', 'name': 'Bulk-Climate-Global-Measures-Full-Limited-v1-DataItems-Csv-Delta-2023-11-19T17:03:07.344Z', 'bucketName': 'bulk-climate', 'packageId': '48b5-337b-70af4ccd-a67e-80f8dd33357f', 'attributes': [{'name': 'ResultCount', 'value': '117461'}, {'name': 'ContentType', 'value': 'Climate'}], 'files': ['4f0f-ef24-f9a4ebe1-a4f0-111c5aed1ca6'], 'numFiles': 1, 'contentFrom': '2023-11-12T16:55:00Z', 'contentTo': '2023-11-19T16:55:00Z', 'availableFrom': '2023-11-19T17:14:09Z', 'availableTo': '2023-12-03T17:14:09Z', 'status': 'READY', 'created': '2023-11-19T17:14:09Z', 'modified': '2023-11-19T17:14:13Z'}, {'id': '4612-53b4-47bd4296-bfeb-ce502be7ea6f', 'name': 'Bulk-Climate-Global-Measures-Full-Limited-v1-DataItems-Csv-Init-2023-11-19T17:03:12.099Z', 'bucketName': 'bulk-climate', 'packageId': '48b5-337b-70af4ccd-a67e-80f8dd33357f', 'attributes': [{'name': 'ResultCount', 'value': '128901'}, {'name': 'ContentType', 'value': 'Climate'}], 'files': ['4972-b958-60f2f3ba-8a4b-f742b4cd78ad'], 'numFiles': 1, 'contentFrom': '1970-01-01T00:00:00Z', 'contentTo': '2023-11-19T16:55:00Z', 'availableFrom': '2023-11-19T17:13:31Z', 'availableTo': '2023-12-03T17:13:31Z', 'status': 'READY', 'created': '2023-11-19T17:13:31Z', 'modified': '2023-11-19T17:13:34Z'}, {'id': '4614-cfd9-f9621fc6-b1f4-b398d735b857', 'name': 'Bulk-Climate-Global-Measures-Full-v1-Analytics-Jsonl-Init-2023-11-19T17:01:08.335Z', 'bucketName': 'bulk-climate', 'packageId': '4f25-b88a-747a9de3-a463-009b6b08cbc7', 'attributes': [{'name': 'ResultCount', 'value': '77853'}, {'name': 'ContentType', 'value': 'Climate'}], 'files': ['42f8-572e-60028178-81eb-9e4e218e5a51'], 'numFiles': 1, 'contentFrom': '1970-01-01T00:00:00Z', 'contentTo': '2023-11-19T16:55:00Z', 'availableFrom': '2023-11-19T17:24:11Z', 'availableTo': '2023-12-03T17:24:11Z', 'status': 'READY', 'created': '2023-11-19T17:24:11Z', 'modified': '2023-11-19T17:24:55Z'}, {'id': '4682-286f-7180eb91-9476-514f1f69cec0', 'name': 'Bulk-Climate-Global-Measures-Full-Limited-v1-DataItems-Jsonl-Init-2023-11-19T17:03:12.099Z', 'bucketName': 'bulk-climate', 'packageId': '48b5-337b-70af4ccd-a67e-80f8dd33357f', 'attributes': [{'name': 'ContentType', 'value': 'Climate'}, {'name': 'ResultCount', 'value': '2406'}], 'files': ['4def-edee-4d41ad02-86ab-6da9f7bbd4b4'], 'numFiles': 1, 'contentFrom': '1970-01-01T00:00:00Z', 'contentTo': '2023-11-19T16:55:00Z', 'availableFrom': '2023-11-19T17:13:24Z', 'availableTo': '2023-12-03T17:13:23Z', 'status': 'READY', 'created': '2023-11-19T17:13:24Z', 'modified': '2023-11-19T17:13:34Z'}, {'id': '471a-f4b3-ceca3d2d-8788-b9f9bb74012b', 'name': 'Bulk-Climate-Global-Measures-Full-Limited-v1-DataItems-Csv-Init-2023-11-12T17:03:26.311Z', 'bucketName': 'bulk-climate', 'packageId': '48b5-337b-70af4ccd-a67e-80f8dd33357f', 'attributes': [{'name': 'ResultCount', 'value': '126843'}, {'name': 'ContentType', 'value': 'Climate'}], 'files': ['4c13-93d7-0919724d-87a6-40331da52002'], 'numFiles': 1, 'contentFrom': '1970-01-01T00:00:00Z', 'contentTo': '2023-11-12T16:55:00Z', 'availableFrom': '2023-11-12T17:17:09Z', 'availableTo': '2023-11-26T17:17:09Z', 'status': 'READY', 'created': '2023-11-12T17:17:09Z', 'modified': '2023-11-12T17:17:13Z'}, {'id': '4765-0aab-89de096d-993c-14177a9d36d0', 'name': 'Bulk-Climate-Global-Measures-CDP-Limited-v1-Jsonl-Init-2023-11-19T17:03:21.556Z', 'bucketName': 'bulk-climate', 'packageId': '4aad-1686-5db19743-9b91-d45e83f929bc', 'attributes': [{'name': 'ResultCount', 'value': '70'}, {'name': 'ContentType', 'value': 'Climate'}], 'files': ['4d65-805e-f5926790-8ce9-90cdcf8d0727'], 'numFiles': 1, 'contentFrom': '1970-01-01T00:00:00Z', 'contentTo': '2023-11-19T16:55:00Z', 'availableFrom': '2023-11-19T17:13:02Z', 'availableTo': '2023-12-03T17:13:02Z', 'status': 'READY', 'created': '2023-11-19T17:13:02Z', 'modified': '2023-11-19T17:13:07Z'}, {'id': '47c7-1280-140c05fb-a362-58dfd25ae13d', 'name': 'Bulk-Climate-Global-Measures-Full-v1-Analytics-Jsonl-Init-2023-11-12T17:05:30.140Z', 'bucketName': 'bulk-climate', 'packageId': '4f25-b88a-747a9de3-a463-009b6b08cbc7', 'attributes': [{'name': 'ContentType', 'value': 'Climate'}, {'name': 'ResultCount', 'value': '77694'}], 'files': ['41f9-1a0b-0acae65c-9032-74ef0eab7b3d'], 'numFiles': 1, 'contentFrom': '1970-01-01T00:00:00Z', 'contentTo': '2023-11-12T16:55:00Z', 'availableFrom': '2023-11-12T17:32:36Z', 'availableTo': '2023-11-26T17:32:36Z', 'status': 'READY', 'created': '2023-11-12T17:32:36Z', 'modified': '2023-11-12T17:33:22Z'}, {'id': '4955-c608-2cd34bb7-b936-8f674a89a25b', 'name': 'Bulk-Climate-Global-Measures-CDP-v1-Jsonl-Delta-2023-11-19T17:01:41.763Z', 'bucketName': 'bulk-climate', 'packageId': '45ad-ee4b-9dfd4ed0-b6a2-f5a1b864f580', 'attributes': [{'name': 'ResultCount', 'value': '16882'}, {'name': 'ContentType', 'value': 'Climate'}], 'files': ['43e1-9ffb-f2a893f3-a327-6485c284418d'], 'numFiles': 1, 'contentFrom': '2023-11-12T16:55:00Z', 'contentTo': '2023-11-19T16:55:00Z', 'availableFrom': '2023-11-19T17:13:53Z', 'availableTo': '2023-12-03T17:13:52Z', 'status': 'READY', 'created': '2023-11-19T17:13:53Z', 'modified': '2023-11-19T17:14:54Z'}, {'id': '4984-183e-9d665e5f-bfe8-524ab831e51b', 'name': 'Bulk-Climate-Global-Measures-CDP-Limited-v1-Csv-Init-2023-11-19T17:03:21.556Z', 'bucketName': 'bulk-climate', 'packageId': '4aad-1686-5db19743-9b91-d45e83f929bc', 'attributes': [{'name': 'ContentType', 'value': 'Climate'}, {'name': 'ResultCount', 'value': '8736'}], 'files': ['4781-eb3e-e8a859f5-ba94-b458cb79ff34'], 'numFiles': 1, 'contentFrom': '1970-01-01T00:00:00Z', 'contentTo': '2023-11-19T16:55:00Z', 'availableFrom': '2023-11-19T17:13:06Z', 'availableTo': '2023-12-03T17:13:06Z', 'status': 'READY', 'created': '2023-11-19T17:13:06Z', 'modified': '2023-11-19T17:13:07Z'}, {'id': '49a9-f49d-c770cad9-83a7-67172445ccc3', 'name': 'Bulk-Climate-Global-Measures-Full-v1-Analytics-Csv-Delta-2023-11-12T17:05:52.054Z', 'bucketName': 'bulk-climate', 'packageId': '4f25-b88a-747a9de3-a463-009b6b08cbc7', 'attributes': [{'name': 'ResultCount', 'value': '1192521'}, {'name': 'ContentType', 'value': 'Climate'}], 'files': ['49bf-7410-cbb0a201-933d-b79bee18fde1'], 'numFiles': 1, 'contentFrom': '2023-11-05T16:55:00Z', 'contentTo': '2023-11-12T16:55:00Z', 'availableFrom': '2023-11-12T17:32:56Z', 'availableTo': '2023-11-26T17:32:56Z', 'status': 'READY', 'created': '2023-11-12T17:32:56Z', 'modified': '2023-11-12T17:33:18Z'}, {'id': '4afc-1fca-f694a8bc-9e7b-acf0050b1c55', 'name': 'Bulk-Climate-Global-Measures-Full-v1-DataItems-Csv-Delta-2023-11-19T17:03:40.502Z', 'bucketName': 'bulk-climate', 'packageId': '4f25-b88a-747a9de3-a463-009b6b08cbc7', 'attributes': [{'name': 'ResultCount', 'value': '7160327'}, {'name': 'ContentType', 'value': 'Climate'}], 'files': ['41f9-bdf5-4a2ee1dc-bad6-b47d9754f596'], 'numFiles': 1, 'contentFrom': '2023-11-12T16:55:00Z', 'contentTo': '2023-11-19T16:55:00Z', 'availableFrom': '2023-11-19T17:18:26Z', 'availableTo': '2023-12-03T17:18:26Z', 'status': 'READY', 'created': '2023-11-19T17:18:26Z', 'modified': '2023-11-19T17:27:31Z'}, {'id': '4b26-5154-f79c2b1c-8d24-bb3de39e9cc6', 'name': 'Bulk-Climate-Global-Measures-WealthPro-Limited-v1-DataItems-Csv-Init-2023-11-19T17:03:12.190Z', 'bucketName': 'bulk-climate', 'packageId': '442f-6fa3-592ad4f5-95a1-108bde772301', 'attributes': [{'name': 'ResultCount', 'value': '115866'}, {'name': 'ContentType', 'value': 'Climate'}], 'files': ['4c27-e663-28750075-a38f-37d52a93c457'], 'numFiles': 1, 'contentFrom': '1970-01-01T00:00:00Z', 'contentTo': '2023-11-19T16:55:00Z', 'availableFrom': '2023-11-19T17:13:29Z', 'availableTo': '2023-12-03T17:13:29Z', 'status': 'READY', 'created': '2023-11-19T17:13:29Z', 'modified': '2023-11-19T17:13:33Z'}, {'id': '4b35-0b0f-87e9f603-8a20-712b2f03634b', 'name': 'Bulk-Climate-Global-Measures-Full-v1-Analytics-Csv-Init-2023-11-12T17:05:30.140Z', 'bucketName': 'bulk-climate', 'packageId': '4f25-b88a-747a9de3-a463-009b6b08cbc7', 'attributes': [{'name': 'ContentType', 'value': 'Climate'}, {'name': 'ResultCount', 'value': '1192551'}], 'files': ['42be-e8de-f7be695f-b6a6-00ea5f715dc2'], 'numFiles': 1, 'contentFrom': '1970-01-01T00:00:00Z', 'contentTo': '2023-11-12T16:55:00Z', 'availableFrom': '2023-11-12T17:33:00Z', 'availableTo': '2023-11-26T17:33:00Z', 'status': 'READY', 'created': '2023-11-12T17:33:00Z', 'modified': '2023-11-12T17:33:22Z'}, {'id': '4b49-ddf9-336d793c-ab8c-286afda9997d', 'name': 'Bulk-Climate-Global-Measures-WealthPro-CDP-Limited-v1-Csv-Delta-2023-11-12T17:02:06.388Z', 'bucketName': 'bulk-climate', 'packageId': '436d-2891-52a25ccf-8d36-bc39f94b66ce', 'attributes': [{'name': 'ResultCount', 'value': '3736'}, {'name': 'ContentType', 'value': 'Climate'}], 'files': ['46dd-eedb-a9826cb9-93b4-dce9ae403cc7'], 'numFiles': 1, 'contentFrom': '2023-11-05T16:55:00Z', 'contentTo': '2023-11-12T16:55:00Z', 'availableFrom': '2023-11-12T17:11:21Z', 'availableTo': '2023-11-26T17:11:21Z', 'status': 'READY', 'created': '2023-11-12T17:11:21Z', 'modified': '2023-11-12T17:11:22Z'}, {'id': '4b5f-c92a-09e20c45-983e-56b0027377f5', 'name': 'Bulk-Climate-Global-Measures-WealthPro-Limited-v1-DataItems-Jsonl-Delta-2023-11-12T17:05:01.948Z', 'bucketName': 'bulk-climate', 'packageId': '442f-6fa3-592ad4f5-95a1-108bde772301', 'attributes': [{'name': 'ContentType', 'value': 'Climate'}, {'name': 'ResultCount', 'value': '2202'}], 'files': ['494e-a2ba-8221392c-8644-edd076f8f34a'], 'numFiles': 1, 'contentFrom': '2023-11-05T16:55:00Z', 'contentTo': '2023-11-12T16:55:00Z', 'availableFrom': '2023-11-12T17:17:14Z', 'availableTo': '2023-11-26T17:17:14Z', 'status': 'READY', 'created': '2023-11-12T17:17:14Z', 'modified': '2023-11-12T17:17:22Z'}, {'id': '4b7b-8154-c2eddc5c-b1cb-11aa32abcaf8', 'name': 'Bulk-Climate-Global-Measures-Full-Limited-v1-DataItems-Jsonl-Init-2023-11-12T17:03:26.311Z', 'bucketName': 'bulk-climate', 'packageId': '48b5-337b-70af4ccd-a67e-80f8dd33357f', 'attributes': [{'name': 'ContentType', 'value': 'Climate'}, {'name': 'ResultCount', 'value': '2394'}], 'files': ['4302-1a73-ec82bf9b-ae59-207ac791fe76'], 'numFiles': 1, 'contentFrom': '1970-01-01T00:00:00Z', 'contentTo': '2023-11-12T16:55:00Z', 'availableFrom': '2023-11-12T17:17:03Z', 'availableTo': '2023-11-26T17:17:03Z', 'status': 'READY', 'created': '2023-11-12T17:17:03Z', 'modified': '2023-11-12T17:17:12Z'}, {'id': '4bea-9463-9a04636d-b856-b833c8b1ede3', 'name': 'Bulk-Climate-Global-Measures-CDP-v1-Csv-Init-2023-11-12T17:04:50.923Z', 'bucketName': 'bulk-climate', 'packageId': '45ad-ee4b-9dfd4ed0-b6a2-f5a1b864f580', 'attributes': [{'name': 'ResultCount', 'value': '1665834'}, {'name': 'ContentType', 'value': 'Climate'}], 'files': ['49ed-4478-e1f0836f-9f35-15c8c1c6d682'], 'numFiles': 1, 'contentFrom': '1970-01-01T00:00:00Z', 'contentTo': '2023-11-12T16:55:00Z', 'availableFrom': '2023-11-12T17:19:48Z', 'availableTo': '2023-11-26T17:19:48Z', 'status': 'READY', 'created': '2023-11-12T17:19:48Z', 'modified': '2023-11-12T17:20:16Z'}, {'id': '4c08-804f-9892f0e3-8d6e-25fb4590c37a', 'name': 'Bulk-Climate-Global-Measures-Full-v1-DataItems-Jsonl-Delta-2023-11-12T17:05:52.054Z', 'bucketName': 'bulk-climate', 'packageId': '4f25-b88a-747a9de3-a463-009b6b08cbc7', 'attributes': [{'name': 'ContentType', 'value': 'Climate'}, {'name': 'ResultCount', 'value': '114200'}], 'files': ['45e1-8470-9cbbfcd9-841c-b7cc94ccd12a', '460e-717b-50eba8db-b2f3-e1e57984a17b'], 'numFiles': 2, 'contentFrom': '2023-11-05T16:55:00Z', 'contentTo': '2023-11-12T16:55:00Z', 'availableFrom': '2023-11-12T17:21:42Z', 'availableTo': '2023-11-26T17:21:42Z', 'status': 'READY', 'created': '2023-11-12T17:21:42Z', 'modified': '2023-11-12T17:33:17Z'}, {'id': '4cad-92ba-54933f59-badd-6eadeeba2331', 'name': 'Bulk-Climate-Global-Measures-CDP-Limited-v1-Csv-Init-2023-11-12T17:05:53.397Z', 'bucketName': 'bulk-climate', 'packageId': '4aad-1686-5db19743-9b91-d45e83f929bc', 'attributes': [{'name': 'ContentType', 'value': 'Climate'}, {'name': 'ResultCount', 'value': '8736'}], 'files': ['4203-4fc8-cada84a9-a0cf-daf2edcb3244'], 'numFiles': 1, 'contentFrom': '1970-01-01T00:00:00Z', 'contentTo': '2023-11-12T16:55:00Z', 'availableFrom': '2023-11-12T17:19:17Z', 'availableTo': '2023-11-26T17:19:17Z', 'status': 'READY', 'created': '2023-11-12T17:19:17Z', 'modified': '2023-11-12T17:19:18Z'}, {'id': '4cf2-9171-a2e161c8-b230-df081363b179', 'name': 'Bulk-Climate-Global-Measures-WealthPro-Limited-v1-DataItems-Csv-Init-2023-11-12T17:06:06.966Z', 'bucketName': 'bulk-climate', 'packageId': '442f-6fa3-592ad4f5-95a1-108bde772301', 'attributes': [{'name': 'ContentType', 'value': 'Climate'}, {'name': 'ResultCount', 'value': '113901'}], 'files': ['41d0-d2d2-62c6266d-85e2-dc6f745478e4'], 'numFiles': 1, 'contentFrom': '1970-01-01T00:00:00Z', 'contentTo': '2023-11-12T16:55:00Z', 'availableFrom': '2023-11-12T17:18:25Z', 'availableTo': '2023-11-26T17:18:25Z', 'status': 'READY', 'created': '2023-11-12T17:18:25Z', 'modified': '2023-11-12T17:18:28Z'}, {'id': '4da0-c34b-e402da52-9372-d09ea8b4aa49', 'name': 'Bulk-Climate-Global-Measures-CDP-v1-Csv-Delta-2023-11-12T17:03:23.612Z', 'bucketName': 'bulk-climate', 'packageId': '45ad-ee4b-9dfd4ed0-b6a2-f5a1b864f580', 'attributes': [{'name': 'ContentType', 'value': 'Climate'}, {'name': 'ResultCount', 'value': '1663110'}], 'files': ['4c6f-8c00-a0b6882f-9f38-97298fb5e2ab'], 'numFiles': 1, 'contentFrom': '2023-11-05T16:55:00Z', 'contentTo': '2023-11-12T16:55:00Z', 'availableFrom': '2023-11-12T17:20:14Z', 'availableTo': '2023-11-26T17:20:14Z', 'status': 'READY', 'created': '2023-11-12T17:20:14Z', 'modified': '2023-11-12T17:20:42Z'}, {'id': '4dc1-8a92-f70332bf-969c-0149292ebd9e', 'name': 'Bulk-Climate-Global-Measures-CDP-v1-Csv-Init-2023-11-19T17:03:52.943Z', 'bucketName': 'bulk-climate', 'packageId': '45ad-ee4b-9dfd4ed0-b6a2-f5a1b864f580', 'attributes': [{'name': 'ResultCount', 'value': '1665834'}, {'name': 'ContentType', 'value': 'Climate'}], 'files': ['4c42-9fce-012da064-bb7c-16b7d8f9f5f5'], 'numFiles': 1, 'contentFrom': '1970-01-01T00:00:00Z', 'contentTo': '2023-11-19T16:55:00Z', 'availableFrom': '2023-11-19T17:14:55Z', 'availableTo': '2023-12-03T17:14:55Z', 'status': 'READY', 'created': '2023-11-19T17:14:55Z', 'modified': '2023-11-19T17:15:23Z'}, {'id': '4dc7-f50d-385ec159-a31b-3b880ba320ed', 'name': 'Bulk-Climate-Global-Measures-CDP-Limited-v1-Csv-Delta-2023-11-12T17:03:23.897Z', 'bucketName': 'bulk-climate', 'packageId': '4aad-1686-5db19743-9b91-d45e83f929bc', 'attributes': [{'name': 'ResultCount', 'value': '7472'}, {'name': 'ContentType', 'value': 'Climate'}], 'files': ['47a0-5dc4-0aeab331-a0b2-58e03da0900c'], 'numFiles': 1, 'contentFrom': '2023-11-05T16:55:00Z', 'contentTo': '2023-11-12T16:55:00Z', 'availableFrom': '2023-11-12T17:17:24Z', 'availableTo': '2023-11-26T17:17:24Z', 'status': 'READY', 'created': '2023-11-12T17:17:24Z', 'modified': '2023-11-12T17:17:25Z'}, {'id': '4dfd-c64d-f1b36bed-9ad4-85e4389dd7ba', 'name': 'Bulk-Climate-Global-Measures-CDP-Limited-v1-Jsonl-Init-2023-11-12T17:05:53.397Z', 'bucketName': 'bulk-climate', 'packageId': '4aad-1686-5db19743-9b91-d45e83f929bc', 'attributes': [{'name': 'ResultCount', 'value': '70'}, {'name': 'ContentType', 'value': 'Climate'}], 'files': ['430b-1960-6a9793c0-8d83-9353a611eb98'], 'numFiles': 1, 'contentFrom': '1970-01-01T00:00:00Z', 'contentTo': '2023-11-12T16:55:00Z', 'availableFrom': '2023-11-12T17:19:14Z', 'availableTo': '2023-11-26T17:19:14Z', 'status': 'READY', 'created': '2023-11-12T17:19:14Z', 'modified': '2023-11-12T17:19:18Z'}, {'id': '4dfe-b85e-3eb62c31-a21a-6fac40e0ac06', 'name': 'Bulk-Climate-Global-Measures-WealthPro-CDP-Limited-v1-Jsonl-Init-2023-11-12T17:03:15.809Z', 'bucketName': 'bulk-climate', 'packageId': '436d-2891-52a25ccf-8d36-bc39f94b66ce', 'attributes': [{'name': 'ContentType', 'value': 'Climate'}, {'name': 'ResultCount', 'value': '70'}], 'files': ['483c-3245-adb335ed-a575-80855267dc16'], 'numFiles': 1, 'contentFrom': '1970-01-01T00:00:00Z', 'contentTo': '2023-11-12T16:55:00Z', 'availableFrom': '2023-11-12T17:16:40Z', 'availableTo': '2023-11-26T17:16:40Z', 'status': 'READY', 'created': '2023-11-12T17:16:40Z', 'modified': '2023-11-12T17:16:44Z'}, {'id': '4e23-47ff-d5f1a1f6-af81-208300d0dd10', 'name': 'Bulk-Climate-Global-Measures-Full-v1-DataItems-Jsonl-Init-2023-11-19T17:01:08.335Z', 'bucketName': 'bulk-climate', 'packageId': '4f25-b88a-747a9de3-a463-009b6b08cbc7', 'attributes': [{'name': 'ContentType', 'value': 'Climate'}, {'name': 'ResultCount', 'value': '114851'}], 'files': ['4611-2347-dee1aa87-868b-425d0a5b01eb', '48ac-c254-fdb73ec3-9086-8416177c9003'], 'numFiles': 2, 'contentFrom': '1970-01-01T00:00:00Z', 'contentTo': '2023-11-19T16:55:00Z', 'availableFrom': '2023-11-19T17:12:05Z', 'availableTo': '2023-12-03T17:12:05Z', 'status': 'READY', 'created': '2023-11-19T17:12:05Z', 'modified': '2023-11-19T17:24:54Z'}, {'id': '4e7f-d7d7-5675d5ff-8aca-e254f4ffd7ab', 'name': 'Bulk-Climate-Global-Measures-WealthPro-CDP-Limited-v1-Csv-Init-2023-11-12T17:03:15.809Z', 'bucketName': 'bulk-climate', 'packageId': '436d-2891-52a25ccf-8d36-bc39f94b66ce', 'attributes': [{'name': 'ResultCount', 'value': '4368'}, {'name': 'ContentType', 'value': 'Climate'}], 'files': ['42af-f6e0-a8b38bd5-b016-a0bf1a96fdde'], 'numFiles': 1, 'contentFrom': '1970-01-01T00:00:00Z', 'contentTo': '2023-11-12T16:55:00Z', 'availableFrom': '2023-11-12T17:16:43Z', 'availableTo': '2023-11-26T17:16:43Z', 'status': 'READY', 'created': '2023-11-12T17:16:43Z', 'modified': '2023-11-12T17:16:44Z'}, {'id': '4eac-98c7-50da3bf3-9617-07e23c230331', 'name': 'Bulk-Climate-Global-Measures-WealthPro-Limited-v1-DataItems-Csv-Delta-2023-11-19T17:02:36.562Z', 'bucketName': 'bulk-climate', 'packageId': '442f-6fa3-592ad4f5-95a1-108bde772301', 'attributes': [{'name': 'ResultCount', 'value': '105841'}, {'name': 'ContentType', 'value': 'Climate'}], 'files': ['4af5-1531-30d9829d-819f-3672217e81d4'], 'numFiles': 1, 'contentFrom': '2023-11-12T16:55:00Z', 'contentTo': '2023-11-19T16:55:00Z', 'availableFrom': '2023-11-19T17:13:28Z', 'availableTo': '2023-12-03T17:13:28Z', 'status': 'READY', 'created': '2023-11-19T17:13:28Z', 'modified': '2023-11-19T17:13:31Z'}, {'id': '4efe-0a2d-2276fcb2-beac-12799c94a9ab', 'name': 'Bulk-Climate-Global-Measures-Full-v1-DataItems-Jsonl-Delta-2023-11-19T17:03:40.502Z', 'bucketName': 'bulk-climate', 'packageId': '4f25-b88a-747a9de3-a463-009b6b08cbc7', 'attributes': [{'name': 'ContentType', 'value': 'Climate'}, {'name': 'ResultCount', 'value': '114375'}], 'files': ['4db9-9f01-b36dbaa7-abf3-c3dc9b3a91a4'], 'numFiles': 1, 'contentFrom': '2023-11-12T16:55:00Z', 'contentTo': '2023-11-19T16:55:00Z', 'availableFrom': '2023-11-19T17:15:48Z', 'availableTo': '2023-12-03T17:15:48Z', 'status': 'READY', 'created': '2023-11-19T17:15:48Z', 'modified': '2023-11-19T17:27:30Z'}, {'id': '4f76-3814-884e7bae-b1b2-1bf51ace908d', 'name': 'Bulk-Climate-Global-Measures-Full-v1-Analytics-Jsonl-Delta-2023-11-19T17:03:40.502Z', 'bucketName': 'bulk-climate', 'packageId': '4f25-b88a-747a9de3-a463-009b6b08cbc7', 'attributes': [{'name': 'ContentType', 'value': 'Climate'}, {'name': 'ResultCount', 'value': '77826'}], 'files': ['4e33-0790-b36031c0-bfe3-f67553122400'], 'numFiles': 1, 'contentFrom': '2023-11-12T16:55:00Z', 'contentTo': '2023-11-19T16:55:00Z', 'availableFrom': '2023-11-19T17:26:48Z', 'availableTo': '2023-12-03T17:26:47Z', 'status': 'READY', 'created': '2023-11-19T17:26:48Z', 'modified': '2023-11-19T17:27:31Z'}, {'id': '4f93-c5a0-2bb7a405-a99c-c960dee74afd', 'name': 'Bulk-Climate-Global-Measures-CDP-Limited-v1-Csv-Delta-2023-11-19T17:03:18.480Z', 'bucketName': 'bulk-climate', 'packageId': '4aad-1686-5db19743-9b91-d45e83f929bc', 'attributes': [{'name': 'ContentType', 'value': 'Climate'}, {'name': 'ResultCount', 'value': '7002'}], 'files': ['46bb-94fd-e4c25e1a-9bf8-02a109901921'], 'numFiles': 1, 'contentFrom': '2023-11-12T16:55:00Z', 'contentTo': '2023-11-19T16:55:00Z', 'availableFrom': '2023-11-19T17:14:41Z', 'availableTo': '2023-12-03T17:14:41Z', 'status': 'READY', 'created': '2023-11-19T17:14:41Z', 'modified': '2023-11-19T17:14:42Z'}]}\n",
      "Found bucket:  Bulk-Climate-Global-Measures-Full-v1-DataItems-Jsonl-Init-2023-11-12T17:05:30.140Z , Files:  ['4836-0baf-317ef32b-90bf-ccd20e68b69c']\n",
      "Found bucket:  Bulk-Climate-Global-Measures-Full-v1-DataItems-Jsonl-Init-2023-11-19T17:01:08.335Z , Files:  ['4611-2347-dee1aa87-868b-425d0a5b01eb', '48ac-c254-fdb73ec3-9086-8416177c9003']\n",
      "Downloading - Bulk-Climate-Global-Measures-Full-v1-DataItems-Jsonl-Init-2023-11-19T17:01:08.335Z\n",
      "File 4611-2347-dee1aa87-868b-425d0a5b01eb downloaded and uncompressed, size: 1327477429\n",
      "File 48ac-c254-fdb73ec3-9086-8416177c9003 downloaded and uncompressed, size: 1331285465\n"
     ]
    }
   ],
   "source": [
    "# For clients with subscription to full climate data\n",
    "# download the climate standard file:\n",
    "bFiles = downloadJSONBulkFile('bulk-Climate', 'ContentType:Climate', ['Measures-Full-v1-DataItems', 'Json', 'Init'])\n",
    "\n",
    "# For clients with subscription to ESG data Climate add-on package\n",
    "# Download the climate addon file \n",
    "#   Bucket: bulk-Climate\n",
    "#   ContentType: ClimateAddOn\n",
    "#   FileSetName: Bulk-Climate-Global-Measures-AddOn-v1-DataItems-Jsonl-Init\n",
    "\n",
    "# Also download the ESG Measures file to get Company Revenue and Enterprise Value\n",
    "# Finally combine and save the information in a unified DataFrame"
   ]
  },
  {
   "cell_type": "code",
   "execution_count": 19,
   "metadata": {},
   "outputs": [],
   "source": [
    "# lookup the field to datatype mapping from the field glossary document\n",
    "fields = {\n",
    "    'OrganizationId': 'DatapointValue',\n",
    "    'FinancialPeriodFiscalYear': 'DatapointValue',\n",
    "    'Scope1EstimatedTotal': 'DatapointValue',\n",
    "    'Scope2EstimatedTotal': 'DatapointValue',\n",
    "    'Scope3EstimationUpstreamTotal': 'DatapointValue',\n",
    "    'Scope3EstimationDownstreamTotal': 'DatapointValue',\n",
    "    'Scope1EstimatedMethod': 'DatapointValueText',\n",
    "    'Scope2EstimatedMethod': 'DatapointValueText',\n",
    "    'Scope3EstimationUpstreamMethod': 'DatapointValueText',\n",
    "    'Scope3EstimationDownstreamMethod': 'DatapointValueText',\n",
    "    'SalesinUSD': 'DatapointValue',\n",
    "    'ExchangeRatetoUSD': 'DatapointValue',\n",
    "    'EnterpriseValueincludingCashandShortTermInvestmentsinUSD': 'DatapointValue'\n",
    "}"
   ]
  },
  {
   "cell_type": "code",
   "execution_count": 20,
   "metadata": {},
   "outputs": [
    {
     "name": "stdout",
     "output_type": "stream",
     "text": [
      "Loaded climate data for 114851 organizations\n"
     ]
    }
   ],
   "source": [
    "# parse out the entries in the file\n",
    "climateData = []\n",
    "matchFields = list(fields.keys())\n",
    "\n",
    "for cMeasuresFile in bFiles:\n",
    "    for l in cMeasuresFile.splitlines():\n",
    "        jObj = json.loads(l)\n",
    "        dt = {}\n",
    "        for measure in jObj['ESGMeasureValue']['EsgMeasureValues']:\n",
    "            if measure['EsgDataMeasure'] in matchFields:\n",
    "                dt[measure['EsgDataMeasure']] = measure['EsgDatapointValue'][fields[measure['EsgDataMeasure']]]\n",
    "            \n",
    "        dt['OrganizationId'] = jObj['ESGStatementDetails']['OrganizationId']\n",
    "        dt['FinancialPeriodFiscalYear'] = jObj['ESGStatementDetails']['FinancialPeriodFiscalYear']\n",
    "\n",
    "        climateData.append(dt)\n",
    "\n",
    "print(f'Loaded climate data for {len(climateData)} organizations')        "
   ]
  },
  {
   "cell_type": "code",
   "execution_count": 21,
   "metadata": {},
   "outputs": [],
   "source": [
    "# load the dataset into a pandas dataframe\n",
    "df1 = pd.DataFrame(climateData)\n",
    "# save into a pickle\n",
    "df1.to_pickle('ClimateData.pkl')"
   ]
  }
 ],
 "metadata": {
  "kernelspec": {
   "display_name": "dzone",
   "language": "python",
   "name": "python3"
  },
  "language_info": {
   "codemirror_mode": {
    "name": "ipython",
    "version": 3
   },
   "file_extension": ".py",
   "mimetype": "text/x-python",
   "name": "python",
   "nbconvert_exporter": "python",
   "pygments_lexer": "ipython3",
   "version": "3.9.6"
  },
  "orig_nbformat": 4,
  "vscode": {
   "interpreter": {
    "hash": "1ffa745bed9fc5df41946757b62d2468a6f80450f52a8b9e07da7d984fdf5508"
   }
  }
 },
 "nbformat": 4,
 "nbformat_minor": 2
}
