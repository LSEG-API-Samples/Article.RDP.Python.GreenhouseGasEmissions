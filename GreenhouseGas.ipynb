{
 "cells": [
  {
   "attachments": {},
   "cell_type": "markdown",
   "metadata": {},
   "source": [
    "---\n",
    "## Assessment of greenhouse gas emissions in the portfolio\n",
    "---"
   ]
  },
  {
   "cell_type": "code",
   "execution_count": 1,
   "metadata": {},
   "outputs": [],
   "source": [
    "# load imports\n",
    "import pandas as pd\n",
    "import numpy as np\n",
    "import math\n",
    "# graphing modules\n",
    "import plotly.graph_objects as go\n",
    "from plotly.subplots import make_subplots\n",
    "# set dataframe options\n",
    "pd.set_option('display.max_columns', None)\n",
    "pd.set_option('display.float_format', lambda x: '%.3f' % x)"
   ]
  },
  {
   "cell_type": "code",
   "execution_count": 2,
   "metadata": {},
   "outputs": [],
   "source": [
    "# execute the helper functions defined for accessing RDP REST API calls \n",
    "%run RDPDefines.ipynb"
   ]
  },
  {
   "cell_type": "markdown",
   "metadata": {},
   "source": [
    "### Load the previously downloaded dataset for climate"
   ]
  },
  {
   "cell_type": "code",
   "execution_count": 3,
   "metadata": {},
   "outputs": [
    {
     "data": {
      "text/html": [
       "<div>\n",
       "<style scoped>\n",
       "    .dataframe tbody tr th:only-of-type {\n",
       "        vertical-align: middle;\n",
       "    }\n",
       "\n",
       "    .dataframe tbody tr th {\n",
       "        vertical-align: top;\n",
       "    }\n",
       "\n",
       "    .dataframe thead th {\n",
       "        text-align: right;\n",
       "    }\n",
       "</style>\n",
       "<table border=\"1\" class=\"dataframe\">\n",
       "  <thead>\n",
       "    <tr style=\"text-align: right;\">\n",
       "      <th></th>\n",
       "      <th>Scope1EstimatedTotal</th>\n",
       "      <th>Scope3EstimatedDownstreamMethod</th>\n",
       "      <th>Scope3EstimatedUpstreamMethod</th>\n",
       "      <th>Scope1EstimatedMethod</th>\n",
       "      <th>Scope3EstimatedUpstreamTotal</th>\n",
       "      <th>EnterpriseValueincludingCashandShortTermInvestmentsinUSD</th>\n",
       "      <th>ExchangeRatetoUSD</th>\n",
       "      <th>SalesinUSD</th>\n",
       "      <th>Scope2EstimatedTotal</th>\n",
       "      <th>Scope2EstimatedMethod</th>\n",
       "      <th>Scope3EstimatedDownstreamTotal</th>\n",
       "      <th>OrganizationId</th>\n",
       "      <th>FinancialPeriodFiscalYear</th>\n",
       "    </tr>\n",
       "  </thead>\n",
       "  <tbody>\n",
       "    <tr>\n",
       "      <th>0</th>\n",
       "      <td>2897820.690</td>\n",
       "      <td>Aggregated_model</td>\n",
       "      <td>Aggregated_model</td>\n",
       "      <td>Reported_value</td>\n",
       "      <td>151219.350</td>\n",
       "      <td>9937830000.000</td>\n",
       "      <td>0.145</td>\n",
       "      <td>1540440000.000</td>\n",
       "      <td>14637.220</td>\n",
       "      <td>Reported_value</td>\n",
       "      <td>621929.980</td>\n",
       "      <td>4295863771</td>\n",
       "      <td>2022</td>\n",
       "    </tr>\n",
       "    <tr>\n",
       "      <th>1</th>\n",
       "      <td>NaN</td>\n",
       "      <td>NaN</td>\n",
       "      <td>NaN</td>\n",
       "      <td>NaN</td>\n",
       "      <td>NaN</td>\n",
       "      <td>NaN</td>\n",
       "      <td>1.210</td>\n",
       "      <td>7867804121.000</td>\n",
       "      <td>NaN</td>\n",
       "      <td>NaN</td>\n",
       "      <td>NaN</td>\n",
       "      <td>4295868688</td>\n",
       "      <td>2014</td>\n",
       "    </tr>\n",
       "    <tr>\n",
       "      <th>2</th>\n",
       "      <td>19106.471</td>\n",
       "      <td>Aggregated_model</td>\n",
       "      <td>Aggregated_model</td>\n",
       "      <td>Aggregated_model</td>\n",
       "      <td>10055.910</td>\n",
       "      <td>2669089539.227</td>\n",
       "      <td>0.001</td>\n",
       "      <td>708854835.834</td>\n",
       "      <td>35635.805</td>\n",
       "      <td>Aggregated_model</td>\n",
       "      <td>7342.970</td>\n",
       "      <td>4295881108</td>\n",
       "      <td>2018</td>\n",
       "    </tr>\n",
       "    <tr>\n",
       "      <th>3</th>\n",
       "      <td>NaN</td>\n",
       "      <td>NaN</td>\n",
       "      <td>NaN</td>\n",
       "      <td>NaN</td>\n",
       "      <td>NaN</td>\n",
       "      <td>NaN</td>\n",
       "      <td>1.993</td>\n",
       "      <td>5862910000.000</td>\n",
       "      <td>NaN</td>\n",
       "      <td>NaN</td>\n",
       "      <td>NaN</td>\n",
       "      <td>4295895529</td>\n",
       "      <td>2007</td>\n",
       "    </tr>\n",
       "    <tr>\n",
       "      <th>4</th>\n",
       "      <td>NaN</td>\n",
       "      <td>NaN</td>\n",
       "      <td>NaN</td>\n",
       "      <td>NaN</td>\n",
       "      <td>NaN</td>\n",
       "      <td>NaN</td>\n",
       "      <td>1.000</td>\n",
       "      <td>289355000.000</td>\n",
       "      <td>NaN</td>\n",
       "      <td>NaN</td>\n",
       "      <td>NaN</td>\n",
       "      <td>4295904372</td>\n",
       "      <td>2008</td>\n",
       "    </tr>\n",
       "    <tr>\n",
       "      <th>...</th>\n",
       "      <td>...</td>\n",
       "      <td>...</td>\n",
       "      <td>...</td>\n",
       "      <td>...</td>\n",
       "      <td>...</td>\n",
       "      <td>...</td>\n",
       "      <td>...</td>\n",
       "      <td>...</td>\n",
       "      <td>...</td>\n",
       "      <td>...</td>\n",
       "      <td>...</td>\n",
       "      <td>...</td>\n",
       "      <td>...</td>\n",
       "    </tr>\n",
       "    <tr>\n",
       "      <th>114617</th>\n",
       "      <td>121214.000</td>\n",
       "      <td>Aggregated_model</td>\n",
       "      <td>Reported_value</td>\n",
       "      <td>Reported_value</td>\n",
       "      <td>3802.330</td>\n",
       "      <td>5184563521.720</td>\n",
       "      <td>1.000</td>\n",
       "      <td>746044000.000</td>\n",
       "      <td>33674.000</td>\n",
       "      <td>Reported_value</td>\n",
       "      <td>347706.360</td>\n",
       "      <td>4295902499</td>\n",
       "      <td>2019</td>\n",
       "    </tr>\n",
       "    <tr>\n",
       "      <th>114618</th>\n",
       "      <td>NaN</td>\n",
       "      <td>NaN</td>\n",
       "      <td>NaN</td>\n",
       "      <td>NaN</td>\n",
       "      <td>NaN</td>\n",
       "      <td>NaN</td>\n",
       "      <td>1.000</td>\n",
       "      <td>15035700000.000</td>\n",
       "      <td>NaN</td>\n",
       "      <td>NaN</td>\n",
       "      <td>NaN</td>\n",
       "      <td>4295903351</td>\n",
       "      <td>2005</td>\n",
       "    </tr>\n",
       "    <tr>\n",
       "      <th>114619</th>\n",
       "      <td>1097.434</td>\n",
       "      <td>Aggregated_model</td>\n",
       "      <td>Aggregated_model</td>\n",
       "      <td>Aggregated_model</td>\n",
       "      <td>4872.500</td>\n",
       "      <td>349391504.700</td>\n",
       "      <td>1.000</td>\n",
       "      <td>241426000.000</td>\n",
       "      <td>2381.907</td>\n",
       "      <td>Aggregated_model</td>\n",
       "      <td>6583.320</td>\n",
       "      <td>4295912635</td>\n",
       "      <td>2021</td>\n",
       "    </tr>\n",
       "    <tr>\n",
       "      <th>114620</th>\n",
       "      <td>15168.086</td>\n",
       "      <td>Aggregated_model</td>\n",
       "      <td>Aggregated_model</td>\n",
       "      <td>Aggregated_model</td>\n",
       "      <td>48192.820</td>\n",
       "      <td>2148161856.964</td>\n",
       "      <td>0.273</td>\n",
       "      <td>836250000.000</td>\n",
       "      <td>56464.528</td>\n",
       "      <td>Aggregated_model</td>\n",
       "      <td>20482.970</td>\n",
       "      <td>4297883285</td>\n",
       "      <td>2022</td>\n",
       "    </tr>\n",
       "    <tr>\n",
       "      <th>114621</th>\n",
       "      <td>1766.666</td>\n",
       "      <td>Aggregated_model</td>\n",
       "      <td>Aggregated_model</td>\n",
       "      <td>Aggregated_model</td>\n",
       "      <td>119568.990</td>\n",
       "      <td>NaN</td>\n",
       "      <td>NaN</td>\n",
       "      <td>NaN</td>\n",
       "      <td>16970.107</td>\n",
       "      <td>Aggregated_model</td>\n",
       "      <td>91720.060</td>\n",
       "      <td>5000848407</td>\n",
       "      <td>2022</td>\n",
       "    </tr>\n",
       "  </tbody>\n",
       "</table>\n",
       "<p>114622 rows × 13 columns</p>\n",
       "</div>"
      ],
      "text/plain": [
       "        Scope1EstimatedTotal Scope3EstimatedDownstreamMethod   \n",
       "0                2897820.690                Aggregated_model  \\\n",
       "1                        NaN                             NaN   \n",
       "2                  19106.471                Aggregated_model   \n",
       "3                        NaN                             NaN   \n",
       "4                        NaN                             NaN   \n",
       "...                      ...                             ...   \n",
       "114617            121214.000                Aggregated_model   \n",
       "114618                   NaN                             NaN   \n",
       "114619              1097.434                Aggregated_model   \n",
       "114620             15168.086                Aggregated_model   \n",
       "114621              1766.666                Aggregated_model   \n",
       "\n",
       "       Scope3EstimatedUpstreamMethod Scope1EstimatedMethod   \n",
       "0                   Aggregated_model        Reported_value  \\\n",
       "1                                NaN                   NaN   \n",
       "2                   Aggregated_model      Aggregated_model   \n",
       "3                                NaN                   NaN   \n",
       "4                                NaN                   NaN   \n",
       "...                              ...                   ...   \n",
       "114617                Reported_value        Reported_value   \n",
       "114618                           NaN                   NaN   \n",
       "114619              Aggregated_model      Aggregated_model   \n",
       "114620              Aggregated_model      Aggregated_model   \n",
       "114621              Aggregated_model      Aggregated_model   \n",
       "\n",
       "        Scope3EstimatedUpstreamTotal   \n",
       "0                         151219.350  \\\n",
       "1                                NaN   \n",
       "2                          10055.910   \n",
       "3                                NaN   \n",
       "4                                NaN   \n",
       "...                              ...   \n",
       "114617                      3802.330   \n",
       "114618                           NaN   \n",
       "114619                      4872.500   \n",
       "114620                     48192.820   \n",
       "114621                    119568.990   \n",
       "\n",
       "        EnterpriseValueincludingCashandShortTermInvestmentsinUSD   \n",
       "0                                          9937830000.000         \\\n",
       "1                                                     NaN          \n",
       "2                                          2669089539.227          \n",
       "3                                                     NaN          \n",
       "4                                                     NaN          \n",
       "...                                                   ...          \n",
       "114617                                     5184563521.720          \n",
       "114618                                                NaN          \n",
       "114619                                      349391504.700          \n",
       "114620                                     2148161856.964          \n",
       "114621                                                NaN          \n",
       "\n",
       "        ExchangeRatetoUSD      SalesinUSD  Scope2EstimatedTotal   \n",
       "0                   0.145  1540440000.000             14637.220  \\\n",
       "1                   1.210  7867804121.000                   NaN   \n",
       "2                   0.001   708854835.834             35635.805   \n",
       "3                   1.993  5862910000.000                   NaN   \n",
       "4                   1.000   289355000.000                   NaN   \n",
       "...                   ...             ...                   ...   \n",
       "114617              1.000   746044000.000             33674.000   \n",
       "114618              1.000 15035700000.000                   NaN   \n",
       "114619              1.000   241426000.000              2381.907   \n",
       "114620              0.273   836250000.000             56464.528   \n",
       "114621                NaN             NaN             16970.107   \n",
       "\n",
       "       Scope2EstimatedMethod  Scope3EstimatedDownstreamTotal  OrganizationId   \n",
       "0             Reported_value                      621929.980      4295863771  \\\n",
       "1                        NaN                             NaN      4295868688   \n",
       "2           Aggregated_model                        7342.970      4295881108   \n",
       "3                        NaN                             NaN      4295895529   \n",
       "4                        NaN                             NaN      4295904372   \n",
       "...                      ...                             ...             ...   \n",
       "114617        Reported_value                      347706.360      4295902499   \n",
       "114618                   NaN                             NaN      4295903351   \n",
       "114619      Aggregated_model                        6583.320      4295912635   \n",
       "114620      Aggregated_model                       20482.970      4297883285   \n",
       "114621      Aggregated_model                       91720.060      5000848407   \n",
       "\n",
       "        FinancialPeriodFiscalYear  \n",
       "0                            2022  \n",
       "1                            2014  \n",
       "2                            2018  \n",
       "3                            2007  \n",
       "4                            2008  \n",
       "...                           ...  \n",
       "114617                       2019  \n",
       "114618                       2005  \n",
       "114619                       2021  \n",
       "114620                       2022  \n",
       "114621                       2022  \n",
       "\n",
       "[114622 rows x 13 columns]"
      ]
     },
     "execution_count": 3,
     "metadata": {},
     "output_type": "execute_result"
    }
   ],
   "source": [
    "allClimate = pd.read_pickle('ClimateData.pkl').astype({\n",
    "    'OrganizationId': np.int64,\n",
    "    'FinancialPeriodFiscalYear': int,\n",
    "    'Scope1EstimatedTotal': float,\n",
    "    'Scope2EstimatedTotal': float,\n",
    "    'Scope3EstimatedUpstreamTotal': float,\n",
    "    'Scope3EstimatedDownstreamTotal': float,\n",
    "    'Scope1EstimatedMethod': object,\n",
    "    'Scope2EstimatedMethod': object,\n",
    "    'Scope3EstimatedUpstreamMethod': object,\n",
    "    'Scope3EstimatedDownstreamMethod': object,\n",
    "    'SalesinUSD': float,\n",
    "    'ExchangeRatetoUSD': float,\n",
    "    'EnterpriseValueincludingCashandShortTermInvestmentsinUSD': float\n",
    "})\n",
    "allClimate"
   ]
  },
  {
   "cell_type": "markdown",
   "metadata": {},
   "source": [
    "### Load the portfolio to be analized\n",
    "Portfolio is a CSV file with the constituent *RIC* and corresponding *Weight* in percent\n",
    "\n",
    "*Weight* must add up to 100%\n",
    "\n",
    "|RIC|WEIGHT %|\n",
    "|--|--|\n",
    "|AAPL.O|2.5|\n",
    "|MSFT.O|1.2|\n",
    "|..|..|"
   ]
  },
  {
   "cell_type": "code",
   "execution_count": 4,
   "metadata": {},
   "outputs": [
    {
     "data": {
      "text/html": [
       "<div>\n",
       "<style scoped>\n",
       "    .dataframe tbody tr th:only-of-type {\n",
       "        vertical-align: middle;\n",
       "    }\n",
       "\n",
       "    .dataframe tbody tr th {\n",
       "        vertical-align: top;\n",
       "    }\n",
       "\n",
       "    .dataframe thead th {\n",
       "        text-align: right;\n",
       "    }\n",
       "</style>\n",
       "<table border=\"1\" class=\"dataframe\">\n",
       "  <thead>\n",
       "    <tr style=\"text-align: right;\">\n",
       "      <th></th>\n",
       "      <th>RIC</th>\n",
       "      <th>Weight</th>\n",
       "    </tr>\n",
       "  </thead>\n",
       "  <tbody>\n",
       "    <tr>\n",
       "      <th>0</th>\n",
       "      <td>SMFT3.SA</td>\n",
       "      <td>0.001</td>\n",
       "    </tr>\n",
       "    <tr>\n",
       "      <th>1</th>\n",
       "      <td>MGLU3.SA</td>\n",
       "      <td>0.003</td>\n",
       "    </tr>\n",
       "    <tr>\n",
       "      <th>2</th>\n",
       "      <td>KBC.BR</td>\n",
       "      <td>0.028</td>\n",
       "    </tr>\n",
       "    <tr>\n",
       "      <th>3</th>\n",
       "      <td>ICT.PS</td>\n",
       "      <td>0.006</td>\n",
       "    </tr>\n",
       "    <tr>\n",
       "      <th>4</th>\n",
       "      <td>000880.KS</td>\n",
       "      <td>0.002</td>\n",
       "    </tr>\n",
       "    <tr>\n",
       "      <th>...</th>\n",
       "      <td>...</td>\n",
       "      <td>...</td>\n",
       "    </tr>\n",
       "    <tr>\n",
       "      <th>4158</th>\n",
       "      <td>WEGE3.SA</td>\n",
       "      <td>0.017</td>\n",
       "    </tr>\n",
       "    <tr>\n",
       "      <th>4159</th>\n",
       "      <td>8954.T</td>\n",
       "      <td>0.005</td>\n",
       "    </tr>\n",
       "    <tr>\n",
       "      <th>4160</th>\n",
       "      <td>SO.N</td>\n",
       "      <td>0.115</td>\n",
       "    </tr>\n",
       "    <tr>\n",
       "      <th>4161</th>\n",
       "      <td>YUM.N</td>\n",
       "      <td>0.057</td>\n",
       "    </tr>\n",
       "    <tr>\n",
       "      <th>4162</th>\n",
       "      <td>605117.SH</td>\n",
       "      <td>0.001</td>\n",
       "    </tr>\n",
       "  </tbody>\n",
       "</table>\n",
       "<p>4163 rows × 2 columns</p>\n",
       "</div>"
      ],
      "text/plain": [
       "            RIC  Weight\n",
       "0      SMFT3.SA   0.001\n",
       "1      MGLU3.SA   0.003\n",
       "2        KBC.BR   0.028\n",
       "3        ICT.PS   0.006\n",
       "4     000880.KS   0.002\n",
       "...         ...     ...\n",
       "4158   WEGE3.SA   0.017\n",
       "4159     8954.T   0.005\n",
       "4160       SO.N   0.115\n",
       "4161      YUM.N   0.057\n",
       "4162  605117.SH   0.001\n",
       "\n",
       "[4163 rows x 2 columns]"
      ]
     },
     "execution_count": 4,
     "metadata": {},
     "output_type": "execute_result"
    }
   ],
   "source": [
    "# load the portfolio to be analized\n",
    "portfolio = pd.read_csv('Portfolio.csv')\n",
    "portfolio"
   ]
  },
  {
   "cell_type": "markdown",
   "metadata": {},
   "source": [
    "### Convert Symbology\n",
    "\n",
    "Lookup *Organization PermID* and *Reporting currency* for all instruments\n",
    "\n",
    "RDP Symbology API: [/data/symbology/beta1/convert]()"
   ]
  },
  {
   "cell_type": "code",
   "execution_count": null,
   "metadata": {},
   "outputs": [],
   "source": [
    "allResponses = []\n",
    "RIClist = portfolio['RIC'].tolist()\n",
    "bucketSize = 90\n",
    "\n",
    "buckets = [ RIClist[i: i + bucketSize] for i in range(0, len(RIClist), bucketSize) ]\n",
    "for bucket in buckets:\n",
    "  reqData = {\n",
    "    \"universe\": bucket,\n",
    "    \"to\": [\"OrganizationId\"]\n",
    "  }\n",
    "\n",
    "  hResp = postRequest('/data/symbology/beta1/convert', reqData)\n",
    "  print(hResp)\n",
    "  allResponses = allResponses + hResp['universe']"
   ]
  },
  {
   "cell_type": "code",
   "execution_count": null,
   "metadata": {},
   "outputs": [],
   "source": [
    "# merge Symbology and Currency data into the portfolio\n",
    "orgsData = pd.DataFrame(allResponses)\n",
    "portfolio = portfolio.merge(orgsData, how='inner', left_on='RIC', right_on='Instrument')\n",
    "portfolio = portfolio.drop(['Instrument'], axis = 1)\n",
    "portfolio['Organization PermID'] = portfolio['Organization PermID'].astype(np.int64)\n",
    "portfolio"
   ]
  },
  {
   "cell_type": "markdown",
   "metadata": {},
   "source": [
    "### Define calculation variables"
   ]
  },
  {
   "cell_type": "code",
   "execution_count": 7,
   "metadata": {},
   "outputs": [],
   "source": [
    "# define the calculation parameters\n",
    "PortfolioAmountInvested = 1000000\n",
    "years = [2019, 2020, 2021, 2022]\n",
    "measures = ['Scope1EstimatedTotal', 'Scope2EstimatedTotal', 'Scope3EstimatedUpstreamTotal', 'Scope3EstimatedDownstreamTotal']\n",
    "\n",
    "# other parameters used in the notebook\n",
    "lsegColors = ['#FF5000', '#FFC800', '#00D0D4', '#9064CD', '#00C389', '#FFFF00']"
   ]
  },
  {
   "cell_type": "markdown",
   "metadata": {},
   "source": [
    "### Calculate: Data coverage % of this portfolio \n",
    "---"
   ]
  },
  {
   "cell_type": "code",
   "execution_count": 8,
   "metadata": {},
   "outputs": [],
   "source": [
    "# calculate the coverage % for each scope for each year for this portfolio\n",
    "cMmeasures = ['Scope1EstimatedTotal', 'Scope1EstimatedMethod', 'Scope2EstimatedTotal', 'Scope2EstimatedMethod', 'Scope3EstimatedUpstreamTotal', 'Scope3EstimatedUpstreamMethod', 'Scope3EstimatedDownstreamTotal', 'Scope3EstimatedDownstreamMethod', 'SalesinUSD', 'EnterpriseValueincludingCashandShortTermInvestmentsinUSD']\n",
    "\n",
    "def computeCoverageHoldings(year):\n",
    "    yPort = portfolio.merge(allClimate[allClimate['FinancialPeriodFiscalYear'] == year], how='left', left_on='Organization PermID', right_on='OrganizationId')\n",
    "    pSize = len(yPort.index)\n",
    "    return [((pSize - yPort[measure].isna().sum()) / pSize * 100) for measure in cMmeasures]\n",
    "\n",
    "\n",
    "def computeCoverageWeight(year):\n",
    "    yPort = portfolio.merge(allClimate[allClimate['FinancialPeriodFiscalYear'] == year], how='left', left_on='Organization PermID', right_on='OrganizationId')\n",
    "    return [yPort[yPort[measure].notna() & (yPort[measure] != 0) ]['Weight'].sum() for measure in cMmeasures]\n"
   ]
  },
  {
   "cell_type": "code",
   "execution_count": 9,
   "metadata": {},
   "outputs": [
    {
     "name": "stdout",
     "output_type": "stream",
     "text": [
      "Getting coverage data for 2019\n",
      "Getting coverage data for 2020\n",
      "Getting coverage data for 2021\n",
      "Getting coverage data for 2022\n"
     ]
    }
   ],
   "source": [
    "# get data for all the measures for all the years\n",
    "hoCoData = []\n",
    "wtCoData = []\n",
    "for yr in years:\n",
    "    print(f'Getting coverage data for {yr}')\n",
    "    hoCoData.append(computeCoverageHoldings(yr))\n",
    "    wtCoData.append(computeCoverageWeight(yr))\n"
   ]
  },
  {
   "cell_type": "code",
   "execution_count": 24,
   "metadata": {},
   "outputs": [
    {
     "data": {
      "application/vnd.plotly.v1+json": {
       "config": {
        "plotlyServerURL": "https://plot.ly"
       },
       "data": [
        {
         "marker": {
          "color": "#FF5000"
         },
         "name": "2019",
         "text": [
          "81",
          "81",
          "81",
          "81",
          "68",
          "68",
          "68",
          "68",
          "81",
          "81"
         ],
         "type": "bar",
         "x": [
          "Scope1EstimatedTotal",
          "Scope1EstimatedMethod",
          "Scope2EstimatedTotal",
          "Scope2EstimatedMethod",
          "Scope3EstimatedUpstreamTotal",
          "Scope3EstimatedUpstreamMethod",
          "Scope3EstimatedDownstreamTotal",
          "Scope3EstimatedDownstreamMethod",
          "SalesinUSD",
          "EnterpriseValueincludingCashandShortTermInvestmentsinUSD"
         ],
         "y": [
          81.96012490992072,
          81.96012490992072,
          81.96012490992072,
          81.96012490992072,
          68.98871006485707,
          68.98871006485707,
          68.98871006485707,
          68.98871006485707,
          81.84001921691089,
          81.1914484746577
         ]
        },
        {
         "marker": {
          "color": "#FFC800"
         },
         "name": "2020",
         "text": [
          "89",
          "89",
          "89",
          "89",
          "76",
          "76",
          "76",
          "76",
          "87",
          "87"
         ],
         "type": "bar",
         "x": [
          "Scope1EstimatedTotal",
          "Scope1EstimatedMethod",
          "Scope2EstimatedTotal",
          "Scope2EstimatedMethod",
          "Scope3EstimatedUpstreamTotal",
          "Scope3EstimatedUpstreamMethod",
          "Scope3EstimatedDownstreamTotal",
          "Scope3EstimatedDownstreamMethod",
          "SalesinUSD",
          "EnterpriseValueincludingCashandShortTermInvestmentsinUSD"
         ],
         "y": [
          89.50276243093923,
          89.50276243093923,
          89.50276243093923,
          89.50276243093923,
          76.02690367523421,
          76.02690367523421,
          76.02690367523421,
          76.02690367523421,
          87.98943069901513,
          87.19673312515013
         ]
        },
        {
         "marker": {
          "color": "#00D0D4"
         },
         "name": "2021",
         "text": [
          "93",
          "93",
          "93",
          "93",
          "79",
          "79",
          "79",
          "79",
          "92",
          "91"
         ],
         "type": "bar",
         "x": [
          "Scope1EstimatedTotal",
          "Scope1EstimatedMethod",
          "Scope2EstimatedTotal",
          "Scope2EstimatedMethod",
          "Scope3EstimatedUpstreamTotal",
          "Scope3EstimatedUpstreamMethod",
          "Scope3EstimatedDownstreamTotal",
          "Scope3EstimatedDownstreamMethod",
          "SalesinUSD",
          "EnterpriseValueincludingCashandShortTermInvestmentsinUSD"
         ],
         "y": [
          93.75450396348786,
          93.75450396348786,
          93.75450396348786,
          93.75450396348786,
          79.84626471294739,
          79.84626471294739,
          79.84626471294739,
          79.84626471294739,
          92.36127792457363,
          91.54455921210666
         ]
        },
        {
         "marker": {
          "color": "#9064CD"
         },
         "name": "2022",
         "text": [
          "93",
          "93",
          "93",
          "93",
          "80",
          "80",
          "80",
          "80",
          "91",
          "46"
         ],
         "type": "bar",
         "x": [
          "Scope1EstimatedTotal",
          "Scope1EstimatedMethod",
          "Scope2EstimatedTotal",
          "Scope2EstimatedMethod",
          "Scope3EstimatedUpstreamTotal",
          "Scope3EstimatedUpstreamMethod",
          "Scope3EstimatedDownstreamTotal",
          "Scope3EstimatedDownstreamMethod",
          "SalesinUSD",
          "EnterpriseValueincludingCashandShortTermInvestmentsinUSD"
         ],
         "y": [
          93.85058851789574,
          93.85058851789574,
          93.85058851789574,
          93.85058851789574,
          80.13451837617103,
          80.13451837617103,
          80.13451837617103,
          80.13451837617103,
          91.40043238049483,
          46.04852269997598
         ]
        }
       ],
       "layout": {
        "bargap": 0.3,
        "barmode": "group",
        "template": {
         "data": {
          "bar": [
           {
            "error_x": {
             "color": "#2a3f5f"
            },
            "error_y": {
             "color": "#2a3f5f"
            },
            "marker": {
             "line": {
              "color": "#E5ECF6",
              "width": 0.5
             },
             "pattern": {
              "fillmode": "overlay",
              "size": 10,
              "solidity": 0.2
             }
            },
            "type": "bar"
           }
          ],
          "barpolar": [
           {
            "marker": {
             "line": {
              "color": "#E5ECF6",
              "width": 0.5
             },
             "pattern": {
              "fillmode": "overlay",
              "size": 10,
              "solidity": 0.2
             }
            },
            "type": "barpolar"
           }
          ],
          "carpet": [
           {
            "aaxis": {
             "endlinecolor": "#2a3f5f",
             "gridcolor": "white",
             "linecolor": "white",
             "minorgridcolor": "white",
             "startlinecolor": "#2a3f5f"
            },
            "baxis": {
             "endlinecolor": "#2a3f5f",
             "gridcolor": "white",
             "linecolor": "white",
             "minorgridcolor": "white",
             "startlinecolor": "#2a3f5f"
            },
            "type": "carpet"
           }
          ],
          "choropleth": [
           {
            "colorbar": {
             "outlinewidth": 0,
             "ticks": ""
            },
            "type": "choropleth"
           }
          ],
          "contour": [
           {
            "colorbar": {
             "outlinewidth": 0,
             "ticks": ""
            },
            "colorscale": [
             [
              0,
              "#0d0887"
             ],
             [
              0.1111111111111111,
              "#46039f"
             ],
             [
              0.2222222222222222,
              "#7201a8"
             ],
             [
              0.3333333333333333,
              "#9c179e"
             ],
             [
              0.4444444444444444,
              "#bd3786"
             ],
             [
              0.5555555555555556,
              "#d8576b"
             ],
             [
              0.6666666666666666,
              "#ed7953"
             ],
             [
              0.7777777777777778,
              "#fb9f3a"
             ],
             [
              0.8888888888888888,
              "#fdca26"
             ],
             [
              1,
              "#f0f921"
             ]
            ],
            "type": "contour"
           }
          ],
          "contourcarpet": [
           {
            "colorbar": {
             "outlinewidth": 0,
             "ticks": ""
            },
            "type": "contourcarpet"
           }
          ],
          "heatmap": [
           {
            "colorbar": {
             "outlinewidth": 0,
             "ticks": ""
            },
            "colorscale": [
             [
              0,
              "#0d0887"
             ],
             [
              0.1111111111111111,
              "#46039f"
             ],
             [
              0.2222222222222222,
              "#7201a8"
             ],
             [
              0.3333333333333333,
              "#9c179e"
             ],
             [
              0.4444444444444444,
              "#bd3786"
             ],
             [
              0.5555555555555556,
              "#d8576b"
             ],
             [
              0.6666666666666666,
              "#ed7953"
             ],
             [
              0.7777777777777778,
              "#fb9f3a"
             ],
             [
              0.8888888888888888,
              "#fdca26"
             ],
             [
              1,
              "#f0f921"
             ]
            ],
            "type": "heatmap"
           }
          ],
          "heatmapgl": [
           {
            "colorbar": {
             "outlinewidth": 0,
             "ticks": ""
            },
            "colorscale": [
             [
              0,
              "#0d0887"
             ],
             [
              0.1111111111111111,
              "#46039f"
             ],
             [
              0.2222222222222222,
              "#7201a8"
             ],
             [
              0.3333333333333333,
              "#9c179e"
             ],
             [
              0.4444444444444444,
              "#bd3786"
             ],
             [
              0.5555555555555556,
              "#d8576b"
             ],
             [
              0.6666666666666666,
              "#ed7953"
             ],
             [
              0.7777777777777778,
              "#fb9f3a"
             ],
             [
              0.8888888888888888,
              "#fdca26"
             ],
             [
              1,
              "#f0f921"
             ]
            ],
            "type": "heatmapgl"
           }
          ],
          "histogram": [
           {
            "marker": {
             "pattern": {
              "fillmode": "overlay",
              "size": 10,
              "solidity": 0.2
             }
            },
            "type": "histogram"
           }
          ],
          "histogram2d": [
           {
            "colorbar": {
             "outlinewidth": 0,
             "ticks": ""
            },
            "colorscale": [
             [
              0,
              "#0d0887"
             ],
             [
              0.1111111111111111,
              "#46039f"
             ],
             [
              0.2222222222222222,
              "#7201a8"
             ],
             [
              0.3333333333333333,
              "#9c179e"
             ],
             [
              0.4444444444444444,
              "#bd3786"
             ],
             [
              0.5555555555555556,
              "#d8576b"
             ],
             [
              0.6666666666666666,
              "#ed7953"
             ],
             [
              0.7777777777777778,
              "#fb9f3a"
             ],
             [
              0.8888888888888888,
              "#fdca26"
             ],
             [
              1,
              "#f0f921"
             ]
            ],
            "type": "histogram2d"
           }
          ],
          "histogram2dcontour": [
           {
            "colorbar": {
             "outlinewidth": 0,
             "ticks": ""
            },
            "colorscale": [
             [
              0,
              "#0d0887"
             ],
             [
              0.1111111111111111,
              "#46039f"
             ],
             [
              0.2222222222222222,
              "#7201a8"
             ],
             [
              0.3333333333333333,
              "#9c179e"
             ],
             [
              0.4444444444444444,
              "#bd3786"
             ],
             [
              0.5555555555555556,
              "#d8576b"
             ],
             [
              0.6666666666666666,
              "#ed7953"
             ],
             [
              0.7777777777777778,
              "#fb9f3a"
             ],
             [
              0.8888888888888888,
              "#fdca26"
             ],
             [
              1,
              "#f0f921"
             ]
            ],
            "type": "histogram2dcontour"
           }
          ],
          "mesh3d": [
           {
            "colorbar": {
             "outlinewidth": 0,
             "ticks": ""
            },
            "type": "mesh3d"
           }
          ],
          "parcoords": [
           {
            "line": {
             "colorbar": {
              "outlinewidth": 0,
              "ticks": ""
             }
            },
            "type": "parcoords"
           }
          ],
          "pie": [
           {
            "automargin": true,
            "type": "pie"
           }
          ],
          "scatter": [
           {
            "fillpattern": {
             "fillmode": "overlay",
             "size": 10,
             "solidity": 0.2
            },
            "type": "scatter"
           }
          ],
          "scatter3d": [
           {
            "line": {
             "colorbar": {
              "outlinewidth": 0,
              "ticks": ""
             }
            },
            "marker": {
             "colorbar": {
              "outlinewidth": 0,
              "ticks": ""
             }
            },
            "type": "scatter3d"
           }
          ],
          "scattercarpet": [
           {
            "marker": {
             "colorbar": {
              "outlinewidth": 0,
              "ticks": ""
             }
            },
            "type": "scattercarpet"
           }
          ],
          "scattergeo": [
           {
            "marker": {
             "colorbar": {
              "outlinewidth": 0,
              "ticks": ""
             }
            },
            "type": "scattergeo"
           }
          ],
          "scattergl": [
           {
            "marker": {
             "colorbar": {
              "outlinewidth": 0,
              "ticks": ""
             }
            },
            "type": "scattergl"
           }
          ],
          "scattermapbox": [
           {
            "marker": {
             "colorbar": {
              "outlinewidth": 0,
              "ticks": ""
             }
            },
            "type": "scattermapbox"
           }
          ],
          "scatterpolar": [
           {
            "marker": {
             "colorbar": {
              "outlinewidth": 0,
              "ticks": ""
             }
            },
            "type": "scatterpolar"
           }
          ],
          "scatterpolargl": [
           {
            "marker": {
             "colorbar": {
              "outlinewidth": 0,
              "ticks": ""
             }
            },
            "type": "scatterpolargl"
           }
          ],
          "scatterternary": [
           {
            "marker": {
             "colorbar": {
              "outlinewidth": 0,
              "ticks": ""
             }
            },
            "type": "scatterternary"
           }
          ],
          "surface": [
           {
            "colorbar": {
             "outlinewidth": 0,
             "ticks": ""
            },
            "colorscale": [
             [
              0,
              "#0d0887"
             ],
             [
              0.1111111111111111,
              "#46039f"
             ],
             [
              0.2222222222222222,
              "#7201a8"
             ],
             [
              0.3333333333333333,
              "#9c179e"
             ],
             [
              0.4444444444444444,
              "#bd3786"
             ],
             [
              0.5555555555555556,
              "#d8576b"
             ],
             [
              0.6666666666666666,
              "#ed7953"
             ],
             [
              0.7777777777777778,
              "#fb9f3a"
             ],
             [
              0.8888888888888888,
              "#fdca26"
             ],
             [
              1,
              "#f0f921"
             ]
            ],
            "type": "surface"
           }
          ],
          "table": [
           {
            "cells": {
             "fill": {
              "color": "#EBF0F8"
             },
             "line": {
              "color": "white"
             }
            },
            "header": {
             "fill": {
              "color": "#C8D4E3"
             },
             "line": {
              "color": "white"
             }
            },
            "type": "table"
           }
          ]
         },
         "layout": {
          "annotationdefaults": {
           "arrowcolor": "#2a3f5f",
           "arrowhead": 0,
           "arrowwidth": 1
          },
          "autotypenumbers": "strict",
          "coloraxis": {
           "colorbar": {
            "outlinewidth": 0,
            "ticks": ""
           }
          },
          "colorscale": {
           "diverging": [
            [
             0,
             "#8e0152"
            ],
            [
             0.1,
             "#c51b7d"
            ],
            [
             0.2,
             "#de77ae"
            ],
            [
             0.3,
             "#f1b6da"
            ],
            [
             0.4,
             "#fde0ef"
            ],
            [
             0.5,
             "#f7f7f7"
            ],
            [
             0.6,
             "#e6f5d0"
            ],
            [
             0.7,
             "#b8e186"
            ],
            [
             0.8,
             "#7fbc41"
            ],
            [
             0.9,
             "#4d9221"
            ],
            [
             1,
             "#276419"
            ]
           ],
           "sequential": [
            [
             0,
             "#0d0887"
            ],
            [
             0.1111111111111111,
             "#46039f"
            ],
            [
             0.2222222222222222,
             "#7201a8"
            ],
            [
             0.3333333333333333,
             "#9c179e"
            ],
            [
             0.4444444444444444,
             "#bd3786"
            ],
            [
             0.5555555555555556,
             "#d8576b"
            ],
            [
             0.6666666666666666,
             "#ed7953"
            ],
            [
             0.7777777777777778,
             "#fb9f3a"
            ],
            [
             0.8888888888888888,
             "#fdca26"
            ],
            [
             1,
             "#f0f921"
            ]
           ],
           "sequentialminus": [
            [
             0,
             "#0d0887"
            ],
            [
             0.1111111111111111,
             "#46039f"
            ],
            [
             0.2222222222222222,
             "#7201a8"
            ],
            [
             0.3333333333333333,
             "#9c179e"
            ],
            [
             0.4444444444444444,
             "#bd3786"
            ],
            [
             0.5555555555555556,
             "#d8576b"
            ],
            [
             0.6666666666666666,
             "#ed7953"
            ],
            [
             0.7777777777777778,
             "#fb9f3a"
            ],
            [
             0.8888888888888888,
             "#fdca26"
            ],
            [
             1,
             "#f0f921"
            ]
           ]
          },
          "colorway": [
           "#636efa",
           "#EF553B",
           "#00cc96",
           "#ab63fa",
           "#FFA15A",
           "#19d3f3",
           "#FF6692",
           "#B6E880",
           "#FF97FF",
           "#FECB52"
          ],
          "font": {
           "color": "#2a3f5f"
          },
          "geo": {
           "bgcolor": "white",
           "lakecolor": "white",
           "landcolor": "#E5ECF6",
           "showlakes": true,
           "showland": true,
           "subunitcolor": "white"
          },
          "hoverlabel": {
           "align": "left"
          },
          "hovermode": "closest",
          "mapbox": {
           "style": "light"
          },
          "paper_bgcolor": "white",
          "plot_bgcolor": "#E5ECF6",
          "polar": {
           "angularaxis": {
            "gridcolor": "white",
            "linecolor": "white",
            "ticks": ""
           },
           "bgcolor": "#E5ECF6",
           "radialaxis": {
            "gridcolor": "white",
            "linecolor": "white",
            "ticks": ""
           }
          },
          "scene": {
           "xaxis": {
            "backgroundcolor": "#E5ECF6",
            "gridcolor": "white",
            "gridwidth": 2,
            "linecolor": "white",
            "showbackground": true,
            "ticks": "",
            "zerolinecolor": "white"
           },
           "yaxis": {
            "backgroundcolor": "#E5ECF6",
            "gridcolor": "white",
            "gridwidth": 2,
            "linecolor": "white",
            "showbackground": true,
            "ticks": "",
            "zerolinecolor": "white"
           },
           "zaxis": {
            "backgroundcolor": "#E5ECF6",
            "gridcolor": "white",
            "gridwidth": 2,
            "linecolor": "white",
            "showbackground": true,
            "ticks": "",
            "zerolinecolor": "white"
           }
          },
          "shapedefaults": {
           "line": {
            "color": "#2a3f5f"
           }
          },
          "ternary": {
           "aaxis": {
            "gridcolor": "white",
            "linecolor": "white",
            "ticks": ""
           },
           "baxis": {
            "gridcolor": "white",
            "linecolor": "white",
            "ticks": ""
           },
           "bgcolor": "#E5ECF6",
           "caxis": {
            "gridcolor": "white",
            "linecolor": "white",
            "ticks": ""
           }
          },
          "title": {
           "x": 0.05
          },
          "xaxis": {
           "automargin": true,
           "gridcolor": "white",
           "linecolor": "white",
           "ticks": "",
           "title": {
            "standoff": 15
           },
           "zerolinecolor": "white",
           "zerolinewidth": 2
          },
          "yaxis": {
           "automargin": true,
           "gridcolor": "white",
           "linecolor": "white",
           "ticks": "",
           "title": {
            "standoff": 15
           },
           "zerolinecolor": "white",
           "zerolinewidth": 2
          }
         }
        },
        "title": {
         "text": "Data coverage (% of portfolio holdings)"
        }
       }
      }
     },
     "metadata": {},
     "output_type": "display_data"
    },
    {
     "data": {
      "application/vnd.plotly.v1+json": {
       "config": {
        "plotlyServerURL": "https://plot.ly"
       },
       "data": [
        {
         "marker": {
          "color": "#FF5000"
         },
         "name": "2019",
         "text": [
          "97",
          "97",
          "97",
          "97",
          "84",
          "84",
          "84",
          "84",
          "97",
          "97"
         ],
         "type": "bar",
         "x": [
          "Scope1EstimatedTotal",
          "Scope1EstimatedMethod",
          "Scope2EstimatedTotal",
          "Scope2EstimatedMethod",
          "Scope3EstimatedUpstreamTotal",
          "Scope3EstimatedUpstreamMethod",
          "Scope3EstimatedDownstreamTotal",
          "Scope3EstimatedDownstreamMethod",
          "SalesinUSD",
          "EnterpriseValueincludingCashandShortTermInvestmentsinUSD"
         ],
         "y": [
          97.92050603300001,
          97.92420625399998,
          97.92050603300001,
          97.92420625399998,
          84.352905144,
          84.356605365,
          84.352905144,
          84.356605365,
          97.94736616099999,
          97.57569614600001
         ]
        },
        {
         "marker": {
          "color": "#FFC800"
         },
         "name": "2020",
         "text": [
          "98",
          "98",
          "98",
          "98",
          "85",
          "85",
          "85",
          "85",
          "98",
          "98"
         ],
         "type": "bar",
         "x": [
          "Scope1EstimatedTotal",
          "Scope1EstimatedMethod",
          "Scope2EstimatedTotal",
          "Scope2EstimatedMethod",
          "Scope3EstimatedUpstreamTotal",
          "Scope3EstimatedUpstreamMethod",
          "Scope3EstimatedDownstreamTotal",
          "Scope3EstimatedDownstreamMethod",
          "SalesinUSD",
          "EnterpriseValueincludingCashandShortTermInvestmentsinUSD"
         ],
         "y": [
          98.638310384,
          98.642010605,
          98.638310384,
          98.642010605,
          85.051171611,
          85.054871832,
          85.051171611,
          85.054871832,
          98.656973852,
          98.531661163
         ]
        },
        {
         "marker": {
          "color": "#00D0D4"
         },
         "name": "2021",
         "text": [
          "99",
          "99",
          "99",
          "99",
          "85",
          "85",
          "85",
          "85",
          "99",
          "98"
         ],
         "type": "bar",
         "x": [
          "Scope1EstimatedTotal",
          "Scope1EstimatedMethod",
          "Scope2EstimatedTotal",
          "Scope2EstimatedMethod",
          "Scope3EstimatedUpstreamTotal",
          "Scope3EstimatedUpstreamMethod",
          "Scope3EstimatedDownstreamTotal",
          "Scope3EstimatedDownstreamMethod",
          "SalesinUSD",
          "EnterpriseValueincludingCashandShortTermInvestmentsinUSD"
         ],
         "y": [
          99.105557667,
          99.109257888,
          99.105557667,
          99.109257888,
          85.469102911,
          85.472803132,
          85.469102911,
          85.472803132,
          99.186739405,
          98.92909360300001
         ]
        },
        {
         "marker": {
          "color": "#9064CD"
         },
         "name": "2022",
         "text": [
          "98",
          "98",
          "98",
          "98",
          "84",
          "84",
          "84",
          "84",
          "98",
          "68"
         ],
         "type": "bar",
         "x": [
          "Scope1EstimatedTotal",
          "Scope1EstimatedMethod",
          "Scope2EstimatedTotal",
          "Scope2EstimatedMethod",
          "Scope3EstimatedUpstreamTotal",
          "Scope3EstimatedUpstreamMethod",
          "Scope3EstimatedDownstreamTotal",
          "Scope3EstimatedDownstreamMethod",
          "SalesinUSD",
          "EnterpriseValueincludingCashandShortTermInvestmentsinUSD"
         ],
         "y": [
          98.225554926,
          98.229255147,
          98.225554926,
          98.229255147,
          84.46408979499999,
          84.467790016,
          84.46408979499999,
          84.467790016,
          98.05021822699999,
          68.236790687
         ]
        }
       ],
       "layout": {
        "bargap": 0.3,
        "barmode": "group",
        "template": {
         "data": {
          "bar": [
           {
            "error_x": {
             "color": "#2a3f5f"
            },
            "error_y": {
             "color": "#2a3f5f"
            },
            "marker": {
             "line": {
              "color": "#E5ECF6",
              "width": 0.5
             },
             "pattern": {
              "fillmode": "overlay",
              "size": 10,
              "solidity": 0.2
             }
            },
            "type": "bar"
           }
          ],
          "barpolar": [
           {
            "marker": {
             "line": {
              "color": "#E5ECF6",
              "width": 0.5
             },
             "pattern": {
              "fillmode": "overlay",
              "size": 10,
              "solidity": 0.2
             }
            },
            "type": "barpolar"
           }
          ],
          "carpet": [
           {
            "aaxis": {
             "endlinecolor": "#2a3f5f",
             "gridcolor": "white",
             "linecolor": "white",
             "minorgridcolor": "white",
             "startlinecolor": "#2a3f5f"
            },
            "baxis": {
             "endlinecolor": "#2a3f5f",
             "gridcolor": "white",
             "linecolor": "white",
             "minorgridcolor": "white",
             "startlinecolor": "#2a3f5f"
            },
            "type": "carpet"
           }
          ],
          "choropleth": [
           {
            "colorbar": {
             "outlinewidth": 0,
             "ticks": ""
            },
            "type": "choropleth"
           }
          ],
          "contour": [
           {
            "colorbar": {
             "outlinewidth": 0,
             "ticks": ""
            },
            "colorscale": [
             [
              0,
              "#0d0887"
             ],
             [
              0.1111111111111111,
              "#46039f"
             ],
             [
              0.2222222222222222,
              "#7201a8"
             ],
             [
              0.3333333333333333,
              "#9c179e"
             ],
             [
              0.4444444444444444,
              "#bd3786"
             ],
             [
              0.5555555555555556,
              "#d8576b"
             ],
             [
              0.6666666666666666,
              "#ed7953"
             ],
             [
              0.7777777777777778,
              "#fb9f3a"
             ],
             [
              0.8888888888888888,
              "#fdca26"
             ],
             [
              1,
              "#f0f921"
             ]
            ],
            "type": "contour"
           }
          ],
          "contourcarpet": [
           {
            "colorbar": {
             "outlinewidth": 0,
             "ticks": ""
            },
            "type": "contourcarpet"
           }
          ],
          "heatmap": [
           {
            "colorbar": {
             "outlinewidth": 0,
             "ticks": ""
            },
            "colorscale": [
             [
              0,
              "#0d0887"
             ],
             [
              0.1111111111111111,
              "#46039f"
             ],
             [
              0.2222222222222222,
              "#7201a8"
             ],
             [
              0.3333333333333333,
              "#9c179e"
             ],
             [
              0.4444444444444444,
              "#bd3786"
             ],
             [
              0.5555555555555556,
              "#d8576b"
             ],
             [
              0.6666666666666666,
              "#ed7953"
             ],
             [
              0.7777777777777778,
              "#fb9f3a"
             ],
             [
              0.8888888888888888,
              "#fdca26"
             ],
             [
              1,
              "#f0f921"
             ]
            ],
            "type": "heatmap"
           }
          ],
          "heatmapgl": [
           {
            "colorbar": {
             "outlinewidth": 0,
             "ticks": ""
            },
            "colorscale": [
             [
              0,
              "#0d0887"
             ],
             [
              0.1111111111111111,
              "#46039f"
             ],
             [
              0.2222222222222222,
              "#7201a8"
             ],
             [
              0.3333333333333333,
              "#9c179e"
             ],
             [
              0.4444444444444444,
              "#bd3786"
             ],
             [
              0.5555555555555556,
              "#d8576b"
             ],
             [
              0.6666666666666666,
              "#ed7953"
             ],
             [
              0.7777777777777778,
              "#fb9f3a"
             ],
             [
              0.8888888888888888,
              "#fdca26"
             ],
             [
              1,
              "#f0f921"
             ]
            ],
            "type": "heatmapgl"
           }
          ],
          "histogram": [
           {
            "marker": {
             "pattern": {
              "fillmode": "overlay",
              "size": 10,
              "solidity": 0.2
             }
            },
            "type": "histogram"
           }
          ],
          "histogram2d": [
           {
            "colorbar": {
             "outlinewidth": 0,
             "ticks": ""
            },
            "colorscale": [
             [
              0,
              "#0d0887"
             ],
             [
              0.1111111111111111,
              "#46039f"
             ],
             [
              0.2222222222222222,
              "#7201a8"
             ],
             [
              0.3333333333333333,
              "#9c179e"
             ],
             [
              0.4444444444444444,
              "#bd3786"
             ],
             [
              0.5555555555555556,
              "#d8576b"
             ],
             [
              0.6666666666666666,
              "#ed7953"
             ],
             [
              0.7777777777777778,
              "#fb9f3a"
             ],
             [
              0.8888888888888888,
              "#fdca26"
             ],
             [
              1,
              "#f0f921"
             ]
            ],
            "type": "histogram2d"
           }
          ],
          "histogram2dcontour": [
           {
            "colorbar": {
             "outlinewidth": 0,
             "ticks": ""
            },
            "colorscale": [
             [
              0,
              "#0d0887"
             ],
             [
              0.1111111111111111,
              "#46039f"
             ],
             [
              0.2222222222222222,
              "#7201a8"
             ],
             [
              0.3333333333333333,
              "#9c179e"
             ],
             [
              0.4444444444444444,
              "#bd3786"
             ],
             [
              0.5555555555555556,
              "#d8576b"
             ],
             [
              0.6666666666666666,
              "#ed7953"
             ],
             [
              0.7777777777777778,
              "#fb9f3a"
             ],
             [
              0.8888888888888888,
              "#fdca26"
             ],
             [
              1,
              "#f0f921"
             ]
            ],
            "type": "histogram2dcontour"
           }
          ],
          "mesh3d": [
           {
            "colorbar": {
             "outlinewidth": 0,
             "ticks": ""
            },
            "type": "mesh3d"
           }
          ],
          "parcoords": [
           {
            "line": {
             "colorbar": {
              "outlinewidth": 0,
              "ticks": ""
             }
            },
            "type": "parcoords"
           }
          ],
          "pie": [
           {
            "automargin": true,
            "type": "pie"
           }
          ],
          "scatter": [
           {
            "fillpattern": {
             "fillmode": "overlay",
             "size": 10,
             "solidity": 0.2
            },
            "type": "scatter"
           }
          ],
          "scatter3d": [
           {
            "line": {
             "colorbar": {
              "outlinewidth": 0,
              "ticks": ""
             }
            },
            "marker": {
             "colorbar": {
              "outlinewidth": 0,
              "ticks": ""
             }
            },
            "type": "scatter3d"
           }
          ],
          "scattercarpet": [
           {
            "marker": {
             "colorbar": {
              "outlinewidth": 0,
              "ticks": ""
             }
            },
            "type": "scattercarpet"
           }
          ],
          "scattergeo": [
           {
            "marker": {
             "colorbar": {
              "outlinewidth": 0,
              "ticks": ""
             }
            },
            "type": "scattergeo"
           }
          ],
          "scattergl": [
           {
            "marker": {
             "colorbar": {
              "outlinewidth": 0,
              "ticks": ""
             }
            },
            "type": "scattergl"
           }
          ],
          "scattermapbox": [
           {
            "marker": {
             "colorbar": {
              "outlinewidth": 0,
              "ticks": ""
             }
            },
            "type": "scattermapbox"
           }
          ],
          "scatterpolar": [
           {
            "marker": {
             "colorbar": {
              "outlinewidth": 0,
              "ticks": ""
             }
            },
            "type": "scatterpolar"
           }
          ],
          "scatterpolargl": [
           {
            "marker": {
             "colorbar": {
              "outlinewidth": 0,
              "ticks": ""
             }
            },
            "type": "scatterpolargl"
           }
          ],
          "scatterternary": [
           {
            "marker": {
             "colorbar": {
              "outlinewidth": 0,
              "ticks": ""
             }
            },
            "type": "scatterternary"
           }
          ],
          "surface": [
           {
            "colorbar": {
             "outlinewidth": 0,
             "ticks": ""
            },
            "colorscale": [
             [
              0,
              "#0d0887"
             ],
             [
              0.1111111111111111,
              "#46039f"
             ],
             [
              0.2222222222222222,
              "#7201a8"
             ],
             [
              0.3333333333333333,
              "#9c179e"
             ],
             [
              0.4444444444444444,
              "#bd3786"
             ],
             [
              0.5555555555555556,
              "#d8576b"
             ],
             [
              0.6666666666666666,
              "#ed7953"
             ],
             [
              0.7777777777777778,
              "#fb9f3a"
             ],
             [
              0.8888888888888888,
              "#fdca26"
             ],
             [
              1,
              "#f0f921"
             ]
            ],
            "type": "surface"
           }
          ],
          "table": [
           {
            "cells": {
             "fill": {
              "color": "#EBF0F8"
             },
             "line": {
              "color": "white"
             }
            },
            "header": {
             "fill": {
              "color": "#C8D4E3"
             },
             "line": {
              "color": "white"
             }
            },
            "type": "table"
           }
          ]
         },
         "layout": {
          "annotationdefaults": {
           "arrowcolor": "#2a3f5f",
           "arrowhead": 0,
           "arrowwidth": 1
          },
          "autotypenumbers": "strict",
          "coloraxis": {
           "colorbar": {
            "outlinewidth": 0,
            "ticks": ""
           }
          },
          "colorscale": {
           "diverging": [
            [
             0,
             "#8e0152"
            ],
            [
             0.1,
             "#c51b7d"
            ],
            [
             0.2,
             "#de77ae"
            ],
            [
             0.3,
             "#f1b6da"
            ],
            [
             0.4,
             "#fde0ef"
            ],
            [
             0.5,
             "#f7f7f7"
            ],
            [
             0.6,
             "#e6f5d0"
            ],
            [
             0.7,
             "#b8e186"
            ],
            [
             0.8,
             "#7fbc41"
            ],
            [
             0.9,
             "#4d9221"
            ],
            [
             1,
             "#276419"
            ]
           ],
           "sequential": [
            [
             0,
             "#0d0887"
            ],
            [
             0.1111111111111111,
             "#46039f"
            ],
            [
             0.2222222222222222,
             "#7201a8"
            ],
            [
             0.3333333333333333,
             "#9c179e"
            ],
            [
             0.4444444444444444,
             "#bd3786"
            ],
            [
             0.5555555555555556,
             "#d8576b"
            ],
            [
             0.6666666666666666,
             "#ed7953"
            ],
            [
             0.7777777777777778,
             "#fb9f3a"
            ],
            [
             0.8888888888888888,
             "#fdca26"
            ],
            [
             1,
             "#f0f921"
            ]
           ],
           "sequentialminus": [
            [
             0,
             "#0d0887"
            ],
            [
             0.1111111111111111,
             "#46039f"
            ],
            [
             0.2222222222222222,
             "#7201a8"
            ],
            [
             0.3333333333333333,
             "#9c179e"
            ],
            [
             0.4444444444444444,
             "#bd3786"
            ],
            [
             0.5555555555555556,
             "#d8576b"
            ],
            [
             0.6666666666666666,
             "#ed7953"
            ],
            [
             0.7777777777777778,
             "#fb9f3a"
            ],
            [
             0.8888888888888888,
             "#fdca26"
            ],
            [
             1,
             "#f0f921"
            ]
           ]
          },
          "colorway": [
           "#636efa",
           "#EF553B",
           "#00cc96",
           "#ab63fa",
           "#FFA15A",
           "#19d3f3",
           "#FF6692",
           "#B6E880",
           "#FF97FF",
           "#FECB52"
          ],
          "font": {
           "color": "#2a3f5f"
          },
          "geo": {
           "bgcolor": "white",
           "lakecolor": "white",
           "landcolor": "#E5ECF6",
           "showlakes": true,
           "showland": true,
           "subunitcolor": "white"
          },
          "hoverlabel": {
           "align": "left"
          },
          "hovermode": "closest",
          "mapbox": {
           "style": "light"
          },
          "paper_bgcolor": "white",
          "plot_bgcolor": "#E5ECF6",
          "polar": {
           "angularaxis": {
            "gridcolor": "white",
            "linecolor": "white",
            "ticks": ""
           },
           "bgcolor": "#E5ECF6",
           "radialaxis": {
            "gridcolor": "white",
            "linecolor": "white",
            "ticks": ""
           }
          },
          "scene": {
           "xaxis": {
            "backgroundcolor": "#E5ECF6",
            "gridcolor": "white",
            "gridwidth": 2,
            "linecolor": "white",
            "showbackground": true,
            "ticks": "",
            "zerolinecolor": "white"
           },
           "yaxis": {
            "backgroundcolor": "#E5ECF6",
            "gridcolor": "white",
            "gridwidth": 2,
            "linecolor": "white",
            "showbackground": true,
            "ticks": "",
            "zerolinecolor": "white"
           },
           "zaxis": {
            "backgroundcolor": "#E5ECF6",
            "gridcolor": "white",
            "gridwidth": 2,
            "linecolor": "white",
            "showbackground": true,
            "ticks": "",
            "zerolinecolor": "white"
           }
          },
          "shapedefaults": {
           "line": {
            "color": "#2a3f5f"
           }
          },
          "ternary": {
           "aaxis": {
            "gridcolor": "white",
            "linecolor": "white",
            "ticks": ""
           },
           "baxis": {
            "gridcolor": "white",
            "linecolor": "white",
            "ticks": ""
           },
           "bgcolor": "#E5ECF6",
           "caxis": {
            "gridcolor": "white",
            "linecolor": "white",
            "ticks": ""
           }
          },
          "title": {
           "x": 0.05
          },
          "xaxis": {
           "automargin": true,
           "gridcolor": "white",
           "linecolor": "white",
           "ticks": "",
           "title": {
            "standoff": 15
           },
           "zerolinecolor": "white",
           "zerolinewidth": 2
          },
          "yaxis": {
           "automargin": true,
           "gridcolor": "white",
           "linecolor": "white",
           "ticks": "",
           "title": {
            "standoff": 15
           },
           "zerolinecolor": "white",
           "zerolinewidth": 2
          }
         }
        },
        "title": {
         "text": "Data coverage (% of portfolio weight)"
        }
       }
      }
     },
     "metadata": {},
     "output_type": "display_data"
    }
   ],
   "source": [
    "# plot the coverage results\n",
    "plotData = []\n",
    "idx = 0\n",
    "for yr in years:\n",
    "    plotData.append(go.Bar(x = cMmeasures, name = str(yr),  y = hoCoData[idx],  text = [int(x) for x in hoCoData[idx]], marker_color=lsegColors[idx]))\n",
    "    idx = idx + 1\n",
    "\n",
    "layout = go.Layout(barmode = 'group')\n",
    "fig = go.Figure(data = plotData, layout = layout)\n",
    "fig.update_layout(title_text=\"Data coverage (% of portfolio holdings)\", bargap=0.3)\n",
    "fig.show()\n",
    "\n",
    "plotData = []\n",
    "idx = 0\n",
    "for yr in years:\n",
    "    plotData.append(go.Bar(x = cMmeasures, name = str(yr),  y = wtCoData[idx],  text = [int(x) for x in wtCoData[idx]], marker_color=lsegColors[idx]))\n",
    "    idx = idx + 1\n",
    "\n",
    "layout = go.Layout(barmode = 'group')\n",
    "fig = go.Figure(data = plotData, layout = layout)\n",
    "fig.update_layout(title_text=\"Data coverage (% of portfolio weight)\", bargap=0.3)\n",
    "fig.show()"
   ]
  },
  {
   "cell_type": "markdown",
   "metadata": {},
   "source": [
    "### Calculate: Weighted Average Carbon Intensity\n",
    "---\n",
    "### WACI = ${\\sum_{Portfolio}Weight \\text{ } * \\text{ } {GHG \\text{ } Emissions \\over Revenue} \\over \\sum_{Portfolio}Weight \\text{ } (GHG \\text{ } Emissions \\text{ } or \\text{ } Revenue \\neq 0)} $"
   ]
  },
  {
   "cell_type": "code",
   "execution_count": 11,
   "metadata": {},
   "outputs": [],
   "source": [
    "# define the formula for weighted carbon intesity\n",
    "#   Sum(weight * estimate/revenue)/Sum(weight) if estimate is not 0\n",
    "def getWACI(tPort, measure):\n",
    "    sDF = tPort[tPort[measure].notna() & tPort['SalesinUSD'].notna() & (tPort['SalesinUSD'] != 0)]\n",
    "    neu = (sDF['Weight'] * sDF[measure] / (sDF['SalesinUSD'] / 1000000)).sum()\n",
    "    deno = sDF['Weight'].sum()\n",
    "    return neu/deno\n",
    "\n",
    "\n",
    "def getCarbonIntensityForYear(year):\n",
    "    # merge data for a particular year into portfolio\n",
    "    yPort = portfolio.merge(allClimate[allClimate['FinancialPeriodFiscalYear'] == year], how='left', left_on='Organization PermID', right_on='OrganizationId')\n",
    "    return [getWACI(yPort, m) for m in measures]"
   ]
  },
  {
   "cell_type": "code",
   "execution_count": 12,
   "metadata": {},
   "outputs": [
    {
     "name": "stdout",
     "output_type": "stream",
     "text": [
      "Getting data for 2019\n",
      "Getting data for 2020\n",
      "Getting data for 2021\n",
      "Getting data for 2022\n"
     ]
    }
   ],
   "source": [
    "# get data for all the measures for all the years\n",
    "wciData = []\n",
    "for yr in years:\n",
    "    print(f'Getting data for {yr}')\n",
    "    wciData.append(getCarbonIntensityForYear(yr))"
   ]
  },
  {
   "cell_type": "code",
   "execution_count": 25,
   "metadata": {},
   "outputs": [
    {
     "data": {
      "application/vnd.plotly.v1+json": {
       "config": {
        "plotlyServerURL": "https://plot.ly"
       },
       "data": [
        {
         "marker": {
          "color": "#FF5000"
         },
         "name": "2019",
         "text": [
          "127",
          "34",
          "153",
          "681"
         ],
         "type": "bar",
         "x": [
          "Scope1EstimatedTotal",
          "Scope2EstimatedTotal",
          "Scope3EstimatedUpstreamTotal",
          "Scope3EstimatedDownstreamTotal"
         ],
         "y": [
          127.14332829050193,
          34.257424059133626,
          153.4089961129933,
          681.8751237927091
         ]
        },
        {
         "marker": {
          "color": "#FFC800"
         },
         "name": "2020",
         "text": [
          "130",
          "32",
          "164",
          "789"
         ],
         "type": "bar",
         "x": [
          "Scope1EstimatedTotal",
          "Scope2EstimatedTotal",
          "Scope3EstimatedUpstreamTotal",
          "Scope3EstimatedDownstreamTotal"
         ],
         "y": [
          130.39991496546835,
          32.790816735392,
          164.88666482842606,
          789.0901394130609
         ]
        },
        {
         "marker": {
          "color": "#00D0D4"
         },
         "name": "2021",
         "text": [
          "114",
          "29",
          "176",
          "708"
         ],
         "type": "bar",
         "x": [
          "Scope1EstimatedTotal",
          "Scope2EstimatedTotal",
          "Scope3EstimatedUpstreamTotal",
          "Scope3EstimatedDownstreamTotal"
         ],
         "y": [
          114.52487060837666,
          29.201182609354127,
          176.363812306341,
          708.8516074677765
         ]
        },
        {
         "marker": {
          "color": "#9064CD"
         },
         "name": "2022",
         "text": [
          "103",
          "27",
          "175",
          "700"
         ],
         "type": "bar",
         "x": [
          "Scope1EstimatedTotal",
          "Scope2EstimatedTotal",
          "Scope3EstimatedUpstreamTotal",
          "Scope3EstimatedDownstreamTotal"
         ],
         "y": [
          103.34798118431536,
          27.186987738011272,
          175.15117372318883,
          700.223574239631
         ]
        }
       ],
       "layout": {
        "barmode": "group",
        "template": {
         "data": {
          "bar": [
           {
            "error_x": {
             "color": "#2a3f5f"
            },
            "error_y": {
             "color": "#2a3f5f"
            },
            "marker": {
             "line": {
              "color": "#E5ECF6",
              "width": 0.5
             },
             "pattern": {
              "fillmode": "overlay",
              "size": 10,
              "solidity": 0.2
             }
            },
            "type": "bar"
           }
          ],
          "barpolar": [
           {
            "marker": {
             "line": {
              "color": "#E5ECF6",
              "width": 0.5
             },
             "pattern": {
              "fillmode": "overlay",
              "size": 10,
              "solidity": 0.2
             }
            },
            "type": "barpolar"
           }
          ],
          "carpet": [
           {
            "aaxis": {
             "endlinecolor": "#2a3f5f",
             "gridcolor": "white",
             "linecolor": "white",
             "minorgridcolor": "white",
             "startlinecolor": "#2a3f5f"
            },
            "baxis": {
             "endlinecolor": "#2a3f5f",
             "gridcolor": "white",
             "linecolor": "white",
             "minorgridcolor": "white",
             "startlinecolor": "#2a3f5f"
            },
            "type": "carpet"
           }
          ],
          "choropleth": [
           {
            "colorbar": {
             "outlinewidth": 0,
             "ticks": ""
            },
            "type": "choropleth"
           }
          ],
          "contour": [
           {
            "colorbar": {
             "outlinewidth": 0,
             "ticks": ""
            },
            "colorscale": [
             [
              0,
              "#0d0887"
             ],
             [
              0.1111111111111111,
              "#46039f"
             ],
             [
              0.2222222222222222,
              "#7201a8"
             ],
             [
              0.3333333333333333,
              "#9c179e"
             ],
             [
              0.4444444444444444,
              "#bd3786"
             ],
             [
              0.5555555555555556,
              "#d8576b"
             ],
             [
              0.6666666666666666,
              "#ed7953"
             ],
             [
              0.7777777777777778,
              "#fb9f3a"
             ],
             [
              0.8888888888888888,
              "#fdca26"
             ],
             [
              1,
              "#f0f921"
             ]
            ],
            "type": "contour"
           }
          ],
          "contourcarpet": [
           {
            "colorbar": {
             "outlinewidth": 0,
             "ticks": ""
            },
            "type": "contourcarpet"
           }
          ],
          "heatmap": [
           {
            "colorbar": {
             "outlinewidth": 0,
             "ticks": ""
            },
            "colorscale": [
             [
              0,
              "#0d0887"
             ],
             [
              0.1111111111111111,
              "#46039f"
             ],
             [
              0.2222222222222222,
              "#7201a8"
             ],
             [
              0.3333333333333333,
              "#9c179e"
             ],
             [
              0.4444444444444444,
              "#bd3786"
             ],
             [
              0.5555555555555556,
              "#d8576b"
             ],
             [
              0.6666666666666666,
              "#ed7953"
             ],
             [
              0.7777777777777778,
              "#fb9f3a"
             ],
             [
              0.8888888888888888,
              "#fdca26"
             ],
             [
              1,
              "#f0f921"
             ]
            ],
            "type": "heatmap"
           }
          ],
          "heatmapgl": [
           {
            "colorbar": {
             "outlinewidth": 0,
             "ticks": ""
            },
            "colorscale": [
             [
              0,
              "#0d0887"
             ],
             [
              0.1111111111111111,
              "#46039f"
             ],
             [
              0.2222222222222222,
              "#7201a8"
             ],
             [
              0.3333333333333333,
              "#9c179e"
             ],
             [
              0.4444444444444444,
              "#bd3786"
             ],
             [
              0.5555555555555556,
              "#d8576b"
             ],
             [
              0.6666666666666666,
              "#ed7953"
             ],
             [
              0.7777777777777778,
              "#fb9f3a"
             ],
             [
              0.8888888888888888,
              "#fdca26"
             ],
             [
              1,
              "#f0f921"
             ]
            ],
            "type": "heatmapgl"
           }
          ],
          "histogram": [
           {
            "marker": {
             "pattern": {
              "fillmode": "overlay",
              "size": 10,
              "solidity": 0.2
             }
            },
            "type": "histogram"
           }
          ],
          "histogram2d": [
           {
            "colorbar": {
             "outlinewidth": 0,
             "ticks": ""
            },
            "colorscale": [
             [
              0,
              "#0d0887"
             ],
             [
              0.1111111111111111,
              "#46039f"
             ],
             [
              0.2222222222222222,
              "#7201a8"
             ],
             [
              0.3333333333333333,
              "#9c179e"
             ],
             [
              0.4444444444444444,
              "#bd3786"
             ],
             [
              0.5555555555555556,
              "#d8576b"
             ],
             [
              0.6666666666666666,
              "#ed7953"
             ],
             [
              0.7777777777777778,
              "#fb9f3a"
             ],
             [
              0.8888888888888888,
              "#fdca26"
             ],
             [
              1,
              "#f0f921"
             ]
            ],
            "type": "histogram2d"
           }
          ],
          "histogram2dcontour": [
           {
            "colorbar": {
             "outlinewidth": 0,
             "ticks": ""
            },
            "colorscale": [
             [
              0,
              "#0d0887"
             ],
             [
              0.1111111111111111,
              "#46039f"
             ],
             [
              0.2222222222222222,
              "#7201a8"
             ],
             [
              0.3333333333333333,
              "#9c179e"
             ],
             [
              0.4444444444444444,
              "#bd3786"
             ],
             [
              0.5555555555555556,
              "#d8576b"
             ],
             [
              0.6666666666666666,
              "#ed7953"
             ],
             [
              0.7777777777777778,
              "#fb9f3a"
             ],
             [
              0.8888888888888888,
              "#fdca26"
             ],
             [
              1,
              "#f0f921"
             ]
            ],
            "type": "histogram2dcontour"
           }
          ],
          "mesh3d": [
           {
            "colorbar": {
             "outlinewidth": 0,
             "ticks": ""
            },
            "type": "mesh3d"
           }
          ],
          "parcoords": [
           {
            "line": {
             "colorbar": {
              "outlinewidth": 0,
              "ticks": ""
             }
            },
            "type": "parcoords"
           }
          ],
          "pie": [
           {
            "automargin": true,
            "type": "pie"
           }
          ],
          "scatter": [
           {
            "fillpattern": {
             "fillmode": "overlay",
             "size": 10,
             "solidity": 0.2
            },
            "type": "scatter"
           }
          ],
          "scatter3d": [
           {
            "line": {
             "colorbar": {
              "outlinewidth": 0,
              "ticks": ""
             }
            },
            "marker": {
             "colorbar": {
              "outlinewidth": 0,
              "ticks": ""
             }
            },
            "type": "scatter3d"
           }
          ],
          "scattercarpet": [
           {
            "marker": {
             "colorbar": {
              "outlinewidth": 0,
              "ticks": ""
             }
            },
            "type": "scattercarpet"
           }
          ],
          "scattergeo": [
           {
            "marker": {
             "colorbar": {
              "outlinewidth": 0,
              "ticks": ""
             }
            },
            "type": "scattergeo"
           }
          ],
          "scattergl": [
           {
            "marker": {
             "colorbar": {
              "outlinewidth": 0,
              "ticks": ""
             }
            },
            "type": "scattergl"
           }
          ],
          "scattermapbox": [
           {
            "marker": {
             "colorbar": {
              "outlinewidth": 0,
              "ticks": ""
             }
            },
            "type": "scattermapbox"
           }
          ],
          "scatterpolar": [
           {
            "marker": {
             "colorbar": {
              "outlinewidth": 0,
              "ticks": ""
             }
            },
            "type": "scatterpolar"
           }
          ],
          "scatterpolargl": [
           {
            "marker": {
             "colorbar": {
              "outlinewidth": 0,
              "ticks": ""
             }
            },
            "type": "scatterpolargl"
           }
          ],
          "scatterternary": [
           {
            "marker": {
             "colorbar": {
              "outlinewidth": 0,
              "ticks": ""
             }
            },
            "type": "scatterternary"
           }
          ],
          "surface": [
           {
            "colorbar": {
             "outlinewidth": 0,
             "ticks": ""
            },
            "colorscale": [
             [
              0,
              "#0d0887"
             ],
             [
              0.1111111111111111,
              "#46039f"
             ],
             [
              0.2222222222222222,
              "#7201a8"
             ],
             [
              0.3333333333333333,
              "#9c179e"
             ],
             [
              0.4444444444444444,
              "#bd3786"
             ],
             [
              0.5555555555555556,
              "#d8576b"
             ],
             [
              0.6666666666666666,
              "#ed7953"
             ],
             [
              0.7777777777777778,
              "#fb9f3a"
             ],
             [
              0.8888888888888888,
              "#fdca26"
             ],
             [
              1,
              "#f0f921"
             ]
            ],
            "type": "surface"
           }
          ],
          "table": [
           {
            "cells": {
             "fill": {
              "color": "#EBF0F8"
             },
             "line": {
              "color": "white"
             }
            },
            "header": {
             "fill": {
              "color": "#C8D4E3"
             },
             "line": {
              "color": "white"
             }
            },
            "type": "table"
           }
          ]
         },
         "layout": {
          "annotationdefaults": {
           "arrowcolor": "#2a3f5f",
           "arrowhead": 0,
           "arrowwidth": 1
          },
          "autotypenumbers": "strict",
          "coloraxis": {
           "colorbar": {
            "outlinewidth": 0,
            "ticks": ""
           }
          },
          "colorscale": {
           "diverging": [
            [
             0,
             "#8e0152"
            ],
            [
             0.1,
             "#c51b7d"
            ],
            [
             0.2,
             "#de77ae"
            ],
            [
             0.3,
             "#f1b6da"
            ],
            [
             0.4,
             "#fde0ef"
            ],
            [
             0.5,
             "#f7f7f7"
            ],
            [
             0.6,
             "#e6f5d0"
            ],
            [
             0.7,
             "#b8e186"
            ],
            [
             0.8,
             "#7fbc41"
            ],
            [
             0.9,
             "#4d9221"
            ],
            [
             1,
             "#276419"
            ]
           ],
           "sequential": [
            [
             0,
             "#0d0887"
            ],
            [
             0.1111111111111111,
             "#46039f"
            ],
            [
             0.2222222222222222,
             "#7201a8"
            ],
            [
             0.3333333333333333,
             "#9c179e"
            ],
            [
             0.4444444444444444,
             "#bd3786"
            ],
            [
             0.5555555555555556,
             "#d8576b"
            ],
            [
             0.6666666666666666,
             "#ed7953"
            ],
            [
             0.7777777777777778,
             "#fb9f3a"
            ],
            [
             0.8888888888888888,
             "#fdca26"
            ],
            [
             1,
             "#f0f921"
            ]
           ],
           "sequentialminus": [
            [
             0,
             "#0d0887"
            ],
            [
             0.1111111111111111,
             "#46039f"
            ],
            [
             0.2222222222222222,
             "#7201a8"
            ],
            [
             0.3333333333333333,
             "#9c179e"
            ],
            [
             0.4444444444444444,
             "#bd3786"
            ],
            [
             0.5555555555555556,
             "#d8576b"
            ],
            [
             0.6666666666666666,
             "#ed7953"
            ],
            [
             0.7777777777777778,
             "#fb9f3a"
            ],
            [
             0.8888888888888888,
             "#fdca26"
            ],
            [
             1,
             "#f0f921"
            ]
           ]
          },
          "colorway": [
           "#636efa",
           "#EF553B",
           "#00cc96",
           "#ab63fa",
           "#FFA15A",
           "#19d3f3",
           "#FF6692",
           "#B6E880",
           "#FF97FF",
           "#FECB52"
          ],
          "font": {
           "color": "#2a3f5f"
          },
          "geo": {
           "bgcolor": "white",
           "lakecolor": "white",
           "landcolor": "#E5ECF6",
           "showlakes": true,
           "showland": true,
           "subunitcolor": "white"
          },
          "hoverlabel": {
           "align": "left"
          },
          "hovermode": "closest",
          "mapbox": {
           "style": "light"
          },
          "paper_bgcolor": "white",
          "plot_bgcolor": "#E5ECF6",
          "polar": {
           "angularaxis": {
            "gridcolor": "white",
            "linecolor": "white",
            "ticks": ""
           },
           "bgcolor": "#E5ECF6",
           "radialaxis": {
            "gridcolor": "white",
            "linecolor": "white",
            "ticks": ""
           }
          },
          "scene": {
           "xaxis": {
            "backgroundcolor": "#E5ECF6",
            "gridcolor": "white",
            "gridwidth": 2,
            "linecolor": "white",
            "showbackground": true,
            "ticks": "",
            "zerolinecolor": "white"
           },
           "yaxis": {
            "backgroundcolor": "#E5ECF6",
            "gridcolor": "white",
            "gridwidth": 2,
            "linecolor": "white",
            "showbackground": true,
            "ticks": "",
            "zerolinecolor": "white"
           },
           "zaxis": {
            "backgroundcolor": "#E5ECF6",
            "gridcolor": "white",
            "gridwidth": 2,
            "linecolor": "white",
            "showbackground": true,
            "ticks": "",
            "zerolinecolor": "white"
           }
          },
          "shapedefaults": {
           "line": {
            "color": "#2a3f5f"
           }
          },
          "ternary": {
           "aaxis": {
            "gridcolor": "white",
            "linecolor": "white",
            "ticks": ""
           },
           "baxis": {
            "gridcolor": "white",
            "linecolor": "white",
            "ticks": ""
           },
           "bgcolor": "#E5ECF6",
           "caxis": {
            "gridcolor": "white",
            "linecolor": "white",
            "ticks": ""
           }
          },
          "title": {
           "x": 0.05
          },
          "xaxis": {
           "automargin": true,
           "gridcolor": "white",
           "linecolor": "white",
           "ticks": "",
           "title": {
            "standoff": 15
           },
           "zerolinecolor": "white",
           "zerolinewidth": 2
          },
          "yaxis": {
           "automargin": true,
           "gridcolor": "white",
           "linecolor": "white",
           "ticks": "",
           "title": {
            "standoff": 15
           },
           "zerolinecolor": "white",
           "zerolinewidth": 2
          }
         }
        },
        "title": {
         "text": "Portfolio's Weighted Average Carbon Intensity (Weight by Scope)"
        },
        "yaxis": {
         "title": {
          "text": "Tonne CO₂/MUSD sales"
         }
        }
       }
      }
     },
     "metadata": {},
     "output_type": "display_data"
    }
   ],
   "source": [
    "# chart it in a bar graph\n",
    "plotData = []\n",
    "idx = 0\n",
    "for yr in years:\n",
    "    plotData.append(go.Bar(x = measures, name = str(yr),  y = wciData[idx],  text = [int(x) for x in wciData[idx]], marker_color=lsegColors[idx]))\n",
    "    idx = idx + 1\n",
    "\n",
    "layout = go.Layout(barmode = 'group')\n",
    "fig = go.Figure(data = plotData, layout = layout)\n",
    "fig.update_layout(title_text=\"Portfolio's Weighted Average Carbon Intensity (Weight by Scope)\", yaxis=dict(title='Tonne CO₂/MUSD sales'))\n",
    "fig.show()"
   ]
  },
  {
   "cell_type": "markdown",
   "metadata": {},
   "source": [
    "### Calculate: Financed Emissions\n",
    "---\n",
    "### FE = ${\\sum_{Portfolio} GHG \\text{ } Emissions \\text{ } * \\text{ } {Constituent \\text{ } Weight \\text{ } * \\text{ } Amount \\text{ } Invested \\over EVIC} \\over \\sum_{Portfolio}Weight \\text{ } (GHG \\text{ } Emissions \\text{ } or \\text{ } EVIC \\neq 0)} $"
   ]
  },
  {
   "cell_type": "code",
   "execution_count": 14,
   "metadata": {},
   "outputs": [],
   "source": [
    "# define the formula for financed emissions\n",
    "def getFE(tPort, measure):\n",
    "    sDF = tPort[tPort[measure].notna() & tPort['EnterpriseValueincludingCashandShortTermInvestmentsinUSD'].notna() & (tPort['EnterpriseValueincludingCashandShortTermInvestmentsinUSD'] != 0)]\n",
    "    neu = (sDF[measure] * PortfolioAmountInvested * sDF['Weight'] / sDF['EnterpriseValueincludingCashandShortTermInvestmentsinUSD'] ).sum()\n",
    "    deno = sDF['Weight'].sum()\n",
    "    return neu/deno\n",
    "\n",
    "\n",
    "def getFinancedEmissionsForYear(year):\n",
    "    # merge data for a particular year into portfolio\n",
    "    yPort = portfolio.merge(allClimate[allClimate['FinancialPeriodFiscalYear'] == year], how='left', left_on='Organization PermID', right_on='OrganizationId')\n",
    "    return [getFE(yPort, m) for m in measures]\n"
   ]
  },
  {
   "cell_type": "code",
   "execution_count": 15,
   "metadata": {},
   "outputs": [
    {
     "name": "stdout",
     "output_type": "stream",
     "text": [
      "Getting data for 2019\n",
      "Getting data for 2020\n",
      "Getting data for 2021\n",
      "Getting data for 2022\n"
     ]
    }
   ],
   "source": [
    "# get data for all the measures for all the years\n",
    "feData = []\n",
    "for yr in years:\n",
    "    print(f'Getting data for {yr}')\n",
    "    feData.append(getFinancedEmissionsForYear(yr))\n"
   ]
  },
  {
   "cell_type": "code",
   "execution_count": 27,
   "metadata": {},
   "outputs": [
    {
     "data": {
      "application/vnd.plotly.v1+json": {
       "config": {
        "plotlyServerURL": "https://plot.ly"
       },
       "data": [
        {
         "marker": {
          "color": "#FF5000"
         },
         "name": "2019",
         "text": [
          "103",
          "46",
          "384",
          "1860"
         ],
         "type": "bar",
         "x": [
          "Scope1EstimatedTotal",
          "Scope2EstimatedTotal",
          "Scope3EstimatedUpstreamTotal",
          "Scope3EstimatedDownstreamTotal"
         ],
         "y": [
          103.99557193317519,
          46.7117570786914,
          384.15208762764246,
          1860.831070161095
         ]
        },
        {
         "marker": {
          "color": "#FFC800"
         },
         "name": "2020",
         "text": [
          "118",
          "33",
          "387",
          "2224"
         ],
         "type": "bar",
         "x": [
          "Scope1EstimatedTotal",
          "Scope2EstimatedTotal",
          "Scope3EstimatedUpstreamTotal",
          "Scope3EstimatedDownstreamTotal"
         ],
         "y": [
          118.95078325148373,
          33.580331077450786,
          387.98751205970837,
          2224.1952911226817
         ]
        },
        {
         "marker": {
          "color": "#00D0D4"
         },
         "name": "2021",
         "text": [
          "95",
          "41",
          "256",
          "1563"
         ],
         "type": "bar",
         "x": [
          "Scope1EstimatedTotal",
          "Scope2EstimatedTotal",
          "Scope3EstimatedUpstreamTotal",
          "Scope3EstimatedDownstreamTotal"
         ],
         "y": [
          95.19150995506615,
          41.241063894754255,
          256.5549255171008,
          1563.420410153276
         ]
        },
        {
         "marker": {
          "color": "#9064CD"
         },
         "name": "2022",
         "text": [
          "42",
          "40",
          "260",
          "1337"
         ],
         "type": "bar",
         "x": [
          "Scope1EstimatedTotal",
          "Scope2EstimatedTotal",
          "Scope3EstimatedUpstreamTotal",
          "Scope3EstimatedDownstreamTotal"
         ],
         "y": [
          42.72369149194458,
          40.866755844299945,
          260.8259778263591,
          1337.0916868117083
         ]
        }
       ],
       "layout": {
        "barmode": "group",
        "template": {
         "data": {
          "bar": [
           {
            "error_x": {
             "color": "#2a3f5f"
            },
            "error_y": {
             "color": "#2a3f5f"
            },
            "marker": {
             "line": {
              "color": "#E5ECF6",
              "width": 0.5
             },
             "pattern": {
              "fillmode": "overlay",
              "size": 10,
              "solidity": 0.2
             }
            },
            "type": "bar"
           }
          ],
          "barpolar": [
           {
            "marker": {
             "line": {
              "color": "#E5ECF6",
              "width": 0.5
             },
             "pattern": {
              "fillmode": "overlay",
              "size": 10,
              "solidity": 0.2
             }
            },
            "type": "barpolar"
           }
          ],
          "carpet": [
           {
            "aaxis": {
             "endlinecolor": "#2a3f5f",
             "gridcolor": "white",
             "linecolor": "white",
             "minorgridcolor": "white",
             "startlinecolor": "#2a3f5f"
            },
            "baxis": {
             "endlinecolor": "#2a3f5f",
             "gridcolor": "white",
             "linecolor": "white",
             "minorgridcolor": "white",
             "startlinecolor": "#2a3f5f"
            },
            "type": "carpet"
           }
          ],
          "choropleth": [
           {
            "colorbar": {
             "outlinewidth": 0,
             "ticks": ""
            },
            "type": "choropleth"
           }
          ],
          "contour": [
           {
            "colorbar": {
             "outlinewidth": 0,
             "ticks": ""
            },
            "colorscale": [
             [
              0,
              "#0d0887"
             ],
             [
              0.1111111111111111,
              "#46039f"
             ],
             [
              0.2222222222222222,
              "#7201a8"
             ],
             [
              0.3333333333333333,
              "#9c179e"
             ],
             [
              0.4444444444444444,
              "#bd3786"
             ],
             [
              0.5555555555555556,
              "#d8576b"
             ],
             [
              0.6666666666666666,
              "#ed7953"
             ],
             [
              0.7777777777777778,
              "#fb9f3a"
             ],
             [
              0.8888888888888888,
              "#fdca26"
             ],
             [
              1,
              "#f0f921"
             ]
            ],
            "type": "contour"
           }
          ],
          "contourcarpet": [
           {
            "colorbar": {
             "outlinewidth": 0,
             "ticks": ""
            },
            "type": "contourcarpet"
           }
          ],
          "heatmap": [
           {
            "colorbar": {
             "outlinewidth": 0,
             "ticks": ""
            },
            "colorscale": [
             [
              0,
              "#0d0887"
             ],
             [
              0.1111111111111111,
              "#46039f"
             ],
             [
              0.2222222222222222,
              "#7201a8"
             ],
             [
              0.3333333333333333,
              "#9c179e"
             ],
             [
              0.4444444444444444,
              "#bd3786"
             ],
             [
              0.5555555555555556,
              "#d8576b"
             ],
             [
              0.6666666666666666,
              "#ed7953"
             ],
             [
              0.7777777777777778,
              "#fb9f3a"
             ],
             [
              0.8888888888888888,
              "#fdca26"
             ],
             [
              1,
              "#f0f921"
             ]
            ],
            "type": "heatmap"
           }
          ],
          "heatmapgl": [
           {
            "colorbar": {
             "outlinewidth": 0,
             "ticks": ""
            },
            "colorscale": [
             [
              0,
              "#0d0887"
             ],
             [
              0.1111111111111111,
              "#46039f"
             ],
             [
              0.2222222222222222,
              "#7201a8"
             ],
             [
              0.3333333333333333,
              "#9c179e"
             ],
             [
              0.4444444444444444,
              "#bd3786"
             ],
             [
              0.5555555555555556,
              "#d8576b"
             ],
             [
              0.6666666666666666,
              "#ed7953"
             ],
             [
              0.7777777777777778,
              "#fb9f3a"
             ],
             [
              0.8888888888888888,
              "#fdca26"
             ],
             [
              1,
              "#f0f921"
             ]
            ],
            "type": "heatmapgl"
           }
          ],
          "histogram": [
           {
            "marker": {
             "pattern": {
              "fillmode": "overlay",
              "size": 10,
              "solidity": 0.2
             }
            },
            "type": "histogram"
           }
          ],
          "histogram2d": [
           {
            "colorbar": {
             "outlinewidth": 0,
             "ticks": ""
            },
            "colorscale": [
             [
              0,
              "#0d0887"
             ],
             [
              0.1111111111111111,
              "#46039f"
             ],
             [
              0.2222222222222222,
              "#7201a8"
             ],
             [
              0.3333333333333333,
              "#9c179e"
             ],
             [
              0.4444444444444444,
              "#bd3786"
             ],
             [
              0.5555555555555556,
              "#d8576b"
             ],
             [
              0.6666666666666666,
              "#ed7953"
             ],
             [
              0.7777777777777778,
              "#fb9f3a"
             ],
             [
              0.8888888888888888,
              "#fdca26"
             ],
             [
              1,
              "#f0f921"
             ]
            ],
            "type": "histogram2d"
           }
          ],
          "histogram2dcontour": [
           {
            "colorbar": {
             "outlinewidth": 0,
             "ticks": ""
            },
            "colorscale": [
             [
              0,
              "#0d0887"
             ],
             [
              0.1111111111111111,
              "#46039f"
             ],
             [
              0.2222222222222222,
              "#7201a8"
             ],
             [
              0.3333333333333333,
              "#9c179e"
             ],
             [
              0.4444444444444444,
              "#bd3786"
             ],
             [
              0.5555555555555556,
              "#d8576b"
             ],
             [
              0.6666666666666666,
              "#ed7953"
             ],
             [
              0.7777777777777778,
              "#fb9f3a"
             ],
             [
              0.8888888888888888,
              "#fdca26"
             ],
             [
              1,
              "#f0f921"
             ]
            ],
            "type": "histogram2dcontour"
           }
          ],
          "mesh3d": [
           {
            "colorbar": {
             "outlinewidth": 0,
             "ticks": ""
            },
            "type": "mesh3d"
           }
          ],
          "parcoords": [
           {
            "line": {
             "colorbar": {
              "outlinewidth": 0,
              "ticks": ""
             }
            },
            "type": "parcoords"
           }
          ],
          "pie": [
           {
            "automargin": true,
            "type": "pie"
           }
          ],
          "scatter": [
           {
            "fillpattern": {
             "fillmode": "overlay",
             "size": 10,
             "solidity": 0.2
            },
            "type": "scatter"
           }
          ],
          "scatter3d": [
           {
            "line": {
             "colorbar": {
              "outlinewidth": 0,
              "ticks": ""
             }
            },
            "marker": {
             "colorbar": {
              "outlinewidth": 0,
              "ticks": ""
             }
            },
            "type": "scatter3d"
           }
          ],
          "scattercarpet": [
           {
            "marker": {
             "colorbar": {
              "outlinewidth": 0,
              "ticks": ""
             }
            },
            "type": "scattercarpet"
           }
          ],
          "scattergeo": [
           {
            "marker": {
             "colorbar": {
              "outlinewidth": 0,
              "ticks": ""
             }
            },
            "type": "scattergeo"
           }
          ],
          "scattergl": [
           {
            "marker": {
             "colorbar": {
              "outlinewidth": 0,
              "ticks": ""
             }
            },
            "type": "scattergl"
           }
          ],
          "scattermapbox": [
           {
            "marker": {
             "colorbar": {
              "outlinewidth": 0,
              "ticks": ""
             }
            },
            "type": "scattermapbox"
           }
          ],
          "scatterpolar": [
           {
            "marker": {
             "colorbar": {
              "outlinewidth": 0,
              "ticks": ""
             }
            },
            "type": "scatterpolar"
           }
          ],
          "scatterpolargl": [
           {
            "marker": {
             "colorbar": {
              "outlinewidth": 0,
              "ticks": ""
             }
            },
            "type": "scatterpolargl"
           }
          ],
          "scatterternary": [
           {
            "marker": {
             "colorbar": {
              "outlinewidth": 0,
              "ticks": ""
             }
            },
            "type": "scatterternary"
           }
          ],
          "surface": [
           {
            "colorbar": {
             "outlinewidth": 0,
             "ticks": ""
            },
            "colorscale": [
             [
              0,
              "#0d0887"
             ],
             [
              0.1111111111111111,
              "#46039f"
             ],
             [
              0.2222222222222222,
              "#7201a8"
             ],
             [
              0.3333333333333333,
              "#9c179e"
             ],
             [
              0.4444444444444444,
              "#bd3786"
             ],
             [
              0.5555555555555556,
              "#d8576b"
             ],
             [
              0.6666666666666666,
              "#ed7953"
             ],
             [
              0.7777777777777778,
              "#fb9f3a"
             ],
             [
              0.8888888888888888,
              "#fdca26"
             ],
             [
              1,
              "#f0f921"
             ]
            ],
            "type": "surface"
           }
          ],
          "table": [
           {
            "cells": {
             "fill": {
              "color": "#EBF0F8"
             },
             "line": {
              "color": "white"
             }
            },
            "header": {
             "fill": {
              "color": "#C8D4E3"
             },
             "line": {
              "color": "white"
             }
            },
            "type": "table"
           }
          ]
         },
         "layout": {
          "annotationdefaults": {
           "arrowcolor": "#2a3f5f",
           "arrowhead": 0,
           "arrowwidth": 1
          },
          "autotypenumbers": "strict",
          "coloraxis": {
           "colorbar": {
            "outlinewidth": 0,
            "ticks": ""
           }
          },
          "colorscale": {
           "diverging": [
            [
             0,
             "#8e0152"
            ],
            [
             0.1,
             "#c51b7d"
            ],
            [
             0.2,
             "#de77ae"
            ],
            [
             0.3,
             "#f1b6da"
            ],
            [
             0.4,
             "#fde0ef"
            ],
            [
             0.5,
             "#f7f7f7"
            ],
            [
             0.6,
             "#e6f5d0"
            ],
            [
             0.7,
             "#b8e186"
            ],
            [
             0.8,
             "#7fbc41"
            ],
            [
             0.9,
             "#4d9221"
            ],
            [
             1,
             "#276419"
            ]
           ],
           "sequential": [
            [
             0,
             "#0d0887"
            ],
            [
             0.1111111111111111,
             "#46039f"
            ],
            [
             0.2222222222222222,
             "#7201a8"
            ],
            [
             0.3333333333333333,
             "#9c179e"
            ],
            [
             0.4444444444444444,
             "#bd3786"
            ],
            [
             0.5555555555555556,
             "#d8576b"
            ],
            [
             0.6666666666666666,
             "#ed7953"
            ],
            [
             0.7777777777777778,
             "#fb9f3a"
            ],
            [
             0.8888888888888888,
             "#fdca26"
            ],
            [
             1,
             "#f0f921"
            ]
           ],
           "sequentialminus": [
            [
             0,
             "#0d0887"
            ],
            [
             0.1111111111111111,
             "#46039f"
            ],
            [
             0.2222222222222222,
             "#7201a8"
            ],
            [
             0.3333333333333333,
             "#9c179e"
            ],
            [
             0.4444444444444444,
             "#bd3786"
            ],
            [
             0.5555555555555556,
             "#d8576b"
            ],
            [
             0.6666666666666666,
             "#ed7953"
            ],
            [
             0.7777777777777778,
             "#fb9f3a"
            ],
            [
             0.8888888888888888,
             "#fdca26"
            ],
            [
             1,
             "#f0f921"
            ]
           ]
          },
          "colorway": [
           "#636efa",
           "#EF553B",
           "#00cc96",
           "#ab63fa",
           "#FFA15A",
           "#19d3f3",
           "#FF6692",
           "#B6E880",
           "#FF97FF",
           "#FECB52"
          ],
          "font": {
           "color": "#2a3f5f"
          },
          "geo": {
           "bgcolor": "white",
           "lakecolor": "white",
           "landcolor": "#E5ECF6",
           "showlakes": true,
           "showland": true,
           "subunitcolor": "white"
          },
          "hoverlabel": {
           "align": "left"
          },
          "hovermode": "closest",
          "mapbox": {
           "style": "light"
          },
          "paper_bgcolor": "white",
          "plot_bgcolor": "#E5ECF6",
          "polar": {
           "angularaxis": {
            "gridcolor": "white",
            "linecolor": "white",
            "ticks": ""
           },
           "bgcolor": "#E5ECF6",
           "radialaxis": {
            "gridcolor": "white",
            "linecolor": "white",
            "ticks": ""
           }
          },
          "scene": {
           "xaxis": {
            "backgroundcolor": "#E5ECF6",
            "gridcolor": "white",
            "gridwidth": 2,
            "linecolor": "white",
            "showbackground": true,
            "ticks": "",
            "zerolinecolor": "white"
           },
           "yaxis": {
            "backgroundcolor": "#E5ECF6",
            "gridcolor": "white",
            "gridwidth": 2,
            "linecolor": "white",
            "showbackground": true,
            "ticks": "",
            "zerolinecolor": "white"
           },
           "zaxis": {
            "backgroundcolor": "#E5ECF6",
            "gridcolor": "white",
            "gridwidth": 2,
            "linecolor": "white",
            "showbackground": true,
            "ticks": "",
            "zerolinecolor": "white"
           }
          },
          "shapedefaults": {
           "line": {
            "color": "#2a3f5f"
           }
          },
          "ternary": {
           "aaxis": {
            "gridcolor": "white",
            "linecolor": "white",
            "ticks": ""
           },
           "baxis": {
            "gridcolor": "white",
            "linecolor": "white",
            "ticks": ""
           },
           "bgcolor": "#E5ECF6",
           "caxis": {
            "gridcolor": "white",
            "linecolor": "white",
            "ticks": ""
           }
          },
          "title": {
           "x": 0.05
          },
          "xaxis": {
           "automargin": true,
           "gridcolor": "white",
           "linecolor": "white",
           "ticks": "",
           "title": {
            "standoff": 15
           },
           "zerolinecolor": "white",
           "zerolinewidth": 2
          },
          "yaxis": {
           "automargin": true,
           "gridcolor": "white",
           "linecolor": "white",
           "ticks": "",
           "title": {
            "standoff": 15
           },
           "zerolinecolor": "white",
           "zerolinewidth": 2
          }
         }
        },
        "title": {
         "text": "Financed Emissions for a portfolio valued at 1,000,000"
        },
        "yaxis": {
         "title": {
          "text": "Tonne CO₂/MUSD"
         }
        }
       }
      }
     },
     "metadata": {},
     "output_type": "display_data"
    }
   ],
   "source": [
    "# chart it in a bar graph\n",
    "plotData = []\n",
    "idx = 0\n",
    "for yr in years:\n",
    "    plotData.append(go.Bar(x = measures, name = str(yr),  y = feData[idx],  text = [int(x) for x in feData[idx]], marker_color=lsegColors[idx]))\n",
    "    idx = idx + 1\n",
    "\n",
    "layout = go.Layout(barmode = 'group')\n",
    "fig = go.Figure(data = plotData, layout = layout)\n",
    "fig.update_layout(title_text=f\"Financed Emissions for a portfolio valued at {PortfolioAmountInvested:,}\", yaxis=dict(title='Tonne CO₂/MUSD'))\n",
    "fig.show()"
   ]
  },
  {
   "cell_type": "markdown",
   "metadata": {},
   "source": [
    "### Calculate: PCAF Data Quality Score\n",
    "---\n",
    "\n",
    "### PCAF = $ \\% \\text{ } of \\text{ } Financed \\text{ } Emissions \\text{ } Score \\text{ } * \\text{ } {\\sum_{Portfolio}GHG \\text{ } Emissions \\text{ } * \\text{ } {{Weight \\text{ } * \\text{ } Amount \\text{ } Invested} \\over EVIC} \\text{ } * \\text{ } (PCAF \\text{ } Score \\text{ } = \\text{ } x)} \\over Financed \\text{ } Emissions $ \n"
   ]
  },
  {
   "cell_type": "code",
   "execution_count": 17,
   "metadata": {},
   "outputs": [],
   "source": [
    "# assign a score to each type of estimation method\n",
    "scoreMapping = {\n",
    "    'Scope1EstimatedMethod': {\n",
    "        'Reported': 2,\n",
    "        'Energy_model': 3,\n",
    "        'Energy_extrapolated': 4,\n",
    "        'Winsorized': 4,\n",
    "        'Extrapolated': 4,\n",
    "        'Aggregated Estimate': 5,\n",
    "        'Aggregated_model': 5,\n",
    "        'Reported_value': 2,\n",
    "    },\n",
    "\n",
    "    'Scope2EstimatedMethod': {\n",
    "        'Reported': 2,\n",
    "        'Winsorized': 4,\n",
    "        'Extrapolated': 4,\n",
    "        'Aggregated Estimate': 5,\n",
    "        'Aggregated_model': 5,\n",
    "        'Reported_value': 2\n",
    "    },\n",
    "\n",
    "    'Scope3EstimatedDownstreamMethod':\t{\n",
    "        'Reported': 2,\n",
    "        'Fossil_fuel_production_model': 3,\n",
    "        'Winsorized': 4,\n",
    "        'Extrapolated': 4,\n",
    "        'Aggregated_model': 5,\n",
    "        'Reported_value': 2,\n",
    "        'Aggregated model': 5,\n",
    "        'Fossil fuel production model': 3\n",
    "    },\n",
    "\n",
    "    'Scope3EstimatedUpstreamMethod': {\n",
    "        'Reported': 2,\n",
    "        'Winsorized': 4,\n",
    "        'Extrapolated': 4,\n",
    "        'Aggregated_model': 5,\n",
    "        'Reported_value': 2,\n",
    "        'Aggregated model': 5\n",
    "    }\n",
    "}"
   ]
  },
  {
   "cell_type": "code",
   "execution_count": 18,
   "metadata": {},
   "outputs": [],
   "source": [
    "# define parameters for the PCAF calculation - year and the fields to be used\n",
    "pcafYear = 2021\n",
    "numberScoreGrades = 6\n",
    "pcafMeasures = {\n",
    "    'Scope1EstimatedMethod': 'Scope1EstimatedTotal',\n",
    "\t'Scope2EstimatedMethod': 'Scope2EstimatedTotal',\n",
    "\t'Scope3EstimatedUpstreamMethod': 'Scope3EstimatedUpstreamTotal',\n",
    "\t'Scope3EstimatedDownstreamMethod': 'Scope3EstimatedDownstreamTotal'\n",
    "}"
   ]
  },
  {
   "cell_type": "code",
   "execution_count": 19,
   "metadata": {},
   "outputs": [],
   "source": [
    "# define the formula for PCAF Score grade\n",
    "def getPCAFByWeight(tPort, scope):\n",
    "    scoresByWeight = [0] * numberScoreGrades\n",
    "    # aggregate all the weights for a particular score\n",
    "    sDF = tPort[tPort['EnterpriseValueincludingCashandShortTermInvestmentsinUSD'].notna() & (tPort['EnterpriseValueincludingCashandShortTermInvestmentsinUSD'] != 0)]\n",
    "    for grade in range(numberScoreGrades):\n",
    "        scoresByWeight[grade] = sDF[sDF[scope] == grade]['Weight'].sum() \n",
    "\n",
    "    # also add the weights which don't have enterprise value into the n/a bucket\n",
    "    sDF = tPort[tPort['EnterpriseValueincludingCashandShortTermInvestmentsinUSD'].isna() | (tPort['EnterpriseValueincludingCashandShortTermInvestmentsinUSD'] == 0)]\n",
    "    scoresByWeight[0] += sDF['Weight'].sum() \n",
    "\n",
    "    return scoresByWeight"
   ]
  },
  {
   "cell_type": "code",
   "execution_count": 20,
   "metadata": {},
   "outputs": [],
   "source": [
    "# define the formula for PCAF Score grade\n",
    "def getPCAFByFE(tPort, scope):\n",
    "    # calculate the financed emissions for a scope\n",
    "    tPort[f'fe_{scope}'] = tPort[pcafMeasures[scope]] * PortfolioAmountInvested * tPort['Weight'] / tPort['EnterpriseValueincludingCashandShortTermInvestmentsinUSD']\n",
    "    # find coverage % for this scope\n",
    "    coverage = tPort[tPort[pcafMeasures[scope]].notna() & tPort['EnterpriseValueincludingCashandShortTermInvestmentsinUSD'].notna()]['Weight'].sum()\n",
    "    # find the ratio of FE to coverage\n",
    "    R4170 = tPort[f'fe_{scope}'].sum()/coverage\n",
    "    # calculate rebased financed emissions and insert into FE misssing values\n",
    "    tPort['rebasedFE'] = tPort['Weight'] * PortfolioAmountInvested * R4170 / 1000000\n",
    "    tPort[f'fe_{scope}'] = tPort[f'fe_{scope}'].fillna(tPort['rebasedFE'])\n",
    "    allFE = tPort[f'fe_{scope}'].sum()\n",
    "    # generate score grades by FE\n",
    "    scoresByFE = [ (tPort[tPort[scope] == grade][f'fe_{scope}'].sum()/allFE) * 100 for grade in range(numberScoreGrades)]\n",
    "    return scoresByFE"
   ]
  },
  {
   "cell_type": "code",
   "execution_count": 21,
   "metadata": {},
   "outputs": [],
   "source": [
    "# merge data for a particular year into portfolio\n",
    "pcafPort = portfolio.merge(allClimate[allClimate['FinancialPeriodFiscalYear'] == pcafYear], how='left', left_on='Organization PermID', right_on='OrganizationId')\n",
    "# replace the method values with score grade numbers \n",
    "pcafPort = pcafPort.replace(scoreMapping)\n",
    "# fill up the unavailable methods with 0\n",
    "pcafPort.fillna({k:0 for k in pcafMeasures.keys()}, inplace=True)\n",
    "\n",
    "pcafWeights = [getPCAFByWeight(pcafPort, measure) for measure in pcafMeasures.keys()]\n",
    "pcafFE = [getPCAFByFE(pcafPort, measure) for measure in pcafMeasures.keys()]"
   ]
  },
  {
   "cell_type": "markdown",
   "metadata": {},
   "source": [
    "### Pie chart for PCAF Scores"
   ]
  },
  {
   "cell_type": "code",
   "execution_count": 28,
   "metadata": {},
   "outputs": [
    {
     "data": {
      "application/vnd.plotly.v1+json": {
       "config": {
        "plotlyServerURL": "https://plot.ly"
       },
       "data": [
        {
         "domain": {
          "x": [
           0,
           0.2125
          ],
          "y": [
           0,
           1
          ]
         },
         "hole": 0.5,
         "hoverinfo": "label+percent+name",
         "labels": [
          "No Data",
          "1",
          "2",
          "3",
          "4",
          "5"
         ],
         "marker": {
          "colors": [
           "#FF5000",
           "#FFC800",
           "#00D0D4",
           "#9064CD",
           "#00C389",
           "#FFFF00"
          ]
         },
         "name": "Scope1EstimatedMethod",
         "type": "pie",
         "values": [
          1.247567132,
          0,
          87.849704455,
          0.018917540999999996,
          6.037668933999999,
          4.757723362
         ]
        },
        {
         "domain": {
          "x": [
           0.2625,
           0.475
          ],
          "y": [
           0,
           1
          ]
         },
         "hole": 0.5,
         "hoverinfo": "label+percent+name",
         "labels": [
          "No Data",
          "1",
          "2",
          "3",
          "4",
          "5"
         ],
         "marker": {
          "colors": [
           "#FF5000",
           "#FFC800",
           "#00D0D4",
           "#9064CD",
           "#00C389",
           "#FFFF00"
          ]
         },
         "name": "Scope2EstimatedMethod",
         "type": "pie",
         "values": [
          1.247567132,
          0,
          89.300103541,
          0,
          4.611291069,
          4.752619682
         ]
        },
        {
         "domain": {
          "x": [
           0.525,
           0.7375
          ],
          "y": [
           0,
           1
          ]
         },
         "hole": 0.5,
         "hoverinfo": "label+percent+name",
         "labels": [
          "No Data",
          "1",
          "2",
          "3",
          "4",
          "5"
         ],
         "marker": {
          "colors": [
           "#FF5000",
           "#FFC800",
           "#00D0D4",
           "#9064CD",
           "#00C389",
           "#FFFF00"
          ]
         },
         "name": "Scope3EstimatedUpstreamMethod",
         "type": "pie",
         "values": [
          14.822566693999999,
          0,
          57.751932260000004,
          0,
          9.741536060000001,
          17.59554641
         ]
        },
        {
         "domain": {
          "x": [
           0.7875,
           1
          ],
          "y": [
           0,
           1
          ]
         },
         "hole": 0.5,
         "hoverinfo": "label+percent+name",
         "labels": [
          "No Data",
          "1",
          "2",
          "3",
          "4",
          "5"
         ],
         "marker": {
          "colors": [
           "#FF5000",
           "#FFC800",
           "#00D0D4",
           "#9064CD",
           "#00C389",
           "#FFFF00"
          ]
         },
         "name": "Scope3EstimatedDownstreamMethod",
         "type": "pie",
         "values": [
          14.822566693999999,
          0,
          39.387887004999996,
          0.692335282,
          7.78352982,
          37.225262623
         ]
        }
       ],
       "layout": {
        "template": {
         "data": {
          "bar": [
           {
            "error_x": {
             "color": "#2a3f5f"
            },
            "error_y": {
             "color": "#2a3f5f"
            },
            "marker": {
             "line": {
              "color": "#E5ECF6",
              "width": 0.5
             },
             "pattern": {
              "fillmode": "overlay",
              "size": 10,
              "solidity": 0.2
             }
            },
            "type": "bar"
           }
          ],
          "barpolar": [
           {
            "marker": {
             "line": {
              "color": "#E5ECF6",
              "width": 0.5
             },
             "pattern": {
              "fillmode": "overlay",
              "size": 10,
              "solidity": 0.2
             }
            },
            "type": "barpolar"
           }
          ],
          "carpet": [
           {
            "aaxis": {
             "endlinecolor": "#2a3f5f",
             "gridcolor": "white",
             "linecolor": "white",
             "minorgridcolor": "white",
             "startlinecolor": "#2a3f5f"
            },
            "baxis": {
             "endlinecolor": "#2a3f5f",
             "gridcolor": "white",
             "linecolor": "white",
             "minorgridcolor": "white",
             "startlinecolor": "#2a3f5f"
            },
            "type": "carpet"
           }
          ],
          "choropleth": [
           {
            "colorbar": {
             "outlinewidth": 0,
             "ticks": ""
            },
            "type": "choropleth"
           }
          ],
          "contour": [
           {
            "colorbar": {
             "outlinewidth": 0,
             "ticks": ""
            },
            "colorscale": [
             [
              0,
              "#0d0887"
             ],
             [
              0.1111111111111111,
              "#46039f"
             ],
             [
              0.2222222222222222,
              "#7201a8"
             ],
             [
              0.3333333333333333,
              "#9c179e"
             ],
             [
              0.4444444444444444,
              "#bd3786"
             ],
             [
              0.5555555555555556,
              "#d8576b"
             ],
             [
              0.6666666666666666,
              "#ed7953"
             ],
             [
              0.7777777777777778,
              "#fb9f3a"
             ],
             [
              0.8888888888888888,
              "#fdca26"
             ],
             [
              1,
              "#f0f921"
             ]
            ],
            "type": "contour"
           }
          ],
          "contourcarpet": [
           {
            "colorbar": {
             "outlinewidth": 0,
             "ticks": ""
            },
            "type": "contourcarpet"
           }
          ],
          "heatmap": [
           {
            "colorbar": {
             "outlinewidth": 0,
             "ticks": ""
            },
            "colorscale": [
             [
              0,
              "#0d0887"
             ],
             [
              0.1111111111111111,
              "#46039f"
             ],
             [
              0.2222222222222222,
              "#7201a8"
             ],
             [
              0.3333333333333333,
              "#9c179e"
             ],
             [
              0.4444444444444444,
              "#bd3786"
             ],
             [
              0.5555555555555556,
              "#d8576b"
             ],
             [
              0.6666666666666666,
              "#ed7953"
             ],
             [
              0.7777777777777778,
              "#fb9f3a"
             ],
             [
              0.8888888888888888,
              "#fdca26"
             ],
             [
              1,
              "#f0f921"
             ]
            ],
            "type": "heatmap"
           }
          ],
          "heatmapgl": [
           {
            "colorbar": {
             "outlinewidth": 0,
             "ticks": ""
            },
            "colorscale": [
             [
              0,
              "#0d0887"
             ],
             [
              0.1111111111111111,
              "#46039f"
             ],
             [
              0.2222222222222222,
              "#7201a8"
             ],
             [
              0.3333333333333333,
              "#9c179e"
             ],
             [
              0.4444444444444444,
              "#bd3786"
             ],
             [
              0.5555555555555556,
              "#d8576b"
             ],
             [
              0.6666666666666666,
              "#ed7953"
             ],
             [
              0.7777777777777778,
              "#fb9f3a"
             ],
             [
              0.8888888888888888,
              "#fdca26"
             ],
             [
              1,
              "#f0f921"
             ]
            ],
            "type": "heatmapgl"
           }
          ],
          "histogram": [
           {
            "marker": {
             "pattern": {
              "fillmode": "overlay",
              "size": 10,
              "solidity": 0.2
             }
            },
            "type": "histogram"
           }
          ],
          "histogram2d": [
           {
            "colorbar": {
             "outlinewidth": 0,
             "ticks": ""
            },
            "colorscale": [
             [
              0,
              "#0d0887"
             ],
             [
              0.1111111111111111,
              "#46039f"
             ],
             [
              0.2222222222222222,
              "#7201a8"
             ],
             [
              0.3333333333333333,
              "#9c179e"
             ],
             [
              0.4444444444444444,
              "#bd3786"
             ],
             [
              0.5555555555555556,
              "#d8576b"
             ],
             [
              0.6666666666666666,
              "#ed7953"
             ],
             [
              0.7777777777777778,
              "#fb9f3a"
             ],
             [
              0.8888888888888888,
              "#fdca26"
             ],
             [
              1,
              "#f0f921"
             ]
            ],
            "type": "histogram2d"
           }
          ],
          "histogram2dcontour": [
           {
            "colorbar": {
             "outlinewidth": 0,
             "ticks": ""
            },
            "colorscale": [
             [
              0,
              "#0d0887"
             ],
             [
              0.1111111111111111,
              "#46039f"
             ],
             [
              0.2222222222222222,
              "#7201a8"
             ],
             [
              0.3333333333333333,
              "#9c179e"
             ],
             [
              0.4444444444444444,
              "#bd3786"
             ],
             [
              0.5555555555555556,
              "#d8576b"
             ],
             [
              0.6666666666666666,
              "#ed7953"
             ],
             [
              0.7777777777777778,
              "#fb9f3a"
             ],
             [
              0.8888888888888888,
              "#fdca26"
             ],
             [
              1,
              "#f0f921"
             ]
            ],
            "type": "histogram2dcontour"
           }
          ],
          "mesh3d": [
           {
            "colorbar": {
             "outlinewidth": 0,
             "ticks": ""
            },
            "type": "mesh3d"
           }
          ],
          "parcoords": [
           {
            "line": {
             "colorbar": {
              "outlinewidth": 0,
              "ticks": ""
             }
            },
            "type": "parcoords"
           }
          ],
          "pie": [
           {
            "automargin": true,
            "type": "pie"
           }
          ],
          "scatter": [
           {
            "fillpattern": {
             "fillmode": "overlay",
             "size": 10,
             "solidity": 0.2
            },
            "type": "scatter"
           }
          ],
          "scatter3d": [
           {
            "line": {
             "colorbar": {
              "outlinewidth": 0,
              "ticks": ""
             }
            },
            "marker": {
             "colorbar": {
              "outlinewidth": 0,
              "ticks": ""
             }
            },
            "type": "scatter3d"
           }
          ],
          "scattercarpet": [
           {
            "marker": {
             "colorbar": {
              "outlinewidth": 0,
              "ticks": ""
             }
            },
            "type": "scattercarpet"
           }
          ],
          "scattergeo": [
           {
            "marker": {
             "colorbar": {
              "outlinewidth": 0,
              "ticks": ""
             }
            },
            "type": "scattergeo"
           }
          ],
          "scattergl": [
           {
            "marker": {
             "colorbar": {
              "outlinewidth": 0,
              "ticks": ""
             }
            },
            "type": "scattergl"
           }
          ],
          "scattermapbox": [
           {
            "marker": {
             "colorbar": {
              "outlinewidth": 0,
              "ticks": ""
             }
            },
            "type": "scattermapbox"
           }
          ],
          "scatterpolar": [
           {
            "marker": {
             "colorbar": {
              "outlinewidth": 0,
              "ticks": ""
             }
            },
            "type": "scatterpolar"
           }
          ],
          "scatterpolargl": [
           {
            "marker": {
             "colorbar": {
              "outlinewidth": 0,
              "ticks": ""
             }
            },
            "type": "scatterpolargl"
           }
          ],
          "scatterternary": [
           {
            "marker": {
             "colorbar": {
              "outlinewidth": 0,
              "ticks": ""
             }
            },
            "type": "scatterternary"
           }
          ],
          "surface": [
           {
            "colorbar": {
             "outlinewidth": 0,
             "ticks": ""
            },
            "colorscale": [
             [
              0,
              "#0d0887"
             ],
             [
              0.1111111111111111,
              "#46039f"
             ],
             [
              0.2222222222222222,
              "#7201a8"
             ],
             [
              0.3333333333333333,
              "#9c179e"
             ],
             [
              0.4444444444444444,
              "#bd3786"
             ],
             [
              0.5555555555555556,
              "#d8576b"
             ],
             [
              0.6666666666666666,
              "#ed7953"
             ],
             [
              0.7777777777777778,
              "#fb9f3a"
             ],
             [
              0.8888888888888888,
              "#fdca26"
             ],
             [
              1,
              "#f0f921"
             ]
            ],
            "type": "surface"
           }
          ],
          "table": [
           {
            "cells": {
             "fill": {
              "color": "#EBF0F8"
             },
             "line": {
              "color": "white"
             }
            },
            "header": {
             "fill": {
              "color": "#C8D4E3"
             },
             "line": {
              "color": "white"
             }
            },
            "type": "table"
           }
          ]
         },
         "layout": {
          "annotationdefaults": {
           "arrowcolor": "#2a3f5f",
           "arrowhead": 0,
           "arrowwidth": 1
          },
          "autotypenumbers": "strict",
          "coloraxis": {
           "colorbar": {
            "outlinewidth": 0,
            "ticks": ""
           }
          },
          "colorscale": {
           "diverging": [
            [
             0,
             "#8e0152"
            ],
            [
             0.1,
             "#c51b7d"
            ],
            [
             0.2,
             "#de77ae"
            ],
            [
             0.3,
             "#f1b6da"
            ],
            [
             0.4,
             "#fde0ef"
            ],
            [
             0.5,
             "#f7f7f7"
            ],
            [
             0.6,
             "#e6f5d0"
            ],
            [
             0.7,
             "#b8e186"
            ],
            [
             0.8,
             "#7fbc41"
            ],
            [
             0.9,
             "#4d9221"
            ],
            [
             1,
             "#276419"
            ]
           ],
           "sequential": [
            [
             0,
             "#0d0887"
            ],
            [
             0.1111111111111111,
             "#46039f"
            ],
            [
             0.2222222222222222,
             "#7201a8"
            ],
            [
             0.3333333333333333,
             "#9c179e"
            ],
            [
             0.4444444444444444,
             "#bd3786"
            ],
            [
             0.5555555555555556,
             "#d8576b"
            ],
            [
             0.6666666666666666,
             "#ed7953"
            ],
            [
             0.7777777777777778,
             "#fb9f3a"
            ],
            [
             0.8888888888888888,
             "#fdca26"
            ],
            [
             1,
             "#f0f921"
            ]
           ],
           "sequentialminus": [
            [
             0,
             "#0d0887"
            ],
            [
             0.1111111111111111,
             "#46039f"
            ],
            [
             0.2222222222222222,
             "#7201a8"
            ],
            [
             0.3333333333333333,
             "#9c179e"
            ],
            [
             0.4444444444444444,
             "#bd3786"
            ],
            [
             0.5555555555555556,
             "#d8576b"
            ],
            [
             0.6666666666666666,
             "#ed7953"
            ],
            [
             0.7777777777777778,
             "#fb9f3a"
            ],
            [
             0.8888888888888888,
             "#fdca26"
            ],
            [
             1,
             "#f0f921"
            ]
           ]
          },
          "colorway": [
           "#636efa",
           "#EF553B",
           "#00cc96",
           "#ab63fa",
           "#FFA15A",
           "#19d3f3",
           "#FF6692",
           "#B6E880",
           "#FF97FF",
           "#FECB52"
          ],
          "font": {
           "color": "#2a3f5f"
          },
          "geo": {
           "bgcolor": "white",
           "lakecolor": "white",
           "landcolor": "#E5ECF6",
           "showlakes": true,
           "showland": true,
           "subunitcolor": "white"
          },
          "hoverlabel": {
           "align": "left"
          },
          "hovermode": "closest",
          "mapbox": {
           "style": "light"
          },
          "paper_bgcolor": "white",
          "plot_bgcolor": "#E5ECF6",
          "polar": {
           "angularaxis": {
            "gridcolor": "white",
            "linecolor": "white",
            "ticks": ""
           },
           "bgcolor": "#E5ECF6",
           "radialaxis": {
            "gridcolor": "white",
            "linecolor": "white",
            "ticks": ""
           }
          },
          "scene": {
           "xaxis": {
            "backgroundcolor": "#E5ECF6",
            "gridcolor": "white",
            "gridwidth": 2,
            "linecolor": "white",
            "showbackground": true,
            "ticks": "",
            "zerolinecolor": "white"
           },
           "yaxis": {
            "backgroundcolor": "#E5ECF6",
            "gridcolor": "white",
            "gridwidth": 2,
            "linecolor": "white",
            "showbackground": true,
            "ticks": "",
            "zerolinecolor": "white"
           },
           "zaxis": {
            "backgroundcolor": "#E5ECF6",
            "gridcolor": "white",
            "gridwidth": 2,
            "linecolor": "white",
            "showbackground": true,
            "ticks": "",
            "zerolinecolor": "white"
           }
          },
          "shapedefaults": {
           "line": {
            "color": "#2a3f5f"
           }
          },
          "ternary": {
           "aaxis": {
            "gridcolor": "white",
            "linecolor": "white",
            "ticks": ""
           },
           "baxis": {
            "gridcolor": "white",
            "linecolor": "white",
            "ticks": ""
           },
           "bgcolor": "#E5ECF6",
           "caxis": {
            "gridcolor": "white",
            "linecolor": "white",
            "ticks": ""
           }
          },
          "title": {
           "x": 0.05
          },
          "xaxis": {
           "automargin": true,
           "gridcolor": "white",
           "linecolor": "white",
           "ticks": "",
           "title": {
            "standoff": 15
           },
           "zerolinecolor": "white",
           "zerolinewidth": 2
          },
          "yaxis": {
           "automargin": true,
           "gridcolor": "white",
           "linecolor": "white",
           "ticks": "",
           "title": {
            "standoff": 15
           },
           "zerolinecolor": "white",
           "zerolinewidth": 2
          }
         }
        },
        "title": {
         "text": "PCAF quality score for 2021 (Index Weight)"
        }
       }
      }
     },
     "metadata": {},
     "output_type": "display_data"
    },
    {
     "data": {
      "application/vnd.plotly.v1+json": {
       "config": {
        "plotlyServerURL": "https://plot.ly"
       },
       "data": [
        {
         "domain": {
          "x": [
           0,
           0.2125
          ],
          "y": [
           0,
           1
          ]
         },
         "hole": 0.5,
         "hoverinfo": "label+percent+name",
         "labels": [
          "No Data",
          "1",
          "2",
          "3",
          "4",
          "5"
         ],
         "marker": {
          "colors": [
           "#FF5000",
           "#FFC800",
           "#00D0D4",
           "#9064CD",
           "#00C389",
           "#FFFF00"
          ]
         },
         "name": "Scope1EstimatedMethod",
         "type": "pie",
         "values": [
          0.803033566844606,
          0,
          84.69820919906527,
          0.03541569019509289,
          12.896144160206308,
          1.5671973836887256
         ]
        },
        {
         "domain": {
          "x": [
           0.2625,
           0.475
          ],
          "y": [
           0,
           1
          ]
         },
         "hole": 0.5,
         "hoverinfo": "label+percent+name",
         "labels": [
          "No Data",
          "1",
          "2",
          "3",
          "4",
          "5"
         ],
         "marker": {
          "colors": [
           "#FF5000",
           "#FFC800",
           "#00D0D4",
           "#9064CD",
           "#00C389",
           "#FFFF00"
          ]
         },
         "name": "Scope2EstimatedMethod",
         "type": "pie",
         "values": [
          0.8030335668446063,
          0,
          96.15699747759828,
          0,
          2.2497442361355096,
          0.7902247194216309
         ]
        },
        {
         "domain": {
          "x": [
           0.525,
           0.7375
          ],
          "y": [
           0,
           1
          ]
         },
         "hole": 0.5,
         "hoverinfo": "label+percent+name",
         "labels": [
          "No Data",
          "1",
          "2",
          "3",
          "4",
          "5"
         ],
         "marker": {
          "colors": [
           "#FF5000",
           "#FFC800",
           "#00D0D4",
           "#9064CD",
           "#00C389",
           "#FFFF00"
          ]
         },
         "name": "Scope3EstimatedUpstreamMethod",
         "type": "pie",
         "values": [
          14.451556152159577,
          0,
          73.1644555272662,
          0,
          7.538326287578183,
          4.845662032996046
         ]
        },
        {
         "domain": {
          "x": [
           0.7875,
           1
          ],
          "y": [
           0,
           1
          ]
         },
         "hole": 0.5,
         "hoverinfo": "label+percent+name",
         "labels": [
          "No Data",
          "1",
          "2",
          "3",
          "4",
          "5"
         ],
         "marker": {
          "colors": [
           "#FF5000",
           "#FFC800",
           "#00D0D4",
           "#9064CD",
           "#00C389",
           "#FFFF00"
          ]
         },
         "name": "Scope3EstimatedDownstreamMethod",
         "type": "pie",
         "values": [
          14.451556152159581,
          0,
          68.11467816380316,
          5.233242991030681,
          8.242887601790795,
          3.957635091215765
         ]
        }
       ],
       "layout": {
        "template": {
         "data": {
          "bar": [
           {
            "error_x": {
             "color": "#2a3f5f"
            },
            "error_y": {
             "color": "#2a3f5f"
            },
            "marker": {
             "line": {
              "color": "#E5ECF6",
              "width": 0.5
             },
             "pattern": {
              "fillmode": "overlay",
              "size": 10,
              "solidity": 0.2
             }
            },
            "type": "bar"
           }
          ],
          "barpolar": [
           {
            "marker": {
             "line": {
              "color": "#E5ECF6",
              "width": 0.5
             },
             "pattern": {
              "fillmode": "overlay",
              "size": 10,
              "solidity": 0.2
             }
            },
            "type": "barpolar"
           }
          ],
          "carpet": [
           {
            "aaxis": {
             "endlinecolor": "#2a3f5f",
             "gridcolor": "white",
             "linecolor": "white",
             "minorgridcolor": "white",
             "startlinecolor": "#2a3f5f"
            },
            "baxis": {
             "endlinecolor": "#2a3f5f",
             "gridcolor": "white",
             "linecolor": "white",
             "minorgridcolor": "white",
             "startlinecolor": "#2a3f5f"
            },
            "type": "carpet"
           }
          ],
          "choropleth": [
           {
            "colorbar": {
             "outlinewidth": 0,
             "ticks": ""
            },
            "type": "choropleth"
           }
          ],
          "contour": [
           {
            "colorbar": {
             "outlinewidth": 0,
             "ticks": ""
            },
            "colorscale": [
             [
              0,
              "#0d0887"
             ],
             [
              0.1111111111111111,
              "#46039f"
             ],
             [
              0.2222222222222222,
              "#7201a8"
             ],
             [
              0.3333333333333333,
              "#9c179e"
             ],
             [
              0.4444444444444444,
              "#bd3786"
             ],
             [
              0.5555555555555556,
              "#d8576b"
             ],
             [
              0.6666666666666666,
              "#ed7953"
             ],
             [
              0.7777777777777778,
              "#fb9f3a"
             ],
             [
              0.8888888888888888,
              "#fdca26"
             ],
             [
              1,
              "#f0f921"
             ]
            ],
            "type": "contour"
           }
          ],
          "contourcarpet": [
           {
            "colorbar": {
             "outlinewidth": 0,
             "ticks": ""
            },
            "type": "contourcarpet"
           }
          ],
          "heatmap": [
           {
            "colorbar": {
             "outlinewidth": 0,
             "ticks": ""
            },
            "colorscale": [
             [
              0,
              "#0d0887"
             ],
             [
              0.1111111111111111,
              "#46039f"
             ],
             [
              0.2222222222222222,
              "#7201a8"
             ],
             [
              0.3333333333333333,
              "#9c179e"
             ],
             [
              0.4444444444444444,
              "#bd3786"
             ],
             [
              0.5555555555555556,
              "#d8576b"
             ],
             [
              0.6666666666666666,
              "#ed7953"
             ],
             [
              0.7777777777777778,
              "#fb9f3a"
             ],
             [
              0.8888888888888888,
              "#fdca26"
             ],
             [
              1,
              "#f0f921"
             ]
            ],
            "type": "heatmap"
           }
          ],
          "heatmapgl": [
           {
            "colorbar": {
             "outlinewidth": 0,
             "ticks": ""
            },
            "colorscale": [
             [
              0,
              "#0d0887"
             ],
             [
              0.1111111111111111,
              "#46039f"
             ],
             [
              0.2222222222222222,
              "#7201a8"
             ],
             [
              0.3333333333333333,
              "#9c179e"
             ],
             [
              0.4444444444444444,
              "#bd3786"
             ],
             [
              0.5555555555555556,
              "#d8576b"
             ],
             [
              0.6666666666666666,
              "#ed7953"
             ],
             [
              0.7777777777777778,
              "#fb9f3a"
             ],
             [
              0.8888888888888888,
              "#fdca26"
             ],
             [
              1,
              "#f0f921"
             ]
            ],
            "type": "heatmapgl"
           }
          ],
          "histogram": [
           {
            "marker": {
             "pattern": {
              "fillmode": "overlay",
              "size": 10,
              "solidity": 0.2
             }
            },
            "type": "histogram"
           }
          ],
          "histogram2d": [
           {
            "colorbar": {
             "outlinewidth": 0,
             "ticks": ""
            },
            "colorscale": [
             [
              0,
              "#0d0887"
             ],
             [
              0.1111111111111111,
              "#46039f"
             ],
             [
              0.2222222222222222,
              "#7201a8"
             ],
             [
              0.3333333333333333,
              "#9c179e"
             ],
             [
              0.4444444444444444,
              "#bd3786"
             ],
             [
              0.5555555555555556,
              "#d8576b"
             ],
             [
              0.6666666666666666,
              "#ed7953"
             ],
             [
              0.7777777777777778,
              "#fb9f3a"
             ],
             [
              0.8888888888888888,
              "#fdca26"
             ],
             [
              1,
              "#f0f921"
             ]
            ],
            "type": "histogram2d"
           }
          ],
          "histogram2dcontour": [
           {
            "colorbar": {
             "outlinewidth": 0,
             "ticks": ""
            },
            "colorscale": [
             [
              0,
              "#0d0887"
             ],
             [
              0.1111111111111111,
              "#46039f"
             ],
             [
              0.2222222222222222,
              "#7201a8"
             ],
             [
              0.3333333333333333,
              "#9c179e"
             ],
             [
              0.4444444444444444,
              "#bd3786"
             ],
             [
              0.5555555555555556,
              "#d8576b"
             ],
             [
              0.6666666666666666,
              "#ed7953"
             ],
             [
              0.7777777777777778,
              "#fb9f3a"
             ],
             [
              0.8888888888888888,
              "#fdca26"
             ],
             [
              1,
              "#f0f921"
             ]
            ],
            "type": "histogram2dcontour"
           }
          ],
          "mesh3d": [
           {
            "colorbar": {
             "outlinewidth": 0,
             "ticks": ""
            },
            "type": "mesh3d"
           }
          ],
          "parcoords": [
           {
            "line": {
             "colorbar": {
              "outlinewidth": 0,
              "ticks": ""
             }
            },
            "type": "parcoords"
           }
          ],
          "pie": [
           {
            "automargin": true,
            "type": "pie"
           }
          ],
          "scatter": [
           {
            "fillpattern": {
             "fillmode": "overlay",
             "size": 10,
             "solidity": 0.2
            },
            "type": "scatter"
           }
          ],
          "scatter3d": [
           {
            "line": {
             "colorbar": {
              "outlinewidth": 0,
              "ticks": ""
             }
            },
            "marker": {
             "colorbar": {
              "outlinewidth": 0,
              "ticks": ""
             }
            },
            "type": "scatter3d"
           }
          ],
          "scattercarpet": [
           {
            "marker": {
             "colorbar": {
              "outlinewidth": 0,
              "ticks": ""
             }
            },
            "type": "scattercarpet"
           }
          ],
          "scattergeo": [
           {
            "marker": {
             "colorbar": {
              "outlinewidth": 0,
              "ticks": ""
             }
            },
            "type": "scattergeo"
           }
          ],
          "scattergl": [
           {
            "marker": {
             "colorbar": {
              "outlinewidth": 0,
              "ticks": ""
             }
            },
            "type": "scattergl"
           }
          ],
          "scattermapbox": [
           {
            "marker": {
             "colorbar": {
              "outlinewidth": 0,
              "ticks": ""
             }
            },
            "type": "scattermapbox"
           }
          ],
          "scatterpolar": [
           {
            "marker": {
             "colorbar": {
              "outlinewidth": 0,
              "ticks": ""
             }
            },
            "type": "scatterpolar"
           }
          ],
          "scatterpolargl": [
           {
            "marker": {
             "colorbar": {
              "outlinewidth": 0,
              "ticks": ""
             }
            },
            "type": "scatterpolargl"
           }
          ],
          "scatterternary": [
           {
            "marker": {
             "colorbar": {
              "outlinewidth": 0,
              "ticks": ""
             }
            },
            "type": "scatterternary"
           }
          ],
          "surface": [
           {
            "colorbar": {
             "outlinewidth": 0,
             "ticks": ""
            },
            "colorscale": [
             [
              0,
              "#0d0887"
             ],
             [
              0.1111111111111111,
              "#46039f"
             ],
             [
              0.2222222222222222,
              "#7201a8"
             ],
             [
              0.3333333333333333,
              "#9c179e"
             ],
             [
              0.4444444444444444,
              "#bd3786"
             ],
             [
              0.5555555555555556,
              "#d8576b"
             ],
             [
              0.6666666666666666,
              "#ed7953"
             ],
             [
              0.7777777777777778,
              "#fb9f3a"
             ],
             [
              0.8888888888888888,
              "#fdca26"
             ],
             [
              1,
              "#f0f921"
             ]
            ],
            "type": "surface"
           }
          ],
          "table": [
           {
            "cells": {
             "fill": {
              "color": "#EBF0F8"
             },
             "line": {
              "color": "white"
             }
            },
            "header": {
             "fill": {
              "color": "#C8D4E3"
             },
             "line": {
              "color": "white"
             }
            },
            "type": "table"
           }
          ]
         },
         "layout": {
          "annotationdefaults": {
           "arrowcolor": "#2a3f5f",
           "arrowhead": 0,
           "arrowwidth": 1
          },
          "autotypenumbers": "strict",
          "coloraxis": {
           "colorbar": {
            "outlinewidth": 0,
            "ticks": ""
           }
          },
          "colorscale": {
           "diverging": [
            [
             0,
             "#8e0152"
            ],
            [
             0.1,
             "#c51b7d"
            ],
            [
             0.2,
             "#de77ae"
            ],
            [
             0.3,
             "#f1b6da"
            ],
            [
             0.4,
             "#fde0ef"
            ],
            [
             0.5,
             "#f7f7f7"
            ],
            [
             0.6,
             "#e6f5d0"
            ],
            [
             0.7,
             "#b8e186"
            ],
            [
             0.8,
             "#7fbc41"
            ],
            [
             0.9,
             "#4d9221"
            ],
            [
             1,
             "#276419"
            ]
           ],
           "sequential": [
            [
             0,
             "#0d0887"
            ],
            [
             0.1111111111111111,
             "#46039f"
            ],
            [
             0.2222222222222222,
             "#7201a8"
            ],
            [
             0.3333333333333333,
             "#9c179e"
            ],
            [
             0.4444444444444444,
             "#bd3786"
            ],
            [
             0.5555555555555556,
             "#d8576b"
            ],
            [
             0.6666666666666666,
             "#ed7953"
            ],
            [
             0.7777777777777778,
             "#fb9f3a"
            ],
            [
             0.8888888888888888,
             "#fdca26"
            ],
            [
             1,
             "#f0f921"
            ]
           ],
           "sequentialminus": [
            [
             0,
             "#0d0887"
            ],
            [
             0.1111111111111111,
             "#46039f"
            ],
            [
             0.2222222222222222,
             "#7201a8"
            ],
            [
             0.3333333333333333,
             "#9c179e"
            ],
            [
             0.4444444444444444,
             "#bd3786"
            ],
            [
             0.5555555555555556,
             "#d8576b"
            ],
            [
             0.6666666666666666,
             "#ed7953"
            ],
            [
             0.7777777777777778,
             "#fb9f3a"
            ],
            [
             0.8888888888888888,
             "#fdca26"
            ],
            [
             1,
             "#f0f921"
            ]
           ]
          },
          "colorway": [
           "#636efa",
           "#EF553B",
           "#00cc96",
           "#ab63fa",
           "#FFA15A",
           "#19d3f3",
           "#FF6692",
           "#B6E880",
           "#FF97FF",
           "#FECB52"
          ],
          "font": {
           "color": "#2a3f5f"
          },
          "geo": {
           "bgcolor": "white",
           "lakecolor": "white",
           "landcolor": "#E5ECF6",
           "showlakes": true,
           "showland": true,
           "subunitcolor": "white"
          },
          "hoverlabel": {
           "align": "left"
          },
          "hovermode": "closest",
          "mapbox": {
           "style": "light"
          },
          "paper_bgcolor": "white",
          "plot_bgcolor": "#E5ECF6",
          "polar": {
           "angularaxis": {
            "gridcolor": "white",
            "linecolor": "white",
            "ticks": ""
           },
           "bgcolor": "#E5ECF6",
           "radialaxis": {
            "gridcolor": "white",
            "linecolor": "white",
            "ticks": ""
           }
          },
          "scene": {
           "xaxis": {
            "backgroundcolor": "#E5ECF6",
            "gridcolor": "white",
            "gridwidth": 2,
            "linecolor": "white",
            "showbackground": true,
            "ticks": "",
            "zerolinecolor": "white"
           },
           "yaxis": {
            "backgroundcolor": "#E5ECF6",
            "gridcolor": "white",
            "gridwidth": 2,
            "linecolor": "white",
            "showbackground": true,
            "ticks": "",
            "zerolinecolor": "white"
           },
           "zaxis": {
            "backgroundcolor": "#E5ECF6",
            "gridcolor": "white",
            "gridwidth": 2,
            "linecolor": "white",
            "showbackground": true,
            "ticks": "",
            "zerolinecolor": "white"
           }
          },
          "shapedefaults": {
           "line": {
            "color": "#2a3f5f"
           }
          },
          "ternary": {
           "aaxis": {
            "gridcolor": "white",
            "linecolor": "white",
            "ticks": ""
           },
           "baxis": {
            "gridcolor": "white",
            "linecolor": "white",
            "ticks": ""
           },
           "bgcolor": "#E5ECF6",
           "caxis": {
            "gridcolor": "white",
            "linecolor": "white",
            "ticks": ""
           }
          },
          "title": {
           "x": 0.05
          },
          "xaxis": {
           "automargin": true,
           "gridcolor": "white",
           "linecolor": "white",
           "ticks": "",
           "title": {
            "standoff": 15
           },
           "zerolinecolor": "white",
           "zerolinewidth": 2
          },
          "yaxis": {
           "automargin": true,
           "gridcolor": "white",
           "linecolor": "white",
           "ticks": "",
           "title": {
            "standoff": 15
           },
           "zerolinecolor": "white",
           "zerolinewidth": 2
          }
         }
        },
        "title": {
         "text": "PCAF quality score for 2021 (Financed Emissions)"
        }
       }
      }
     },
     "metadata": {},
     "output_type": "display_data"
    }
   ],
   "source": [
    "scoreLabels = ['No Data', '1', '2', '3', '4', '5']\n",
    "measureNames = pcafMeasures.keys()\n",
    "\n",
    "# Create subplots for index weight pie charts\n",
    "fig = make_subplots(rows=1, cols=len(measureNames), specs=[[{'type':'domain'}] * len(measureNames)] )\n",
    "idx = 0\n",
    "for m in measureNames:\n",
    "    fig.add_trace(go.Pie(labels=scoreLabels, values=pcafWeights[idx], name=m), 1, 1 + idx)\n",
    "    idx = idx + 1\n",
    "\n",
    "fig.update_traces(hole=.5, hoverinfo=\"label+percent+name\", marker=dict(colors=lsegColors))\n",
    "fig.update_layout(title_text = f\"PCAF quality score for {pcafYear} (Index Weight)\")\n",
    "fig.show()\n",
    "\n",
    "# Create subplots for Financed Emissions pie charts\n",
    "fig = make_subplots(rows=1, cols=len(measureNames), specs=[[{'type':'domain'}] * len(measureNames)] )\n",
    "idx = 0\n",
    "for m in measureNames:\n",
    "    fig.add_trace(go.Pie(labels=scoreLabels, values=pcafFE[idx], name=m), 1, 1 + idx)\n",
    "    idx = idx + 1\n",
    "\n",
    "fig.update_traces(hole=.5, hoverinfo=\"label+percent+name\", marker=dict(colors=lsegColors))\n",
    "fig.update_layout(title_text = f\"PCAF quality score for {pcafYear} (Financed Emissions)\")\n",
    "fig.show()"
   ]
  },
  {
   "cell_type": "code",
   "execution_count": null,
   "metadata": {},
   "outputs": [],
   "source": []
  },
  {
   "cell_type": "markdown",
   "metadata": {},
   "source": [
    "### One time step: Download and save the Bulk files\n",
    "---"
   ]
  },
  {
   "cell_type": "code",
   "execution_count": 3,
   "metadata": {},
   "outputs": [
    {
     "name": "stdout",
     "output_type": "stream",
     "text": [
      "Getting access token...\n",
      "...token received\n",
      "{'value': [{'id': '4058-6e0c-6da26e1f-ac4c-d24ebbf69496', 'name': 'Bulk-Climate-Global-Measures-CDP-v1-Csv-Delta-2023-12-10T17:03:07.473Z', 'bucketName': 'bulk-climate', 'packageId': '45ad-ee4b-9dfd4ed0-b6a2-f5a1b864f580', 'attributes': [{'name': 'ResultCount', 'value': '1670045'}, {'name': 'ContentType', 'value': 'Climate'}], 'files': ['4516-77c0-e8ce24de-a2a5-15bf070188d8'], 'numFiles': 1, 'contentFrom': '2023-12-03T16:55:00Z', 'contentTo': '2023-12-10T16:55:00Z', 'availableFrom': '2023-12-10T17:14:23Z', 'availableTo': '2023-12-24T17:14:22Z', 'status': 'READY', 'created': '2023-12-10T17:14:23Z', 'modified': '2023-12-10T17:14:44Z'}, {'id': '405e-0a82-285c6b92-8b4a-31936cf72fd3', 'name': 'Bulk-Climate-Global-Measures-WealthPro-CDP-Limited-v1-Csv-Init-2023-12-17T17:27:36.192Z', 'bucketName': 'bulk-climate', 'packageId': '436d-2891-52a25ccf-8d36-bc39f94b66ce', 'attributes': [{'name': 'ContentType', 'value': 'Climate'}, {'name': 'ResultCount', 'value': '4398'}], 'files': ['475d-3aa9-b6b2aca0-88d8-d0199c533aba'], 'numFiles': 1, 'contentFrom': '1970-01-01T00:00:00Z', 'contentTo': '2023-12-17T16:55:00Z', 'availableFrom': '2023-12-17T17:47:49Z', 'availableTo': '2023-12-31T17:47:49Z', 'status': 'READY', 'created': '2023-12-17T17:47:49Z', 'modified': '2023-12-17T17:47:51Z'}, {'id': '4080-10fe-fc182be6-8e1f-468d28d35bcf', 'name': 'Bulk-Climate-Global-Measures-WealthPro-CDP-Limited-v1-Csv-Init-2023-12-10T17:03:14.684Z', 'bucketName': 'bulk-climate', 'packageId': '436d-2891-52a25ccf-8d36-bc39f94b66ce', 'attributes': [{'name': 'ResultCount', 'value': '4398'}, {'name': 'ContentType', 'value': 'Climate'}], 'files': ['4884-1c86-abb1b78f-9862-d273be805e68'], 'numFiles': 1, 'contentFrom': '1970-01-01T00:00:00Z', 'contentTo': '2023-12-10T16:55:00Z', 'availableFrom': '2023-12-10T17:12:46Z', 'availableTo': '2023-12-24T17:12:46Z', 'status': 'READY', 'created': '2023-12-10T17:12:46Z', 'modified': '2023-12-10T17:12:48Z'}, {'id': '40a3-fef2-78c2d12c-a004-f83fc4e3c617', 'name': 'Bulk-Climate-Global-Measures-Full-Limited-v1-DataItems-Jsonl-Delta-2023-12-17T17:02:24.443Z', 'bucketName': 'bulk-climate', 'packageId': '48b5-337b-70af4ccd-a67e-80f8dd33357f', 'attributes': [{'name': 'ResultCount', 'value': '2222'}, {'name': 'ContentType', 'value': 'Climate'}], 'files': ['4581-0e4f-c42c9685-a019-679e1bc85bde'], 'numFiles': 1, 'contentFrom': '2023-12-10T16:55:00Z', 'contentTo': '2023-12-17T16:55:00Z', 'availableFrom': '2023-12-17T17:25:35Z', 'availableTo': '2023-12-31T17:25:35Z', 'status': 'READY', 'created': '2023-12-17T17:25:35Z', 'modified': '2023-12-17T17:25:43Z'}, {'id': '40b4-26d2-1793ee4f-b7cf-b267557da2fa', 'name': 'Bulk-Climate-Global-Measures-WealthPro-CDP-Limited-v1-Jsonl-Init-2023-12-17T17:27:36.192Z', 'bucketName': 'bulk-climate', 'packageId': '436d-2891-52a25ccf-8d36-bc39f94b66ce', 'attributes': [{'name': 'ContentType', 'value': 'Climate'}, {'name': 'ResultCount', 'value': '70'}], 'files': ['4814-7703-e956eb93-b004-ad9c5d9abee5'], 'numFiles': 1, 'contentFrom': '1970-01-01T00:00:00Z', 'contentTo': '2023-12-17T16:55:00Z', 'availableFrom': '2023-12-17T17:47:46Z', 'availableTo': '2023-12-31T17:47:46Z', 'status': 'READY', 'created': '2023-12-17T17:47:46Z', 'modified': '2023-12-17T17:47:50Z'}, {'id': '40e2-a90a-1a61bb9c-be2c-8b0a92906a03', 'name': 'Bulk-Climate-Global-Measures-CDP-Limited-v1-Jsonl-Delta-2023-12-17T17:02:05.359Z', 'bucketName': 'bulk-climate', 'packageId': '4aad-1686-5db19743-9b91-d45e83f929bc', 'attributes': [{'name': 'ContentType', 'value': 'Climate'}, {'name': 'ResultCount', 'value': '68'}], 'files': ['48aa-20db-7918eb2f-a487-24531eb1f589'], 'numFiles': 1, 'contentFrom': '2023-12-10T16:55:00Z', 'contentTo': '2023-12-17T16:55:00Z', 'availableFrom': '2023-12-17T17:23:03Z', 'availableTo': '2023-12-31T17:23:03Z', 'status': 'READY', 'created': '2023-12-17T17:23:03Z', 'modified': '2023-12-17T17:23:07Z'}, {'id': '4162-0453-8c74f850-bc63-a8c478caa5cd', 'name': 'Bulk-Climate-Global-Measures-CDP-v1-Jsonl-Delta-2023-12-10T17:03:07.473Z', 'bucketName': 'bulk-climate', 'packageId': '45ad-ee4b-9dfd4ed0-b6a2-f5a1b864f580', 'attributes': [{'name': 'ContentType', 'value': 'Climate'}, {'name': 'ResultCount', 'value': '16930'}], 'files': ['45bd-1514-5873642d-a451-6f378f7196ff'], 'numFiles': 1, 'contentFrom': '2023-12-03T16:55:00Z', 'contentTo': '2023-12-10T16:55:00Z', 'availableFrom': '2023-12-10T17:13:57Z', 'availableTo': '2023-12-24T17:13:57Z', 'status': 'READY', 'created': '2023-12-10T17:13:57Z', 'modified': '2023-12-10T17:14:44Z'}, {'id': '41a2-a83f-48c74e7f-979d-d97c9d0a3581', 'name': 'Bulk-Climate-Global-Measures-WealthPro-Limited-v1-DataItems-Csv-Delta-2023-12-17T17:35:11.024Z', 'bucketName': 'bulk-climate', 'packageId': '442f-6fa3-592ad4f5-95a1-108bde772301', 'attributes': [{'name': 'ContentType', 'value': 'Climate'}, {'name': 'ResultCount', 'value': '107889'}], 'files': ['4974-c87a-52a74b1a-8a26-bea703bb2cb0'], 'numFiles': 1, 'contentFrom': '2023-12-10T16:55:00Z', 'contentTo': '2023-12-17T16:55:00Z', 'availableFrom': '2023-12-17T17:52:27Z', 'availableTo': '2023-12-31T17:52:27Z', 'status': 'READY', 'created': '2023-12-17T17:52:27Z', 'modified': '2023-12-17T17:52:30Z'}, {'id': '421b-3067-f403f52f-a4ed-cc37a47e8b59', 'name': 'Bulk-Climate-Global-Measures-WealthPro-Limited-v1-DataItems-Jsonl-Init-2023-12-10T17:03:45.265Z', 'bucketName': 'bulk-climate', 'packageId': '442f-6fa3-592ad4f5-95a1-108bde772301', 'attributes': [{'name': 'ResultCount', 'value': '2431'}, {'name': 'ContentType', 'value': 'Climate'}], 'files': ['430e-582c-a4a07c03-a013-9f46121c3230'], 'numFiles': 1, 'contentFrom': '1970-01-01T00:00:00Z', 'contentTo': '2023-12-10T16:55:00Z', 'availableFrom': '2023-12-10T17:12:08Z', 'availableTo': '2023-12-24T17:12:08Z', 'status': 'READY', 'created': '2023-12-10T17:12:08Z', 'modified': '2023-12-10T17:12:16Z'}, {'id': '42b3-f75e-5c83b5db-a88a-fb51edd8fc26', 'name': 'Bulk-Climate-Global-Measures-Full-Limited-v1-DataItems-Csv-Delta-2023-12-10T17:03:46.016Z', 'bucketName': 'bulk-climate', 'packageId': '48b5-337b-70af4ccd-a67e-80f8dd33357f', 'attributes': [{'name': 'ResultCount', 'value': '120609'}, {'name': 'ContentType', 'value': 'Climate'}], 'files': ['4738-07e5-9f05327b-9f78-7903c4def0fe'], 'numFiles': 1, 'contentFrom': '2023-12-03T16:55:00Z', 'contentTo': '2023-12-10T16:55:00Z', 'availableFrom': '2023-12-10T17:13:27Z', 'availableTo': '2023-12-24T17:13:27Z', 'status': 'READY', 'created': '2023-12-10T17:13:27Z', 'modified': '2023-12-10T17:13:30Z'}, {'id': '4311-3d86-169841ac-b30e-cea60219648a', 'name': 'Bulk-Climate-Global-Measures-CDP-Limited-v1-Csv-Delta-2023-12-17T17:02:05.359Z', 'bucketName': 'bulk-climate', 'packageId': '4aad-1686-5db19743-9b91-d45e83f929bc', 'attributes': [{'name': 'ResultCount', 'value': '8534'}, {'name': 'ContentType', 'value': 'Climate'}], 'files': ['4b08-8355-e2ca1d20-857a-6fd9daf17def'], 'numFiles': 1, 'contentFrom': '2023-12-10T16:55:00Z', 'contentTo': '2023-12-17T16:55:00Z', 'availableFrom': '2023-12-17T17:23:06Z', 'availableTo': '2023-12-31T17:23:06Z', 'status': 'READY', 'created': '2023-12-17T17:23:06Z', 'modified': '2023-12-17T17:23:07Z'}, {'id': '433d-a0ef-48583869-b7bd-9976b9a79d41', 'name': 'Bulk-Climate-Global-Measures-Full-v1-Analytics-Csv-Init-2023-12-17T17:56:31.161Z', 'bucketName': 'bulk-climate', 'packageId': '4f25-b88a-747a9de3-a463-009b6b08cbc7', 'attributes': [{'name': 'ContentType', 'value': 'Climate'}, {'name': 'ResultCount', 'value': '1222100'}], 'files': ['47af-f1a3-d41a3e1f-b78b-afe8e15359aa'], 'numFiles': 1, 'contentFrom': '1970-01-01T00:00:00Z', 'contentTo': '2023-12-17T16:55:00Z', 'availableFrom': '2023-12-17T18:37:03Z', 'availableTo': '2023-12-31T18:37:03Z', 'status': 'READY', 'created': '2023-12-17T18:37:03Z', 'modified': '2023-12-17T18:37:21Z'}, {'id': '434b-1548-77b89599-9517-3fc7bbf63bb2', 'name': 'Bulk-Climate-Global-Measures-Full-v1-DataItems-Csv-Init-2023-12-10T17:03:14.610Z', 'bucketName': 'bulk-climate', 'packageId': '4f25-b88a-747a9de3-a463-009b6b08cbc7', 'attributes': [{'name': 'ResultCount', 'value': '6585639'}, {'name': 'ContentType', 'value': 'Climate'}], 'files': ['45a8-1160-4bf67d4b-a000-d5f3f92ece6b'], 'numFiles': 1, 'contentFrom': '1970-01-01T00:00:00Z', 'contentTo': '2023-12-10T16:55:00Z', 'availableFrom': '2023-12-10T17:18:42Z', 'availableTo': '2023-12-24T17:18:42Z', 'status': 'READY', 'created': '2023-12-10T17:18:42Z', 'modified': '2023-12-10T17:25:39Z'}, {'id': '4402-01fd-82ac2733-a3ca-e182c12cb2b9', 'name': 'Bulk-Climate-Global-Measures-CDP-v1-Csv-Init-2023-12-17T17:03:00.832Z', 'bucketName': 'bulk-climate', 'packageId': '45ad-ee4b-9dfd4ed0-b6a2-f5a1b864f580', 'attributes': [{'name': 'ContentType', 'value': 'Climate'}, {'name': 'ResultCount', 'value': '1674931'}], 'files': ['4d90-a55c-265baee7-a7de-c1fb63abcef3'], 'numFiles': 1, 'contentFrom': '1970-01-01T00:00:00Z', 'contentTo': '2023-12-17T16:55:00Z', 'availableFrom': '2023-12-17T17:28:42Z', 'availableTo': '2023-12-31T17:28:42Z', 'status': 'READY', 'created': '2023-12-17T17:28:42Z', 'modified': '2023-12-17T17:29:05Z'}, {'id': '44a1-36f5-13c9350d-8389-13038388da6f', 'name': 'Bulk-Climate-Global-Measures-WealthPro-CDP-Limited-v1-Csv-Delta-2023-12-10T17:03:46.460Z', 'bucketName': 'bulk-climate', 'packageId': '436d-2891-52a25ccf-8d36-bc39f94b66ce', 'attributes': [{'name': 'ResultCount', 'value': '4398'}, {'name': 'ContentType', 'value': 'Climate'}], 'files': ['4332-d208-6b7a8894-9c6c-e77bf14b45a1'], 'numFiles': 1, 'contentFrom': '2023-12-03T16:55:00Z', 'contentTo': '2023-12-10T16:55:00Z', 'availableFrom': '2023-12-10T17:12:50Z', 'availableTo': '2023-12-24T17:12:49Z', 'status': 'READY', 'created': '2023-12-10T17:12:50Z', 'modified': '2023-12-10T17:12:51Z'}, {'id': '4505-2ef6-60ee53cc-a4c0-79517da7e663', 'name': 'Bulk-Climate-Global-Measures-WealthPro-CDP-Limited-v1-Csv-Delta-2023-12-17T17:25:44.009Z', 'bucketName': 'bulk-climate', 'packageId': '436d-2891-52a25ccf-8d36-bc39f94b66ce', 'attributes': [{'name': 'ContentType', 'value': 'Climate'}, {'name': 'ResultCount', 'value': '4267'}], 'files': ['484d-2bf2-ee51175d-b2f0-5ef011fadaa8'], 'numFiles': 1, 'contentFrom': '2023-12-10T16:55:00Z', 'contentTo': '2023-12-17T16:55:00Z', 'availableFrom': '2023-12-17T17:46:12Z', 'availableTo': '2023-12-31T17:46:12Z', 'status': 'READY', 'created': '2023-12-17T17:46:12Z', 'modified': '2023-12-17T17:46:13Z'}, {'id': '4510-7b41-c33fe1e3-ada8-bd0e9d89c4da', 'name': 'Bulk-Climate-Global-Measures-Full-v1-Analytics-Jsonl-Init-2023-12-10T17:03:14.610Z', 'bucketName': 'bulk-climate', 'packageId': '4f25-b88a-747a9de3-a463-009b6b08cbc7', 'attributes': [{'name': 'ContentType', 'value': 'Climate'}, {'name': 'ResultCount', 'value': '78256'}], 'files': ['4faa-6c7d-33362898-a0a5-a833863ae80c'], 'numFiles': 1, 'contentFrom': '1970-01-01T00:00:00Z', 'contentTo': '2023-12-10T16:55:00Z', 'availableFrom': '2023-12-10T17:25:04Z', 'availableTo': '2023-12-24T17:25:04Z', 'status': 'READY', 'created': '2023-12-10T17:25:04Z', 'modified': '2023-12-10T17:25:40Z'}, {'id': '4512-06c0-c8df6091-9a9f-bfea3ac23d95', 'name': 'Bulk-Climate-Global-Measures-CDP-Limited-v1-Csv-Delta-2023-12-10T17:03:41.698Z', 'bucketName': 'bulk-climate', 'packageId': '4aad-1686-5db19743-9b91-d45e83f929bc', 'attributes': [{'name': 'ContentType', 'value': 'Climate'}, {'name': 'ResultCount', 'value': '8796'}], 'files': ['4831-1a0a-770440b2-b470-97fe5ed2bd0c'], 'numFiles': 1, 'contentFrom': '2023-12-03T16:55:00Z', 'contentTo': '2023-12-10T16:55:00Z', 'availableFrom': '2023-12-10T17:13:08Z', 'availableTo': '2023-12-24T17:13:07Z', 'status': 'READY', 'created': '2023-12-10T17:13:08Z', 'modified': '2023-12-10T17:13:09Z'}, {'id': '45ea-2f86-84574431-8f14-9325be38dc2c', 'name': 'Bulk-Climate-Global-Measures-CDP-v1-Jsonl-Init-2023-12-17T17:03:00.832Z', 'bucketName': 'bulk-climate', 'packageId': '45ad-ee4b-9dfd4ed0-b6a2-f5a1b864f580', 'attributes': [{'name': 'ContentType', 'value': 'Climate'}, {'name': 'ResultCount', 'value': '16995'}], 'files': ['4201-31f9-c01a8000-b431-f911654270e3'], 'numFiles': 1, 'contentFrom': '1970-01-01T00:00:00Z', 'contentTo': '2023-12-17T16:55:00Z', 'availableFrom': '2023-12-17T17:28:16Z', 'availableTo': '2023-12-31T17:28:16Z', 'status': 'READY', 'created': '2023-12-17T17:28:16Z', 'modified': '2023-12-17T17:29:05Z'}, {'id': '45fc-7972-d873083f-91d6-9ef40eb798b8', 'name': 'Bulk-Climate-Global-Measures-Full-v1-DataItems-Csv-Delta-2023-12-17T17:03:04.909Z', 'bucketName': 'bulk-climate', 'packageId': '4f25-b88a-747a9de3-a463-009b6b08cbc7', 'attributes': [{'name': 'ResultCount', 'value': '6472451'}, {'name': 'ContentType', 'value': 'Climate'}], 'files': ['43f3-876d-3c6219d1-a33b-660820a71c00'], 'numFiles': 1, 'contentFrom': '2023-12-10T16:55:00Z', 'contentTo': '2023-12-17T16:55:00Z', 'availableFrom': '2023-12-17T17:39:39Z', 'availableTo': '2023-12-31T17:39:39Z', 'status': 'READY', 'created': '2023-12-17T17:39:39Z', 'modified': '2023-12-17T17:59:14Z'}, {'id': '4606-013a-e09467b3-81c1-72a19334d3ab', 'name': 'Bulk-Climate-Global-Measures-Full-v1-DataItems-Jsonl-Init-2023-12-17T17:56:31.161Z', 'bucketName': 'bulk-climate', 'packageId': '4f25-b88a-747a9de3-a463-009b6b08cbc7', 'attributes': [{'name': 'ResultCount', 'value': '114622'}, {'name': 'ContentType', 'value': 'Climate'}], 'files': ['4ce6-9a59-f3e17174-9301-10246d278f49'], 'numFiles': 1, 'contentFrom': '1970-01-01T00:00:00Z', 'contentTo': '2023-12-17T16:55:00Z', 'availableFrom': '2023-12-17T18:18:06Z', 'availableTo': '2023-12-31T18:18:05Z', 'status': 'READY', 'created': '2023-12-17T18:18:06Z', 'modified': '2023-12-17T18:37:21Z'}, {'id': '4606-9a9c-eed401d2-9bd2-fb2c95e91757', 'name': 'Bulk-Climate-Global-Measures-WealthPro-Limited-v1-DataItems-Jsonl-Init-2023-12-17T17:12:41.284Z', 'bucketName': 'bulk-climate', 'packageId': '442f-6fa3-592ad4f5-95a1-108bde772301', 'attributes': [{'name': 'ResultCount', 'value': '2432'}, {'name': 'ContentType', 'value': 'Climate'}], 'files': ['4784-7861-60acf8a8-9cf4-7fb3aefbf4a3'], 'numFiles': 1, 'contentFrom': '1970-01-01T00:00:00Z', 'contentTo': '2023-12-17T16:55:00Z', 'availableFrom': '2023-12-17T17:30:52Z', 'availableTo': '2023-12-31T17:30:52Z', 'status': 'READY', 'created': '2023-12-17T17:30:52Z', 'modified': '2023-12-17T17:31:00Z'}, {'id': '4637-2aa0-a35be457-b5e1-f4a2704c4892', 'name': 'Bulk-Climate-Global-Measures-WealthPro-Limited-v1-DataItems-Csv-Delta-2023-12-10T17:01:04.722Z', 'bucketName': 'bulk-climate', 'packageId': '442f-6fa3-592ad4f5-95a1-108bde772301', 'attributes': [{'name': 'ContentType', 'value': 'Climate'}, {'name': 'ResultCount', 'value': '108302'}], 'files': ['44c5-a9a9-a45b66b5-b781-64d1e40759cd'], 'numFiles': 1, 'contentFrom': '2023-12-03T16:55:00Z', 'contentTo': '2023-12-10T16:55:00Z', 'availableFrom': '2023-12-10T17:08:26Z', 'availableTo': '2023-12-24T17:08:25Z', 'status': 'READY', 'created': '2023-12-10T17:08:26Z', 'modified': '2023-12-10T17:08:28Z'}, {'id': '465d-1b7b-f8c5c05e-8f76-c1e58674ef8d', 'name': 'Bulk-Climate-Global-Measures-WealthPro-Limited-v1-DataItems-Jsonl-Delta-2023-12-10T17:01:04.722Z', 'bucketName': 'bulk-climate', 'packageId': '442f-6fa3-592ad4f5-95a1-108bde772301', 'attributes': [{'name': 'ContentType', 'value': 'Climate'}, {'name': 'ResultCount', 'value': '2220'}], 'files': ['4688-a1fa-93ae4cc5-a09d-5fa4f0eeae08'], 'numFiles': 1, 'contentFrom': '2023-12-03T16:55:00Z', 'contentTo': '2023-12-10T16:55:00Z', 'availableFrom': '2023-12-10T17:08:20Z', 'availableTo': '2023-12-24T17:08:20Z', 'status': 'READY', 'created': '2023-12-10T17:08:20Z', 'modified': '2023-12-10T17:08:28Z'}, {'id': '4672-d6a0-6ee7a285-8832-8232fa3b6890', 'name': 'Bulk-Climate-Global-Measures-Full-v1-Analytics-Csv-Delta-2023-12-10T17:03:45.883Z', 'bucketName': 'bulk-climate', 'packageId': '4f25-b88a-747a9de3-a463-009b6b08cbc7', 'attributes': [{'name': 'ContentType', 'value': 'Climate'}, {'name': 'ResultCount', 'value': '1209529'}], 'files': ['499c-9973-943a89b4-aa95-651658f52e00'], 'numFiles': 1, 'contentFrom': '2023-12-03T16:55:00Z', 'contentTo': '2023-12-10T16:55:00Z', 'availableFrom': '2023-12-10T17:26:01Z', 'availableTo': '2023-12-24T17:26:01Z', 'status': 'READY', 'created': '2023-12-10T17:26:01Z', 'modified': '2023-12-10T17:26:19Z'}, {'id': '46ca-7702-16b3505e-85f6-d8a9360db3a5', 'name': 'Bulk-Climate-Global-Measures-CDP-v1-Csv-Init-2023-12-10T17:03:41.140Z', 'bucketName': 'bulk-climate', 'packageId': '45ad-ee4b-9dfd4ed0-b6a2-f5a1b864f580', 'attributes': [{'name': 'ResultCount', 'value': '1673535'}, {'name': 'ContentType', 'value': 'Climate'}], 'files': ['4398-a40d-c2c9d4c0-99dc-f781fbd621d2'], 'numFiles': 1, 'contentFrom': '1970-01-01T00:00:00Z', 'contentTo': '2023-12-10T16:55:00Z', 'availableFrom': '2023-12-10T17:13:46Z', 'availableTo': '2023-12-24T17:13:46Z', 'status': 'READY', 'created': '2023-12-10T17:13:46Z', 'modified': '2023-12-10T17:14:08Z'}, {'id': '46e7-5d2e-21f741b7-a508-489f1caed822', 'name': 'Bulk-Climate-Global-Measures-Full-v1-DataItems-Jsonl-Delta-2023-12-10T17:03:45.883Z', 'bucketName': 'bulk-climate', 'packageId': '4f25-b88a-747a9de3-a463-009b6b08cbc7', 'attributes': [{'name': 'ContentType', 'value': 'Climate'}, {'name': 'ResultCount', 'value': '112512'}], 'files': ['42c6-2680-82e31357-b245-a73759eea2f6'], 'numFiles': 1, 'contentFrom': '2023-12-03T16:55:00Z', 'contentTo': '2023-12-10T16:55:00Z', 'availableFrom': '2023-12-10T17:17:46Z', 'availableTo': '2023-12-24T17:17:46Z', 'status': 'READY', 'created': '2023-12-10T17:17:46Z', 'modified': '2023-12-10T17:26:18Z'}, {'id': '46f2-a43e-e21d16d3-b2cc-3819b1b45b0e', 'name': 'Bulk-Climate-Global-Measures-WealthPro-CDP-Limited-v1-Jsonl-Delta-2023-12-17T17:25:44.009Z', 'bucketName': 'bulk-climate', 'packageId': '436d-2891-52a25ccf-8d36-bc39f94b66ce', 'attributes': [{'name': 'ContentType', 'value': 'Climate'}, {'name': 'ResultCount', 'value': '68'}], 'files': ['484a-497e-fada25cc-b5dd-fc5708bb50e4'], 'numFiles': 1, 'contentFrom': '2023-12-10T16:55:00Z', 'contentTo': '2023-12-17T16:55:00Z', 'availableFrom': '2023-12-17T17:46:09Z', 'availableTo': '2023-12-31T17:46:09Z', 'status': 'READY', 'created': '2023-12-17T17:46:09Z', 'modified': '2023-12-17T17:46:13Z'}, {'id': '4771-89b6-08ee9a3e-8090-358d105c644a', 'name': 'Bulk-Climate-Global-Measures-Full-v1-DataItems-Csv-Init-2023-12-17T17:56:31.161Z', 'bucketName': 'bulk-climate', 'packageId': '4f25-b88a-747a9de3-a463-009b6b08cbc7', 'attributes': [{'name': 'ResultCount', 'value': '6474950'}, {'name': 'ContentType', 'value': 'Climate'}], 'files': ['48f5-b796-b9ebe288-ba82-ba965079f675'], 'numFiles': 1, 'contentFrom': '1970-01-01T00:00:00Z', 'contentTo': '2023-12-17T16:55:00Z', 'availableFrom': '2023-12-17T18:19:57Z', 'availableTo': '2023-12-31T18:19:57Z', 'status': 'READY', 'created': '2023-12-17T18:19:57Z', 'modified': '2023-12-17T18:37:21Z'}, {'id': '477a-ecfa-4e6f32b7-abc7-fb7f4d64223c', 'name': 'Bulk-Climate-Global-Measures-Full-v1-DataItems-Csv-Delta-2023-12-10T17:03:45.883Z', 'bucketName': 'bulk-climate', 'packageId': '4f25-b88a-747a9de3-a463-009b6b08cbc7', 'attributes': [{'name': 'ResultCount', 'value': '6545810'}, {'name': 'ContentType', 'value': 'Climate'}], 'files': ['4005-20aa-80a8d8e1-b911-f27b923fe027'], 'numFiles': 1, 'contentFrom': '2023-12-03T16:55:00Z', 'contentTo': '2023-12-10T16:55:00Z', 'availableFrom': '2023-12-10T17:19:39Z', 'availableTo': '2023-12-24T17:19:38Z', 'status': 'READY', 'created': '2023-12-10T17:19:39Z', 'modified': '2023-12-10T17:26:19Z'}, {'id': '4792-503d-cdba863e-89eb-0b291698a688', 'name': 'Bulk-Climate-Global-Measures-WealthPro-Limited-v1-DataItems-Jsonl-Delta-2023-12-17T17:35:11.024Z', 'bucketName': 'bulk-climate', 'packageId': '442f-6fa3-592ad4f5-95a1-108bde772301', 'attributes': [{'name': 'ContentType', 'value': 'Climate'}, {'name': 'ResultCount', 'value': '2222'}], 'files': ['4a1a-6f85-130bdf05-b4ae-d84b0d513cab'], 'numFiles': 1, 'contentFrom': '2023-12-10T16:55:00Z', 'contentTo': '2023-12-17T16:55:00Z', 'availableFrom': '2023-12-17T17:52:22Z', 'availableTo': '2023-12-31T17:52:22Z', 'status': 'READY', 'created': '2023-12-17T17:52:22Z', 'modified': '2023-12-17T17:52:30Z'}, {'id': '481f-3cfa-1e77e8a1-beae-05876212bc3c', 'name': 'Bulk-Climate-Global-Measures-Full-v1-Analytics-Csv-Init-2023-12-10T17:03:14.610Z', 'bucketName': 'bulk-climate', 'packageId': '4f25-b88a-747a9de3-a463-009b6b08cbc7', 'attributes': [{'name': 'ContentType', 'value': 'Climate'}, {'name': 'ResultCount', 'value': '1214068'}], 'files': ['4c72-1d71-9d1ddcad-bc58-ae7dbd5b9751'], 'numFiles': 1, 'contentFrom': '1970-01-01T00:00:00Z', 'contentTo': '2023-12-10T16:55:00Z', 'availableFrom': '2023-12-10T17:25:23Z', 'availableTo': '2023-12-24T17:25:23Z', 'status': 'READY', 'created': '2023-12-10T17:25:23Z', 'modified': '2023-12-10T17:25:40Z'}, {'id': '4839-481f-c29d22f0-b79b-4ceb3ceaf6eb', 'name': 'Bulk-Climate-Global-Measures-WealthPro-CDP-Limited-v1-Jsonl-Init-2023-12-10T17:03:14.684Z', 'bucketName': 'bulk-climate', 'packageId': '436d-2891-52a25ccf-8d36-bc39f94b66ce', 'attributes': [{'name': 'ContentType', 'value': 'Climate'}, {'name': 'ResultCount', 'value': '70'}], 'files': ['429c-c465-1002a9c5-9a6c-fb85c7b608a8'], 'numFiles': 1, 'contentFrom': '1970-01-01T00:00:00Z', 'contentTo': '2023-12-10T16:55:00Z', 'availableFrom': '2023-12-10T17:12:44Z', 'availableTo': '2023-12-24T17:12:43Z', 'status': 'READY', 'created': '2023-12-10T17:12:44Z', 'modified': '2023-12-10T17:12:48Z'}, {'id': '4891-5e43-7b495f19-a9da-bf4a951544f9', 'name': 'Bulk-Climate-Global-Measures-Full-v1-Analytics-Jsonl-Init-2023-12-17T17:56:31.161Z', 'bucketName': 'bulk-climate', 'packageId': '4f25-b88a-747a9de3-a463-009b6b08cbc7', 'attributes': [{'name': 'ResultCount', 'value': '78666'}, {'name': 'ContentType', 'value': 'Climate'}], 'files': ['4321-8d07-cf715005-8fcc-59f6285448ce'], 'numFiles': 1, 'contentFrom': '1970-01-01T00:00:00Z', 'contentTo': '2023-12-17T16:55:00Z', 'availableFrom': '2023-12-17T18:36:43Z', 'availableTo': '2023-12-31T18:36:43Z', 'status': 'READY', 'created': '2023-12-17T18:36:43Z', 'modified': '2023-12-17T18:37:21Z'}, {'id': '48f5-b80a-ca5603f6-a29f-f29738c4bb8d', 'name': 'Bulk-Climate-Global-Measures-Full-Limited-v1-DataItems-Jsonl-Delta-2023-12-10T17:03:46.016Z', 'bucketName': 'bulk-climate', 'packageId': '48b5-337b-70af4ccd-a67e-80f8dd33357f', 'attributes': [{'name': 'ResultCount', 'value': '2220'}, {'name': 'ContentType', 'value': 'Climate'}], 'files': ['4acd-baae-c1917f2a-97b4-8be8fb765db6'], 'numFiles': 1, 'contentFrom': '2023-12-03T16:55:00Z', 'contentTo': '2023-12-10T16:55:00Z', 'availableFrom': '2023-12-10T17:13:20Z', 'availableTo': '2023-12-24T17:13:20Z', 'status': 'READY', 'created': '2023-12-10T17:13:20Z', 'modified': '2023-12-10T17:13:30Z'}, {'id': '4904-3d7c-ab57f713-a9e4-b791913332bd', 'name': 'Bulk-Climate-Global-Measures-Full-v1-DataItems-Jsonl-Delta-2023-12-17T17:03:04.909Z', 'bucketName': 'bulk-climate', 'packageId': '4f25-b88a-747a9de3-a463-009b6b08cbc7', 'attributes': [{'name': 'ContentType', 'value': 'Climate'}, {'name': 'ResultCount', 'value': '114140'}], 'files': ['4c3b-5a75-551bb46d-a65d-7ec2f62b50d7'], 'numFiles': 1, 'contentFrom': '2023-12-10T16:55:00Z', 'contentTo': '2023-12-17T16:55:00Z', 'availableFrom': '2023-12-17T17:37:46Z', 'availableTo': '2023-12-31T17:37:46Z', 'status': 'READY', 'created': '2023-12-17T17:37:46Z', 'modified': '2023-12-17T17:59:13Z'}, {'id': '491a-7c07-b44dfd88-bbc4-464b66691617', 'name': 'Bulk-Climate-Global-Measures-CDP-v1-Jsonl-Init-2023-12-10T17:03:41.140Z', 'bucketName': 'bulk-climate', 'packageId': '45ad-ee4b-9dfd4ed0-b6a2-f5a1b864f580', 'attributes': [{'name': 'ContentType', 'value': 'Climate'}, {'name': 'ResultCount', 'value': '16978'}], 'files': ['41fe-c69b-84dca8e8-a624-581e1128be0a'], 'numFiles': 1, 'contentFrom': '1970-01-01T00:00:00Z', 'contentTo': '2023-12-10T16:55:00Z', 'availableFrom': '2023-12-10T17:13:20Z', 'availableTo': '2023-12-24T17:13:19Z', 'status': 'READY', 'created': '2023-12-10T17:13:20Z', 'modified': '2023-12-10T17:14:08Z'}, {'id': '4967-bca4-f78e95da-bd96-379b7fc7f6dc', 'name': 'Bulk-Climate-Global-Measures-Full-v1-Analytics-Jsonl-Delta-2023-12-17T17:03:04.909Z', 'bucketName': 'bulk-climate', 'packageId': '4f25-b88a-747a9de3-a463-009b6b08cbc7', 'attributes': [{'name': 'ContentType', 'value': 'Climate'}, {'name': 'ResultCount', 'value': '78662'}], 'files': ['4a83-0e30-7b4a5798-af51-af7590719ec9'], 'numFiles': 1, 'contentFrom': '2023-12-10T16:55:00Z', 'contentTo': '2023-12-17T16:55:00Z', 'availableFrom': '2023-12-17T17:58:35Z', 'availableTo': '2023-12-31T17:58:35Z', 'status': 'READY', 'created': '2023-12-17T17:58:35Z', 'modified': '2023-12-17T17:59:14Z'}, {'id': '4a06-8196-e64a6036-aee5-0f21b4d9c009', 'name': 'Bulk-Climate-Global-Measures-CDP-Limited-v1-Jsonl-Init-2023-12-10T17:05:04.714Z', 'bucketName': 'bulk-climate', 'packageId': '4aad-1686-5db19743-9b91-d45e83f929bc', 'attributes': [{'name': 'ResultCount', 'value': '70'}, {'name': 'ContentType', 'value': 'Climate'}], 'files': ['4e0a-20c3-037705dc-823a-2526097c56d6'], 'numFiles': 1, 'contentFrom': '1970-01-01T00:00:00Z', 'contentTo': '2023-12-10T16:55:00Z', 'availableFrom': '2023-12-10T17:13:44Z', 'availableTo': '2023-12-24T17:13:44Z', 'status': 'READY', 'created': '2023-12-10T17:13:44Z', 'modified': '2023-12-10T17:13:48Z'}, {'id': '4af6-ce6b-7934a754-bd46-6e4a4b67dfab', 'name': 'Bulk-Climate-Global-Measures-Full-v1-DataItems-Jsonl-Init-2023-12-10T17:03:14.610Z', 'bucketName': 'bulk-climate', 'packageId': '4f25-b88a-747a9de3-a463-009b6b08cbc7', 'attributes': [{'name': 'ContentType', 'value': 'Climate'}, {'name': 'ResultCount', 'value': '113817'}], 'files': ['4f2d-6ae6-c191f74f-b447-35e672233ffc'], 'numFiles': 1, 'contentFrom': '1970-01-01T00:00:00Z', 'contentTo': '2023-12-10T16:55:00Z', 'availableFrom': '2023-12-10T17:16:54Z', 'availableTo': '2023-12-24T17:16:54Z', 'status': 'READY', 'created': '2023-12-10T17:16:55Z', 'modified': '2023-12-10T17:25:39Z'}, {'id': '4b7d-54fa-796f3d89-9a70-38299bb758de', 'name': 'Bulk-Climate-Global-Measures-CDP-v1-Csv-Delta-2023-12-17T17:35:22.534Z', 'bucketName': 'bulk-climate', 'packageId': '45ad-ee4b-9dfd4ed0-b6a2-f5a1b864f580', 'attributes': [{'name': 'ContentType', 'value': 'Climate'}, {'name': 'ResultCount', 'value': '1673593'}], 'files': ['4ac5-b045-1521517c-8564-da6260e24b4a'], 'numFiles': 1, 'contentFrom': '2023-12-10T16:55:00Z', 'contentTo': '2023-12-17T16:55:00Z', 'availableFrom': '2023-12-17T17:54:46Z', 'availableTo': '2023-12-31T17:54:46Z', 'status': 'READY', 'created': '2023-12-17T17:54:46Z', 'modified': '2023-12-17T17:55:08Z'}, {'id': '4bd4-a319-5728470e-ad43-3d69738007c9', 'name': 'Bulk-Climate-Global-Measures-Full-Limited-v1-DataItems-Csv-Init-2023-12-10T17:05:15.742Z', 'bucketName': 'bulk-climate', 'packageId': '48b5-337b-70af4ccd-a67e-80f8dd33357f', 'attributes': [{'name': 'ContentType', 'value': 'Climate'}, {'name': 'ResultCount', 'value': '126944'}], 'files': ['4d26-729c-041741f2-8c30-6b96a7affc72'], 'numFiles': 1, 'contentFrom': '1970-01-01T00:00:00Z', 'contentTo': '2023-12-10T16:55:00Z', 'availableFrom': '2023-12-10T17:14:01Z', 'availableTo': '2023-12-24T17:14:01Z', 'status': 'READY', 'created': '2023-12-10T17:14:01Z', 'modified': '2023-12-10T17:14:05Z'}, {'id': '4c2b-80b5-70c15cd1-9440-4410f7f919a9', 'name': 'Bulk-Climate-Global-Measures-WealthPro-Limited-v1-DataItems-Csv-Init-2023-12-10T17:03:45.265Z', 'bucketName': 'bulk-climate', 'packageId': '442f-6fa3-592ad4f5-95a1-108bde772301', 'attributes': [{'name': 'ResultCount', 'value': '114090'}, {'name': 'ContentType', 'value': 'Climate'}], 'files': ['4f1c-3db7-c630f08b-b48a-20a29c4a887d'], 'numFiles': 1, 'contentFrom': '1970-01-01T00:00:00Z', 'contentTo': '2023-12-10T16:55:00Z', 'availableFrom': '2023-12-10T17:12:13Z', 'availableTo': '2023-12-24T17:12:13Z', 'status': 'READY', 'created': '2023-12-10T17:12:13Z', 'modified': '2023-12-10T17:12:17Z'}, {'id': '4ca7-6e7f-ae1f2c38-b72a-4d778166d33e', 'name': 'Bulk-Climate-Global-Measures-CDP-Limited-v1-Csv-Init-2023-12-10T17:05:04.714Z', 'bucketName': 'bulk-climate', 'packageId': '4aad-1686-5db19743-9b91-d45e83f929bc', 'attributes': [{'name': 'ResultCount', 'value': '8796'}, {'name': 'ContentType', 'value': 'Climate'}], 'files': ['40d0-348d-50165414-aa9f-2da8b9a49c8b'], 'numFiles': 1, 'contentFrom': '1970-01-01T00:00:00Z', 'contentTo': '2023-12-10T16:55:00Z', 'availableFrom': '2023-12-10T17:13:47Z', 'availableTo': '2023-12-24T17:13:47Z', 'status': 'READY', 'created': '2023-12-10T17:13:47Z', 'modified': '2023-12-10T17:13:48Z'}, {'id': '4ca9-9c41-6eed4088-8a9d-de855fcde54e', 'name': 'Bulk-Climate-Global-Measures-CDP-Limited-v1-Jsonl-Delta-2023-12-10T17:03:41.698Z', 'bucketName': 'bulk-climate', 'packageId': '4aad-1686-5db19743-9b91-d45e83f929bc', 'attributes': [{'name': 'ContentType', 'value': 'Climate'}, {'name': 'ResultCount', 'value': '70'}], 'files': ['43ca-6abe-7b894f80-80a3-97f57d81fba9'], 'numFiles': 1, 'contentFrom': '2023-12-03T16:55:00Z', 'contentTo': '2023-12-10T16:55:00Z', 'availableFrom': '2023-12-10T17:13:04Z', 'availableTo': '2023-12-24T17:13:04Z', 'status': 'READY', 'created': '2023-12-10T17:13:04Z', 'modified': '2023-12-10T17:13:09Z'}, {'id': '4cf5-e106-79859219-bc1e-d433577aae2f', 'name': 'Bulk-Climate-Global-Measures-Full-Limited-v1-DataItems-Jsonl-Init-2023-12-10T17:05:15.742Z', 'bucketName': 'bulk-climate', 'packageId': '48b5-337b-70af4ccd-a67e-80f8dd33357f', 'attributes': [{'name': 'ResultCount', 'value': '2431'}, {'name': 'ContentType', 'value': 'Climate'}], 'files': ['4b17-4275-8a994c80-8c60-84605594ebd3'], 'numFiles': 1, 'contentFrom': '1970-01-01T00:00:00Z', 'contentTo': '2023-12-10T16:55:00Z', 'availableFrom': '2023-12-10T17:13:55Z', 'availableTo': '2023-12-24T17:13:54Z', 'status': 'READY', 'created': '2023-12-10T17:13:55Z', 'modified': '2023-12-10T17:14:05Z'}, {'id': '4cfe-edaf-1d8ee3c0-a45d-5a8ebb1979cf', 'name': 'Bulk-Climate-Global-Measures-CDP-v1-Jsonl-Delta-2023-12-17T17:35:22.534Z', 'bucketName': 'bulk-climate', 'packageId': '45ad-ee4b-9dfd4ed0-b6a2-f5a1b864f580', 'attributes': [{'name': 'ResultCount', 'value': '16976'}, {'name': 'ContentType', 'value': 'Climate'}], 'files': ['4a3b-876b-b80cef07-bcf2-1d4b7625359d'], 'numFiles': 1, 'contentFrom': '2023-12-10T16:55:00Z', 'contentTo': '2023-12-17T16:55:00Z', 'availableFrom': '2023-12-17T17:54:20Z', 'availableTo': '2023-12-31T17:54:19Z', 'status': 'READY', 'created': '2023-12-17T17:54:20Z', 'modified': '2023-12-17T17:55:08Z'}, {'id': '4d09-cd23-2609fa63-8de4-eb660ee85d10', 'name': 'Bulk-Climate-Global-Measures-Full-Limited-v1-DataItems-Csv-Init-2023-12-17T17:39:40.607Z', 'bucketName': 'bulk-climate', 'packageId': '48b5-337b-70af4ccd-a67e-80f8dd33357f', 'attributes': [{'name': 'ResultCount', 'value': '126614'}, {'name': 'ContentType', 'value': 'Climate'}], 'files': ['4571-824f-ae71e31a-8062-72fce238a0d9'], 'numFiles': 1, 'contentFrom': '1970-01-01T00:00:00Z', 'contentTo': '2023-12-17T16:55:00Z', 'availableFrom': '2023-12-17T17:54:27Z', 'availableTo': '2023-12-31T17:54:26Z', 'status': 'READY', 'created': '2023-12-17T17:54:27Z', 'modified': '2023-12-17T17:54:30Z'}, {'id': '4dd9-2b17-e75f5ebf-a331-55ad9bb97d6c', 'name': 'Bulk-Climate-Global-Measures-Full-v1-Analytics-Jsonl-Delta-2023-12-10T17:03:45.883Z', 'bucketName': 'bulk-climate', 'packageId': '4f25-b88a-747a9de3-a463-009b6b08cbc7', 'attributes': [{'name': 'ContentType', 'value': 'Climate'}, {'name': 'ResultCount', 'value': '77696'}], 'files': ['4212-caba-d3352aa9-a393-b821203872e9'], 'numFiles': 1, 'contentFrom': '2023-12-03T16:55:00Z', 'contentTo': '2023-12-10T16:55:00Z', 'availableFrom': '2023-12-10T17:25:42Z', 'availableTo': '2023-12-24T17:25:41Z', 'status': 'READY', 'created': '2023-12-10T17:25:42Z', 'modified': '2023-12-10T17:26:19Z'}, {'id': '4e35-8f5d-78b267d2-83cf-f28678ee7003', 'name': 'Bulk-Climate-Global-Measures-CDP-Limited-v1-Jsonl-Init-2023-12-17T17:03:06.229Z', 'bucketName': 'bulk-climate', 'packageId': '4aad-1686-5db19743-9b91-d45e83f929bc', 'attributes': [{'name': 'ResultCount', 'value': '70'}, {'name': 'ContentType', 'value': 'Climate'}], 'files': ['456b-5897-541a5974-a68c-82610272d399'], 'numFiles': 1, 'contentFrom': '1970-01-01T00:00:00Z', 'contentTo': '2023-12-17T16:55:00Z', 'availableFrom': '2023-12-17T17:23:44Z', 'availableTo': '2023-12-31T17:23:43Z', 'status': 'READY', 'created': '2023-12-17T17:23:44Z', 'modified': '2023-12-17T17:23:48Z'}, {'id': '4ed3-8ceb-fb7f2bd4-9c63-6e5d04403c1a', 'name': 'Bulk-Climate-Global-Measures-Full-v1-Analytics-Csv-Delta-2023-12-17T17:03:04.909Z', 'bucketName': 'bulk-climate', 'packageId': '4f25-b88a-747a9de3-a463-009b6b08cbc7', 'attributes': [{'name': 'ResultCount', 'value': '1222096'}, {'name': 'ContentType', 'value': 'Climate'}], 'files': ['4925-a470-afcd3b74-9ae4-db99add393fc'], 'numFiles': 1, 'contentFrom': '2023-12-10T16:55:00Z', 'contentTo': '2023-12-17T16:55:00Z', 'availableFrom': '2023-12-17T17:58:55Z', 'availableTo': '2023-12-31T17:58:55Z', 'status': 'READY', 'created': '2023-12-17T17:58:55Z', 'modified': '2023-12-17T17:59:14Z'}, {'id': '4eeb-7439-e7fd953f-a03d-ff39e3d92722', 'name': 'Bulk-Climate-Global-Measures-CDP-Limited-v1-Csv-Init-2023-12-17T17:03:06.229Z', 'bucketName': 'bulk-climate', 'packageId': '4aad-1686-5db19743-9b91-d45e83f929bc', 'attributes': [{'name': 'ResultCount', 'value': '8796'}, {'name': 'ContentType', 'value': 'Climate'}], 'files': ['4069-4b43-ce7c43fa-bcbc-0e42ad6346d8'], 'numFiles': 1, 'contentFrom': '1970-01-01T00:00:00Z', 'contentTo': '2023-12-17T16:55:00Z', 'availableFrom': '2023-12-17T17:23:46Z', 'availableTo': '2023-12-31T17:23:46Z', 'status': 'READY', 'created': '2023-12-17T17:23:46Z', 'modified': '2023-12-17T17:23:48Z'}, {'id': '4f11-9e46-c605aa3c-8b61-a826bc2b4073', 'name': 'Bulk-Climate-Global-Measures-Full-Limited-v1-DataItems-Csv-Delta-2023-12-17T17:02:24.443Z', 'bucketName': 'bulk-climate', 'packageId': '48b5-337b-70af4ccd-a67e-80f8dd33357f', 'attributes': [{'name': 'ContentType', 'value': 'Climate'}, {'name': 'ResultCount', 'value': '120402'}], 'files': ['4dfc-a23d-5de1e185-a010-cdf20d002ef2'], 'numFiles': 1, 'contentFrom': '2023-12-10T16:55:00Z', 'contentTo': '2023-12-17T16:55:00Z', 'availableFrom': '2023-12-17T17:25:40Z', 'availableTo': '2023-12-31T17:25:40Z', 'status': 'READY', 'created': '2023-12-17T17:25:40Z', 'modified': '2023-12-17T17:25:44Z'}, {'id': '4f67-5bb8-f05d8ad9-803d-0d605ca68acf', 'name': 'Bulk-Climate-Global-Measures-WealthPro-CDP-Limited-v1-Jsonl-Delta-2023-12-10T17:03:46.460Z', 'bucketName': 'bulk-climate', 'packageId': '436d-2891-52a25ccf-8d36-bc39f94b66ce', 'attributes': [{'name': 'ResultCount', 'value': '70'}, {'name': 'ContentType', 'value': 'Climate'}], 'files': ['4a2b-6093-2e456214-bf4a-e6f16fbd72ce'], 'numFiles': 1, 'contentFrom': '2023-12-03T16:55:00Z', 'contentTo': '2023-12-10T16:55:00Z', 'availableFrom': '2023-12-10T17:12:46Z', 'availableTo': '2023-12-24T17:12:46Z', 'status': 'READY', 'created': '2023-12-10T17:12:46Z', 'modified': '2023-12-10T17:12:51Z'}, {'id': '4f67-71e2-b0933b2c-8871-94000a0d6932', 'name': 'Bulk-Climate-Global-Measures-Full-Limited-v1-DataItems-Jsonl-Init-2023-12-17T17:39:40.607Z', 'bucketName': 'bulk-climate', 'packageId': '48b5-337b-70af4ccd-a67e-80f8dd33357f', 'attributes': [{'name': 'ResultCount', 'value': '2432'}, {'name': 'ContentType', 'value': 'Climate'}], 'files': ['4835-d5a0-51c7f71f-825d-337f56cd4914'], 'numFiles': 1, 'contentFrom': '1970-01-01T00:00:00Z', 'contentTo': '2023-12-17T16:55:00Z', 'availableFrom': '2023-12-17T17:54:21Z', 'availableTo': '2023-12-31T17:54:21Z', 'status': 'READY', 'created': '2023-12-17T17:54:21Z', 'modified': '2023-12-17T17:54:29Z'}, {'id': '4f7f-6d6e-79e50725-bec2-279f9a99a89e', 'name': 'Bulk-Climate-Global-Measures-WealthPro-Limited-v1-DataItems-Csv-Init-2023-12-17T17:12:41.284Z', 'bucketName': 'bulk-climate', 'packageId': '442f-6fa3-592ad4f5-95a1-108bde772301', 'attributes': [{'name': 'ResultCount', 'value': '113577'}, {'name': 'ContentType', 'value': 'Climate'}], 'files': ['40a6-f189-bb134aef-a0e0-34e2fdacc462'], 'numFiles': 1, 'contentFrom': '1970-01-01T00:00:00Z', 'contentTo': '2023-12-17T16:55:00Z', 'availableFrom': '2023-12-17T17:30:57Z', 'availableTo': '2023-12-31T17:30:57Z', 'status': 'READY', 'created': '2023-12-17T17:30:57Z', 'modified': '2023-12-17T17:31:00Z'}]}\n",
      "Found bucket:  Bulk-Climate-Global-Measures-Full-v1-DataItems-Jsonl-Init-2023-12-17T17:56:31.161Z , Files:  ['4ce6-9a59-f3e17174-9301-10246d278f49']\n",
      "Found bucket:  Bulk-Climate-Global-Measures-Full-v1-DataItems-Jsonl-Init-2023-12-10T17:03:14.610Z , Files:  ['4f2d-6ae6-c191f74f-b447-35e672233ffc']\n",
      "Downloading - Bulk-Climate-Global-Measures-Full-v1-DataItems-Jsonl-Init-2023-12-17T17:56:31.161Z\n",
      "File 4ce6-9a59-f3e17174-9301-10246d278f49 downloaded and uncompressed, size: 2336390093\n"
     ]
    }
   ],
   "source": [
    "# For clients with subscription to full climate data\n",
    "# download the climate standard file:\n",
    "bFiles = downloadJSONBulkFile('bulk-Climate', 'ContentType:Climate', ['Measures-Full-v1-DataItems', 'Json', 'Init'])\n",
    "\n",
    "# For clients with subscription to ESG data Climate add-on package\n",
    "# Download the climate addon file \n",
    "#   Bucket: bulk-Climate\n",
    "#   ContentType: ClimateAddOn\n",
    "#   FileSetName: Bulk-Climate-Global-Measures-AddOn-v1-DataItems-Jsonl-Init\n",
    "\n",
    "# Also download the ESG Measures file to get Company Revenue and Enterprise Value\n",
    "# Finally combine and save the information in a unified DataFrame"
   ]
  },
  {
   "cell_type": "code",
   "execution_count": 9,
   "metadata": {},
   "outputs": [],
   "source": [
    "# lookup the field to datatype mapping from the field glossary document\n",
    "fields = {\n",
    "    'OrganizationId': 'DatapointValue',\n",
    "    'FinancialPeriodFiscalYear': 'DatapointValue',\n",
    "    'Scope1EstimatedTotal': 'DatapointValue',\n",
    "    'Scope2EstimatedTotal': 'DatapointValue',\n",
    "    'Scope3EstimatedUpstreamTotal': 'DatapointValue',\n",
    "    'Scope3EstimatedDownstreamTotal': 'DatapointValue',\n",
    "    'Scope1EstimatedMethod': 'DatapointValueText',\n",
    "    'Scope2EstimatedMethod': 'DatapointValueText',\n",
    "    'Scope3EstimatedUpstreamMethod': 'DatapointValueText',\n",
    "    'Scope3EstimatedDownstreamMethod': 'DatapointValueText',\n",
    "    'SalesinUSD': 'DatapointValue',\n",
    "    'ExchangeRatetoUSD': 'DatapointValue',\n",
    "    'EnterpriseValueincludingCashandShortTermInvestmentsinUSD': 'DatapointValue'\n",
    "}"
   ]
  },
  {
   "cell_type": "code",
   "execution_count": 10,
   "metadata": {},
   "outputs": [
    {
     "name": "stdout",
     "output_type": "stream",
     "text": [
      "Loaded climate data for 114622 organizations\n"
     ]
    }
   ],
   "source": [
    "# parse out the entries in the file\n",
    "climateData = []\n",
    "matchFields = list(fields.keys())\n",
    "\n",
    "for cMeasuresFile in bFiles:\n",
    "    for l in cMeasuresFile.splitlines():\n",
    "        jObj = json.loads(l)\n",
    "        dt = {}\n",
    "        for measure in jObj['ESGMeasureValue']['EsgMeasureValues']:\n",
    "            if measure['EsgDataMeasure'] in matchFields:\n",
    "                dt[measure['EsgDataMeasure']] = measure['EsgDatapointValue'][fields[measure['EsgDataMeasure']]]\n",
    "            \n",
    "        dt['OrganizationId'] = jObj['ESGStatementDetails']['OrganizationId']\n",
    "        dt['FinancialPeriodFiscalYear'] = jObj['ESGStatementDetails']['FinancialPeriodFiscalYear']\n",
    "\n",
    "        climateData.append(dt)\n",
    "\n",
    "print(f'Loaded climate data for {len(climateData)} organizations')        "
   ]
  },
  {
   "cell_type": "code",
   "execution_count": 11,
   "metadata": {},
   "outputs": [],
   "source": [
    "# load the dataset into a pandas dataframe\n",
    "df1 = pd.DataFrame(climateData)\n",
    "# save into a pickle\n",
    "df1.to_pickle('ClimateData.pkl')"
   ]
  }
 ],
 "metadata": {
  "kernelspec": {
   "display_name": "dzone",
   "language": "python",
   "name": "python3"
  },
  "language_info": {
   "codemirror_mode": {
    "name": "ipython",
    "version": 3
   },
   "file_extension": ".py",
   "mimetype": "text/x-python",
   "name": "python",
   "nbconvert_exporter": "python",
   "pygments_lexer": "ipython3",
   "version": "3.9.6"
  },
  "orig_nbformat": 4,
  "vscode": {
   "interpreter": {
    "hash": "1ffa745bed9fc5df41946757b62d2468a6f80450f52a8b9e07da7d984fdf5508"
   }
  }
 },
 "nbformat": 4,
 "nbformat_minor": 2
}
